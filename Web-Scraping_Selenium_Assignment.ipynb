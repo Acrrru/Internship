{
 "cells": [
  {
   "cell_type": "markdown",
   "id": "e92bcafc",
   "metadata": {},
   "source": [
    "# Web Scraping Project-2 (Selenium):"
   ]
  },
  {
   "cell_type": "code",
   "execution_count": 3,
   "id": "75bed0eb",
   "metadata": {},
   "outputs": [],
   "source": [
    "import warnings\n",
    "warnings.filterwarnings('ignore')"
   ]
  },
  {
   "cell_type": "code",
   "execution_count": 2,
   "id": "0b139933",
   "metadata": {},
   "outputs": [
    {
     "name": "stdout",
     "output_type": "stream",
     "text": [
      "Requirement already satisfied: selenium in c:\\users\\user\\anaconda3\\lib\\site-packages (4.5.0)\n",
      "Requirement already satisfied: urllib3[socks]~=1.26 in c:\\users\\user\\anaconda3\\lib\\site-packages (from selenium) (1.26.4)\n",
      "Requirement already satisfied: trio~=0.17 in c:\\users\\user\\anaconda3\\lib\\site-packages (from selenium) (0.22.0)\n",
      "Requirement already satisfied: trio-websocket~=0.9 in c:\\users\\user\\anaconda3\\lib\\site-packages (from selenium) (0.9.2)\n",
      "Requirement already satisfied: certifi>=2021.10.8 in c:\\users\\user\\anaconda3\\lib\\site-packages (from selenium) (2022.9.24)\n",
      "Requirement already satisfied: sortedcontainers in c:\\users\\user\\anaconda3\\lib\\site-packages (from trio~=0.17->selenium) (2.3.0)\n",
      "Requirement already satisfied: idna in c:\\users\\user\\anaconda3\\lib\\site-packages (from trio~=0.17->selenium) (2.10)\n",
      "Requirement already satisfied: async-generator>=1.9 in c:\\users\\user\\anaconda3\\lib\\site-packages (from trio~=0.17->selenium) (1.10)\n",
      "Requirement already satisfied: cffi>=1.14 in c:\\users\\user\\anaconda3\\lib\\site-packages (from trio~=0.17->selenium) (1.14.5)\n",
      "Requirement already satisfied: exceptiongroup>=1.0.0rc9 in c:\\users\\user\\anaconda3\\lib\\site-packages (from trio~=0.17->selenium) (1.0.0rc9)\n",
      "Requirement already satisfied: sniffio in c:\\users\\user\\anaconda3\\lib\\site-packages (from trio~=0.17->selenium) (1.2.0)\n",
      "Requirement already satisfied: attrs>=19.2.0 in c:\\users\\user\\anaconda3\\lib\\site-packages (from trio~=0.17->selenium) (20.3.0)\n",
      "Requirement already satisfied: outcome in c:\\users\\user\\anaconda3\\lib\\site-packages (from trio~=0.17->selenium) (1.2.0)\n",
      "Requirement already satisfied: wsproto>=0.14 in c:\\users\\user\\anaconda3\\lib\\site-packages (from trio-websocket~=0.9->selenium) (1.2.0)\n",
      "Requirement already satisfied: PySocks!=1.5.7,<2.0,>=1.5.6 in c:\\users\\user\\anaconda3\\lib\\site-packages (from urllib3[socks]~=1.26->selenium) (1.7.1)\n",
      "Requirement already satisfied: pycparser in c:\\users\\user\\anaconda3\\lib\\site-packages (from cffi>=1.14->trio~=0.17->selenium) (2.20)\n",
      "Requirement already satisfied: h11<1,>=0.9.0 in c:\\users\\user\\anaconda3\\lib\\site-packages (from wsproto>=0.14->trio-websocket~=0.9->selenium) (0.14.0)\n"
     ]
    }
   ],
   "source": [
    "!pip install selenium"
   ]
  },
  {
   "cell_type": "code",
   "execution_count": 4,
   "id": "a0d46c3f",
   "metadata": {},
   "outputs": [],
   "source": [
    "# Importing Required Libraries\n",
    "\n",
    "import selenium\n",
    "import pandas as pd\n",
    "import numpy as np\n",
    "from selenium import webdriver\n",
    "from selenium.common.exceptions import StaleElementReferenceException, NoSuchElementException\n",
    "from selenium.webdriver.common.by import By\n",
    "import time"
   ]
  },
  {
   "cell_type": "markdown",
   "id": "ff485228",
   "metadata": {},
   "source": [
    "Now we will download the webDriver for the Web Browser.Steps for download are-\n",
    "1.Check the version of your browser.\n",
    "2.go to the link https://chromedriver.chromium.org/downloads\n",
    "3.Download the webdriver for your version of your browser.  "
   ]
  },
  {
   "cell_type": "code",
   "execution_count": 65,
   "id": "201dff0d",
   "metadata": {},
   "outputs": [],
   "source": [
    "# First connect to the driver\n",
    "\n",
    "driver=webdriver.Chrome(r\"C:\\Users\\User\\Downloads\\chromedriver_win32\\chromedriver.exe\")"
   ]
  },
  {
   "cell_type": "code",
   "execution_count": null,
   "id": "1bb37a68",
   "metadata": {},
   "outputs": [],
   "source": [
    "#Q1: Write a python program to scrape data for “Data Analyst” Job position in “Bangalore” location. You \n",
    "#have to scrape the job-title, job-location, company_name, experience_required. You have to scrape first 10 \n",
    "#jobs data.\n",
    "#This task will be done in following steps:\n",
    "#1. First get the webpage https://www.naukri.com/\n",
    "#2. Enter “Data Analyst” in “Skill, Designations, Companies” field and enter “Bangalore” in “enter the\n",
    "#location” field.\n",
    "#3. Then click the search button.\n",
    "#4. Then scrape the data for the first 10 jobs results you get.\n",
    "#5. Finally create a dataframe of the scraped data."
   ]
  },
  {
   "cell_type": "code",
   "execution_count": 5,
   "id": "c0ccd1d1",
   "metadata": {},
   "outputs": [],
   "source": [
    "# Opening the naukri page on automated chrome browser\n",
    "\n",
    "driver.get(\"https://www.naukri.com/\")"
   ]
  },
  {
   "cell_type": "code",
   "execution_count": 8,
   "id": "566dd895",
   "metadata": {},
   "outputs": [],
   "source": [
    "# entering the destination and location as required in the question\n",
    "\n",
    "designation=driver.find_element(By.CLASS_NAME,\"suggestor-input \")\n",
    "designation.send_keys('Data Analyst')"
   ]
  },
  {
   "cell_type": "code",
   "execution_count": 9,
   "id": "9a9c187a",
   "metadata": {},
   "outputs": [],
   "source": [
    "location=driver.find_element(By.XPATH,\"/html/body/div[1]/div[6]/div/div/div[5]/div/div/div/input\")\n",
    "designation.send_keys('Bangalore')"
   ]
  },
  {
   "cell_type": "code",
   "execution_count": 10,
   "id": "46b257c3",
   "metadata": {},
   "outputs": [],
   "source": [
    "search=driver.find_element(By.CLASS_NAME,\"qsbSubmit\")\n",
    "search.click()"
   ]
  },
  {
   "cell_type": "code",
   "execution_count": 11,
   "id": "b7a5b770",
   "metadata": {},
   "outputs": [],
   "source": [
    "job_title=[]\n",
    "job_location=[]\n",
    "company_name=[]\n",
    "experience_required=[]"
   ]
  },
  {
   "cell_type": "code",
   "execution_count": 12,
   "id": "32314f03",
   "metadata": {},
   "outputs": [],
   "source": [
    "# scraping job title\n",
    "title_tags=driver.find_elements(By.XPATH,'//a[@class=\"title fw500 ellipsis\"]')\n",
    "for i in title_tags[0:10]:\n",
    "    title=i.text\n",
    "    job_title.append(title)\n",
    "    \n",
    "# scraping job location\n",
    "location_tags=driver.find_elements(By.XPATH,'//li[@class=\"fleft grey-text br2 placeHolderLi location\"]')\n",
    "for i in location_tags[0:10]:\n",
    "    location=i.text\n",
    "    job_location.append(location)\n",
    "    \n",
    "# scraping company name\n",
    "company_tags=driver.find_elements(By.XPATH,'//a[@class=\"subTitle ellipsis fleft\"]')\n",
    "for i in company_tags[0:10]:\n",
    "    company=i.text\n",
    "    company_name.append(company)\n",
    "    \n",
    "#scraping   experience\n",
    "experience_tags=driver.find_elements(By.XPATH,'//li[@class=\"fleft grey-text br2 placeHolderLi experience\"]')\n",
    "for i in experience_tags[0:10]:\n",
    "    exp=i.text\n",
    "    experience_required.append(exp)"
   ]
  },
  {
   "cell_type": "code",
   "execution_count": 16,
   "id": "ebf74fec",
   "metadata": {},
   "outputs": [
    {
     "data": {
      "text/plain": [
       "['Senior Data Analyst',\n",
       " 'Data Analyst',\n",
       " 'Hiring For Data Analyst (DA)/ Team Lead (TL) -Clinical Data management',\n",
       " 'Call For Clinical Data Analyst - Hyd/Bangalore/Pune/Mumbai/Kolkata',\n",
       " 'Payroll Transformation Data Analyst',\n",
       " 'Payroll Transformation Data Analyst',\n",
       " 'Master Data Management Business Analyst',\n",
       " 'Data Analytics and Interpretation Business Analyst',\n",
       " 'HR Data Analyst',\n",
       " 'Data Analyst']"
      ]
     },
     "execution_count": 16,
     "metadata": {},
     "output_type": "execute_result"
    }
   ],
   "source": [
    "job_title"
   ]
  },
  {
   "cell_type": "code",
   "execution_count": 13,
   "id": "593c6308",
   "metadata": {},
   "outputs": [
    {
     "data": {
      "text/plain": [
       "['Bangalore/Bengaluru, Chennai',\n",
       " 'Bangalore/Bengaluru',\n",
       " 'Bangalore/Bengaluru, Kolkata, Hyderabad/Secunderabad, Pune, Mumbai (All Areas)',\n",
       " 'Bangalore/Bengaluru, Kolkata, Hyderabad/Secunderabad, Pune, Mumbai (All Areas)',\n",
       " 'Bangalore/Bengaluru',\n",
       " 'Bangalore/Bengaluru',\n",
       " 'Bangalore/Bengaluru',\n",
       " 'Bangalore/Bengaluru',\n",
       " 'Bangalore/Bengaluru',\n",
       " 'Bangalore/Bengaluru']"
      ]
     },
     "execution_count": 13,
     "metadata": {},
     "output_type": "execute_result"
    }
   ],
   "source": [
    "job_location"
   ]
  },
  {
   "cell_type": "code",
   "execution_count": 14,
   "id": "513f422a",
   "metadata": {},
   "outputs": [
    {
     "data": {
      "text/plain": [
       "['Latentview',\n",
       " 'Jar',\n",
       " 'Cognizant',\n",
       " 'Cognizant',\n",
       " 'Arrow Electronics',\n",
       " 'Arrow Electronics',\n",
       " 'Accenture',\n",
       " 'Accenture',\n",
       " 'Hitachi Ltd.',\n",
       " 'ANZ']"
      ]
     },
     "execution_count": 14,
     "metadata": {},
     "output_type": "execute_result"
    }
   ],
   "source": [
    "company_name"
   ]
  },
  {
   "cell_type": "code",
   "execution_count": 15,
   "id": "463431e4",
   "metadata": {},
   "outputs": [
    {
     "data": {
      "text/plain": [
       "['3-6 Yrs',\n",
       " '0-4 Yrs',\n",
       " '3-8 Yrs',\n",
       " '6-9 Yrs',\n",
       " '3-7 Yrs',\n",
       " '5-10 Yrs',\n",
       " '6-8 Yrs',\n",
       " '6-8 Yrs',\n",
       " '3-6 Yrs',\n",
       " '7-12 Yrs']"
      ]
     },
     "execution_count": 15,
     "metadata": {},
     "output_type": "execute_result"
    }
   ],
   "source": [
    "experience_required"
   ]
  },
  {
   "cell_type": "code",
   "execution_count": 17,
   "id": "14edada5",
   "metadata": {},
   "outputs": [
    {
     "name": "stdout",
     "output_type": "stream",
     "text": [
      "10 10 10 10\n"
     ]
    }
   ],
   "source": [
    "print(len(job_title),len(job_location),len(company_name),len(experience_required))"
   ]
  },
  {
   "cell_type": "code",
   "execution_count": 18,
   "id": "137a7fb3",
   "metadata": {},
   "outputs": [
    {
     "data": {
      "text/html": [
       "<div>\n",
       "<style scoped>\n",
       "    .dataframe tbody tr th:only-of-type {\n",
       "        vertical-align: middle;\n",
       "    }\n",
       "\n",
       "    .dataframe tbody tr th {\n",
       "        vertical-align: top;\n",
       "    }\n",
       "\n",
       "    .dataframe thead th {\n",
       "        text-align: right;\n",
       "    }\n",
       "</style>\n",
       "<table border=\"1\" class=\"dataframe\">\n",
       "  <thead>\n",
       "    <tr style=\"text-align: right;\">\n",
       "      <th></th>\n",
       "      <th>Job</th>\n",
       "      <th>Location</th>\n",
       "      <th>Company</th>\n",
       "      <th>Experience</th>\n",
       "    </tr>\n",
       "  </thead>\n",
       "  <tbody>\n",
       "    <tr>\n",
       "      <th>0</th>\n",
       "      <td>Senior Data Analyst</td>\n",
       "      <td>Bangalore/Bengaluru, Chennai</td>\n",
       "      <td>Latentview</td>\n",
       "      <td>3-6 Yrs</td>\n",
       "    </tr>\n",
       "    <tr>\n",
       "      <th>1</th>\n",
       "      <td>Data Analyst</td>\n",
       "      <td>Bangalore/Bengaluru</td>\n",
       "      <td>Jar</td>\n",
       "      <td>0-4 Yrs</td>\n",
       "    </tr>\n",
       "    <tr>\n",
       "      <th>2</th>\n",
       "      <td>Hiring For Data Analyst (DA)/ Team Lead (TL) -...</td>\n",
       "      <td>Bangalore/Bengaluru, Kolkata, Hyderabad/Secund...</td>\n",
       "      <td>Cognizant</td>\n",
       "      <td>3-8 Yrs</td>\n",
       "    </tr>\n",
       "    <tr>\n",
       "      <th>3</th>\n",
       "      <td>Call For Clinical Data Analyst - Hyd/Bangalore...</td>\n",
       "      <td>Bangalore/Bengaluru, Kolkata, Hyderabad/Secund...</td>\n",
       "      <td>Cognizant</td>\n",
       "      <td>6-9 Yrs</td>\n",
       "    </tr>\n",
       "    <tr>\n",
       "      <th>4</th>\n",
       "      <td>Payroll Transformation Data Analyst</td>\n",
       "      <td>Bangalore/Bengaluru</td>\n",
       "      <td>Arrow Electronics</td>\n",
       "      <td>3-7 Yrs</td>\n",
       "    </tr>\n",
       "    <tr>\n",
       "      <th>5</th>\n",
       "      <td>Payroll Transformation Data Analyst</td>\n",
       "      <td>Bangalore/Bengaluru</td>\n",
       "      <td>Arrow Electronics</td>\n",
       "      <td>5-10 Yrs</td>\n",
       "    </tr>\n",
       "    <tr>\n",
       "      <th>6</th>\n",
       "      <td>Master Data Management Business Analyst</td>\n",
       "      <td>Bangalore/Bengaluru</td>\n",
       "      <td>Accenture</td>\n",
       "      <td>6-8 Yrs</td>\n",
       "    </tr>\n",
       "    <tr>\n",
       "      <th>7</th>\n",
       "      <td>Data Analytics and Interpretation Business Ana...</td>\n",
       "      <td>Bangalore/Bengaluru</td>\n",
       "      <td>Accenture</td>\n",
       "      <td>6-8 Yrs</td>\n",
       "    </tr>\n",
       "    <tr>\n",
       "      <th>8</th>\n",
       "      <td>HR Data Analyst</td>\n",
       "      <td>Bangalore/Bengaluru</td>\n",
       "      <td>Hitachi Ltd.</td>\n",
       "      <td>3-6 Yrs</td>\n",
       "    </tr>\n",
       "    <tr>\n",
       "      <th>9</th>\n",
       "      <td>Data Analyst</td>\n",
       "      <td>Bangalore/Bengaluru</td>\n",
       "      <td>ANZ</td>\n",
       "      <td>7-12 Yrs</td>\n",
       "    </tr>\n",
       "  </tbody>\n",
       "</table>\n",
       "</div>"
      ],
      "text/plain": [
       "                                                 Job  \\\n",
       "0                                Senior Data Analyst   \n",
       "1                                       Data Analyst   \n",
       "2  Hiring For Data Analyst (DA)/ Team Lead (TL) -...   \n",
       "3  Call For Clinical Data Analyst - Hyd/Bangalore...   \n",
       "4                Payroll Transformation Data Analyst   \n",
       "5                Payroll Transformation Data Analyst   \n",
       "6            Master Data Management Business Analyst   \n",
       "7  Data Analytics and Interpretation Business Ana...   \n",
       "8                                    HR Data Analyst   \n",
       "9                                       Data Analyst   \n",
       "\n",
       "                                            Location            Company  \\\n",
       "0                       Bangalore/Bengaluru, Chennai         Latentview   \n",
       "1                                Bangalore/Bengaluru                Jar   \n",
       "2  Bangalore/Bengaluru, Kolkata, Hyderabad/Secund...          Cognizant   \n",
       "3  Bangalore/Bengaluru, Kolkata, Hyderabad/Secund...          Cognizant   \n",
       "4                                Bangalore/Bengaluru  Arrow Electronics   \n",
       "5                                Bangalore/Bengaluru  Arrow Electronics   \n",
       "6                                Bangalore/Bengaluru          Accenture   \n",
       "7                                Bangalore/Bengaluru          Accenture   \n",
       "8                                Bangalore/Bengaluru       Hitachi Ltd.   \n",
       "9                                Bangalore/Bengaluru                ANZ   \n",
       "\n",
       "  Experience  \n",
       "0    3-6 Yrs  \n",
       "1    0-4 Yrs  \n",
       "2    3-8 Yrs  \n",
       "3    6-9 Yrs  \n",
       "4    3-7 Yrs  \n",
       "5   5-10 Yrs  \n",
       "6    6-8 Yrs  \n",
       "7    6-8 Yrs  \n",
       "8    3-6 Yrs  \n",
       "9   7-12 Yrs  "
      ]
     },
     "execution_count": 18,
     "metadata": {},
     "output_type": "execute_result"
    }
   ],
   "source": [
    "df=pd.DataFrame({'Job':job_title,'Location':job_location,'Company':company_name,'Experience':experience_required})\n",
    "df"
   ]
  },
  {
   "cell_type": "code",
   "execution_count": null,
   "id": "7fa90025",
   "metadata": {},
   "outputs": [],
   "source": [
    "#Q2: Write a python program to scrape data for “Data Scientist” Job position in “Bangalore” location. You \n",
    "#have to scrape the job-title, job-location, company_name. You have to scrape first 10 jobs data.\n",
    "#This task will be done in following steps:\n",
    "#1. First get the webpage https://www.naukri.com/\n",
    "#2. Enter “Data Scientist” in “Skill, Designations, Companies” field and enter “Bangalore” in “enter the\n",
    "#location” field.\n",
    "#3. Then click the search button.\n",
    "#4. Then scrape the data for the first 10 jobs results you get.\n",
    "#5. Finally create a dataframe of the scraped data."
   ]
  },
  {
   "cell_type": "code",
   "execution_count": 19,
   "id": "18c511d8",
   "metadata": {},
   "outputs": [],
   "source": [
    "# Opening the naukri page on automated chrome browser\n",
    "\n",
    "driver.get(\"https://www.naukri.com/\")"
   ]
  },
  {
   "cell_type": "code",
   "execution_count": 20,
   "id": "94c0fa5f",
   "metadata": {},
   "outputs": [],
   "source": [
    "# entering the destination and location as required in the question\n",
    "\n",
    "designation=driver.find_element(By.CLASS_NAME,\"suggestor-input\")\n",
    "designation.send_keys('Data Scientist')"
   ]
  },
  {
   "cell_type": "code",
   "execution_count": 21,
   "id": "b40c56a3",
   "metadata": {},
   "outputs": [],
   "source": [
    "location=driver.find_element(By.XPATH,\"/html/body/div[1]/div[6]/div/div/div[5]/div/div/div/input\")\n",
    "designation.send_keys('Bangalore')"
   ]
  },
  {
   "cell_type": "code",
   "execution_count": 22,
   "id": "71205f64",
   "metadata": {},
   "outputs": [],
   "source": [
    "search=driver.find_element(By.CLASS_NAME,\"qsbSubmit\")\n",
    "search.click()"
   ]
  },
  {
   "cell_type": "code",
   "execution_count": 23,
   "id": "37c93df7",
   "metadata": {},
   "outputs": [],
   "source": [
    "job_title=[]\n",
    "job_location=[]\n",
    "company_name=[]"
   ]
  },
  {
   "cell_type": "code",
   "execution_count": 24,
   "id": "5d77c928",
   "metadata": {},
   "outputs": [],
   "source": [
    "# scraping job title\n",
    "title_tags=driver.find_elements(By.XPATH,'//a[@class=\"title fw500 ellipsis\"]')\n",
    "for i in title_tags[0:10]:\n",
    "    title=i.text\n",
    "    job_title.append(title)\n",
    "    \n",
    "# scraping job location\n",
    "location_tags=driver.find_elements(By.XPATH,'//li[@class=\"fleft grey-text br2 placeHolderLi location\"]')\n",
    "for i in location_tags[0:10]:\n",
    "    location=i.text\n",
    "    job_location.append(location)\n",
    "    \n",
    "# scraping company name\n",
    "company_tags=driver.find_elements(By.XPATH,'//a[@class=\"subTitle ellipsis fleft\"]')\n",
    "for i in company_tags[0:10]:\n",
    "    company=i.text\n",
    "    company_name.append(company)"
   ]
  },
  {
   "cell_type": "code",
   "execution_count": 25,
   "id": "8845a673",
   "metadata": {},
   "outputs": [
    {
     "data": {
      "text/plain": [
       "['Data Science Specialist',\n",
       " 'Data Science Manager',\n",
       " 'Mongodb Database Administrator, Maria DB or Cassandra',\n",
       " 'Analystics & Modeling Specialist',\n",
       " 'Assistant Manager - Data Science',\n",
       " 'Data Scientist',\n",
       " 'Data Scientist',\n",
       " 'Senior Data Scientist',\n",
       " 'Data Scientist: Artificial Intelligence',\n",
       " 'Industry X - Software Engineering']"
      ]
     },
     "execution_count": 25,
     "metadata": {},
     "output_type": "execute_result"
    }
   ],
   "source": [
    "job_title"
   ]
  },
  {
   "cell_type": "code",
   "execution_count": 26,
   "id": "bf5972ce",
   "metadata": {},
   "outputs": [
    {
     "data": {
      "text/plain": [
       "['Bangalore/Bengaluru, Kolkata, Mumbai, Hyderabad/Secunderabad, Pune, Chennai',\n",
       " 'Bangalore/Bengaluru, Kolkata, Mumbai, Hyderabad/Secunderabad, Pune, Chennai',\n",
       " 'Bangalore/Bengaluru, Hyderabad/Secunderabad, Pune, Chennai, Delhi / NCR, Mumbai (All Areas)',\n",
       " 'Bangalore/Bengaluru, Kolkata, Mumbai, Hyderabad/Secunderabad, Pune, Chennai, delhi ncr',\n",
       " 'Bangalore/Bengaluru, Mumbai, Pune',\n",
       " 'Bangalore/Bengaluru, New Delhi, Pune, Gurgaon/Gurugram, Delhi / NCR',\n",
       " 'Bangalore/Bengaluru, Hyderabad/Secunderabad, Pune, Chennai',\n",
       " 'Bangalore/Bengaluru, Mumbai, New Delhi, Chennai',\n",
       " 'Bangalore/Bengaluru',\n",
       " 'Bangalore/Bengaluru']"
      ]
     },
     "execution_count": 26,
     "metadata": {},
     "output_type": "execute_result"
    }
   ],
   "source": [
    "job_location"
   ]
  },
  {
   "cell_type": "code",
   "execution_count": 27,
   "id": "c5bd39cb",
   "metadata": {},
   "outputs": [
    {
     "data": {
      "text/plain": [
       "['Accenture',\n",
       " 'Accenture',\n",
       " 'Mphasis',\n",
       " 'Accenture',\n",
       " 'CitiusTech',\n",
       " 'ZS Associates',\n",
       " 'Tech Mahindra',\n",
       " 'Boston Consulting Group',\n",
       " 'IBM',\n",
       " 'Accenture']"
      ]
     },
     "execution_count": 27,
     "metadata": {},
     "output_type": "execute_result"
    }
   ],
   "source": [
    "company_name"
   ]
  },
  {
   "cell_type": "code",
   "execution_count": 28,
   "id": "a3ee9500",
   "metadata": {},
   "outputs": [
    {
     "name": "stdout",
     "output_type": "stream",
     "text": [
      "10 10 10\n"
     ]
    }
   ],
   "source": [
    "print(len(job_title),len(job_location),len(company_name))"
   ]
  },
  {
   "cell_type": "code",
   "execution_count": 29,
   "id": "9440f183",
   "metadata": {},
   "outputs": [
    {
     "data": {
      "text/html": [
       "<div>\n",
       "<style scoped>\n",
       "    .dataframe tbody tr th:only-of-type {\n",
       "        vertical-align: middle;\n",
       "    }\n",
       "\n",
       "    .dataframe tbody tr th {\n",
       "        vertical-align: top;\n",
       "    }\n",
       "\n",
       "    .dataframe thead th {\n",
       "        text-align: right;\n",
       "    }\n",
       "</style>\n",
       "<table border=\"1\" class=\"dataframe\">\n",
       "  <thead>\n",
       "    <tr style=\"text-align: right;\">\n",
       "      <th></th>\n",
       "      <th>Job</th>\n",
       "      <th>Location</th>\n",
       "      <th>Company</th>\n",
       "    </tr>\n",
       "  </thead>\n",
       "  <tbody>\n",
       "    <tr>\n",
       "      <th>0</th>\n",
       "      <td>Data Science Specialist</td>\n",
       "      <td>Bangalore/Bengaluru, Kolkata, Mumbai, Hyderaba...</td>\n",
       "      <td>Accenture</td>\n",
       "    </tr>\n",
       "    <tr>\n",
       "      <th>1</th>\n",
       "      <td>Data Science Manager</td>\n",
       "      <td>Bangalore/Bengaluru, Kolkata, Mumbai, Hyderaba...</td>\n",
       "      <td>Accenture</td>\n",
       "    </tr>\n",
       "    <tr>\n",
       "      <th>2</th>\n",
       "      <td>Mongodb Database Administrator, Maria DB or Ca...</td>\n",
       "      <td>Bangalore/Bengaluru, Hyderabad/Secunderabad, P...</td>\n",
       "      <td>Mphasis</td>\n",
       "    </tr>\n",
       "    <tr>\n",
       "      <th>3</th>\n",
       "      <td>Analystics &amp; Modeling Specialist</td>\n",
       "      <td>Bangalore/Bengaluru, Kolkata, Mumbai, Hyderaba...</td>\n",
       "      <td>Accenture</td>\n",
       "    </tr>\n",
       "    <tr>\n",
       "      <th>4</th>\n",
       "      <td>Assistant Manager - Data Science</td>\n",
       "      <td>Bangalore/Bengaluru, Mumbai, Pune</td>\n",
       "      <td>CitiusTech</td>\n",
       "    </tr>\n",
       "    <tr>\n",
       "      <th>5</th>\n",
       "      <td>Data Scientist</td>\n",
       "      <td>Bangalore/Bengaluru, New Delhi, Pune, Gurgaon/...</td>\n",
       "      <td>ZS Associates</td>\n",
       "    </tr>\n",
       "    <tr>\n",
       "      <th>6</th>\n",
       "      <td>Data Scientist</td>\n",
       "      <td>Bangalore/Bengaluru, Hyderabad/Secunderabad, P...</td>\n",
       "      <td>Tech Mahindra</td>\n",
       "    </tr>\n",
       "    <tr>\n",
       "      <th>7</th>\n",
       "      <td>Senior Data Scientist</td>\n",
       "      <td>Bangalore/Bengaluru, Mumbai, New Delhi, Chennai</td>\n",
       "      <td>Boston Consulting Group</td>\n",
       "    </tr>\n",
       "    <tr>\n",
       "      <th>8</th>\n",
       "      <td>Data Scientist: Artificial Intelligence</td>\n",
       "      <td>Bangalore/Bengaluru</td>\n",
       "      <td>IBM</td>\n",
       "    </tr>\n",
       "    <tr>\n",
       "      <th>9</th>\n",
       "      <td>Industry X - Software Engineering</td>\n",
       "      <td>Bangalore/Bengaluru</td>\n",
       "      <td>Accenture</td>\n",
       "    </tr>\n",
       "  </tbody>\n",
       "</table>\n",
       "</div>"
      ],
      "text/plain": [
       "                                                 Job  \\\n",
       "0                            Data Science Specialist   \n",
       "1                               Data Science Manager   \n",
       "2  Mongodb Database Administrator, Maria DB or Ca...   \n",
       "3                   Analystics & Modeling Specialist   \n",
       "4                   Assistant Manager - Data Science   \n",
       "5                                     Data Scientist   \n",
       "6                                     Data Scientist   \n",
       "7                              Senior Data Scientist   \n",
       "8            Data Scientist: Artificial Intelligence   \n",
       "9                  Industry X - Software Engineering   \n",
       "\n",
       "                                            Location                  Company  \n",
       "0  Bangalore/Bengaluru, Kolkata, Mumbai, Hyderaba...                Accenture  \n",
       "1  Bangalore/Bengaluru, Kolkata, Mumbai, Hyderaba...                Accenture  \n",
       "2  Bangalore/Bengaluru, Hyderabad/Secunderabad, P...                  Mphasis  \n",
       "3  Bangalore/Bengaluru, Kolkata, Mumbai, Hyderaba...                Accenture  \n",
       "4                  Bangalore/Bengaluru, Mumbai, Pune               CitiusTech  \n",
       "5  Bangalore/Bengaluru, New Delhi, Pune, Gurgaon/...            ZS Associates  \n",
       "6  Bangalore/Bengaluru, Hyderabad/Secunderabad, P...            Tech Mahindra  \n",
       "7    Bangalore/Bengaluru, Mumbai, New Delhi, Chennai  Boston Consulting Group  \n",
       "8                                Bangalore/Bengaluru                      IBM  \n",
       "9                                Bangalore/Bengaluru                Accenture  "
      ]
     },
     "execution_count": 29,
     "metadata": {},
     "output_type": "execute_result"
    }
   ],
   "source": [
    "df2=pd.DataFrame({'Job':job_title,'Location':job_location,'Company':company_name})\n",
    "df2"
   ]
  },
  {
   "cell_type": "code",
   "execution_count": null,
   "id": "307c50f1",
   "metadata": {},
   "outputs": [],
   "source": [
    "#Q3: You have to use the location and salary filter.\n",
    "#You have to scrape data for “Data Scientist” designation for first 10 job results.\n",
    "#You have to scrape the job-title, job-location, company name, experience required. \n",
    "#The location filter to be used is “Delhi/NCR”. The salary filter to be used is “3-6” lakhs\n",
    "\n",
    "#The task will be done as shown in the below steps:\n",
    "#1. first get the webpage https://www.naukri.com/\n",
    "#2. Enter “Data Scientist” in “Skill, Designations, and Companies” field.\n",
    "#3. Then click the search button.\n",
    "#4. Then apply the location filter and salary filter by checking the respective boxes\n",
    "#5. Then scrape the data for the first 10 jobs results you get.\n",
    "#6. Finally create a dataframe of the scraped data."
   ]
  },
  {
   "cell_type": "code",
   "execution_count": 30,
   "id": "65fe2235",
   "metadata": {},
   "outputs": [],
   "source": [
    "# Opening the naukri page on automated chrome browser\n",
    "\n",
    "driver.get(\"https://www.naukri.com/\")"
   ]
  },
  {
   "cell_type": "code",
   "execution_count": 31,
   "id": "6437aced",
   "metadata": {},
   "outputs": [],
   "source": [
    "# entering the destination and location as required in the question\n",
    "\n",
    "designation=driver.find_element(By.CLASS_NAME,\"suggestor-input\")\n",
    "designation.send_keys('Data Scientist')"
   ]
  },
  {
   "cell_type": "code",
   "execution_count": 32,
   "id": "e3f8d3cc",
   "metadata": {},
   "outputs": [],
   "source": [
    "location=driver.find_element(By.XPATH,\"/html/body/div[1]/div[6]/div/div/div[5]/div/div/div/input\")\n",
    "designation.send_keys('Delhi/NCR')"
   ]
  },
  {
   "cell_type": "code",
   "execution_count": 33,
   "id": "71be22a5",
   "metadata": {},
   "outputs": [],
   "source": [
    "search=driver.find_element(By.CLASS_NAME,\"qsbSubmit\")\n",
    "search.click()"
   ]
  },
  {
   "cell_type": "code",
   "execution_count": 34,
   "id": "708b48d6",
   "metadata": {},
   "outputs": [],
   "source": [
    "job_title=[]\n",
    "job_location=[]\n",
    "company_name=[]\n",
    "experience_required=[]"
   ]
  },
  {
   "cell_type": "code",
   "execution_count": 35,
   "id": "905f965b",
   "metadata": {},
   "outputs": [],
   "source": [
    "# scraping job title\n",
    "title_tags=driver.find_elements(By.XPATH,'//a[@class=\"title fw500 ellipsis\"]')\n",
    "for i in title_tags[0:10]:\n",
    "    title=i.text\n",
    "    job_title.append(title)\n",
    "    \n",
    "# scraping job location\n",
    "location_tags=driver.find_elements(By.XPATH,'//li[@class=\"fleft grey-text br2 placeHolderLi location\"]')\n",
    "for i in location_tags[0:10]:\n",
    "    location=i.text\n",
    "    job_location.append(location)\n",
    "    \n",
    "# scraping company name\n",
    "company_tags=driver.find_elements(By.XPATH,'//a[@class=\"subTitle ellipsis fleft\"]')\n",
    "for i in company_tags[0:10]:\n",
    "    company=i.text\n",
    "    company_name.append(company)\n",
    "    \n",
    "#scraping   experience\n",
    "experience_tags=driver.find_elements(By.XPATH,'//li[@class=\"fleft grey-text br2 placeHolderLi experience\"]')\n",
    "for i in experience_tags[0:10]:\n",
    "    exp=i.text\n",
    "    experience_required.append(exp)\n",
    "    "
   ]
  },
  {
   "cell_type": "code",
   "execution_count": 36,
   "id": "26a200cb",
   "metadata": {},
   "outputs": [
    {
     "data": {
      "text/plain": [
       "['Lead Data Scientist',\n",
       " 'Data Scientist',\n",
       " 'DigitalBCG GAMMA Data Scientist',\n",
       " 'Data Scientist',\n",
       " 'Data Scientist',\n",
       " 'Data Scientist / Chat-bot Developer',\n",
       " 'Data Scientist - Engine Algorithm',\n",
       " 'Data Activation Specialist - Adobe Target',\n",
       " 'Data Scientist',\n",
       " 'Data Scientist']"
      ]
     },
     "execution_count": 36,
     "metadata": {},
     "output_type": "execute_result"
    }
   ],
   "source": [
    "job_title"
   ]
  },
  {
   "cell_type": "code",
   "execution_count": 37,
   "id": "7f575eb6",
   "metadata": {},
   "outputs": [
    {
     "data": {
      "text/plain": [
       "['Noida(Sector-59 Noida)\\n(WFH during Covid)',\n",
       " 'Noida, Nagpur, Bangalore/Bengaluru',\n",
       " 'New Delhi, Bangalore/Bengaluru',\n",
       " 'Gurgaon/Gurugram',\n",
       " 'Gurgaon/Gurugram',\n",
       " 'New Delhi, Bangalore/Bengaluru, Mumbai (All Areas)',\n",
       " 'Delhi / NCR, Kolkata, Mumbai, Hyderabad/Secunderabad, Lucknow, Chennai, Ahmedabad, Bangalore/Bengaluru',\n",
       " 'Delhi / NCR, Kolkata, Mumbai, Hyderabad/Secunderabad, Lucknow, Chennai, Ahmedabad, Bangalore/Bengaluru',\n",
       " 'Noida',\n",
       " 'Noida']"
      ]
     },
     "execution_count": 37,
     "metadata": {},
     "output_type": "execute_result"
    }
   ],
   "source": [
    "job_location"
   ]
  },
  {
   "cell_type": "code",
   "execution_count": 38,
   "id": "a60cc3f0",
   "metadata": {},
   "outputs": [
    {
     "data": {
      "text/plain": [
       "['R Systems International',\n",
       " 'GlobalLogic',\n",
       " 'Boston Consulting Group',\n",
       " 'IHS Markit',\n",
       " 'Optum',\n",
       " 'Big Seo Buzz',\n",
       " 'Primo Hiring',\n",
       " 'Okda Solutions',\n",
       " 'NGI Ventures',\n",
       " 'Intrics Solutions']"
      ]
     },
     "execution_count": 38,
     "metadata": {},
     "output_type": "execute_result"
    }
   ],
   "source": [
    "company_name"
   ]
  },
  {
   "cell_type": "code",
   "execution_count": 39,
   "id": "38688eb8",
   "metadata": {},
   "outputs": [
    {
     "data": {
      "text/plain": [
       "['7-10 Yrs',\n",
       " '8-10 Yrs',\n",
       " '2-5 Yrs',\n",
       " '3-6 Yrs',\n",
       " '2-7 Yrs',\n",
       " '3-7 Yrs',\n",
       " '1-3 Yrs',\n",
       " '7-10 Yrs',\n",
       " '0-5 Yrs',\n",
       " '3-8 Yrs']"
      ]
     },
     "execution_count": 39,
     "metadata": {},
     "output_type": "execute_result"
    }
   ],
   "source": [
    "experience_required"
   ]
  },
  {
   "cell_type": "code",
   "execution_count": 40,
   "id": "af037a15",
   "metadata": {},
   "outputs": [
    {
     "name": "stdout",
     "output_type": "stream",
     "text": [
      "10 10 10 10\n"
     ]
    }
   ],
   "source": [
    "print(len(job_title),len(job_location),len(company_name),len(experience_required))"
   ]
  },
  {
   "cell_type": "code",
   "execution_count": 41,
   "id": "500ff917",
   "metadata": {},
   "outputs": [
    {
     "data": {
      "text/html": [
       "<div>\n",
       "<style scoped>\n",
       "    .dataframe tbody tr th:only-of-type {\n",
       "        vertical-align: middle;\n",
       "    }\n",
       "\n",
       "    .dataframe tbody tr th {\n",
       "        vertical-align: top;\n",
       "    }\n",
       "\n",
       "    .dataframe thead th {\n",
       "        text-align: right;\n",
       "    }\n",
       "</style>\n",
       "<table border=\"1\" class=\"dataframe\">\n",
       "  <thead>\n",
       "    <tr style=\"text-align: right;\">\n",
       "      <th></th>\n",
       "      <th>Job</th>\n",
       "      <th>Location</th>\n",
       "      <th>Company</th>\n",
       "      <th>Experience</th>\n",
       "    </tr>\n",
       "  </thead>\n",
       "  <tbody>\n",
       "    <tr>\n",
       "      <th>0</th>\n",
       "      <td>Lead Data Scientist</td>\n",
       "      <td>Noida(Sector-59 Noida)\\n(WFH during Covid)</td>\n",
       "      <td>R Systems International</td>\n",
       "      <td>7-10 Yrs</td>\n",
       "    </tr>\n",
       "    <tr>\n",
       "      <th>1</th>\n",
       "      <td>Data Scientist</td>\n",
       "      <td>Noida, Nagpur, Bangalore/Bengaluru</td>\n",
       "      <td>GlobalLogic</td>\n",
       "      <td>8-10 Yrs</td>\n",
       "    </tr>\n",
       "    <tr>\n",
       "      <th>2</th>\n",
       "      <td>DigitalBCG GAMMA Data Scientist</td>\n",
       "      <td>New Delhi, Bangalore/Bengaluru</td>\n",
       "      <td>Boston Consulting Group</td>\n",
       "      <td>2-5 Yrs</td>\n",
       "    </tr>\n",
       "    <tr>\n",
       "      <th>3</th>\n",
       "      <td>Data Scientist</td>\n",
       "      <td>Gurgaon/Gurugram</td>\n",
       "      <td>IHS Markit</td>\n",
       "      <td>3-6 Yrs</td>\n",
       "    </tr>\n",
       "    <tr>\n",
       "      <th>4</th>\n",
       "      <td>Data Scientist</td>\n",
       "      <td>Gurgaon/Gurugram</td>\n",
       "      <td>Optum</td>\n",
       "      <td>2-7 Yrs</td>\n",
       "    </tr>\n",
       "    <tr>\n",
       "      <th>5</th>\n",
       "      <td>Data Scientist / Chat-bot Developer</td>\n",
       "      <td>New Delhi, Bangalore/Bengaluru, Mumbai (All Ar...</td>\n",
       "      <td>Big Seo Buzz</td>\n",
       "      <td>3-7 Yrs</td>\n",
       "    </tr>\n",
       "    <tr>\n",
       "      <th>6</th>\n",
       "      <td>Data Scientist - Engine Algorithm</td>\n",
       "      <td>Delhi / NCR, Kolkata, Mumbai, Hyderabad/Secund...</td>\n",
       "      <td>Primo Hiring</td>\n",
       "      <td>1-3 Yrs</td>\n",
       "    </tr>\n",
       "    <tr>\n",
       "      <th>7</th>\n",
       "      <td>Data Activation Specialist - Adobe Target</td>\n",
       "      <td>Delhi / NCR, Kolkata, Mumbai, Hyderabad/Secund...</td>\n",
       "      <td>Okda Solutions</td>\n",
       "      <td>7-10 Yrs</td>\n",
       "    </tr>\n",
       "    <tr>\n",
       "      <th>8</th>\n",
       "      <td>Data Scientist</td>\n",
       "      <td>Noida</td>\n",
       "      <td>NGI Ventures</td>\n",
       "      <td>0-5 Yrs</td>\n",
       "    </tr>\n",
       "    <tr>\n",
       "      <th>9</th>\n",
       "      <td>Data Scientist</td>\n",
       "      <td>Noida</td>\n",
       "      <td>Intrics Solutions</td>\n",
       "      <td>3-8 Yrs</td>\n",
       "    </tr>\n",
       "  </tbody>\n",
       "</table>\n",
       "</div>"
      ],
      "text/plain": [
       "                                         Job  \\\n",
       "0                        Lead Data Scientist   \n",
       "1                             Data Scientist   \n",
       "2            DigitalBCG GAMMA Data Scientist   \n",
       "3                             Data Scientist   \n",
       "4                             Data Scientist   \n",
       "5        Data Scientist / Chat-bot Developer   \n",
       "6          Data Scientist - Engine Algorithm   \n",
       "7  Data Activation Specialist - Adobe Target   \n",
       "8                             Data Scientist   \n",
       "9                             Data Scientist   \n",
       "\n",
       "                                            Location                  Company  \\\n",
       "0         Noida(Sector-59 Noida)\\n(WFH during Covid)  R Systems International   \n",
       "1                 Noida, Nagpur, Bangalore/Bengaluru              GlobalLogic   \n",
       "2                     New Delhi, Bangalore/Bengaluru  Boston Consulting Group   \n",
       "3                                   Gurgaon/Gurugram               IHS Markit   \n",
       "4                                   Gurgaon/Gurugram                    Optum   \n",
       "5  New Delhi, Bangalore/Bengaluru, Mumbai (All Ar...             Big Seo Buzz   \n",
       "6  Delhi / NCR, Kolkata, Mumbai, Hyderabad/Secund...             Primo Hiring   \n",
       "7  Delhi / NCR, Kolkata, Mumbai, Hyderabad/Secund...           Okda Solutions   \n",
       "8                                              Noida             NGI Ventures   \n",
       "9                                              Noida        Intrics Solutions   \n",
       "\n",
       "  Experience  \n",
       "0   7-10 Yrs  \n",
       "1   8-10 Yrs  \n",
       "2    2-5 Yrs  \n",
       "3    3-6 Yrs  \n",
       "4    2-7 Yrs  \n",
       "5    3-7 Yrs  \n",
       "6    1-3 Yrs  \n",
       "7   7-10 Yrs  \n",
       "8    0-5 Yrs  \n",
       "9    3-8 Yrs  "
      ]
     },
     "execution_count": 41,
     "metadata": {},
     "output_type": "execute_result"
    }
   ],
   "source": [
    "df3=pd.DataFrame({'Job':job_title,'Location':job_location,'Company':company_name,'Experience':experience_required})\n",
    "df3"
   ]
  },
  {
   "cell_type": "code",
   "execution_count": null,
   "id": "c81b1c0c",
   "metadata": {},
   "outputs": [],
   "source": [
    "#Q4: Scrape data of first 100 sunglasses listings on flipkart.com. You have to scrape four attributes:\n",
    "#1. Brand\n",
    "#2. Product Description\n",
    "#3. Price\n",
    "\n",
    "#To scrape the data you have to go through following steps:\n",
    "#1. Go to Flipkart webpage by url : https://www.flipkart.com/\n",
    "#2. Enter “sunglasses” in the search field where “search for products, brands and more” is written and \n",
    "#click the search icon\n",
    "#3. After that you will reach to the page having a lot of sunglasses. From this page you can scrap the \n",
    "#required data as usual.\n",
    "#4. After scraping data from the first page, go to the “Next” Button at the bottom other page , then \n",
    "#click on it.\n",
    "#5. Now scrape data from this page as usual\n",
    "#6. Repeat this until you get data for 100 sunglasses."
   ]
  },
  {
   "cell_type": "code",
   "execution_count": 42,
   "id": "71c29af5",
   "metadata": {},
   "outputs": [],
   "source": [
    "# Opening the flipkart page on automated chrome browser\n",
    "\n",
    "driver.get(\"https://www.flipkart.com/\")"
   ]
  },
  {
   "cell_type": "code",
   "execution_count": 43,
   "id": "f69065be",
   "metadata": {},
   "outputs": [],
   "source": [
    "# Entering the Sunglasses in the search box\n",
    "\n",
    "Sunglass=driver.find_element(By.CLASS_NAME,\"_3704LK\")\n",
    "Sunglass.send_keys('Sunglasses')"
   ]
  },
  {
   "cell_type": "code",
   "execution_count": 44,
   "id": "3c628a76",
   "metadata": {},
   "outputs": [],
   "source": [
    "search=driver.find_element(By.CLASS_NAME,\"L0Z3Pu\")\n",
    "search.click()"
   ]
  },
  {
   "cell_type": "code",
   "execution_count": 45,
   "id": "cf82e885",
   "metadata": {},
   "outputs": [],
   "source": [
    "brand=[]\n",
    "product=[]\n",
    "price=[]"
   ]
  },
  {
   "cell_type": "code",
   "execution_count": 54,
   "id": "8882c57f",
   "metadata": {},
   "outputs": [],
   "source": [
    "start=0\n",
    "end=3\n",
    "for page in range(start,end):\n",
    "    \n",
    "    brand_tag=driver.find_elements(By.XPATH,'//div[@class=\"_2WkVRV\"]')\n",
    "    for i in brand_tag:\n",
    "        brand.append(i.text)\n",
    "        \n",
    "    product_tag=driver.find_elements(By.XPATH,'//a[@class=\"IRpwTa\"]')\n",
    "    for j in product_tag:\n",
    "        product.append(j.text)\n",
    "        \n",
    "    price_tag=driver.find_elements(By.XPATH,'//div[@class=\"_30jeq3\"]')   \n",
    "    for k in price_tag:\n",
    "        price.append(k.text)\n",
    "        \n",
    "    next_button=driver.find_element(By.XPATH,'//a[@class=\"_1LKTO3\"]')  \n",
    "    next_button.click()\n",
    "    time.sleep(3)"
   ]
  },
  {
   "cell_type": "code",
   "execution_count": 57,
   "id": "36886d80",
   "metadata": {},
   "outputs": [],
   "source": [
    "brand=brand[0:100]"
   ]
  },
  {
   "cell_type": "code",
   "execution_count": 59,
   "id": "a80d3761",
   "metadata": {},
   "outputs": [
    {
     "data": {
      "text/plain": [
       "100"
      ]
     },
     "execution_count": 59,
     "metadata": {},
     "output_type": "execute_result"
    }
   ],
   "source": [
    "len(brand)"
   ]
  },
  {
   "cell_type": "code",
   "execution_count": 60,
   "id": "644bc952",
   "metadata": {
    "scrolled": true
   },
   "outputs": [
    {
     "data": {
      "text/plain": [
       "['Others Rectangular Sunglasses (58)',\n",
       " 'Others Aviator Sunglasses (57)',\n",
       " 'UV Protection Wayfarer Sunglasses (Free Size)',\n",
       " 'UV Protection Round Sunglasses (54)',\n",
       " 'Others Round Sunglasses (59)',\n",
       " 'UV Protection Aviator Sunglasses (54)',\n",
       " 'UV Protection Rectangular Sunglasses (Free Size)',\n",
       " 'Polarized, UV Protection Round Sunglasses (51)',\n",
       " 'UV Protection Aviator Sunglasses (57)',\n",
       " 'UV Protection, Mirrored Wayfarer Sunglasses (54)',\n",
       " 'UV Protection Wayfarer Sunglasses (Free Size)',\n",
       " 'Polarized Retro Square Sunglasses (53)',\n",
       " 'UV Protection, Mirrored Wayfarer Sunglasses (54)',\n",
       " 'UV Protection Aviator Sunglasses (Free Size)',\n",
       " 'UV Protection Wayfarer Sunglasses (57)',\n",
       " 'Others Round Sunglasses (53)',\n",
       " 'UV Protection Aviator Sunglasses (58)',\n",
       " 'UV Protection Rectangular Sunglasses (Free Size)',\n",
       " 'UV Protection, Mirrored Wayfarer Sunglasses (57)',\n",
       " 'Polarized Round Sunglasses (51)',\n",
       " 'Gradient, UV Protection Wayfarer Sunglasses (Free Size)',\n",
       " 'Gradient, UV Protection Wayfarer Sunglasses (Free Size)',\n",
       " 'UV Protection Aviator Sunglasses (Free Size)',\n",
       " 'Polarized Oval Sunglasses (51)',\n",
       " 'UV Protection Round Sunglasses (52)',\n",
       " 'UV Protection Aviator Sunglasses (Free Size)',\n",
       " 'UV Protection Aviator Sunglasses (54)',\n",
       " 'Others Round Sunglasses (48)',\n",
       " 'UV Protection Shield Sunglasses (Free Size)',\n",
       " 'UV Protection Wrap-around Sunglasses (Free Size)',\n",
       " 'UV Protection Aviator Sunglasses (58)',\n",
       " 'UV Protection, Gradient Retro Square Sunglasses (Free S...',\n",
       " 'UV Protection, Polarized Wayfarer Sunglasses (Free Size...',\n",
       " 'Polarized Aviator Sunglasses (Free Size)',\n",
       " 'UV Protection Wayfarer Sunglasses (Free Size)',\n",
       " 'Others Round Sunglasses (52)',\n",
       " 'UV Protection Rectangular Sunglasses (52)',\n",
       " 'UV Protection Aviator Sunglasses (58)',\n",
       " 'Polarized, UV Protection Aviator Sunglasses (58)',\n",
       " 'UV Protection, Gradient Rectangular Sunglasses (Free Si...',\n",
       " 'Others Rectangular Sunglasses (58)',\n",
       " 'Others Aviator Sunglasses (57)',\n",
       " 'UV Protection Wayfarer Sunglasses (Free Size)',\n",
       " 'UV Protection Round Sunglasses (54)',\n",
       " 'Others Round Sunglasses (59)',\n",
       " 'UV Protection Aviator Sunglasses (54)',\n",
       " 'UV Protection Rectangular Sunglasses (Free Size)',\n",
       " 'Polarized, UV Protection Round Sunglasses (51)',\n",
       " 'UV Protection Aviator Sunglasses (57)',\n",
       " 'UV Protection, Mirrored Wayfarer Sunglasses (54)',\n",
       " 'UV Protection Wayfarer Sunglasses (Free Size)',\n",
       " 'Polarized Retro Square Sunglasses (53)',\n",
       " 'UV Protection, Mirrored Wayfarer Sunglasses (54)',\n",
       " 'UV Protection Aviator Sunglasses (Free Size)',\n",
       " 'UV Protection Wayfarer Sunglasses (57)',\n",
       " 'Others Round Sunglasses (53)',\n",
       " 'UV Protection Aviator Sunglasses (58)',\n",
       " 'UV Protection Rectangular Sunglasses (Free Size)',\n",
       " 'UV Protection, Mirrored Wayfarer Sunglasses (57)',\n",
       " 'Polarized Round Sunglasses (51)',\n",
       " 'Gradient, UV Protection Wayfarer Sunglasses (Free Size)',\n",
       " 'Gradient, UV Protection Wayfarer Sunglasses (Free Size)',\n",
       " 'UV Protection Aviator Sunglasses (Free Size)',\n",
       " 'Polarized Oval Sunglasses (51)',\n",
       " 'UV Protection Round Sunglasses (52)',\n",
       " 'UV Protection Aviator Sunglasses (Free Size)',\n",
       " 'UV Protection Aviator Sunglasses (54)',\n",
       " 'Others Round Sunglasses (48)',\n",
       " 'UV Protection Shield Sunglasses (Free Size)',\n",
       " 'UV Protection Wrap-around Sunglasses (Free Size)',\n",
       " 'UV Protection Aviator Sunglasses (58)',\n",
       " 'UV Protection, Gradient Retro Square Sunglasses (Free S...',\n",
       " 'UV Protection, Polarized Wayfarer Sunglasses (Free Size...',\n",
       " 'Polarized Aviator Sunglasses (Free Size)',\n",
       " 'UV Protection Wayfarer Sunglasses (Free Size)',\n",
       " 'Others Round Sunglasses (52)',\n",
       " 'UV Protection Rectangular Sunglasses (52)',\n",
       " 'UV Protection Aviator Sunglasses (58)',\n",
       " 'Polarized, UV Protection Aviator Sunglasses (58)',\n",
       " 'UV Protection, Gradient Rectangular Sunglasses (Free Si...',\n",
       " 'UV Protection Rectangular Sunglasses (Free Size)',\n",
       " 'UV Protection Wayfarer Sunglasses (Free Size)',\n",
       " 'by Lenskart Polarized, UV Protection Aviator Sunglasses...',\n",
       " 'Polarized, UV Protection Round Sunglasses (51)',\n",
       " 'Mirrored, Night Vision, UV Protection, Riding Glasses S...',\n",
       " 'by Lenskart Polarized, UV Protection Cat-eye Sunglasses...',\n",
       " 'Mirrored, UV Protection Wayfarer Sunglasses (Free Size)',\n",
       " 'Others Rectangular Sunglasses (58)',\n",
       " 'UV Protection Oval Sunglasses (Free Size)',\n",
       " 'UV Protection, Polarized, Mirrored Rectangular Sunglass...',\n",
       " 'UV Protection Aviator Sunglasses (58)',\n",
       " 'Others Rectangular Sunglasses (52)',\n",
       " 'UV Protection Aviator Sunglasses (58)',\n",
       " 'Polarized, UV Protection, Riding Glasses Wayfarer Sungl...',\n",
       " 'UV Protection Wayfarer Sunglasses (56)',\n",
       " 'Polarized Retro Square Sunglasses (53)',\n",
       " 'UV Protection, Gradient Rectangular Sunglasses (Free Si...',\n",
       " 'UV Protection, Mirrored Aviator Sunglasses (57)',\n",
       " 'UV Protection Round Sunglasses (52)',\n",
       " 'Polarized Round Sunglasses (51)']"
      ]
     },
     "execution_count": 60,
     "metadata": {},
     "output_type": "execute_result"
    }
   ],
   "source": [
    "product=product[0:100]\n",
    "product"
   ]
  },
  {
   "cell_type": "code",
   "execution_count": 61,
   "id": "34eb126c",
   "metadata": {
    "scrolled": true
   },
   "outputs": [
    {
     "data": {
      "text/plain": [
       "['₹2,999',\n",
       " '₹5,049',\n",
       " '₹399',\n",
       " '₹79',\n",
       " '₹79',\n",
       " '₹79',\n",
       " '₹79',\n",
       " '₹899',\n",
       " '₹119',\n",
       " '₹79',\n",
       " '₹79',\n",
       " '₹3,079',\n",
       " '₹79',\n",
       " '₹79',\n",
       " '₹117',\n",
       " '₹2,199',\n",
       " '₹809',\n",
       " '₹319',\n",
       " '₹118',\n",
       " '₹3,079',\n",
       " '₹359',\n",
       " '₹359',\n",
       " '₹459',\n",
       " '₹2,779',\n",
       " '₹79',\n",
       " '₹79',\n",
       " '₹167',\n",
       " '₹2,669',\n",
       " '₹499',\n",
       " '₹343',\n",
       " '₹244',\n",
       " '₹251',\n",
       " '₹214',\n",
       " '₹499',\n",
       " '₹449',\n",
       " '₹3,999',\n",
       " '₹184',\n",
       " '₹809',\n",
       " '₹461',\n",
       " '₹287',\n",
       " '₹2,999',\n",
       " '₹5,049',\n",
       " '₹399',\n",
       " '₹79',\n",
       " '₹79',\n",
       " '₹79',\n",
       " '₹79',\n",
       " '₹899',\n",
       " '₹119',\n",
       " '₹79',\n",
       " '₹79',\n",
       " '₹3,079',\n",
       " '₹79',\n",
       " '₹79',\n",
       " '₹117',\n",
       " '₹2,199',\n",
       " '₹809',\n",
       " '₹319',\n",
       " '₹118',\n",
       " '₹3,079',\n",
       " '₹359',\n",
       " '₹359',\n",
       " '₹459',\n",
       " '₹2,779',\n",
       " '₹79',\n",
       " '₹79',\n",
       " '₹167',\n",
       " '₹2,669',\n",
       " '₹499',\n",
       " '₹343',\n",
       " '₹244',\n",
       " '₹251',\n",
       " '₹214',\n",
       " '₹499',\n",
       " '₹449',\n",
       " '₹3,999',\n",
       " '₹184',\n",
       " '₹809',\n",
       " '₹461',\n",
       " '₹287',\n",
       " '₹200',\n",
       " '₹469',\n",
       " '₹599',\n",
       " '₹899',\n",
       " '₹200',\n",
       " '₹399',\n",
       " '₹559',\n",
       " '₹2,999',\n",
       " '₹79',\n",
       " '₹148',\n",
       " '₹809',\n",
       " '₹2,999',\n",
       " '₹899',\n",
       " '₹188',\n",
       " '₹79',\n",
       " '₹3,079',\n",
       " '₹255',\n",
       " '₹118',\n",
       " '₹79',\n",
       " '₹3,079']"
      ]
     },
     "execution_count": 61,
     "metadata": {},
     "output_type": "execute_result"
    }
   ],
   "source": [
    "price=price[0:100]\n",
    "price"
   ]
  },
  {
   "cell_type": "code",
   "execution_count": 62,
   "id": "28e9dcac",
   "metadata": {},
   "outputs": [
    {
     "name": "stdout",
     "output_type": "stream",
     "text": [
      "100 100 100\n"
     ]
    }
   ],
   "source": [
    "print(len(brand),len(product),len(price))"
   ]
  },
  {
   "cell_type": "code",
   "execution_count": 63,
   "id": "e663190c",
   "metadata": {},
   "outputs": [
    {
     "data": {
      "text/html": [
       "<div>\n",
       "<style scoped>\n",
       "    .dataframe tbody tr th:only-of-type {\n",
       "        vertical-align: middle;\n",
       "    }\n",
       "\n",
       "    .dataframe tbody tr th {\n",
       "        vertical-align: top;\n",
       "    }\n",
       "\n",
       "    .dataframe thead th {\n",
       "        text-align: right;\n",
       "    }\n",
       "</style>\n",
       "<table border=\"1\" class=\"dataframe\">\n",
       "  <thead>\n",
       "    <tr style=\"text-align: right;\">\n",
       "      <th></th>\n",
       "      <th>Brand</th>\n",
       "      <th>Product Description</th>\n",
       "      <th>Price</th>\n",
       "    </tr>\n",
       "  </thead>\n",
       "  <tbody>\n",
       "    <tr>\n",
       "      <th>0</th>\n",
       "      <td>CARRERA</td>\n",
       "      <td>Others Rectangular Sunglasses (58)</td>\n",
       "      <td>₹2,999</td>\n",
       "    </tr>\n",
       "    <tr>\n",
       "      <th>1</th>\n",
       "      <td>CARRERA</td>\n",
       "      <td>Others Aviator Sunglasses (57)</td>\n",
       "      <td>₹5,049</td>\n",
       "    </tr>\n",
       "    <tr>\n",
       "      <th>2</th>\n",
       "      <td>Fastrack</td>\n",
       "      <td>UV Protection Wayfarer Sunglasses (Free Size)</td>\n",
       "      <td>₹399</td>\n",
       "    </tr>\n",
       "    <tr>\n",
       "      <th>3</th>\n",
       "      <td>SHAAH COLLECTIONS</td>\n",
       "      <td>UV Protection Round Sunglasses (54)</td>\n",
       "      <td>₹79</td>\n",
       "    </tr>\n",
       "    <tr>\n",
       "      <th>4</th>\n",
       "      <td>Bedst</td>\n",
       "      <td>Others Round Sunglasses (59)</td>\n",
       "      <td>₹79</td>\n",
       "    </tr>\n",
       "    <tr>\n",
       "      <th>...</th>\n",
       "      <td>...</td>\n",
       "      <td>...</td>\n",
       "      <td>...</td>\n",
       "    </tr>\n",
       "    <tr>\n",
       "      <th>95</th>\n",
       "      <td>POLAROID</td>\n",
       "      <td>Polarized Retro Square Sunglasses (53)</td>\n",
       "      <td>₹3,079</td>\n",
       "    </tr>\n",
       "    <tr>\n",
       "      <th>96</th>\n",
       "      <td>ROZZETTA CRAFT</td>\n",
       "      <td>UV Protection, Gradient Rectangular Sunglasses...</td>\n",
       "      <td>₹255</td>\n",
       "    </tr>\n",
       "    <tr>\n",
       "      <th>97</th>\n",
       "      <td>NuVew</td>\n",
       "      <td>UV Protection, Mirrored Aviator Sunglasses (57)</td>\n",
       "      <td>₹118</td>\n",
       "    </tr>\n",
       "    <tr>\n",
       "      <th>98</th>\n",
       "      <td>SHAAH COLLECTIONS</td>\n",
       "      <td>UV Protection Round Sunglasses (52)</td>\n",
       "      <td>₹79</td>\n",
       "    </tr>\n",
       "    <tr>\n",
       "      <th>99</th>\n",
       "      <td>POLAROID</td>\n",
       "      <td>Polarized Round Sunglasses (51)</td>\n",
       "      <td>₹3,079</td>\n",
       "    </tr>\n",
       "  </tbody>\n",
       "</table>\n",
       "<p>100 rows × 3 columns</p>\n",
       "</div>"
      ],
      "text/plain": [
       "                Brand                                Product Description  \\\n",
       "0             CARRERA                 Others Rectangular Sunglasses (58)   \n",
       "1             CARRERA                     Others Aviator Sunglasses (57)   \n",
       "2            Fastrack      UV Protection Wayfarer Sunglasses (Free Size)   \n",
       "3   SHAAH COLLECTIONS                UV Protection Round Sunglasses (54)   \n",
       "4               Bedst                       Others Round Sunglasses (59)   \n",
       "..                ...                                                ...   \n",
       "95           POLAROID             Polarized Retro Square Sunglasses (53)   \n",
       "96     ROZZETTA CRAFT  UV Protection, Gradient Rectangular Sunglasses...   \n",
       "97              NuVew    UV Protection, Mirrored Aviator Sunglasses (57)   \n",
       "98  SHAAH COLLECTIONS                UV Protection Round Sunglasses (52)   \n",
       "99           POLAROID                    Polarized Round Sunglasses (51)   \n",
       "\n",
       "     Price  \n",
       "0   ₹2,999  \n",
       "1   ₹5,049  \n",
       "2     ₹399  \n",
       "3      ₹79  \n",
       "4      ₹79  \n",
       "..     ...  \n",
       "95  ₹3,079  \n",
       "96    ₹255  \n",
       "97    ₹118  \n",
       "98     ₹79  \n",
       "99  ₹3,079  \n",
       "\n",
       "[100 rows x 3 columns]"
      ]
     },
     "execution_count": 63,
     "metadata": {},
     "output_type": "execute_result"
    }
   ],
   "source": [
    "df4=pd.DataFrame({'Brand':brand,'Product Description':product,'Price':price})\n",
    "df4"
   ]
  },
  {
   "cell_type": "code",
   "execution_count": null,
   "id": "f0ff6892",
   "metadata": {},
   "outputs": [],
   "source": [
    "#Q5: Scrape 100 reviews data from flipkart.com for iphone11 phone.\n",
    "#This task will be done in following steps:\n",
    "#1. First get the webpage https://www.flipkart.com/\n",
    "#2. Enter “iphone 11” in “Search” field . \n",
    "#3. Then click the search button.\n",
    "\n",
    "#As shown in the above page you have to scrape the tick marked attributes.These are:\n",
    "#1. Rating\n",
    "#2. Review summary\n",
    "#3. Full review\n",
    "#4. You have to scrape this data for first 100 reviews."
   ]
  },
  {
   "cell_type": "code",
   "execution_count": 5,
   "id": "dce2b541",
   "metadata": {},
   "outputs": [],
   "source": [
    "# Opening the flipkart page on automated chrome browser\n",
    "\n",
    "driver.get(\"https://www.flipkart.com/\")"
   ]
  },
  {
   "cell_type": "code",
   "execution_count": 6,
   "id": "d03bbffb",
   "metadata": {},
   "outputs": [],
   "source": [
    "# Entering the iphone_11 in the search box\n",
    "\n",
    "iphone=driver.find_element(By.CLASS_NAME,\"_3704LK\")\n",
    "iphone.send_keys('iphone_11')"
   ]
  },
  {
   "cell_type": "code",
   "execution_count": 7,
   "id": "c6c66a0b",
   "metadata": {},
   "outputs": [],
   "source": [
    "search=driver.find_element(By.CLASS_NAME,\"L0Z3Pu\")\n",
    "search.click()"
   ]
  },
  {
   "cell_type": "code",
   "execution_count": 8,
   "id": "b0b4e8fd",
   "metadata": {},
   "outputs": [],
   "source": [
    "rating=[]\n",
    "review=[]\n",
    "full_review=[]"
   ]
  },
  {
   "cell_type": "code",
   "execution_count": 23,
   "id": "0dbbc82b",
   "metadata": {},
   "outputs": [],
   "source": [
    "start=0\n",
    "end=11\n",
    "for page in range(start,end):\n",
    "\n",
    "    rating_tag=driver.find_elements(By.XPATH,'//div[@class=\"_3LWZlK _1BLPMq\"]')\n",
    "    for p in rating_tag:\n",
    "        rating.append(p.text)\n",
    "        \n",
    "    review_tag=driver.find_elements(By.XPATH,'//p[@class=\"_2-N8zT\"]')\n",
    "    for q in review_tag:\n",
    "        review.append(q.text)\n",
    "        \n",
    "    full_tag=driver.find_elements(By.XPATH,'//div[@class=\"t-ZTKy\"]')   \n",
    "    for r in full_tag:\n",
    "        full_review.append(r.text)\n",
    "\n",
    "    next_button=driver.find_element(By.XPATH,'//a[@class=\"_1LKTO3\"]')  \n",
    "    next_button.click()\n",
    "    time.sleep(3)"
   ]
  },
  {
   "cell_type": "code",
   "execution_count": 28,
   "id": "22cdc741",
   "metadata": {
    "scrolled": true
   },
   "outputs": [
    {
     "data": {
      "text/plain": [
       "['5',\n",
       " '5',\n",
       " '4',\n",
       " '5',\n",
       " '4',\n",
       " '5',\n",
       " '5',\n",
       " '5',\n",
       " '5',\n",
       " '5',\n",
       " '4',\n",
       " '5',\n",
       " '4',\n",
       " '5',\n",
       " '5',\n",
       " '5',\n",
       " '5',\n",
       " '5',\n",
       " '4',\n",
       " '5',\n",
       " '4',\n",
       " '5',\n",
       " '5',\n",
       " '5',\n",
       " '5',\n",
       " '5',\n",
       " '4',\n",
       " '5',\n",
       " '4',\n",
       " '5',\n",
       " '5',\n",
       " '5',\n",
       " '5',\n",
       " '5',\n",
       " '4',\n",
       " '5',\n",
       " '4',\n",
       " '5',\n",
       " '5',\n",
       " '5',\n",
       " '5',\n",
       " '5',\n",
       " '4',\n",
       " '5',\n",
       " '4',\n",
       " '5',\n",
       " '5',\n",
       " '5',\n",
       " '5',\n",
       " '5',\n",
       " '4',\n",
       " '5',\n",
       " '4',\n",
       " '5',\n",
       " '5',\n",
       " '5',\n",
       " '5',\n",
       " '5',\n",
       " '4',\n",
       " '5',\n",
       " '4',\n",
       " '5',\n",
       " '5',\n",
       " '5',\n",
       " '5',\n",
       " '5',\n",
       " '4',\n",
       " '5',\n",
       " '4',\n",
       " '5',\n",
       " '5',\n",
       " '5',\n",
       " '5',\n",
       " '5',\n",
       " '4',\n",
       " '5',\n",
       " '4',\n",
       " '5',\n",
       " '5',\n",
       " '5',\n",
       " '5',\n",
       " '5',\n",
       " '4',\n",
       " '5',\n",
       " '4',\n",
       " '5',\n",
       " '5',\n",
       " '5',\n",
       " '5',\n",
       " '5',\n",
       " '4',\n",
       " '5',\n",
       " '4',\n",
       " '5',\n",
       " '5',\n",
       " '5',\n",
       " '5',\n",
       " '5',\n",
       " '4',\n",
       " '5']"
      ]
     },
     "execution_count": 28,
     "metadata": {},
     "output_type": "execute_result"
    }
   ],
   "source": [
    "rating=rating[0:100]\n",
    "rating"
   ]
  },
  {
   "cell_type": "code",
   "execution_count": 29,
   "id": "f4edb4d9",
   "metadata": {
    "scrolled": true
   },
   "outputs": [
    {
     "data": {
      "text/plain": [
       "['Perfect product!',\n",
       " 'Terrific',\n",
       " 'Good quality product',\n",
       " 'Perfect product!',\n",
       " 'Value-for-money',\n",
       " 'Wonderful',\n",
       " 'Fabulous!',\n",
       " 'Mind-blowing purchase',\n",
       " 'Perfect product!',\n",
       " 'Terrific',\n",
       " 'Good quality product',\n",
       " 'Perfect product!',\n",
       " 'Value-for-money',\n",
       " 'Wonderful',\n",
       " 'Fabulous!',\n",
       " 'Mind-blowing purchase',\n",
       " 'Perfect product!',\n",
       " 'Terrific',\n",
       " 'Good quality product',\n",
       " 'Perfect product!',\n",
       " 'Value-for-money',\n",
       " 'Wonderful',\n",
       " 'Fabulous!',\n",
       " 'Mind-blowing purchase',\n",
       " 'Perfect product!',\n",
       " 'Terrific',\n",
       " 'Good quality product',\n",
       " 'Perfect product!',\n",
       " 'Value-for-money',\n",
       " 'Wonderful',\n",
       " 'Fabulous!',\n",
       " 'Mind-blowing purchase',\n",
       " 'Perfect product!',\n",
       " 'Terrific',\n",
       " 'Good quality product',\n",
       " 'Perfect product!',\n",
       " 'Value-for-money',\n",
       " 'Wonderful',\n",
       " 'Fabulous!',\n",
       " 'Mind-blowing purchase',\n",
       " 'Perfect product!',\n",
       " 'Terrific',\n",
       " 'Good quality product',\n",
       " 'Perfect product!',\n",
       " 'Value-for-money',\n",
       " 'Wonderful',\n",
       " 'Fabulous!',\n",
       " 'Mind-blowing purchase',\n",
       " 'Perfect product!',\n",
       " 'Terrific',\n",
       " 'Good quality product',\n",
       " 'Perfect product!',\n",
       " 'Value-for-money',\n",
       " 'Wonderful',\n",
       " 'Fabulous!',\n",
       " 'Mind-blowing purchase',\n",
       " 'Perfect product!',\n",
       " 'Terrific',\n",
       " 'Good quality product',\n",
       " 'Perfect product!',\n",
       " 'Value-for-money',\n",
       " 'Wonderful',\n",
       " 'Fabulous!',\n",
       " 'Mind-blowing purchase',\n",
       " 'Perfect product!',\n",
       " 'Terrific',\n",
       " 'Good quality product',\n",
       " 'Perfect product!',\n",
       " 'Value-for-money',\n",
       " 'Wonderful',\n",
       " 'Fabulous!',\n",
       " 'Mind-blowing purchase',\n",
       " 'Perfect product!',\n",
       " 'Terrific',\n",
       " 'Good quality product',\n",
       " 'Perfect product!',\n",
       " 'Value-for-money',\n",
       " 'Wonderful',\n",
       " 'Fabulous!',\n",
       " 'Mind-blowing purchase',\n",
       " 'Perfect product!',\n",
       " 'Terrific',\n",
       " 'Good quality product',\n",
       " 'Perfect product!',\n",
       " 'Value-for-money',\n",
       " 'Wonderful',\n",
       " 'Fabulous!',\n",
       " 'Mind-blowing purchase',\n",
       " 'Perfect product!',\n",
       " 'Terrific',\n",
       " 'Good quality product',\n",
       " 'Perfect product!',\n",
       " 'Value-for-money',\n",
       " 'Wonderful',\n",
       " 'Fabulous!',\n",
       " 'Mind-blowing purchase',\n",
       " 'Perfect product!',\n",
       " 'Terrific',\n",
       " 'Good quality product',\n",
       " 'Perfect product!']"
      ]
     },
     "execution_count": 29,
     "metadata": {},
     "output_type": "execute_result"
    }
   ],
   "source": [
    "review=review[0:100]\n",
    "review"
   ]
  },
  {
   "cell_type": "code",
   "execution_count": 27,
   "id": "ae8d28b6",
   "metadata": {},
   "outputs": [
    {
     "data": {
      "text/plain": [
       "[\"After using 3 years mobile review. Excellent & Awesome Mobile fully I love it mobile don't wait take it perfectly suits everyone very stylish and operating a...\\nRead full review\",\n",
       " 'I am using the phone for last 5 years and found no cons as such. The camera quality is bit low as compared to other iphone varient but it can be managable. B...\\nRead full review',\n",
       " \"impressively Nice......\\nOne of the greatest iPhone i ever used ....\\nAll was like Never before ...\\nit's just Amazing ...\\nBattery Life is too good ...2 Days wi...\\nRead full review\",\n",
       " 'Nice products thanks flkat',\n",
       " \"I'm Really happy with the product\\nDelivery was fast as well\\n..it was a gift for my sister and she loved it so much.\",\n",
       " 'Nice product..just love it',\n",
       " 'Fast performance to previous iPhone x\\nGood camera quality but the best part of night mode #killing\\n\\nI am already One-plus7\\nHuge difference between in night m...\\nRead full review',\n",
       " 'Fantastic and prompt delivery.',\n",
       " \"After using 3 years mobile review. Excellent & Awesome Mobile fully I love it mobile don't wait take it perfectly suits everyone very stylish and operating a...\\nRead full review\",\n",
       " 'I am using the phone for last 5 years and found no cons as such. The camera quality is bit low as compared to other iphone varient but it can be managable. B...\\nRead full review',\n",
       " \"impressively Nice......\\nOne of the greatest iPhone i ever used ....\\nAll was like Never before ...\\nit's just Amazing ...\\nBattery Life is too good ...2 Days wi...\\nRead full review\",\n",
       " 'Nice products thanks flkat',\n",
       " \"I'm Really happy with the product\\nDelivery was fast as well\\n..it was a gift for my sister and she loved it so much.\",\n",
       " 'Nice product..just love it',\n",
       " 'Fast performance to previous iPhone x\\nGood camera quality but the best part of night mode #killing\\n\\nI am already One-plus7\\nHuge difference between in night m...\\nRead full review',\n",
       " 'Fantastic and prompt delivery.',\n",
       " \"After using 3 years mobile review. Excellent & Awesome Mobile fully I love it mobile don't wait take it perfectly suits everyone very stylish and operating a...\\nRead full review\",\n",
       " 'I am using the phone for last 5 years and found no cons as such. The camera quality is bit low as compared to other iphone varient but it can be managable. B...\\nRead full review',\n",
       " \"impressively Nice......\\nOne of the greatest iPhone i ever used ....\\nAll was like Never before ...\\nit's just Amazing ...\\nBattery Life is too good ...2 Days wi...\\nRead full review\",\n",
       " 'Nice products thanks flkat',\n",
       " \"I'm Really happy with the product\\nDelivery was fast as well\\n..it was a gift for my sister and she loved it so much.\",\n",
       " 'Nice product..just love it',\n",
       " 'Fast performance to previous iPhone x\\nGood camera quality but the best part of night mode #killing\\n\\nI am already One-plus7\\nHuge difference between in night m...\\nRead full review',\n",
       " 'Fantastic and prompt delivery.',\n",
       " \"After using 3 years mobile review. Excellent & Awesome Mobile fully I love it mobile don't wait take it perfectly suits everyone very stylish and operating a...\\nRead full review\",\n",
       " 'I am using the phone for last 5 years and found no cons as such. The camera quality is bit low as compared to other iphone varient but it can be managable. B...\\nRead full review',\n",
       " \"impressively Nice......\\nOne of the greatest iPhone i ever used ....\\nAll was like Never before ...\\nit's just Amazing ...\\nBattery Life is too good ...2 Days wi...\\nRead full review\",\n",
       " 'Nice products thanks flkat',\n",
       " \"I'm Really happy with the product\\nDelivery was fast as well\\n..it was a gift for my sister and she loved it so much.\",\n",
       " 'Nice product..just love it',\n",
       " 'Fast performance to previous iPhone x\\nGood camera quality but the best part of night mode #killing\\n\\nI am already One-plus7\\nHuge difference between in night m...\\nRead full review',\n",
       " 'Fantastic and prompt delivery.',\n",
       " \"After using 3 years mobile review. Excellent & Awesome Mobile fully I love it mobile don't wait take it perfectly suits everyone very stylish and operating a...\\nRead full review\",\n",
       " 'I am using the phone for last 5 years and found no cons as such. The camera quality is bit low as compared to other iphone varient but it can be managable. B...\\nRead full review',\n",
       " \"impressively Nice......\\nOne of the greatest iPhone i ever used ....\\nAll was like Never before ...\\nit's just Amazing ...\\nBattery Life is too good ...2 Days wi...\\nRead full review\",\n",
       " 'Nice products thanks flkat',\n",
       " \"I'm Really happy with the product\\nDelivery was fast as well\\n..it was a gift for my sister and she loved it so much.\",\n",
       " 'Nice product..just love it',\n",
       " 'Fast performance to previous iPhone x\\nGood camera quality but the best part of night mode #killing\\n\\nI am already One-plus7\\nHuge difference between in night m...\\nRead full review',\n",
       " 'Fantastic and prompt delivery.',\n",
       " \"After using 3 years mobile review. Excellent & Awesome Mobile fully I love it mobile don't wait take it perfectly suits everyone very stylish and operating a...\\nRead full review\",\n",
       " 'I am using the phone for last 5 years and found no cons as such. The camera quality is bit low as compared to other iphone varient but it can be managable. B...\\nRead full review',\n",
       " \"impressively Nice......\\nOne of the greatest iPhone i ever used ....\\nAll was like Never before ...\\nit's just Amazing ...\\nBattery Life is too good ...2 Days wi...\\nRead full review\",\n",
       " 'Nice products thanks flkat',\n",
       " \"I'm Really happy with the product\\nDelivery was fast as well\\n..it was a gift for my sister and she loved it so much.\",\n",
       " 'Nice product..just love it',\n",
       " 'Fast performance to previous iPhone x\\nGood camera quality but the best part of night mode #killing\\n\\nI am already One-plus7\\nHuge difference between in night m...\\nRead full review',\n",
       " 'Fantastic and prompt delivery.',\n",
       " \"After using 3 years mobile review. Excellent & Awesome Mobile fully I love it mobile don't wait take it perfectly suits everyone very stylish and operating a...\\nRead full review\",\n",
       " 'I am using the phone for last 5 years and found no cons as such. The camera quality is bit low as compared to other iphone varient but it can be managable. B...\\nRead full review',\n",
       " \"impressively Nice......\\nOne of the greatest iPhone i ever used ....\\nAll was like Never before ...\\nit's just Amazing ...\\nBattery Life is too good ...2 Days wi...\\nRead full review\",\n",
       " 'Nice products thanks flkat',\n",
       " \"I'm Really happy with the product\\nDelivery was fast as well\\n..it was a gift for my sister and she loved it so much.\",\n",
       " 'Nice product..just love it',\n",
       " 'Fast performance to previous iPhone x\\nGood camera quality but the best part of night mode #killing\\n\\nI am already One-plus7\\nHuge difference between in night m...\\nRead full review',\n",
       " 'Fantastic and prompt delivery.',\n",
       " \"After using 3 years mobile review. Excellent & Awesome Mobile fully I love it mobile don't wait take it perfectly suits everyone very stylish and operating a...\\nRead full review\",\n",
       " 'I am using the phone for last 5 years and found no cons as such. The camera quality is bit low as compared to other iphone varient but it can be managable. B...\\nRead full review',\n",
       " \"impressively Nice......\\nOne of the greatest iPhone i ever used ....\\nAll was like Never before ...\\nit's just Amazing ...\\nBattery Life is too good ...2 Days wi...\\nRead full review\",\n",
       " 'Nice products thanks flkat',\n",
       " \"I'm Really happy with the product\\nDelivery was fast as well\\n..it was a gift for my sister and she loved it so much.\",\n",
       " 'Nice product..just love it',\n",
       " 'Fast performance to previous iPhone x\\nGood camera quality but the best part of night mode #killing\\n\\nI am already One-plus7\\nHuge difference between in night m...\\nRead full review',\n",
       " 'Fantastic and prompt delivery.',\n",
       " \"After using 3 years mobile review. Excellent & Awesome Mobile fully I love it mobile don't wait take it perfectly suits everyone very stylish and operating a...\\nRead full review\",\n",
       " 'I am using the phone for last 5 years and found no cons as such. The camera quality is bit low as compared to other iphone varient but it can be managable. B...\\nRead full review',\n",
       " \"impressively Nice......\\nOne of the greatest iPhone i ever used ....\\nAll was like Never before ...\\nit's just Amazing ...\\nBattery Life is too good ...2 Days wi...\\nRead full review\",\n",
       " 'Nice products thanks flkat',\n",
       " \"I'm Really happy with the product\\nDelivery was fast as well\\n..it was a gift for my sister and she loved it so much.\",\n",
       " 'Nice product..just love it',\n",
       " 'Fast performance to previous iPhone x\\nGood camera quality but the best part of night mode #killing\\n\\nI am already One-plus7\\nHuge difference between in night m...\\nRead full review',\n",
       " 'Fantastic and prompt delivery.',\n",
       " \"After using 3 years mobile review. Excellent & Awesome Mobile fully I love it mobile don't wait take it perfectly suits everyone very stylish and operating a...\\nRead full review\",\n",
       " 'I am using the phone for last 5 years and found no cons as such. The camera quality is bit low as compared to other iphone varient but it can be managable. B...\\nRead full review',\n",
       " \"impressively Nice......\\nOne of the greatest iPhone i ever used ....\\nAll was like Never before ...\\nit's just Amazing ...\\nBattery Life is too good ...2 Days wi...\\nRead full review\",\n",
       " 'Nice products thanks flkat',\n",
       " \"I'm Really happy with the product\\nDelivery was fast as well\\n..it was a gift for my sister and she loved it so much.\",\n",
       " 'Nice product..just love it',\n",
       " 'Fast performance to previous iPhone x\\nGood camera quality but the best part of night mode #killing\\n\\nI am already One-plus7\\nHuge difference between in night m...\\nRead full review',\n",
       " 'Fantastic and prompt delivery.',\n",
       " \"After using 3 years mobile review. Excellent & Awesome Mobile fully I love it mobile don't wait take it perfectly suits everyone very stylish and operating a...\\nRead full review\",\n",
       " 'I am using the phone for last 5 years and found no cons as such. The camera quality is bit low as compared to other iphone varient but it can be managable. B...\\nRead full review',\n",
       " \"impressively Nice......\\nOne of the greatest iPhone i ever used ....\\nAll was like Never before ...\\nit's just Amazing ...\\nBattery Life is too good ...2 Days wi...\\nRead full review\",\n",
       " 'Nice products thanks flkat',\n",
       " \"I'm Really happy with the product\\nDelivery was fast as well\\n..it was a gift for my sister and she loved it so much.\",\n",
       " 'Nice product..just love it',\n",
       " 'Fast performance to previous iPhone x\\nGood camera quality but the best part of night mode #killing\\n\\nI am already One-plus7\\nHuge difference between in night m...\\nRead full review',\n",
       " 'Fantastic and prompt delivery.',\n",
       " \"After using 3 years mobile review. Excellent & Awesome Mobile fully I love it mobile don't wait take it perfectly suits everyone very stylish and operating a...\\nRead full review\",\n",
       " 'I am using the phone for last 5 years and found no cons as such. The camera quality is bit low as compared to other iphone varient but it can be managable. B...\\nRead full review',\n",
       " \"impressively Nice......\\nOne of the greatest iPhone i ever used ....\\nAll was like Never before ...\\nit's just Amazing ...\\nBattery Life is too good ...2 Days wi...\\nRead full review\",\n",
       " 'Nice products thanks flkat',\n",
       " \"I'm Really happy with the product\\nDelivery was fast as well\\n..it was a gift for my sister and she loved it so much.\",\n",
       " 'Nice product..just love it',\n",
       " 'Fast performance to previous iPhone x\\nGood camera quality but the best part of night mode #killing\\n\\nI am already One-plus7\\nHuge difference between in night m...\\nRead full review',\n",
       " 'Fantastic and prompt delivery.',\n",
       " \"After using 3 years mobile review. Excellent & Awesome Mobile fully I love it mobile don't wait take it perfectly suits everyone very stylish and operating a...\\nRead full review\",\n",
       " 'I am using the phone for last 5 years and found no cons as such. The camera quality is bit low as compared to other iphone varient but it can be managable. B...\\nRead full review',\n",
       " \"impressively Nice......\\nOne of the greatest iPhone i ever used ....\\nAll was like Never before ...\\nit's just Amazing ...\\nBattery Life is too good ...2 Days wi...\\nRead full review\",\n",
       " 'Nice products thanks flkat']"
      ]
     },
     "execution_count": 27,
     "metadata": {},
     "output_type": "execute_result"
    }
   ],
   "source": [
    "full_review=full_review[0:100]\n",
    "full_review"
   ]
  },
  {
   "cell_type": "code",
   "execution_count": 30,
   "id": "6fe49e35",
   "metadata": {},
   "outputs": [
    {
     "name": "stdout",
     "output_type": "stream",
     "text": [
      "100 100 100\n"
     ]
    }
   ],
   "source": [
    "print(len(rating),len(review),len(full_review))"
   ]
  },
  {
   "cell_type": "code",
   "execution_count": 31,
   "id": "59b2e403",
   "metadata": {},
   "outputs": [
    {
     "data": {
      "text/html": [
       "<div>\n",
       "<style scoped>\n",
       "    .dataframe tbody tr th:only-of-type {\n",
       "        vertical-align: middle;\n",
       "    }\n",
       "\n",
       "    .dataframe tbody tr th {\n",
       "        vertical-align: top;\n",
       "    }\n",
       "\n",
       "    .dataframe thead th {\n",
       "        text-align: right;\n",
       "    }\n",
       "</style>\n",
       "<table border=\"1\" class=\"dataframe\">\n",
       "  <thead>\n",
       "    <tr style=\"text-align: right;\">\n",
       "      <th></th>\n",
       "      <th>Rating</th>\n",
       "      <th>Review summary</th>\n",
       "      <th>Full review</th>\n",
       "    </tr>\n",
       "  </thead>\n",
       "  <tbody>\n",
       "    <tr>\n",
       "      <th>0</th>\n",
       "      <td>5</td>\n",
       "      <td>Perfect product!</td>\n",
       "      <td>After using 3 years mobile review. Excellent &amp;...</td>\n",
       "    </tr>\n",
       "    <tr>\n",
       "      <th>1</th>\n",
       "      <td>5</td>\n",
       "      <td>Terrific</td>\n",
       "      <td>I am using the phone for last 5 years and foun...</td>\n",
       "    </tr>\n",
       "    <tr>\n",
       "      <th>2</th>\n",
       "      <td>4</td>\n",
       "      <td>Good quality product</td>\n",
       "      <td>impressively Nice......\\nOne of the greatest i...</td>\n",
       "    </tr>\n",
       "    <tr>\n",
       "      <th>3</th>\n",
       "      <td>5</td>\n",
       "      <td>Perfect product!</td>\n",
       "      <td>Nice products thanks flkat</td>\n",
       "    </tr>\n",
       "    <tr>\n",
       "      <th>4</th>\n",
       "      <td>4</td>\n",
       "      <td>Value-for-money</td>\n",
       "      <td>I'm Really happy with the product\\nDelivery wa...</td>\n",
       "    </tr>\n",
       "    <tr>\n",
       "      <th>...</th>\n",
       "      <td>...</td>\n",
       "      <td>...</td>\n",
       "      <td>...</td>\n",
       "    </tr>\n",
       "    <tr>\n",
       "      <th>95</th>\n",
       "      <td>5</td>\n",
       "      <td>Mind-blowing purchase</td>\n",
       "      <td>Fantastic and prompt delivery.</td>\n",
       "    </tr>\n",
       "    <tr>\n",
       "      <th>96</th>\n",
       "      <td>5</td>\n",
       "      <td>Perfect product!</td>\n",
       "      <td>After using 3 years mobile review. Excellent &amp;...</td>\n",
       "    </tr>\n",
       "    <tr>\n",
       "      <th>97</th>\n",
       "      <td>5</td>\n",
       "      <td>Terrific</td>\n",
       "      <td>I am using the phone for last 5 years and foun...</td>\n",
       "    </tr>\n",
       "    <tr>\n",
       "      <th>98</th>\n",
       "      <td>4</td>\n",
       "      <td>Good quality product</td>\n",
       "      <td>impressively Nice......\\nOne of the greatest i...</td>\n",
       "    </tr>\n",
       "    <tr>\n",
       "      <th>99</th>\n",
       "      <td>5</td>\n",
       "      <td>Perfect product!</td>\n",
       "      <td>Nice products thanks flkat</td>\n",
       "    </tr>\n",
       "  </tbody>\n",
       "</table>\n",
       "<p>100 rows × 3 columns</p>\n",
       "</div>"
      ],
      "text/plain": [
       "   Rating         Review summary  \\\n",
       "0       5       Perfect product!   \n",
       "1       5               Terrific   \n",
       "2       4   Good quality product   \n",
       "3       5       Perfect product!   \n",
       "4       4        Value-for-money   \n",
       "..    ...                    ...   \n",
       "95      5  Mind-blowing purchase   \n",
       "96      5       Perfect product!   \n",
       "97      5               Terrific   \n",
       "98      4   Good quality product   \n",
       "99      5       Perfect product!   \n",
       "\n",
       "                                          Full review  \n",
       "0   After using 3 years mobile review. Excellent &...  \n",
       "1   I am using the phone for last 5 years and foun...  \n",
       "2   impressively Nice......\\nOne of the greatest i...  \n",
       "3                          Nice products thanks flkat  \n",
       "4   I'm Really happy with the product\\nDelivery wa...  \n",
       "..                                                ...  \n",
       "95                     Fantastic and prompt delivery.  \n",
       "96  After using 3 years mobile review. Excellent &...  \n",
       "97  I am using the phone for last 5 years and foun...  \n",
       "98  impressively Nice......\\nOne of the greatest i...  \n",
       "99                         Nice products thanks flkat  \n",
       "\n",
       "[100 rows x 3 columns]"
      ]
     },
     "execution_count": 31,
     "metadata": {},
     "output_type": "execute_result"
    }
   ],
   "source": [
    "df5=pd.DataFrame({'Rating':rating,'Review summary':review,'Full review':full_review})\n",
    "df5"
   ]
  },
  {
   "cell_type": "code",
   "execution_count": null,
   "id": "8dec1d26",
   "metadata": {},
   "outputs": [],
   "source": [
    "#Q6: Scrape data for first 100 sneakers you find when you visit flipkart.com and search for “sneakers” in the \n",
    "#search field.\n",
    "#You have to scrape 4 attributes of each sneaker:\n",
    "#1. Brand\n",
    "#2. Product Description\n",
    "#3. Price"
   ]
  },
  {
   "cell_type": "code",
   "execution_count": 33,
   "id": "eb1a5c60",
   "metadata": {},
   "outputs": [],
   "source": [
    "# Opening the flipkart page on automated chrome browser\n",
    "\n",
    "driver.get(\"https://www.flipkart.com/\")"
   ]
  },
  {
   "cell_type": "code",
   "execution_count": 34,
   "id": "e4a94a9d",
   "metadata": {},
   "outputs": [],
   "source": [
    "# Entering the sneakers in the search box\n",
    "\n",
    "sneaker=driver.find_element(By.CLASS_NAME,\"_3704LK\")\n",
    "sneaker.send_keys('sneakers')"
   ]
  },
  {
   "cell_type": "code",
   "execution_count": 35,
   "id": "63fd449d",
   "metadata": {},
   "outputs": [],
   "source": [
    "search=driver.find_element(By.CLASS_NAME,\"L0Z3Pu\")\n",
    "search.click()"
   ]
  },
  {
   "cell_type": "code",
   "execution_count": 36,
   "id": "9fd478cb",
   "metadata": {},
   "outputs": [],
   "source": [
    "brand=[]\n",
    "product=[]\n",
    "price=[]\n",
    "discount_shown=[]"
   ]
  },
  {
   "cell_type": "code",
   "execution_count": 38,
   "id": "7ddef8e7",
   "metadata": {},
   "outputs": [],
   "source": [
    "start=0\n",
    "end=3\n",
    "for page in range(start,end):\n",
    "\n",
    "    brand_tag=driver.find_elements(By.XPATH,'//div[@class=\"_2WkVRV\"]')\n",
    "    for p in brand_tag:\n",
    "        brand.append(p.text)\n",
    "        \n",
    "    product_tag=driver.find_elements(By.XPATH,'//a[@class=\"IRpwTa\"]')\n",
    "    for q in product_tag:\n",
    "        product.append(q.text)\n",
    "        \n",
    "    price_tag=driver.find_elements(By.XPATH,'//div[@class=\"_30jeq3\"]')   \n",
    "    for r in price_tag:\n",
    "        price.append(r.text)\n",
    "        \n",
    "    discount_tag=driver.find_elements(By.XPATH,'//div[@class=\"_3Ay6Sb\"]')\n",
    "    for s in discount_tag:\n",
    "        discount_shown.append(s.text)\n",
    "        \n",
    "    next_button=driver.find_element(By.XPATH,'//a[@class=\"_1LKTO3\"]')  \n",
    "    next_button.click()\n",
    "    time.sleep(3)"
   ]
  },
  {
   "cell_type": "code",
   "execution_count": 40,
   "id": "270bb653",
   "metadata": {
    "scrolled": true
   },
   "outputs": [
    {
     "data": {
      "text/plain": [
       "['K- FOOTLANCE',\n",
       " 'BIRDE',\n",
       " 'RED TAPE',\n",
       " 'BRUTON',\n",
       " 'BRUTON',\n",
       " 'World Wear Footwear',\n",
       " 'Labbin',\n",
       " 'BIRDE',\n",
       " 'BRUTON',\n",
       " 'Magnolia',\n",
       " 'World Wear Footwear',\n",
       " 'bacca bucci',\n",
       " 'World Wear Footwear',\n",
       " 'TR',\n",
       " 'Kraasa',\n",
       " 'Layasa',\n",
       " 'Magnolia',\n",
       " 'Deals4you',\n",
       " 'Rzisbo',\n",
       " 'Zixer',\n",
       " 'Shozie',\n",
       " 'BRUTON',\n",
       " 'BRUTON',\n",
       " 'PUMA',\n",
       " \"K' Footlance\",\n",
       " 'aadi',\n",
       " 'World Wear Footwear',\n",
       " 'ASTEROID',\n",
       " 'K- FOOTLANCE',\n",
       " 'aadi',\n",
       " 'Magnolia',\n",
       " 'Zixer',\n",
       " 'aadi',\n",
       " 'World Wear Footwear',\n",
       " 'PUMA',\n",
       " 'bacca bucci',\n",
       " 'tigonis',\n",
       " 'SCATCHITE',\n",
       " 'BRUTON',\n",
       " 'BIRDE',\n",
       " 'K- FOOTLANCE',\n",
       " 'BIRDE',\n",
       " 'RED TAPE',\n",
       " 'BRUTON',\n",
       " 'BRUTON',\n",
       " 'World Wear Footwear',\n",
       " 'Labbin',\n",
       " 'BIRDE',\n",
       " 'BRUTON',\n",
       " 'Magnolia',\n",
       " 'World Wear Footwear',\n",
       " 'bacca bucci',\n",
       " 'World Wear Footwear',\n",
       " 'TR',\n",
       " 'Kraasa',\n",
       " 'Layasa',\n",
       " 'Magnolia',\n",
       " 'Deals4you',\n",
       " 'Rzisbo',\n",
       " 'Zixer',\n",
       " 'Shozie',\n",
       " 'BRUTON',\n",
       " 'BRUTON',\n",
       " 'PUMA',\n",
       " \"K' Footlance\",\n",
       " 'aadi',\n",
       " 'World Wear Footwear',\n",
       " 'ASTEROID',\n",
       " 'K- FOOTLANCE',\n",
       " 'aadi',\n",
       " 'Magnolia',\n",
       " 'Zixer',\n",
       " 'aadi',\n",
       " 'World Wear Footwear',\n",
       " 'PUMA',\n",
       " 'bacca bucci',\n",
       " 'tigonis',\n",
       " 'SCATCHITE',\n",
       " 'BRUTON',\n",
       " 'BIRDE',\n",
       " 'Magnolia',\n",
       " 'ASTEROID',\n",
       " 'WHITE WALKERS',\n",
       " 'K- FOOTLANCE',\n",
       " 'Elevarse',\n",
       " 'PUMA',\n",
       " 'asian',\n",
       " 'K- FOOTLANCE',\n",
       " 'K- FOOTLANCE',\n",
       " 'BRUTON',\n",
       " 'PUMA',\n",
       " 'Zixer',\n",
       " 'Shozie',\n",
       " \"Neeman's\",\n",
       " 'BRUTON',\n",
       " 'aadi',\n",
       " 'aadi',\n",
       " 'Airland',\n",
       " 'Shozie',\n",
       " 'Zixer']"
      ]
     },
     "execution_count": 40,
     "metadata": {},
     "output_type": "execute_result"
    }
   ],
   "source": [
    "brand=brand[0:100]\n",
    "brand"
   ]
  },
  {
   "cell_type": "code",
   "execution_count": 41,
   "id": "8dcbf539",
   "metadata": {
    "scrolled": true
   },
   "outputs": [
    {
     "data": {
      "text/plain": [
       "['Sneakers For Men',\n",
       " 'Premium Casual Shoes White Sneakers For Men',\n",
       " 'Sneakers For Men',\n",
       " 'Modern Trendy Sneakers Shoes Sneakers For Men',\n",
       " 'Lightweight Pack Of 1 Trendy Sneakers Sneakers For Men',\n",
       " 'Latest Collection-1215 Stylish Casual Sports Sneakers F...',\n",
       " 'Sneakers For Men',\n",
       " 'Premium White Casual Shoes Sneakers For Men Sneakers Fo...',\n",
       " 'Lattest Sneakers Shoe Sneakers For Men',\n",
       " 'Sneakers For Men',\n",
       " 'Latest Collection Black-349 Trendy & Stylish Casual Sne...',\n",
       " \"JUPITER Men's Retro Color Blocked Light Weight Chunky F...\",\n",
       " 'Latest Collection-1216 Stylish Casual Sports Sneakers F...',\n",
       " 'Casuals, Canvas, Partywear Sneakers For Men',\n",
       " 'Casual Sneakers White Shoes For Girls And Sneakers For ...',\n",
       " 'Sneakers For Men',\n",
       " 'Sneakers For Women',\n",
       " 'Sneakers For Men',\n",
       " 'Sneakers Dancing Shoes/Street Dancing Shoe For Men/R.T....',\n",
       " 'Sneakers For Men',\n",
       " '2 Combo Sneaker Shoes Sneakers For Men',\n",
       " 'Modern Trendy Sneakers Shoes Sneakers For Men',\n",
       " 'Puma Smash v2 L Sneakers For Men',\n",
       " 'Fashion and Stylish Soft Ultralight Lace Up Sneakers Ca...',\n",
       " 'Sneakers For Men',\n",
       " 'Latest Collection-1138 Stylish Casual Sports Sneakers F...',\n",
       " \"Original Luxury Branded Fashionable Men's Casual Walkin...\",\n",
       " 'Sneakers For Men',\n",
       " 'Sneakers For Men',\n",
       " 'Sneakers For Men',\n",
       " 'Exclusive Rap & Dance Shoes For Boys Sneakers For Men S...',\n",
       " 'Mesh | Ultralightweight | Comfortable | Breathable Walk...',\n",
       " 'Exclusive Affordable Collection of Trendy & Stylish Cas...',\n",
       " 'Electron E Pro Sneakers For Men',\n",
       " \"SUPER RARE Men's Retro Color Blocked Light Weight Chunk...\",\n",
       " 'Tigonis Casuals For Men Sneakers For Men (White) Sneake...',\n",
       " 'Sneakers Sneakers For Men',\n",
       " 'Exclusive Sneaker Shoes Sneakers For Men',\n",
       " 'Stylish Comfortable Lightweight, Breathable Walking Sho...',\n",
       " 'Sneakers For Men',\n",
       " 'Premium Casual Shoes White Sneakers For Men',\n",
       " 'Sneakers For Men',\n",
       " 'Modern Trendy Sneakers Shoes Sneakers For Men',\n",
       " 'Lightweight Pack Of 1 Trendy Sneakers Sneakers For Men',\n",
       " 'Latest Collection-1215 Stylish Casual Sports Sneakers F...',\n",
       " 'Sneakers For Men',\n",
       " 'Premium White Casual Shoes Sneakers For Men Sneakers Fo...',\n",
       " 'Lattest Sneakers Shoe Sneakers For Men',\n",
       " 'Sneakers For Men',\n",
       " 'Latest Collection Black-349 Trendy & Stylish Casual Sne...',\n",
       " \"JUPITER Men's Retro Color Blocked Light Weight Chunky F...\",\n",
       " 'Latest Collection-1216 Stylish Casual Sports Sneakers F...',\n",
       " 'Casuals, Canvas, Partywear Sneakers For Men',\n",
       " 'Casual Sneakers White Shoes For Girls And Sneakers For ...',\n",
       " 'Sneakers For Men',\n",
       " 'Sneakers For Women',\n",
       " 'Sneakers For Men',\n",
       " 'Sneakers Dancing Shoes/Street Dancing Shoe For Men/R.T....',\n",
       " 'Sneakers For Men',\n",
       " '2 Combo Sneaker Shoes Sneakers For Men',\n",
       " 'Modern Trendy Sneakers Shoes Sneakers For Men',\n",
       " 'Puma Smash v2 L Sneakers For Men',\n",
       " 'Fashion and Stylish Soft Ultralight Lace Up Sneakers Ca...',\n",
       " 'Sneakers For Men',\n",
       " 'Latest Collection-1138 Stylish Casual Sports Sneakers F...',\n",
       " \"Original Luxury Branded Fashionable Men's Casual Walkin...\",\n",
       " 'Sneakers For Men',\n",
       " 'Sneakers For Men',\n",
       " 'Sneakers For Men',\n",
       " 'Exclusive Rap & Dance Shoes For Boys Sneakers For Men S...',\n",
       " 'Mesh | Ultralightweight | Comfortable | Breathable Walk...',\n",
       " 'Exclusive Affordable Collection of Trendy & Stylish Cas...',\n",
       " 'Electron E Pro Sneakers For Men',\n",
       " \"SUPER RARE Men's Retro Color Blocked Light Weight Chunk...\",\n",
       " 'Tigonis Casuals For Men Sneakers For Men (White) Sneake...',\n",
       " 'Sneakers Sneakers For Men',\n",
       " 'Exclusive Sneaker Shoes Sneakers For Men',\n",
       " 'Stylish Comfortable Lightweight, Breathable Walking Sho...',\n",
       " 'Sneakers For Men',\n",
       " \"Original Luxury Branded Fashionable Men's Casual Walkin...\",\n",
       " 'Stylish & Trending Outdoor Walking Comfortable Sneakers...',\n",
       " 'Sneakers For Men',\n",
       " 'Sneakers For Men',\n",
       " 'RS-FAST GO FOR Sneakers For Men',\n",
       " 'Skypy-31 Walking Shoes,Training Shoes,Sneakers,Loafers,...',\n",
       " 'Sneakers For Men',\n",
       " 'Sneakers For Men',\n",
       " '2 Combo Sneaker Shoes Sneakers For Men',\n",
       " 'Electron E Pro Sneakers For Men',\n",
       " \"Men's Streetwear Pro Style High Top Platform Fashion Sn...\",\n",
       " 'Synthetic Leather Casual Sneaker shoes for Mens Sneaker...',\n",
       " 'Sneakers For Men',\n",
       " 'Combo Pack Of 2 Latest Stylish Casual Shoes for Men Lac...',\n",
       " 'Sneakers For Men',\n",
       " 'Sneakers For Men',\n",
       " '350 smart grey lace-ups casual for men Sneakers For Men',\n",
       " 'Sneakers For Men',\n",
       " 'Exclusive Rap & Dance Shoes For Boys Sneakers For Men S...',\n",
       " '2 Combo Sneaker Shoes Sneakers For Men',\n",
       " 'Men White Sneakers Sneakers For Men']"
      ]
     },
     "execution_count": 41,
     "metadata": {},
     "output_type": "execute_result"
    }
   ],
   "source": [
    "product=product[0:100]\n",
    "product"
   ]
  },
  {
   "cell_type": "code",
   "execution_count": 42,
   "id": "39d68aa3",
   "metadata": {
    "scrolled": true
   },
   "outputs": [
    {
     "data": {
      "text/plain": [
       "['₹239',\n",
       " '₹359',\n",
       " '₹899',\n",
       " '₹191',\n",
       " '₹143',\n",
       " '₹143',\n",
       " '₹319',\n",
       " '₹319',\n",
       " '₹195',\n",
       " '₹239',\n",
       " '₹179',\n",
       " '₹1,320',\n",
       " '₹143',\n",
       " '₹291',\n",
       " '₹342',\n",
       " '₹399',\n",
       " '₹239',\n",
       " '₹260',\n",
       " '₹329',\n",
       " '₹392',\n",
       " '₹318',\n",
       " '₹399',\n",
       " '₹399',\n",
       " '₹1,579',\n",
       " '₹239',\n",
       " '₹239',\n",
       " '₹143',\n",
       " '₹399',\n",
       " '₹300',\n",
       " '₹234',\n",
       " '₹239',\n",
       " '₹450',\n",
       " '₹239',\n",
       " '₹239',\n",
       " '₹1,749',\n",
       " '₹1,225',\n",
       " '₹399',\n",
       " '₹288',\n",
       " '₹239',\n",
       " '₹267',\n",
       " '₹239',\n",
       " '₹359',\n",
       " '₹899',\n",
       " '₹191',\n",
       " '₹143',\n",
       " '₹143',\n",
       " '₹319',\n",
       " '₹319',\n",
       " '₹195',\n",
       " '₹239',\n",
       " '₹179',\n",
       " '₹1,320',\n",
       " '₹143',\n",
       " '₹291',\n",
       " '₹342',\n",
       " '₹399',\n",
       " '₹239',\n",
       " '₹260',\n",
       " '₹329',\n",
       " '₹392',\n",
       " '₹318',\n",
       " '₹399',\n",
       " '₹399',\n",
       " '₹1,579',\n",
       " '₹239',\n",
       " '₹239',\n",
       " '₹143',\n",
       " '₹399',\n",
       " '₹300',\n",
       " '₹234',\n",
       " '₹239',\n",
       " '₹450',\n",
       " '₹239',\n",
       " '₹239',\n",
       " '₹1,749',\n",
       " '₹1,225',\n",
       " '₹399',\n",
       " '₹288',\n",
       " '₹239',\n",
       " '₹267',\n",
       " '₹239',\n",
       " '₹399',\n",
       " '₹409',\n",
       " '₹300',\n",
       " '₹233',\n",
       " '₹4,699',\n",
       " '₹473',\n",
       " '₹239',\n",
       " '₹319',\n",
       " '₹399',\n",
       " '₹1,749',\n",
       " '₹399',\n",
       " '₹287',\n",
       " '₹1,399',\n",
       " '₹393',\n",
       " '₹239',\n",
       " '₹216',\n",
       " '₹135',\n",
       " '₹260',\n",
       " '₹450']"
      ]
     },
     "execution_count": 42,
     "metadata": {},
     "output_type": "execute_result"
    }
   ],
   "source": [
    "price=price[0:100]\n",
    "price"
   ]
  },
  {
   "cell_type": "code",
   "execution_count": 43,
   "id": "bdf1c2de",
   "metadata": {
    "scrolled": true
   },
   "outputs": [
    {
     "data": {
      "text/plain": [
       "['76% off',\n",
       " '76% off',\n",
       " '82% off',\n",
       " '85% off',\n",
       " '76% off',\n",
       " '71% off',\n",
       " '68% off',\n",
       " '78% off',\n",
       " '84% off',\n",
       " '76% off',\n",
       " '64% off',\n",
       " '55% off',\n",
       " '71% off',\n",
       " '80% off',\n",
       " '65% off',\n",
       " '60% off',\n",
       " '76% off',\n",
       " '73% off',\n",
       " '67% off',\n",
       " '73% off',\n",
       " '68% off',\n",
       " '84% off',\n",
       " '69% off',\n",
       " '54% off',\n",
       " '76% off',\n",
       " '88% off',\n",
       " '71% off',\n",
       " '80% off',\n",
       " '69% off',\n",
       " '76% off',\n",
       " '76% off',\n",
       " '69% off',\n",
       " '88% off',\n",
       " '52% off',\n",
       " '65% off',\n",
       " '59% off',\n",
       " '73% off',\n",
       " '71% off',\n",
       " '81% off',\n",
       " '73% off',\n",
       " '76% off',\n",
       " '80% off',\n",
       " '65% off',\n",
       " '69% off',\n",
       " '70% off',\n",
       " '53% off',\n",
       " '40% off',\n",
       " '76% off',\n",
       " '68% off',\n",
       " '84% off',\n",
       " '65% off',\n",
       " '80% off',\n",
       " '58% off',\n",
       " '53% off',\n",
       " '84% off',\n",
       " '88% off',\n",
       " '78% off',\n",
       " '72% off',\n",
       " '73% off',\n",
       " '69% off',\n",
       " '84% off',\n",
       " '35% off',\n",
       " '62% off',\n",
       " '81% off',\n",
       " '82% off',\n",
       " '71% off',\n",
       " '84% off',\n",
       " '59% off',\n",
       " '60% off',\n",
       " '76% off',\n",
       " '77% off',\n",
       " '73% off',\n",
       " '68% off',\n",
       " '71% off',\n",
       " '74% off',\n",
       " '76% off',\n",
       " '73% off',\n",
       " '84% off',\n",
       " '71% off',\n",
       " '71% off',\n",
       " '54% off',\n",
       " '60% off',\n",
       " '82% off',\n",
       " '85% off',\n",
       " '76% off',\n",
       " '71% off',\n",
       " '68% off',\n",
       " '54% off',\n",
       " '84% off',\n",
       " '76% off',\n",
       " '64% off',\n",
       " '84% off',\n",
       " '71% off',\n",
       " '80% off',\n",
       " '65% off',\n",
       " '68% off',\n",
       " '76% off',\n",
       " '73% off',\n",
       " '67% off',\n",
       " '84% off']"
      ]
     },
     "execution_count": 43,
     "metadata": {},
     "output_type": "execute_result"
    }
   ],
   "source": [
    "discount_shown=discount_shown[0:100]\n",
    "discount_shown"
   ]
  },
  {
   "cell_type": "code",
   "execution_count": 44,
   "id": "7f1b1a1a",
   "metadata": {},
   "outputs": [
    {
     "name": "stdout",
     "output_type": "stream",
     "text": [
      "100 100 100 100\n"
     ]
    }
   ],
   "source": [
    "print(len(brand),len(product),len(price),len(discount_shown))"
   ]
  },
  {
   "cell_type": "code",
   "execution_count": 45,
   "id": "2ec403a1",
   "metadata": {},
   "outputs": [
    {
     "data": {
      "text/html": [
       "<div>\n",
       "<style scoped>\n",
       "    .dataframe tbody tr th:only-of-type {\n",
       "        vertical-align: middle;\n",
       "    }\n",
       "\n",
       "    .dataframe tbody tr th {\n",
       "        vertical-align: top;\n",
       "    }\n",
       "\n",
       "    .dataframe thead th {\n",
       "        text-align: right;\n",
       "    }\n",
       "</style>\n",
       "<table border=\"1\" class=\"dataframe\">\n",
       "  <thead>\n",
       "    <tr style=\"text-align: right;\">\n",
       "      <th></th>\n",
       "      <th>Brand</th>\n",
       "      <th>Product Description</th>\n",
       "      <th>Price</th>\n",
       "      <th>Discount</th>\n",
       "    </tr>\n",
       "  </thead>\n",
       "  <tbody>\n",
       "    <tr>\n",
       "      <th>0</th>\n",
       "      <td>K- FOOTLANCE</td>\n",
       "      <td>Sneakers For Men</td>\n",
       "      <td>₹239</td>\n",
       "      <td>76% off</td>\n",
       "    </tr>\n",
       "    <tr>\n",
       "      <th>1</th>\n",
       "      <td>BIRDE</td>\n",
       "      <td>Premium Casual Shoes White Sneakers For Men</td>\n",
       "      <td>₹359</td>\n",
       "      <td>76% off</td>\n",
       "    </tr>\n",
       "    <tr>\n",
       "      <th>2</th>\n",
       "      <td>RED TAPE</td>\n",
       "      <td>Sneakers For Men</td>\n",
       "      <td>₹899</td>\n",
       "      <td>82% off</td>\n",
       "    </tr>\n",
       "    <tr>\n",
       "      <th>3</th>\n",
       "      <td>BRUTON</td>\n",
       "      <td>Modern Trendy Sneakers Shoes Sneakers For Men</td>\n",
       "      <td>₹191</td>\n",
       "      <td>85% off</td>\n",
       "    </tr>\n",
       "    <tr>\n",
       "      <th>4</th>\n",
       "      <td>BRUTON</td>\n",
       "      <td>Lightweight Pack Of 1 Trendy Sneakers Sneakers...</td>\n",
       "      <td>₹143</td>\n",
       "      <td>76% off</td>\n",
       "    </tr>\n",
       "    <tr>\n",
       "      <th>...</th>\n",
       "      <td>...</td>\n",
       "      <td>...</td>\n",
       "      <td>...</td>\n",
       "      <td>...</td>\n",
       "    </tr>\n",
       "    <tr>\n",
       "      <th>95</th>\n",
       "      <td>aadi</td>\n",
       "      <td>350 smart grey lace-ups casual for men Sneaker...</td>\n",
       "      <td>₹239</td>\n",
       "      <td>68% off</td>\n",
       "    </tr>\n",
       "    <tr>\n",
       "      <th>96</th>\n",
       "      <td>aadi</td>\n",
       "      <td>Sneakers For Men</td>\n",
       "      <td>₹216</td>\n",
       "      <td>76% off</td>\n",
       "    </tr>\n",
       "    <tr>\n",
       "      <th>97</th>\n",
       "      <td>Airland</td>\n",
       "      <td>Exclusive Rap &amp; Dance Shoes For Boys Sneakers ...</td>\n",
       "      <td>₹135</td>\n",
       "      <td>73% off</td>\n",
       "    </tr>\n",
       "    <tr>\n",
       "      <th>98</th>\n",
       "      <td>Shozie</td>\n",
       "      <td>2 Combo Sneaker Shoes Sneakers For Men</td>\n",
       "      <td>₹260</td>\n",
       "      <td>67% off</td>\n",
       "    </tr>\n",
       "    <tr>\n",
       "      <th>99</th>\n",
       "      <td>Zixer</td>\n",
       "      <td>Men White Sneakers Sneakers For Men</td>\n",
       "      <td>₹450</td>\n",
       "      <td>84% off</td>\n",
       "    </tr>\n",
       "  </tbody>\n",
       "</table>\n",
       "<p>100 rows × 4 columns</p>\n",
       "</div>"
      ],
      "text/plain": [
       "           Brand                                Product Description Price  \\\n",
       "0   K- FOOTLANCE                                   Sneakers For Men  ₹239   \n",
       "1          BIRDE        Premium Casual Shoes White Sneakers For Men  ₹359   \n",
       "2       RED TAPE                                   Sneakers For Men  ₹899   \n",
       "3         BRUTON      Modern Trendy Sneakers Shoes Sneakers For Men  ₹191   \n",
       "4         BRUTON  Lightweight Pack Of 1 Trendy Sneakers Sneakers...  ₹143   \n",
       "..           ...                                                ...   ...   \n",
       "95          aadi  350 smart grey lace-ups casual for men Sneaker...  ₹239   \n",
       "96          aadi                                   Sneakers For Men  ₹216   \n",
       "97       Airland  Exclusive Rap & Dance Shoes For Boys Sneakers ...  ₹135   \n",
       "98        Shozie             2 Combo Sneaker Shoes Sneakers For Men  ₹260   \n",
       "99         Zixer                Men White Sneakers Sneakers For Men  ₹450   \n",
       "\n",
       "   Discount  \n",
       "0   76% off  \n",
       "1   76% off  \n",
       "2   82% off  \n",
       "3   85% off  \n",
       "4   76% off  \n",
       "..      ...  \n",
       "95  68% off  \n",
       "96  76% off  \n",
       "97  73% off  \n",
       "98  67% off  \n",
       "99  84% off  \n",
       "\n",
       "[100 rows x 4 columns]"
      ]
     },
     "execution_count": 45,
     "metadata": {},
     "output_type": "execute_result"
    }
   ],
   "source": [
    "df6=pd.DataFrame({'Brand':brand,'Product Description':product,'Price':price,'Discount':discount_shown})\n",
    "df6"
   ]
  },
  {
   "cell_type": "code",
   "execution_count": null,
   "id": "25720ff1",
   "metadata": {},
   "outputs": [],
   "source": [
    "#Q7: Go to the link - https://www.myntra.com/shoes\n",
    "#Set second Price filter and Color filter to “Black”\n",
    "#And then scrape First 100 shoes data you get. \n",
    "#The data should include “Brand” of the shoes , Short Shoe \n",
    "#description, price of the shoe"
   ]
  },
  {
   "cell_type": "code",
   "execution_count": 50,
   "id": "af7210dd",
   "metadata": {},
   "outputs": [],
   "source": [
    "# Opening the myntra page on automated chrome browser\n",
    "\n",
    "driver.get(\"https://www.myntra.com/shoes\")"
   ]
  },
  {
   "cell_type": "code",
   "execution_count": 54,
   "id": "e0233066",
   "metadata": {},
   "outputs": [],
   "source": [
    "# Entering the shoes in the search box\n",
    "\n",
    "shoes=driver.find_element(By.CLASS_NAME,\"desktop-searchBar\")\n",
    "shoes.send_keys('shoes')"
   ]
  },
  {
   "cell_type": "code",
   "execution_count": 55,
   "id": "e150e944",
   "metadata": {},
   "outputs": [],
   "source": [
    "search=driver.find_element(By.CLASS_NAME,\"desktop-submit\")\n",
    "search.click()"
   ]
  },
  {
   "cell_type": "code",
   "execution_count": 101,
   "id": "05cdaa78",
   "metadata": {},
   "outputs": [],
   "source": [
    "brand=[]\n",
    "shoe=[]\n",
    "price_cm=[]"
   ]
  },
  {
   "cell_type": "code",
   "execution_count": 110,
   "id": "25a10ec8",
   "metadata": {},
   "outputs": [],
   "source": [
    "start=0\n",
    "end=4\n",
    "for page in range(start,end):\n",
    "\n",
    "    brand_tag=driver.find_elements(By.XPATH,'//h3[@class=\"product-brand\"]')\n",
    "    for p in brand_tag:\n",
    "        brand.append(p.text)\n",
    "        \n",
    "    shoe_tag=driver.find_elements(By.XPATH,'//h4[@class=\"product-product\"]')\n",
    "    for q in shoe_tag:\n",
    "        shoe.append(q.text)\n",
    "        \n",
    "    price_tag=driver.find_elements(By.XPATH,'//span[@class=\"product-discountedPrice\"]')   \n",
    "    for r in price_tag:\n",
    "        r=r.text\n",
    "        price_cm.append(r)\n",
    "        \n",
    "    next_button=driver.find_element(By.XPATH,'//li[@class=\"pagination-next\"]')  \n",
    "    next_button.click()\n",
    "    time.sleep(3)"
   ]
  },
  {
   "cell_type": "code",
   "execution_count": 112,
   "id": "0c793598",
   "metadata": {
    "scrolled": true
   },
   "outputs": [
    {
     "data": {
      "text/plain": [
       "['Skechers',\n",
       " 'Skechers',\n",
       " 'Skechers',\n",
       " 'Puma',\n",
       " 'Skechers',\n",
       " 'ADIDAS',\n",
       " 'Nike',\n",
       " 'UNDER ARMOUR',\n",
       " 'ADIDAS',\n",
       " 'UNDER ARMOUR',\n",
       " 'Skechers',\n",
       " 'Nike',\n",
       " 'Puma',\n",
       " 'Puma',\n",
       " 'UNDER ARMOUR',\n",
       " 'UNDER ARMOUR',\n",
       " 'Skechers',\n",
       " 'ADIDAS Originals',\n",
       " 'Skechers',\n",
       " 'UNDER ARMOUR',\n",
       " 'ADIDAS Originals',\n",
       " 'UNDER ARMOUR',\n",
       " 'ADIDAS Originals',\n",
       " 'ADIDAS',\n",
       " 'UNDER ARMOUR',\n",
       " 'ADIDAS',\n",
       " 'Puma',\n",
       " 'ADIDAS',\n",
       " 'ADIDAS',\n",
       " 'Puma',\n",
       " 'Louis Philippe',\n",
       " 'Puma',\n",
       " 'Tommy Hilfiger',\n",
       " 'Skechers',\n",
       " 'Hush Puppies',\n",
       " 'ADIDAS',\n",
       " 'Skechers',\n",
       " 'Skechers',\n",
       " 'Puma',\n",
       " 'ADIDAS',\n",
       " 'Reebok',\n",
       " 'Ruosh',\n",
       " 'Skechers',\n",
       " 'Nike',\n",
       " 'ADIDAS',\n",
       " 'Puma',\n",
       " 'Skechers',\n",
       " 'Skechers',\n",
       " 'Tommy Hilfiger',\n",
       " 'ADIDAS Originals',\n",
       " 'ADIDAS Originals',\n",
       " 'Puma',\n",
       " 'Xtep',\n",
       " 'ADIDAS',\n",
       " 'Saint G',\n",
       " 'Calvin Klein',\n",
       " 'ADIDAS',\n",
       " 'ADIDAS Originals',\n",
       " 'ADIDAS Originals',\n",
       " 'ADIDAS',\n",
       " 'ADIDAS',\n",
       " 'Hush Puppies',\n",
       " 'Skechers',\n",
       " 'ADIDAS',\n",
       " 'ADIDAS',\n",
       " 'Xtep',\n",
       " 'Tommy Hilfiger',\n",
       " 'MANGO',\n",
       " 'Tommy Hilfiger',\n",
       " 'FORCLAZ By Decathlon',\n",
       " 'Calvin Klein',\n",
       " 'Skechers',\n",
       " 'Skechers',\n",
       " 'Louis Philippe',\n",
       " 'UNDER ARMOUR',\n",
       " 'Calvin Klein',\n",
       " 'Hush Puppies',\n",
       " 'Louis Philippe',\n",
       " 'Skechers',\n",
       " 'ADIDAS',\n",
       " 'ALDO',\n",
       " 'Tommy Hilfiger',\n",
       " 'ADIDAS',\n",
       " 'Tommy Hilfiger',\n",
       " 'ROSSO BRUNELLO',\n",
       " 'Puma',\n",
       " 'Hush Puppies',\n",
       " 'Louis Philippe',\n",
       " 'Skechers',\n",
       " 'ADIDAS',\n",
       " 'Columbia',\n",
       " 'Tommy Hilfiger',\n",
       " 'Calvin Klein',\n",
       " 'Hush Puppies',\n",
       " 'Skechers',\n",
       " 'Hush Puppies',\n",
       " 'Calvin Klein',\n",
       " 'Hush Puppies',\n",
       " 'Geox',\n",
       " 'Saint G']"
      ]
     },
     "execution_count": 112,
     "metadata": {},
     "output_type": "execute_result"
    }
   ],
   "source": [
    "brand=brand[0:100]\n",
    "brand"
   ]
  },
  {
   "cell_type": "code",
   "execution_count": 113,
   "id": "e10f021c",
   "metadata": {
    "scrolled": true
   },
   "outputs": [
    {
     "data": {
      "text/plain": [
       "['Men Go Walk Walking Shoes',\n",
       " 'Men GO WALK - TERRA Shoes',\n",
       " 'Men ENIGMA Running Shoes',\n",
       " 'Men Liberate Running Shoes',\n",
       " 'GO WALK STRETCH FIT Shoes',\n",
       " 'Men Response Super 3.0 Run',\n",
       " 'Men Air Max Sneakers',\n",
       " 'Men HOVR SonicSE Running Shoes',\n",
       " 'Men Ultraboost 5.0 DNA Running',\n",
       " 'Men ChargedEscape 3 BL Running',\n",
       " 'Men Walking Shoes',\n",
       " 'Men REACT MILER 3 Running Shoe',\n",
       " 'Men Fast-Trac Nitro Running',\n",
       " 'Men Magnify Nitro Running',\n",
       " 'Unisex 3ZER0 IV Basketball',\n",
       " 'Men HOVR Sonic SE Running Shoe',\n",
       " 'Men Go Run Hyper Burst Running',\n",
       " 'Women Superstar Sneakers',\n",
       " 'Women ARCH FIT Slip-On Sneaker',\n",
       " 'Men HOVR SonicSE Running Shoes',\n",
       " 'Men Solid Retropy F2 Sneakers',\n",
       " 'Men HOVR SonicSE Running Shoes',\n",
       " 'Men ZX 5K Boost Sneakers',\n",
       " 'Men Daily 3.0 CLN',\n",
       " 'Men Lockdown 5 Basketball',\n",
       " 'Men Solar Boost 4 Running',\n",
       " 'Eternity Nitro Running Shoes',\n",
       " 'Men Ultraboost 5.0 DNA Running',\n",
       " 'Men CourtJam Control Clay',\n",
       " 'Women Run XX Nitro Running',\n",
       " 'Men Solid Leather Formal Derbys',\n",
       " 'Men Nitro 2 WIDE Running Shoes',\n",
       " 'Men Solid Sneakers',\n",
       " 'Men Walking Shoes',\n",
       " 'Men Colourblocked Leather Derbys',\n",
       " 'Men Game Court 2 Tennis Shoes',\n",
       " 'Men Sky Vault Walking Shoes',\n",
       " 'Men GO FLEX 2-COMPLETION Shoes',\n",
       " 'Men M Nitro Running Shoess',\n",
       " 'Women OZ-Takedown Running',\n",
       " 'Men FloatrideEnergy4Adventure',\n",
       " 'Men Textured Leather Loafers',\n",
       " 'Women GO WALK Shoes',\n",
       " 'Men FREE RUN 2 Sneakers',\n",
       " 'Women FluidFlow 2.0 Run Shoes',\n",
       " 'Men Deviate Nitro Shoes',\n",
       " 'Men Lite Pro Faint Sneakers',\n",
       " 'Men Sports Shoes',\n",
       " 'Men Solid Sneakers',\n",
       " 'Men Leather Ozelia Sneakers',\n",
       " 'Men Leather Ozelia Sneakers',\n",
       " 'Women Running Sports Shoes',\n",
       " 'Men Skateboarding Shoes',\n",
       " 'Women Runfalcon 2.0 Running',\n",
       " 'Leather Ankle Boots',\n",
       " 'Men Perforations Leather Sneakers',\n",
       " 'Women 4DFWD_Pulse Running Shoe',\n",
       " 'Unisex Supernova Cushion 7',\n",
       " 'Women Forum Low Sneakers',\n",
       " 'Women Puremotion Adapt Run',\n",
       " 'Women Solar Glide 5 Running',\n",
       " 'Men Perforations Leather Slip-On Sneakers',\n",
       " 'Men Walking Shoes',\n",
       " 'Women SL20 X Marimekko Running',\n",
       " 'Women Puremotion Running Shoes',\n",
       " 'Men Basketball Shoes',\n",
       " 'Men Leather Sneakers',\n",
       " 'Women Solid Mid-Top Boots',\n",
       " 'Men Leather Sneakers',\n",
       " 'Men Hiking Shoes',\n",
       " 'Men Leather Sneakers',\n",
       " 'Men Woven Design Sneakers',\n",
       " 'Men Equalizer 5.0 Sneakers',\n",
       " 'Men Leather Formal Oxfords',\n",
       " 'Women Hovr Sonic SE Run Shoes',\n",
       " 'Men BASKET CUPSOLE Sneakers',\n",
       " 'Men Leather Slip-On Sneakers',\n",
       " 'Men Solid Formal Derbys',\n",
       " 'Men MAX ELITE Running Shoes',\n",
       " 'Men Nebzed Sneakers',\n",
       " 'Men Leather Loafers',\n",
       " 'Men Leather Sneakers',\n",
       " 'Women X9000L4 Running Shoes',\n",
       " 'Men Leather Sneakers',\n",
       " 'Men Printed Leather Monks',\n",
       " 'Men Velocity Nitro 2 Running',\n",
       " 'Men Solid Leather Formal Slip-Ons',\n",
       " 'Men Leather Formal Slip-Ons',\n",
       " 'Women GO WALK 4 - GIFTED Shoes',\n",
       " 'Women Sports Shoes',\n",
       " 'PEAKFREAK OUTDRY Trekking Shoe',\n",
       " 'Men Solid Sneakers',\n",
       " 'Men SPORTY RUNNER Sneakers',\n",
       " 'Men Leather Formal Brogues',\n",
       " 'Women Arch Fit Slip-On Sneaker',\n",
       " 'Men Leather Formal Derbys',\n",
       " 'Men Sneakers',\n",
       " 'Solid Formal Leather Monk Shoes',\n",
       " 'Men Textured Leather Slip-On Sneakers',\n",
       " 'Block Heeled Boots']"
      ]
     },
     "execution_count": 113,
     "metadata": {},
     "output_type": "execute_result"
    }
   ],
   "source": [
    "shoe=shoe[0:100]\n",
    "shoe"
   ]
  },
  {
   "cell_type": "code",
   "execution_count": 114,
   "id": "18313586",
   "metadata": {
    "scrolled": true
   },
   "outputs": [
    {
     "data": {
      "text/plain": [
       "['Rs. 6374',\n",
       " 'Rs. 8499',\n",
       " 'Rs. 6649',\n",
       " 'Rs. 9349',\n",
       " 'Rs. 6374',\n",
       " 'Rs. 8499',\n",
       " 'Rs. 10199',\n",
       " 'Rs. 7199',\n",
       " 'Rs. 5949',\n",
       " 'Rs. 7871',\n",
       " 'Rs. 8799',\n",
       " 'Rs. 8449',\n",
       " 'Rs. 7649',\n",
       " 'Rs. 6999',\n",
       " 'Rs. 7224',\n",
       " 'Rs. 6499',\n",
       " 'Rs. 5999',\n",
       " 'Rs. 7999',\n",
       " 'Rs. 7199',\n",
       " 'Rs. 7999',\n",
       " 'Rs. 11199',\n",
       " 'Rs. 6299',\n",
       " 'Rs. 8799',\n",
       " 'Rs. 11049',\n",
       " 'Rs. 10199',\n",
       " 'Rs. 8499',\n",
       " 'Rs. 5949',\n",
       " 'Rs. 9599',\n",
       " 'Rs. 6224',\n",
       " 'Rs. 8449',\n",
       " 'Rs. 6499',\n",
       " 'Rs. 5949',\n",
       " 'Rs. 7199',\n",
       " 'Rs. 10499',\n",
       " 'Rs. 7499',\n",
       " 'Rs. 7699',\n",
       " 'Rs. 7699',\n",
       " 'Rs. 9449',\n",
       " 'Rs. 8010',\n",
       " 'Rs. 7679',\n",
       " 'Rs. 8799',\n",
       " 'Rs. 7199',\n",
       " 'Rs. 7699',\n",
       " 'Rs. 6499',\n",
       " 'Rs. 6299',\n",
       " 'Rs. 7199',\n",
       " 'Rs. 8249',\n",
       " 'Rs. 6999',\n",
       " 'Rs. 6509',\n",
       " 'Rs. 6399',\n",
       " 'Rs. 5949',\n",
       " 'Rs. 7499',\n",
       " 'Rs. 7199',\n",
       " 'Rs. 5949',\n",
       " 'Rs. 7799',\n",
       " 'Rs. 6599',\n",
       " 'Rs. 7699',\n",
       " 'Rs. 6509',\n",
       " 'Rs. 11049',\n",
       " 'Rs. 7699',\n",
       " 'Rs. 5949',\n",
       " 'Rs. 6399',\n",
       " 'Rs. 6399',\n",
       " 'Rs. 6799',\n",
       " 'Rs. 7679',\n",
       " 'Rs. 7560',\n",
       " 'Rs. 6509',\n",
       " 'Rs. 5999',\n",
       " 'Rs. 11250',\n",
       " 'Rs. 7199',\n",
       " 'Rs. 7699',\n",
       " 'Rs. 6879',\n",
       " 'Rs. 5949',\n",
       " 'Rs. 7999',\n",
       " 'Rs. 6399',\n",
       " 'Rs. 8399',\n",
       " 'Rs. 8550',\n",
       " 'Rs. 5949',\n",
       " 'Rs. 6209',\n",
       " 'Rs. 11192',\n",
       " 'Rs. 6750',\n",
       " 'Rs. 9499',\n",
       " 'Rs. 9810',\n",
       " 'Rs. 5949',\n",
       " 'Rs. 7565',\n",
       " 'Rs. 8505',\n",
       " 'Rs. 7560',\n",
       " 'Rs. 6557',\n",
       " 'Rs. 7225',\n",
       " 'Rs. 8399',\n",
       " 'Rs. 6019',\n",
       " 'Rs. 11199',\n",
       " 'Rs. 8799',\n",
       " 'Rs. 5999',\n",
       " 'Rs. 11192',\n",
       " 'Rs. 8099',\n",
       " 'Rs. 8010',\n",
       " 'Rs. 6300',\n",
       " 'Rs. 6750',\n",
       " 'Rs. 7439']"
      ]
     },
     "execution_count": 114,
     "metadata": {},
     "output_type": "execute_result"
    }
   ],
   "source": [
    "price_cm=price_cm[0:100]\n",
    "price_cm"
   ]
  },
  {
   "cell_type": "code",
   "execution_count": 115,
   "id": "6ca9a09a",
   "metadata": {},
   "outputs": [
    {
     "name": "stdout",
     "output_type": "stream",
     "text": [
      "100 100 100\n"
     ]
    }
   ],
   "source": [
    "print(len(brand),len(shoe),len(price_cm))"
   ]
  },
  {
   "cell_type": "code",
   "execution_count": 116,
   "id": "69480116",
   "metadata": {},
   "outputs": [
    {
     "data": {
      "text/html": [
       "<div>\n",
       "<style scoped>\n",
       "    .dataframe tbody tr th:only-of-type {\n",
       "        vertical-align: middle;\n",
       "    }\n",
       "\n",
       "    .dataframe tbody tr th {\n",
       "        vertical-align: top;\n",
       "    }\n",
       "\n",
       "    .dataframe thead th {\n",
       "        text-align: right;\n",
       "    }\n",
       "</style>\n",
       "<table border=\"1\" class=\"dataframe\">\n",
       "  <thead>\n",
       "    <tr style=\"text-align: right;\">\n",
       "      <th></th>\n",
       "      <th>Brand</th>\n",
       "      <th>Shoe description</th>\n",
       "      <th>Price</th>\n",
       "    </tr>\n",
       "  </thead>\n",
       "  <tbody>\n",
       "    <tr>\n",
       "      <th>0</th>\n",
       "      <td>Skechers</td>\n",
       "      <td>Men Go Walk Walking Shoes</td>\n",
       "      <td>Rs. 6374</td>\n",
       "    </tr>\n",
       "    <tr>\n",
       "      <th>1</th>\n",
       "      <td>Skechers</td>\n",
       "      <td>Men GO WALK - TERRA Shoes</td>\n",
       "      <td>Rs. 8499</td>\n",
       "    </tr>\n",
       "    <tr>\n",
       "      <th>2</th>\n",
       "      <td>Skechers</td>\n",
       "      <td>Men ENIGMA Running Shoes</td>\n",
       "      <td>Rs. 6649</td>\n",
       "    </tr>\n",
       "    <tr>\n",
       "      <th>3</th>\n",
       "      <td>Puma</td>\n",
       "      <td>Men Liberate Running Shoes</td>\n",
       "      <td>Rs. 9349</td>\n",
       "    </tr>\n",
       "    <tr>\n",
       "      <th>4</th>\n",
       "      <td>Skechers</td>\n",
       "      <td>GO WALK STRETCH FIT Shoes</td>\n",
       "      <td>Rs. 6374</td>\n",
       "    </tr>\n",
       "    <tr>\n",
       "      <th>...</th>\n",
       "      <td>...</td>\n",
       "      <td>...</td>\n",
       "      <td>...</td>\n",
       "    </tr>\n",
       "    <tr>\n",
       "      <th>95</th>\n",
       "      <td>Hush Puppies</td>\n",
       "      <td>Men Leather Formal Derbys</td>\n",
       "      <td>Rs. 8099</td>\n",
       "    </tr>\n",
       "    <tr>\n",
       "      <th>96</th>\n",
       "      <td>Calvin Klein</td>\n",
       "      <td>Men Sneakers</td>\n",
       "      <td>Rs. 8010</td>\n",
       "    </tr>\n",
       "    <tr>\n",
       "      <th>97</th>\n",
       "      <td>Hush Puppies</td>\n",
       "      <td>Solid Formal Leather Monk Shoes</td>\n",
       "      <td>Rs. 6300</td>\n",
       "    </tr>\n",
       "    <tr>\n",
       "      <th>98</th>\n",
       "      <td>Geox</td>\n",
       "      <td>Men Textured Leather Slip-On Sneakers</td>\n",
       "      <td>Rs. 6750</td>\n",
       "    </tr>\n",
       "    <tr>\n",
       "      <th>99</th>\n",
       "      <td>Saint G</td>\n",
       "      <td>Block Heeled Boots</td>\n",
       "      <td>Rs. 7439</td>\n",
       "    </tr>\n",
       "  </tbody>\n",
       "</table>\n",
       "<p>100 rows × 3 columns</p>\n",
       "</div>"
      ],
      "text/plain": [
       "           Brand                       Shoe description     Price\n",
       "0       Skechers              Men Go Walk Walking Shoes  Rs. 6374\n",
       "1       Skechers              Men GO WALK - TERRA Shoes  Rs. 8499\n",
       "2       Skechers               Men ENIGMA Running Shoes  Rs. 6649\n",
       "3           Puma             Men Liberate Running Shoes  Rs. 9349\n",
       "4       Skechers              GO WALK STRETCH FIT Shoes  Rs. 6374\n",
       "..           ...                                    ...       ...\n",
       "95  Hush Puppies              Men Leather Formal Derbys  Rs. 8099\n",
       "96  Calvin Klein                           Men Sneakers  Rs. 8010\n",
       "97  Hush Puppies        Solid Formal Leather Monk Shoes  Rs. 6300\n",
       "98          Geox  Men Textured Leather Slip-On Sneakers  Rs. 6750\n",
       "99       Saint G                     Block Heeled Boots  Rs. 7439\n",
       "\n",
       "[100 rows x 3 columns]"
      ]
     },
     "execution_count": 116,
     "metadata": {},
     "output_type": "execute_result"
    }
   ],
   "source": [
    "df7=pd.DataFrame({'Brand':brand,'Shoe description':shoe,'Price':price_cm})\n",
    "df7"
   ]
  },
  {
   "cell_type": "code",
   "execution_count": null,
   "id": "f4f75bfd",
   "metadata": {},
   "outputs": [],
   "source": [
    "#Q8: Go to webpage https://www.amazon.in/\n",
    "#Enter “Laptop” in the search field and then click the search icon.\n",
    "#Then set CPU Type filter to “Intel Core i7”\n",
    "\n",
    "#After setting the filters scrape first 10 laptops data. You have to scrape 3 attributesfor each laptop:\n",
    "#1. Title\n",
    "#2. Ratings\n",
    "#3. Price"
   ]
  },
  {
   "cell_type": "code",
   "execution_count": 11,
   "id": "f40f60f2",
   "metadata": {},
   "outputs": [],
   "source": [
    "# Opening the amazon page on automated chrome browser\n",
    "\n",
    "driver.get(\"https://www.amazon.in/\")"
   ]
  },
  {
   "cell_type": "code",
   "execution_count": null,
   "id": "2f24b330",
   "metadata": {},
   "outputs": [],
   "source": [
    "# Entering the laptop in the search box\n",
    "\n",
    "laptop=driver.find_element(By.CLASS_NAME,\"nav-search-field \")\n",
    "laptop.send_keys(\"Laptop\")"
   ]
  },
  {
   "cell_type": "code",
   "execution_count": null,
   "id": "ede9feec",
   "metadata": {},
   "outputs": [],
   "source": [
    "search=driver.find_element(By.CLASS_NAME,\"nav-search-submit-text nav-sprite nav-progressive-attribute\")\n",
    "search.click()"
   ]
  },
  {
   "cell_type": "code",
   "execution_count": 62,
   "id": "f6cc805e",
   "metadata": {},
   "outputs": [],
   "source": [
    "title=[]\n",
    "rating_rt=[]\n",
    "prices=[]"
   ]
  },
  {
   "cell_type": "code",
   "execution_count": 63,
   "id": "e181fb2e",
   "metadata": {},
   "outputs": [],
   "source": [
    "# scraping title\n",
    "title_tags=driver.find_elements(By.XPATH,'//span[@class=\"a-size-medium a-color-base a-text-normal\"]')\n",
    "for i in title_tags[0:10]:\n",
    "    title_t=i.text\n",
    "    title.append(title_t)\n",
    "    \n",
    "# scraping ratings\n",
    "rating_tags=driver.find_elements(By.XPATH,'//div[@class=\"a-row a-size-small\"]')\n",
    "for i in rating_tags[0:10]:\n",
    "    rt=i.text\n",
    "    rating_rt.append(rt)\n",
    "    \n",
    "# scraping price\n",
    "price_tags=driver.find_elements(By.XPATH,'//span[@class=\"a-price\"]')\n",
    "for i in price_tags[0:10]:\n",
    "    pr=i.text\n",
    "    prices.append(pr)"
   ]
  },
  {
   "cell_type": "code",
   "execution_count": 57,
   "id": "416d3781",
   "metadata": {
    "scrolled": false
   },
   "outputs": [
    {
     "data": {
      "text/plain": [
       "['ASUS Zenbook 13 OLED, 13.3-inch (33.78 cms) FHD OLED, Intel EVO Core i7-1165G7 11th Gen, Thin and Light Laptop (16GB/1TB SSD/Iris Xe Graphics/Windows 11/Office 2021/Mist/1.14 kg), UX325EA-KG701WS',\n",
       " 'Lenovo IdeaPad Slim 5 Intel Core i7 12th Gen 15.6\" (39.62cm) FHD IPS Thin & Light Laptop (16GB/512GB SSD/Windows 11/Office 2021/Backlit/FPR/3months Game Pass/Storm Grey/1.85Kg), 82SF008WIN',\n",
       " 'HP Pavilion x360 11th Gen Intel Core i7 14 inch(35.6 cm) FHD,IPS, Multitouch 2-in-1 Laptop(16GB RAM/512GB SSD/Backlit KB/Intel Iris Xe Graphics/Pen/Alexa Built-in/MSO/1.52Kg) 14-dy1050TU, Spruce Blue',\n",
       " 'ASUS Vivobook 15, 15.6-inch (39.62 cms) FHD, Intel Core i7-1065G7 10th Gen, Thin and Light Laptop (16GB/512GB SSD/Iris Plus Graphics/Windows 11/Office 2021/Silver/1.8 kg), X515JA-EJ701WS',\n",
       " 'Lenovo ThinkBook 15 Intel 11th Gen Core i7 15.6\"(39.62 cm)FHD Thin and Light Laptop (16GB/512GB SSD/Windows 11 Home/MS Office H&S 2021/Iris® Xe Graphics/Backlit/Mineral Grey/1.7 Kg) 20VE00W4IH',\n",
       " 'Lenovo Yoga 7i 11th Gen Intel Core i7-1165G7 14 inches FHD IPS 2-in-1 Touchscreen Business Laptop (16GB/512GB SSD/Windows 10/MS Office/Digital Pen/Fingerprint Reader/Slate Grey/1.43Kg), 82BH004HIN',\n",
       " 'HP Pavilion Plus, 12th Gen Intel Core i7 16GB RAM/1TB SSD 14 inch(35.6 cm),OLED,400 nits,UWVA, Eye Safe Laptop/Intel Iris Xe Graphics/Backlit KB/B&O/FPR/Win 11/Alexa Built-in/MSO 2021, 14-eh0024TU',\n",
       " 'Samsung Galaxy Book2 Pro Intel 12th Gen i7 EvoTM 39.62cm (15.6\") AMOLED Thin & Light Laptop (16 GB/512 GB SSD/Windows 11/MS Office/Backlit KB/Fingerprint Sensor/Graphite/1.11Kg), NP950XED-KA1IN',\n",
       " 'Hp Pavilion X360 11Th Gen Intel Core I7 14 Inches Fhd Multitouch 2In1 Laptop (16Gb Ram/512Gb Ssd/B&O/Windows 11 Home/Fpr/Backlit Kb/Intel Iris Xe Graphics/Pen/Alexa/Ms Office/Silver/1.52Kg)14-Dy1047Tu',\n",
       " 'Fujitsu UH-X 11th Gen Intel Core i7 13.3\" FHD IPS 400Nits 2-in1 Touch Convertible Laptop (16GB/1TB SSD/Windows 11/MS Office 2021/Iris Xe Graphics/2 Yr Warranty/Backlit Kb/Black/0.997 kg, 4ZR1F38027)']"
      ]
     },
     "execution_count": 57,
     "metadata": {},
     "output_type": "execute_result"
    }
   ],
   "source": [
    "title"
   ]
  },
  {
   "cell_type": "code",
   "execution_count": 58,
   "id": "d27203d9",
   "metadata": {},
   "outputs": [
    {
     "data": {
      "text/plain": [
       "['7', '12', '4', '58', '62', '89', '39', '18', '26', '84']"
      ]
     },
     "execution_count": 58,
     "metadata": {},
     "output_type": "execute_result"
    }
   ],
   "source": [
    "rating_rt"
   ]
  },
  {
   "cell_type": "code",
   "execution_count": 64,
   "id": "b76d8a67",
   "metadata": {},
   "outputs": [
    {
     "data": {
      "text/plain": [
       "['₹91,990',\n",
       " '₹80,000',\n",
       " '₹80,990',\n",
       " '₹64,990',\n",
       " '₹77,990',\n",
       " '₹1,12,950',\n",
       " '₹86,990',\n",
       " '₹1,14,990',\n",
       " '₹82,490',\n",
       " '₹1,00,000']"
      ]
     },
     "execution_count": 64,
     "metadata": {},
     "output_type": "execute_result"
    }
   ],
   "source": [
    "prices"
   ]
  },
  {
   "cell_type": "code",
   "execution_count": 65,
   "id": "f7b717f7",
   "metadata": {},
   "outputs": [
    {
     "name": "stdout",
     "output_type": "stream",
     "text": [
      "10 10 10\n"
     ]
    }
   ],
   "source": [
    "print(len(title),len(rating_rt),len(prices))"
   ]
  },
  {
   "cell_type": "code",
   "execution_count": 66,
   "id": "2a1119bd",
   "metadata": {},
   "outputs": [
    {
     "data": {
      "text/html": [
       "<div>\n",
       "<style scoped>\n",
       "    .dataframe tbody tr th:only-of-type {\n",
       "        vertical-align: middle;\n",
       "    }\n",
       "\n",
       "    .dataframe tbody tr th {\n",
       "        vertical-align: top;\n",
       "    }\n",
       "\n",
       "    .dataframe thead th {\n",
       "        text-align: right;\n",
       "    }\n",
       "</style>\n",
       "<table border=\"1\" class=\"dataframe\">\n",
       "  <thead>\n",
       "    <tr style=\"text-align: right;\">\n",
       "      <th></th>\n",
       "      <th>Title</th>\n",
       "      <th>Global_Ratings</th>\n",
       "      <th>Price</th>\n",
       "    </tr>\n",
       "  </thead>\n",
       "  <tbody>\n",
       "    <tr>\n",
       "      <th>0</th>\n",
       "      <td>ASUS Zenbook 13 OLED, 13.3-inch (33.78 cms) FH...</td>\n",
       "      <td>7</td>\n",
       "      <td>₹91,990</td>\n",
       "    </tr>\n",
       "    <tr>\n",
       "      <th>1</th>\n",
       "      <td>Lenovo IdeaPad Slim 5 Intel Core i7 12th Gen 1...</td>\n",
       "      <td>12</td>\n",
       "      <td>₹80,000</td>\n",
       "    </tr>\n",
       "    <tr>\n",
       "      <th>2</th>\n",
       "      <td>HP Pavilion x360 11th Gen Intel Core i7 14 inc...</td>\n",
       "      <td>4</td>\n",
       "      <td>₹80,990</td>\n",
       "    </tr>\n",
       "    <tr>\n",
       "      <th>3</th>\n",
       "      <td>ASUS Vivobook 15, 15.6-inch (39.62 cms) FHD, I...</td>\n",
       "      <td>58</td>\n",
       "      <td>₹64,990</td>\n",
       "    </tr>\n",
       "    <tr>\n",
       "      <th>4</th>\n",
       "      <td>Lenovo ThinkBook 15 Intel 11th Gen Core i7 15....</td>\n",
       "      <td>62</td>\n",
       "      <td>₹77,990</td>\n",
       "    </tr>\n",
       "    <tr>\n",
       "      <th>5</th>\n",
       "      <td>Lenovo Yoga 7i 11th Gen Intel Core i7-1165G7 1...</td>\n",
       "      <td>89</td>\n",
       "      <td>₹1,12,950</td>\n",
       "    </tr>\n",
       "    <tr>\n",
       "      <th>6</th>\n",
       "      <td>HP Pavilion Plus, 12th Gen Intel Core i7 16GB ...</td>\n",
       "      <td>39</td>\n",
       "      <td>₹86,990</td>\n",
       "    </tr>\n",
       "    <tr>\n",
       "      <th>7</th>\n",
       "      <td>Samsung Galaxy Book2 Pro Intel 12th Gen i7 Evo...</td>\n",
       "      <td>18</td>\n",
       "      <td>₹1,14,990</td>\n",
       "    </tr>\n",
       "    <tr>\n",
       "      <th>8</th>\n",
       "      <td>Hp Pavilion X360 11Th Gen Intel Core I7 14 Inc...</td>\n",
       "      <td>26</td>\n",
       "      <td>₹82,490</td>\n",
       "    </tr>\n",
       "    <tr>\n",
       "      <th>9</th>\n",
       "      <td>Fujitsu UH-X 11th Gen Intel Core i7 13.3\" FHD ...</td>\n",
       "      <td>84</td>\n",
       "      <td>₹1,00,000</td>\n",
       "    </tr>\n",
       "  </tbody>\n",
       "</table>\n",
       "</div>"
      ],
      "text/plain": [
       "                                               Title Global_Ratings      Price\n",
       "0  ASUS Zenbook 13 OLED, 13.3-inch (33.78 cms) FH...              7    ₹91,990\n",
       "1  Lenovo IdeaPad Slim 5 Intel Core i7 12th Gen 1...             12    ₹80,000\n",
       "2  HP Pavilion x360 11th Gen Intel Core i7 14 inc...              4    ₹80,990\n",
       "3  ASUS Vivobook 15, 15.6-inch (39.62 cms) FHD, I...             58    ₹64,990\n",
       "4  Lenovo ThinkBook 15 Intel 11th Gen Core i7 15....             62    ₹77,990\n",
       "5  Lenovo Yoga 7i 11th Gen Intel Core i7-1165G7 1...             89  ₹1,12,950\n",
       "6  HP Pavilion Plus, 12th Gen Intel Core i7 16GB ...             39    ₹86,990\n",
       "7  Samsung Galaxy Book2 Pro Intel 12th Gen i7 Evo...             18  ₹1,14,990\n",
       "8  Hp Pavilion X360 11Th Gen Intel Core I7 14 Inc...             26    ₹82,490\n",
       "9  Fujitsu UH-X 11th Gen Intel Core i7 13.3\" FHD ...             84  ₹1,00,000"
      ]
     },
     "execution_count": 66,
     "metadata": {},
     "output_type": "execute_result"
    }
   ],
   "source": [
    "df8=pd.DataFrame({'Title':title,'Global_Ratings':rating_rt,'Price':prices})\n",
    "df8"
   ]
  },
  {
   "cell_type": "code",
   "execution_count": null,
   "id": "66b92064",
   "metadata": {},
   "outputs": [],
   "source": [
    "#Q10: Write a python program to scrape the salary data for Data Scientist designation.\n",
    "#You have to scrape Company name, Number of salaries, Average salary, Minsalary, Max Salary. \n",
    "#The above task will be, done as shown in the below steps:\n",
    "#1. First get the webpage https://www.ambitionbox.com/\n",
    "#2. Click on the salaries option as shown in the image.\n",
    "#3. After reaching to the following webpage, In place of “Search Job Profile” enters “Data Scientist” and \n",
    "#then click on “Data Scientist”.\n",
    "#4. Scrape the data for the first 10 companies. Scrape the company name, total salary record, average \n",
    "#salary, minimum salary, maximum salary, experience required.\n",
    "#5. Store the data in a dataframe."
   ]
  },
  {
   "cell_type": "code",
   "execution_count": 66,
   "id": "98d3fcef",
   "metadata": {},
   "outputs": [],
   "source": [
    "# Opening the ambition box page on automated chrome browser\n",
    "\n",
    "driver.get(\"https://www.ambitionbox.com/\")"
   ]
  },
  {
   "cell_type": "code",
   "execution_count": 57,
   "id": "28d8d9fe",
   "metadata": {},
   "outputs": [
    {
     "data": {
      "text/plain": [
       "['Walmart',\n",
       " 'Ab Inbev',\n",
       " 'Optum',\n",
       " 'ZS',\n",
       " 'Fractual Analytics',\n",
       " 'Sigmoid Analytics',\n",
       " 'Tiger Analytics',\n",
       " 'Legato Health Technolgies',\n",
       " 'HSBC',\n",
       " 'Tredence']"
      ]
     },
     "execution_count": 57,
     "metadata": {},
     "output_type": "execute_result"
    }
   ],
   "source": [
    "Company=['Walmart','Ab Inbev','Optum','ZS','Fractual Analytics','Sigmoid Analytics','Tiger Analytics',\n",
    "         'Legato Health Technolgies','HSBC','Tredence']\n",
    "Company"
   ]
  },
  {
   "cell_type": "code",
   "execution_count": 67,
   "id": "26ccff67",
   "metadata": {},
   "outputs": [],
   "source": [
    "total_rec=[]\n",
    "avg_sal=[]\n",
    "min_sal=[]\n",
    "max_s=[]\n",
    "exp_r=[]"
   ]
  },
  {
   "cell_type": "code",
   "execution_count": 73,
   "id": "7bdeaf94",
   "metadata": {},
   "outputs": [],
   "source": [
    "rec_tag=driver.find_elements(By.XPATH,'//span[@class=\"datapoints\"]')\n",
    "for p in rec_tag:\n",
    "    total_rec.append(p.text)\n",
    "        "
   ]
  },
  {
   "cell_type": "code",
   "execution_count": 74,
   "id": "0fef4839",
   "metadata": {},
   "outputs": [
    {
     "data": {
      "text/plain": [
       "['(based on 24 salaries)',\n",
       " '(based on 59 salaries)',\n",
       " '(based on 49 salaries)',\n",
       " '(based on 35 salaries)',\n",
       " '(based on 118 salaries)',\n",
       " '(based on 10 salaries)',\n",
       " '(based on 70 salaries)',\n",
       " '(based on 11 salaries)',\n",
       " '(based on 10 salaries)',\n",
       " '(based on 14 salaries)']"
      ]
     },
     "execution_count": 74,
     "metadata": {},
     "output_type": "execute_result"
    }
   ],
   "source": [
    "total_rec"
   ]
  },
  {
   "cell_type": "code",
   "execution_count": 68,
   "id": "c78e23f5",
   "metadata": {},
   "outputs": [],
   "source": [
    "avg_tag=driver.find_elements(By.XPATH,'//p[@class=\"averageCtc\"]')\n",
    "for q in avg_tag:\n",
    "    avg_sal.append(q.text)\n",
    "        "
   ]
  },
  {
   "cell_type": "code",
   "execution_count": 69,
   "id": "f96ae2c3",
   "metadata": {},
   "outputs": [
    {
     "data": {
      "text/plain": [
       "['₹ 32.2L',\n",
       " '₹ 19.8L',\n",
       " '₹ 16.4L',\n",
       " '₹ 15.9L',\n",
       " '₹ 15.5L',\n",
       " '₹ 14.7L',\n",
       " '₹ 14.6L',\n",
       " '₹ 14.5L',\n",
       " '₹ 14.0L',\n",
       " '₹ 13.9L']"
      ]
     },
     "execution_count": 69,
     "metadata": {},
     "output_type": "execute_result"
    }
   ],
   "source": [
    "avg_sal"
   ]
  },
  {
   "cell_type": "code",
   "execution_count": 48,
   "id": "0a71c008",
   "metadata": {},
   "outputs": [],
   "source": [
    "max_tag=driver.find_elements(By.XPATH,'//div[@class=\"value body-medium\"]')\n",
    "for s in max_tag:\n",
    "    max_s.append(s.text)"
   ]
  },
  {
   "cell_type": "code",
   "execution_count": 51,
   "id": "8bec525d",
   "metadata": {},
   "outputs": [
    {
     "data": {
      "text/plain": [
       "['₹ 25.0L',\n",
       " '₹ 45.0L',\n",
       " '₹ 15.0L',\n",
       " '₹ 26.0L',\n",
       " '₹ 11.0L',\n",
       " '₹ 22.6L',\n",
       " '₹ 11.0L',\n",
       " '₹ 22.0L',\n",
       " '₹ 9.0L',\n",
       " '₹ 23.0L',\n",
       " '₹ 12.7L',\n",
       " '₹ 19.7L',\n",
       " '₹ 9.0L',\n",
       " '₹ 20.0L',\n",
       " '₹ 11.0L',\n",
       " '₹ 20.0L',\n",
       " '₹ 12.0L',\n",
       " '₹ 18.0L',\n",
       " '₹ 8.8L',\n",
       " '₹ 17.5L']"
      ]
     },
     "execution_count": 51,
     "metadata": {},
     "output_type": "execute_result"
    }
   ],
   "source": [
    "max_s"
   ]
  },
  {
   "cell_type": "code",
   "execution_count": 52,
   "id": "950db129",
   "metadata": {},
   "outputs": [
    {
     "data": {
      "text/plain": [
       "['₹ 45.0L',\n",
       " '₹ 26.0L',\n",
       " '₹ 22.6L',\n",
       " '₹ 22.0L',\n",
       " '₹ 23.0L',\n",
       " '₹ 19.7L',\n",
       " '₹ 20.0L',\n",
       " '₹ 20.0L',\n",
       " '₹ 18.0L',\n",
       " '₹ 17.5L']"
      ]
     },
     "execution_count": 52,
     "metadata": {},
     "output_type": "execute_result"
    }
   ],
   "source": [
    "a=str(max_s)\n",
    "max_er=[max_s[i] for i in range(len(max_s)) if i%2!=0]\n",
    "max_er"
   ]
  },
  {
   "cell_type": "code",
   "execution_count": 53,
   "id": "b1d0e583",
   "metadata": {},
   "outputs": [
    {
     "data": {
      "text/plain": [
       "['₹ 25.0L',\n",
       " '₹ 15.0L',\n",
       " '₹ 11.0L',\n",
       " '₹ 11.0L',\n",
       " '₹ 9.0L',\n",
       " '₹ 12.7L',\n",
       " '₹ 9.0L',\n",
       " '₹ 11.0L',\n",
       " '₹ 12.0L',\n",
       " '₹ 8.8L']"
      ]
     },
     "execution_count": 53,
     "metadata": {},
     "output_type": "execute_result"
    }
   ],
   "source": [
    "a=str(max_s)\n",
    "min_er=[max_s[i] for i in range(len(max_s)) if i%2==0]\n",
    "min_er"
   ]
  },
  {
   "cell_type": "code",
   "execution_count": 71,
   "id": "f606d625",
   "metadata": {},
   "outputs": [],
   "source": [
    "exp_tg=driver.find_elements(By.XPATH,'//div[@class=\"sbold-list-header\"]')\n",
    "for j in exp_tg:\n",
    "    j=j.text.split('(')[0]\n",
    "    exp_r.append(j)"
   ]
  },
  {
   "cell_type": "code",
   "execution_count": 72,
   "id": "3e21c669",
   "metadata": {},
   "outputs": [
    {
     "data": {
      "text/plain": [
       "['3-4 yrs experience ',\n",
       " '2-4 yrs experience ',\n",
       " '2-4 yrs experience ',\n",
       " '1-2 yrs experience ',\n",
       " '2-4 yrs experience ',\n",
       " '1 yr experience ',\n",
       " '2-4 yrs experience ',\n",
       " '4 yrs experience ',\n",
       " '4 yrs experience ',\n",
       " '3 yrs experience ']"
      ]
     },
     "execution_count": 72,
     "metadata": {},
     "output_type": "execute_result"
    }
   ],
   "source": [
    "exp_r"
   ]
  },
  {
   "cell_type": "code",
   "execution_count": 75,
   "id": "aee011af",
   "metadata": {},
   "outputs": [
    {
     "name": "stdout",
     "output_type": "stream",
     "text": [
      "10 10 10 10 10 10\n"
     ]
    }
   ],
   "source": [
    "print(len(Company),len(avg_sal),len(min_er),len(max_er),len(exp_r),len(total_rec))"
   ]
  },
  {
   "cell_type": "code",
   "execution_count": 76,
   "id": "61f2e4a5",
   "metadata": {},
   "outputs": [
    {
     "data": {
      "text/html": [
       "<div>\n",
       "<style scoped>\n",
       "    .dataframe tbody tr th:only-of-type {\n",
       "        vertical-align: middle;\n",
       "    }\n",
       "\n",
       "    .dataframe tbody tr th {\n",
       "        vertical-align: top;\n",
       "    }\n",
       "\n",
       "    .dataframe thead th {\n",
       "        text-align: right;\n",
       "    }\n",
       "</style>\n",
       "<table border=\"1\" class=\"dataframe\">\n",
       "  <thead>\n",
       "    <tr style=\"text-align: right;\">\n",
       "      <th></th>\n",
       "      <th>Company_name</th>\n",
       "      <th>Total_salary_record</th>\n",
       "      <th>Average_salary</th>\n",
       "      <th>Minimum_salary</th>\n",
       "      <th>Maximum_salary</th>\n",
       "      <th>Experienced_required</th>\n",
       "    </tr>\n",
       "  </thead>\n",
       "  <tbody>\n",
       "    <tr>\n",
       "      <th>0</th>\n",
       "      <td>Walmart</td>\n",
       "      <td>(based on 24 salaries)</td>\n",
       "      <td>₹ 32.2L</td>\n",
       "      <td>₹ 25.0L</td>\n",
       "      <td>₹ 45.0L</td>\n",
       "      <td>3-4 yrs experience</td>\n",
       "    </tr>\n",
       "    <tr>\n",
       "      <th>1</th>\n",
       "      <td>Ab Inbev</td>\n",
       "      <td>(based on 59 salaries)</td>\n",
       "      <td>₹ 19.8L</td>\n",
       "      <td>₹ 15.0L</td>\n",
       "      <td>₹ 26.0L</td>\n",
       "      <td>2-4 yrs experience</td>\n",
       "    </tr>\n",
       "    <tr>\n",
       "      <th>2</th>\n",
       "      <td>Optum</td>\n",
       "      <td>(based on 49 salaries)</td>\n",
       "      <td>₹ 16.4L</td>\n",
       "      <td>₹ 11.0L</td>\n",
       "      <td>₹ 22.6L</td>\n",
       "      <td>2-4 yrs experience</td>\n",
       "    </tr>\n",
       "    <tr>\n",
       "      <th>3</th>\n",
       "      <td>ZS</td>\n",
       "      <td>(based on 35 salaries)</td>\n",
       "      <td>₹ 15.9L</td>\n",
       "      <td>₹ 11.0L</td>\n",
       "      <td>₹ 22.0L</td>\n",
       "      <td>1-2 yrs experience</td>\n",
       "    </tr>\n",
       "    <tr>\n",
       "      <th>4</th>\n",
       "      <td>Fractual Analytics</td>\n",
       "      <td>(based on 118 salaries)</td>\n",
       "      <td>₹ 15.5L</td>\n",
       "      <td>₹ 9.0L</td>\n",
       "      <td>₹ 23.0L</td>\n",
       "      <td>2-4 yrs experience</td>\n",
       "    </tr>\n",
       "    <tr>\n",
       "      <th>5</th>\n",
       "      <td>Sigmoid Analytics</td>\n",
       "      <td>(based on 10 salaries)</td>\n",
       "      <td>₹ 14.7L</td>\n",
       "      <td>₹ 12.7L</td>\n",
       "      <td>₹ 19.7L</td>\n",
       "      <td>1 yr experience</td>\n",
       "    </tr>\n",
       "    <tr>\n",
       "      <th>6</th>\n",
       "      <td>Tiger Analytics</td>\n",
       "      <td>(based on 70 salaries)</td>\n",
       "      <td>₹ 14.6L</td>\n",
       "      <td>₹ 9.0L</td>\n",
       "      <td>₹ 20.0L</td>\n",
       "      <td>2-4 yrs experience</td>\n",
       "    </tr>\n",
       "    <tr>\n",
       "      <th>7</th>\n",
       "      <td>Legato Health Technolgies</td>\n",
       "      <td>(based on 11 salaries)</td>\n",
       "      <td>₹ 14.5L</td>\n",
       "      <td>₹ 11.0L</td>\n",
       "      <td>₹ 20.0L</td>\n",
       "      <td>4 yrs experience</td>\n",
       "    </tr>\n",
       "    <tr>\n",
       "      <th>8</th>\n",
       "      <td>HSBC</td>\n",
       "      <td>(based on 10 salaries)</td>\n",
       "      <td>₹ 14.0L</td>\n",
       "      <td>₹ 12.0L</td>\n",
       "      <td>₹ 18.0L</td>\n",
       "      <td>4 yrs experience</td>\n",
       "    </tr>\n",
       "    <tr>\n",
       "      <th>9</th>\n",
       "      <td>Tredence</td>\n",
       "      <td>(based on 14 salaries)</td>\n",
       "      <td>₹ 13.9L</td>\n",
       "      <td>₹ 8.8L</td>\n",
       "      <td>₹ 17.5L</td>\n",
       "      <td>3 yrs experience</td>\n",
       "    </tr>\n",
       "  </tbody>\n",
       "</table>\n",
       "</div>"
      ],
      "text/plain": [
       "                Company_name      Total_salary_record Average_salary  \\\n",
       "0                    Walmart   (based on 24 salaries)        ₹ 32.2L   \n",
       "1                   Ab Inbev   (based on 59 salaries)        ₹ 19.8L   \n",
       "2                      Optum   (based on 49 salaries)        ₹ 16.4L   \n",
       "3                         ZS   (based on 35 salaries)        ₹ 15.9L   \n",
       "4         Fractual Analytics  (based on 118 salaries)        ₹ 15.5L   \n",
       "5          Sigmoid Analytics   (based on 10 salaries)        ₹ 14.7L   \n",
       "6            Tiger Analytics   (based on 70 salaries)        ₹ 14.6L   \n",
       "7  Legato Health Technolgies   (based on 11 salaries)        ₹ 14.5L   \n",
       "8                       HSBC   (based on 10 salaries)        ₹ 14.0L   \n",
       "9                   Tredence   (based on 14 salaries)        ₹ 13.9L   \n",
       "\n",
       "  Minimum_salary Maximum_salary Experienced_required  \n",
       "0        ₹ 25.0L        ₹ 45.0L  3-4 yrs experience   \n",
       "1        ₹ 15.0L        ₹ 26.0L  2-4 yrs experience   \n",
       "2        ₹ 11.0L        ₹ 22.6L  2-4 yrs experience   \n",
       "3        ₹ 11.0L        ₹ 22.0L  1-2 yrs experience   \n",
       "4         ₹ 9.0L        ₹ 23.0L  2-4 yrs experience   \n",
       "5        ₹ 12.7L        ₹ 19.7L     1 yr experience   \n",
       "6         ₹ 9.0L        ₹ 20.0L  2-4 yrs experience   \n",
       "7        ₹ 11.0L        ₹ 20.0L    4 yrs experience   \n",
       "8        ₹ 12.0L        ₹ 18.0L    4 yrs experience   \n",
       "9         ₹ 8.8L        ₹ 17.5L    3 yrs experience   "
      ]
     },
     "execution_count": 76,
     "metadata": {},
     "output_type": "execute_result"
    }
   ],
   "source": [
    "df10=pd.DataFrame({'Company_name':Company,'Total_salary_record':total_rec,'Average_salary':avg_sal,\n",
    "                  'Minimum_salary':min_er,'Maximum_salary':max_er,'Experienced_required':exp_r})\n",
    "df10"
   ]
  },
  {
   "cell_type": "code",
   "execution_count": null,
   "id": "6a9f7300",
   "metadata": {},
   "outputs": [],
   "source": []
  }
 ],
 "metadata": {
  "kernelspec": {
   "display_name": "Python 3",
   "language": "python",
   "name": "python3"
  },
  "language_info": {
   "codemirror_mode": {
    "name": "ipython",
    "version": 3
   },
   "file_extension": ".py",
   "mimetype": "text/x-python",
   "name": "python",
   "nbconvert_exporter": "python",
   "pygments_lexer": "ipython3",
   "version": "3.8.8"
  }
 },
 "nbformat": 4,
 "nbformat_minor": 5
}
