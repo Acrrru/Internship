{
 "cells": [
  {
   "cell_type": "markdown",
   "id": "67ccb79f",
   "metadata": {},
   "source": [
    "# Exception Handling using Selenium - Part-2:-"
   ]
  },
  {
   "cell_type": "code",
   "execution_count": 1,
   "id": "f15829e0",
   "metadata": {},
   "outputs": [],
   "source": [
    "import warnings\n",
    "warnings.filterwarnings('ignore')"
   ]
  },
  {
   "cell_type": "code",
   "execution_count": 2,
   "id": "f5aff7b8",
   "metadata": {},
   "outputs": [
    {
     "name": "stdout",
     "output_type": "stream",
     "text": [
      "Requirement already satisfied: selenium in c:\\users\\user\\anaconda3\\lib\\site-packages (4.5.0)\n"
     ]
    },
    {
     "name": "stderr",
     "output_type": "stream",
     "text": [
      "\n",
      "[notice] A new release of pip available: 22.2.2 -> 22.3\n",
      "[notice] To update, run: python.exe -m pip install --upgrade pip\n"
     ]
    },
    {
     "name": "stdout",
     "output_type": "stream",
     "text": [
      "Requirement already satisfied: trio-websocket~=0.9 in c:\\users\\user\\anaconda3\\lib\\site-packages (from selenium) (0.9.2)\n",
      "Requirement already satisfied: urllib3[socks]~=1.26 in c:\\users\\user\\anaconda3\\lib\\site-packages (from selenium) (1.26.4)\n",
      "Requirement already satisfied: trio~=0.17 in c:\\users\\user\\anaconda3\\lib\\site-packages (from selenium) (0.22.0)\n",
      "Requirement already satisfied: certifi>=2021.10.8 in c:\\users\\user\\anaconda3\\lib\\site-packages (from selenium) (2022.9.24)\n",
      "Requirement already satisfied: exceptiongroup>=1.0.0rc9 in c:\\users\\user\\anaconda3\\lib\\site-packages (from trio~=0.17->selenium) (1.0.0rc9)\n",
      "Requirement already satisfied: sortedcontainers in c:\\users\\user\\anaconda3\\lib\\site-packages (from trio~=0.17->selenium) (2.3.0)\n",
      "Requirement already satisfied: cffi>=1.14 in c:\\users\\user\\anaconda3\\lib\\site-packages (from trio~=0.17->selenium) (1.14.5)\n",
      "Requirement already satisfied: outcome in c:\\users\\user\\anaconda3\\lib\\site-packages (from trio~=0.17->selenium) (1.2.0)\n",
      "Requirement already satisfied: sniffio in c:\\users\\user\\anaconda3\\lib\\site-packages (from trio~=0.17->selenium) (1.2.0)\n",
      "Requirement already satisfied: attrs>=19.2.0 in c:\\users\\user\\anaconda3\\lib\\site-packages (from trio~=0.17->selenium) (20.3.0)\n",
      "Requirement already satisfied: async-generator>=1.9 in c:\\users\\user\\anaconda3\\lib\\site-packages (from trio~=0.17->selenium) (1.10)\n",
      "Requirement already satisfied: idna in c:\\users\\user\\anaconda3\\lib\\site-packages (from trio~=0.17->selenium) (2.10)\n",
      "Requirement already satisfied: wsproto>=0.14 in c:\\users\\user\\anaconda3\\lib\\site-packages (from trio-websocket~=0.9->selenium) (1.2.0)\n",
      "Requirement already satisfied: PySocks!=1.5.7,<2.0,>=1.5.6 in c:\\users\\user\\anaconda3\\lib\\site-packages (from urllib3[socks]~=1.26->selenium) (1.7.1)\n",
      "Requirement already satisfied: pycparser in c:\\users\\user\\anaconda3\\lib\\site-packages (from cffi>=1.14->trio~=0.17->selenium) (2.20)\n",
      "Requirement already satisfied: h11<1,>=0.9.0 in c:\\users\\user\\anaconda3\\lib\\site-packages (from wsproto>=0.14->trio-websocket~=0.9->selenium) (0.14.0)\n"
     ]
    }
   ],
   "source": [
    "!pip install selenium"
   ]
  },
  {
   "cell_type": "code",
   "execution_count": 3,
   "id": "36bb3634",
   "metadata": {},
   "outputs": [],
   "source": [
    "# Importing Required Libraries\n",
    "\n",
    "import selenium\n",
    "import pandas as pd\n",
    "import numpy as np\n",
    "from selenium import webdriver\n",
    "from selenium.common.exceptions import StaleElementReferenceException, NoSuchElementException\n",
    "from selenium.webdriver.common.by import By\n",
    "import time"
   ]
  },
  {
   "cell_type": "code",
   "execution_count": 4,
   "id": "37b45bd3",
   "metadata": {},
   "outputs": [],
   "source": [
    "from selenium.common.exceptions import ElementNotInteractableException"
   ]
  },
  {
   "cell_type": "code",
   "execution_count": 5,
   "id": "e6450055",
   "metadata": {},
   "outputs": [],
   "source": [
    "# First connect to the driver\n",
    "\n",
    "driver=webdriver.Chrome(r\"C:\\Users\\User\\Downloads\\chromedriver_win32\\chromedriver.exe\")"
   ]
  },
  {
   "cell_type": "code",
   "execution_count": 6,
   "id": "1edc9af2",
   "metadata": {},
   "outputs": [],
   "source": [
    "# To maximize the window of the web browser\n",
    "\n",
    "driver.maximize_window()"
   ]
  },
  {
   "cell_type": "markdown",
   "id": "fafa590f",
   "metadata": {},
   "source": [
    "1. Scrape the details of most viewed videos on YouTube from Wikipedia.\n",
    "Url = https://en.wikipedia.org/wiki/List_of_most-viewed_YouTube_videos\n",
    "You need to find following details:\n",
    "A) Rank\n",
    "B) Name\n",
    "C) Artist\n",
    "D) Upload date\n",
    "E) Views"
   ]
  },
  {
   "cell_type": "code",
   "execution_count": 7,
   "id": "85650755",
   "metadata": {},
   "outputs": [],
   "source": [
    "# Opening the youtube page on automated chrome browser\n",
    "\n",
    "driver.get(\" https://en.wikipedia.org/wiki/List_of_most-viewed_YouTube_videos\")"
   ]
  },
  {
   "cell_type": "code",
   "execution_count": 31,
   "id": "75490abe",
   "metadata": {},
   "outputs": [],
   "source": [
    "upload_date=[]"
   ]
  },
  {
   "cell_type": "code",
   "execution_count": 32,
   "id": "b507afac",
   "metadata": {},
   "outputs": [],
   "source": [
    "    date_tag=driver.find_elements(By.XPATH,'//td[@align=\"right\"]')\n",
    "    for i in date_tag:\n",
    "        upload_date.append(i.text) "
   ]
  },
  {
   "cell_type": "code",
   "execution_count": 40,
   "id": "7430c628",
   "metadata": {},
   "outputs": [
    {
     "data": {
      "text/plain": [
       "['Baby Shark Dance',\n",
       " 'Despacito',\n",
       " 'Johny Johny Yes Papa',\n",
       " 'Shape of You',\n",
       " 'Bath Song',\n",
       " 'See You Again',\n",
       " 'Phonics Song with Two Words',\n",
       " 'Uptown Funk',\n",
       " 'Learning Colors – Colorful Eggs on a Farm',\n",
       " 'Gangnam Style']"
      ]
     },
     "execution_count": 40,
     "metadata": {},
     "output_type": "execute_result"
    }
   ],
   "source": [
    "names=[\"Baby Shark Dance\",\"Despacito\",\"Johny Johny Yes Papa\",\"Shape of You\",\"Bath Song\",\"See You Again\",\n",
    "       \"Phonics Song with Two Words\",\"Uptown Funk\",\"Learning Colors – Colorful Eggs on a Farm\",\"Gangnam Style\"]\n",
    "names"
   ]
  },
  {
   "cell_type": "code",
   "execution_count": 37,
   "id": "1de8bda8",
   "metadata": {},
   "outputs": [
    {
     "data": {
      "text/plain": [
       "['June 17, 2016',\n",
       " 'January 12, 2017',\n",
       " 'October 8, 2016',\n",
       " 'January 30, 2017',\n",
       " 'May 2, 2018',\n",
       " 'April 6, 2015',\n",
       " 'March 6, 2014',\n",
       " 'November 19, 2014',\n",
       " 'February 27, 2018',\n",
       " 'July 15, 2012']"
      ]
     },
     "execution_count": 37,
     "metadata": {},
     "output_type": "execute_result"
    }
   ],
   "source": [
    "upload_dates=upload_date[0:10]\n",
    "upload_dates"
   ]
  },
  {
   "cell_type": "code",
   "execution_count": 19,
   "id": "bdd2dfd2",
   "metadata": {},
   "outputs": [
    {
     "data": {
      "text/plain": [
       "[1, 2, 3, 4, 5, 6, 7, 8, 9, 10]"
      ]
     },
     "execution_count": 19,
     "metadata": {},
     "output_type": "execute_result"
    }
   ],
   "source": [
    "rank=list(range(1,11))\n",
    "rank"
   ]
  },
  {
   "cell_type": "code",
   "execution_count": 20,
   "id": "8d48f4a4",
   "metadata": {},
   "outputs": [
    {
     "data": {
      "text/plain": [
       "['Pinkfong',\n",
       " 'Luis Fonsi',\n",
       " 'LooLoo',\n",
       " 'Ed Sheeran',\n",
       " 'Cocomelon',\n",
       " 'Wiz Khalifa',\n",
       " 'ChuChu',\n",
       " 'Mark Ronson',\n",
       " 'Miroshka TV',\n",
       " 'Psy']"
      ]
     },
     "execution_count": 20,
     "metadata": {},
     "output_type": "execute_result"
    }
   ],
   "source": [
    "artist=['Pinkfong','Luis Fonsi','LooLoo','Ed Sheeran','Cocomelon','Wiz Khalifa','ChuChu','Mark Ronson','Miroshka TV','Psy']\n",
    "artist"
   ]
  },
  {
   "cell_type": "code",
   "execution_count": 25,
   "id": "ccbd33e1",
   "metadata": {},
   "outputs": [
    {
     "data": {
      "text/plain": [
       "['11.58',\n",
       " '7.99',\n",
       " '6.50',\n",
       " '5.83',\n",
       " '5.68',\n",
       " '5.68',\n",
       " '4.96',\n",
       " '4.73',\n",
       " '4.69',\n",
       " '4.58']"
      ]
     },
     "execution_count": 25,
     "metadata": {},
     "output_type": "execute_result"
    }
   ],
   "source": [
    "views=['11.58','7.99','6.50','5.83','5.68','5.68','4.96','4.73','4.69','4.58']\n",
    "views"
   ]
  },
  {
   "cell_type": "code",
   "execution_count": 41,
   "id": "3c786737",
   "metadata": {},
   "outputs": [
    {
     "name": "stdout",
     "output_type": "stream",
     "text": [
      "10 10 10 10 10\n"
     ]
    }
   ],
   "source": [
    "print(len(rank),len(names),len(artist),len(upload_dates),len(views))"
   ]
  },
  {
   "cell_type": "code",
   "execution_count": 43,
   "id": "01b7e621",
   "metadata": {},
   "outputs": [
    {
     "data": {
      "text/html": [
       "<div>\n",
       "<style scoped>\n",
       "    .dataframe tbody tr th:only-of-type {\n",
       "        vertical-align: middle;\n",
       "    }\n",
       "\n",
       "    .dataframe tbody tr th {\n",
       "        vertical-align: top;\n",
       "    }\n",
       "\n",
       "    .dataframe thead th {\n",
       "        text-align: right;\n",
       "    }\n",
       "</style>\n",
       "<table border=\"1\" class=\"dataframe\">\n",
       "  <thead>\n",
       "    <tr style=\"text-align: right;\">\n",
       "      <th></th>\n",
       "      <th>Rank</th>\n",
       "      <th>Name</th>\n",
       "      <th>Artist</th>\n",
       "      <th>Upload date</th>\n",
       "      <th>Views</th>\n",
       "    </tr>\n",
       "  </thead>\n",
       "  <tbody>\n",
       "    <tr>\n",
       "      <th>0</th>\n",
       "      <td>1</td>\n",
       "      <td>Baby Shark Dance</td>\n",
       "      <td>Pinkfong</td>\n",
       "      <td>June 17, 2016</td>\n",
       "      <td>11.58</td>\n",
       "    </tr>\n",
       "    <tr>\n",
       "      <th>1</th>\n",
       "      <td>2</td>\n",
       "      <td>Despacito</td>\n",
       "      <td>Luis Fonsi</td>\n",
       "      <td>January 12, 2017</td>\n",
       "      <td>7.99</td>\n",
       "    </tr>\n",
       "    <tr>\n",
       "      <th>2</th>\n",
       "      <td>3</td>\n",
       "      <td>Johny Johny Yes Papa</td>\n",
       "      <td>LooLoo</td>\n",
       "      <td>October 8, 2016</td>\n",
       "      <td>6.50</td>\n",
       "    </tr>\n",
       "    <tr>\n",
       "      <th>3</th>\n",
       "      <td>4</td>\n",
       "      <td>Shape of You</td>\n",
       "      <td>Ed Sheeran</td>\n",
       "      <td>January 30, 2017</td>\n",
       "      <td>5.83</td>\n",
       "    </tr>\n",
       "    <tr>\n",
       "      <th>4</th>\n",
       "      <td>5</td>\n",
       "      <td>Bath Song</td>\n",
       "      <td>Cocomelon</td>\n",
       "      <td>May 2, 2018</td>\n",
       "      <td>5.68</td>\n",
       "    </tr>\n",
       "    <tr>\n",
       "      <th>5</th>\n",
       "      <td>6</td>\n",
       "      <td>See You Again</td>\n",
       "      <td>Wiz Khalifa</td>\n",
       "      <td>April 6, 2015</td>\n",
       "      <td>5.68</td>\n",
       "    </tr>\n",
       "    <tr>\n",
       "      <th>6</th>\n",
       "      <td>7</td>\n",
       "      <td>Phonics Song with Two Words</td>\n",
       "      <td>ChuChu</td>\n",
       "      <td>March 6, 2014</td>\n",
       "      <td>4.96</td>\n",
       "    </tr>\n",
       "    <tr>\n",
       "      <th>7</th>\n",
       "      <td>8</td>\n",
       "      <td>Uptown Funk</td>\n",
       "      <td>Mark Ronson</td>\n",
       "      <td>November 19, 2014</td>\n",
       "      <td>4.73</td>\n",
       "    </tr>\n",
       "    <tr>\n",
       "      <th>8</th>\n",
       "      <td>9</td>\n",
       "      <td>Learning Colors – Colorful Eggs on a Farm</td>\n",
       "      <td>Miroshka TV</td>\n",
       "      <td>February 27, 2018</td>\n",
       "      <td>4.69</td>\n",
       "    </tr>\n",
       "    <tr>\n",
       "      <th>9</th>\n",
       "      <td>10</td>\n",
       "      <td>Gangnam Style</td>\n",
       "      <td>Psy</td>\n",
       "      <td>July 15, 2012</td>\n",
       "      <td>4.58</td>\n",
       "    </tr>\n",
       "  </tbody>\n",
       "</table>\n",
       "</div>"
      ],
      "text/plain": [
       "   Rank                                       Name       Artist  \\\n",
       "0     1                           Baby Shark Dance     Pinkfong   \n",
       "1     2                                  Despacito   Luis Fonsi   \n",
       "2     3                       Johny Johny Yes Papa       LooLoo   \n",
       "3     4                               Shape of You   Ed Sheeran   \n",
       "4     5                                  Bath Song    Cocomelon   \n",
       "5     6                              See You Again  Wiz Khalifa   \n",
       "6     7                Phonics Song with Two Words       ChuChu   \n",
       "7     8                                Uptown Funk  Mark Ronson   \n",
       "8     9  Learning Colors – Colorful Eggs on a Farm  Miroshka TV   \n",
       "9    10                              Gangnam Style          Psy   \n",
       "\n",
       "         Upload date  Views  \n",
       "0      June 17, 2016  11.58  \n",
       "1   January 12, 2017   7.99  \n",
       "2    October 8, 2016   6.50  \n",
       "3   January 30, 2017   5.83  \n",
       "4        May 2, 2018   5.68  \n",
       "5      April 6, 2015   5.68  \n",
       "6      March 6, 2014   4.96  \n",
       "7  November 19, 2014   4.73  \n",
       "8  February 27, 2018   4.69  \n",
       "9      July 15, 2012   4.58  "
      ]
     },
     "execution_count": 43,
     "metadata": {},
     "output_type": "execute_result"
    }
   ],
   "source": [
    "most_viewed_videos=pd.DataFrame({'Rank':rank,'Name':names,'Artist':artist,'Upload date':upload_date,'Views':views})\n"
   ]
  },
  {
   "cell_type": "markdown",
   "id": "49298f16",
   "metadata": {},
   "source": [
    "2. Scrape the details team India’s international fixtures from bcci.tv.\n",
    "Url = https://www.bcci.tv/.\n",
    "You need to find following details:\n",
    "A) Match title (I.e. 1\n",
    "st ODI)\n",
    "B) Series\n",
    "C) Place\n",
    "D) Date\n",
    "E) Time"
   ]
  },
  {
   "cell_type": "code",
   "execution_count": 46,
   "id": "c8977877",
   "metadata": {},
   "outputs": [],
   "source": [
    "# Opening the bcci page on automated chrome browser\n",
    "\n",
    "driver.get(\" https://www.bcci.tv/\")"
   ]
  },
  {
   "cell_type": "code",
   "execution_count": 47,
   "id": "6badde15",
   "metadata": {},
   "outputs": [],
   "source": [
    "international=driver.find_element(By.CLASS_NAME,\"nav-link\")\n",
    "international.click()"
   ]
  },
  {
   "cell_type": "code",
   "execution_count": 18,
   "id": "fe22ab51",
   "metadata": {},
   "outputs": [],
   "source": [
    "Matches=[]\n",
    "Series_of_match=[]\n",
    "Place_m=[]\n",
    "Date_m=[]\n",
    "Time_m=[]"
   ]
  },
  {
   "cell_type": "code",
   "execution_count": 19,
   "id": "315b210c",
   "metadata": {},
   "outputs": [],
   "source": [
    "    match_tag=driver.find_elements(By.XPATH,'//span[@class=\"matchOrderText ng-binding ng-scope\"]')\n",
    "    for i in match_tag:\n",
    "        Matches.append(i.text)\n",
    "        \n",
    "    series_tag=driver.find_elements(By.XPATH,'//span[@class=\"ng-binding\"]')   \n",
    "    for j in series_tag:\n",
    "        Series_of_match.append(j.text)   \n",
    "        \n",
    "    place_tag=driver.find_elements(By.XPATH,'//span[@class=\"ng-binding ng-scope\"]')   \n",
    "    for l in place_tag:\n",
    "        Place_m.append(l.text)\n",
    "        \n",
    "    date_tag=driver.find_elements(By.XPATH,'//h5[@class=\"ng-binding\"]')   \n",
    "    for m in date_tag:\n",
    "        Date_m.append(m.text)\n",
    "        \n",
    "    time_tag=driver.find_elements(By.XPATH,'//h5[@class=\"text-right ng-binding\"]')   \n",
    "    for n in time_tag:\n",
    "        Time_m.append(n.text) "
   ]
  },
  {
   "cell_type": "code",
   "execution_count": 21,
   "id": "69dc94b0",
   "metadata": {},
   "outputs": [
    {
     "data": {
      "text/plain": [
       "['5th T20I -',\n",
       " '1st T20I -',\n",
       " '2nd T20I -',\n",
       " '3rd T20I -',\n",
       " '1st ODI -',\n",
       " '2nd ODI -',\n",
       " '3rd ODI -',\n",
       " '1st ODI -',\n",
       " '2nd ODI -',\n",
       " '3rd ODI -',\n",
       " '1st Test -',\n",
       " '2nd Test -']"
      ]
     },
     "execution_count": 21,
     "metadata": {},
     "output_type": "execute_result"
    }
   ],
   "source": [
    "Matches"
   ]
  },
  {
   "cell_type": "code",
   "execution_count": 22,
   "id": "151b0434",
   "metadata": {},
   "outputs": [
    {
     "data": {
      "text/plain": [
       "['ICC MENS T20 WORLD CUP 2022',\n",
       " 'INDIA TOUR OF NEW ZEALAND T20 SERIES 2022-23',\n",
       " 'INDIA TOUR OF NEW ZEALAND T20 SERIES 2022-23',\n",
       " 'INDIA TOUR OF NEW ZEALAND T20 SERIES 2022-23',\n",
       " 'INDIA TOUR OF NEW ZEALAND ODI SERIES 2022-23',\n",
       " 'INDIA TOUR OF NEW ZEALAND ODI SERIES 2022-23',\n",
       " 'INDIA TOUR OF NEW ZEALAND ODI SERIES 2022-23',\n",
       " 'INDIA TOUR OF BANGLADESH ODI SERIES 2022-23',\n",
       " 'INDIA TOUR OF BANGLADESH ODI SERIES 2022-23',\n",
       " 'INDIA TOUR OF BANGLADESH ODI SERIES 2022-23',\n",
       " 'INDIA TOUR OF BANGLADESH TEST SERIES 2022-23',\n",
       " 'INDIA TOUR OF BANGLADESH TEST SERIES 2022-23']"
      ]
     },
     "execution_count": 22,
     "metadata": {},
     "output_type": "execute_result"
    }
   ],
   "source": [
    "Series_of_match"
   ]
  },
  {
   "cell_type": "code",
   "execution_count": 23,
   "id": "98b14181",
   "metadata": {},
   "outputs": [
    {
     "data": {
      "text/plain": [
       "['Melbourne Cricket Ground,',\n",
       " 'Sky Stadium,',\n",
       " 'Bay Oval,',\n",
       " 'Mclean Park,',\n",
       " 'Eden Park,',\n",
       " 'Seddon Park,',\n",
       " 'Hagley Oval,',\n",
       " 'Shere Bangla National Stadium, Mirpur,',\n",
       " 'Shere Bangla National Stadium, Mirpur,',\n",
       " 'Shere Bangla National Stadium, Mirpur,',\n",
       " 'Zahur Ahmed Chowdhury Stadium,',\n",
       " 'Shere Bangla National Stadium, Mirpur,']"
      ]
     },
     "execution_count": 23,
     "metadata": {},
     "output_type": "execute_result"
    }
   ],
   "source": [
    "Place_m"
   ]
  },
  {
   "cell_type": "code",
   "execution_count": 24,
   "id": "18f1f07f",
   "metadata": {},
   "outputs": [
    {
     "data": {
      "text/plain": [
       "['6 NOV 2022',\n",
       " '18 NOV 2022',\n",
       " '20 NOV 2022',\n",
       " '22 NOV 2022',\n",
       " '25 NOV 2022',\n",
       " '27 NOV 2022',\n",
       " '30 NOV 2022',\n",
       " '4 DEC 2022',\n",
       " '7 DEC 2022',\n",
       " '10 DEC 2022',\n",
       " '14 DEC 2022',\n",
       " '22 DEC 2022']"
      ]
     },
     "execution_count": 24,
     "metadata": {},
     "output_type": "execute_result"
    }
   ],
   "source": [
    "Date_m"
   ]
  },
  {
   "cell_type": "code",
   "execution_count": 25,
   "id": "91aaf9b6",
   "metadata": {},
   "outputs": [
    {
     "data": {
      "text/plain": [
       "['1:30 PM IST',\n",
       " '12:00 PM IST',\n",
       " '12:00 PM IST',\n",
       " '12:00 PM IST',\n",
       " '7:00 AM IST',\n",
       " '7:00 AM IST',\n",
       " '7:00 AM IST',\n",
       " '12:30 PM IST',\n",
       " '12:30 PM IST',\n",
       " '12:30 PM IST',\n",
       " '9:30 AM IST',\n",
       " '9:30 AM IST']"
      ]
     },
     "execution_count": 25,
     "metadata": {},
     "output_type": "execute_result"
    }
   ],
   "source": [
    "Time_m"
   ]
  },
  {
   "cell_type": "code",
   "execution_count": 26,
   "id": "2edeb043",
   "metadata": {},
   "outputs": [
    {
     "name": "stdout",
     "output_type": "stream",
     "text": [
      "12 12 12 12 12\n"
     ]
    }
   ],
   "source": [
    "print(len(Matches),len(Series_of_match),len(Date_m),len(Place_m),len(Time_m))"
   ]
  },
  {
   "cell_type": "code",
   "execution_count": 27,
   "id": "765c9d51",
   "metadata": {},
   "outputs": [
    {
     "data": {
      "text/html": [
       "<div>\n",
       "<style scoped>\n",
       "    .dataframe tbody tr th:only-of-type {\n",
       "        vertical-align: middle;\n",
       "    }\n",
       "\n",
       "    .dataframe tbody tr th {\n",
       "        vertical-align: top;\n",
       "    }\n",
       "\n",
       "    .dataframe thead th {\n",
       "        text-align: right;\n",
       "    }\n",
       "</style>\n",
       "<table border=\"1\" class=\"dataframe\">\n",
       "  <thead>\n",
       "    <tr style=\"text-align: right;\">\n",
       "      <th></th>\n",
       "      <th>Match title</th>\n",
       "      <th>Series</th>\n",
       "      <th>Place</th>\n",
       "      <th>Date</th>\n",
       "      <th>Time</th>\n",
       "    </tr>\n",
       "  </thead>\n",
       "  <tbody>\n",
       "    <tr>\n",
       "      <th>0</th>\n",
       "      <td>5th T20I -</td>\n",
       "      <td>ICC MENS T20 WORLD CUP 2022</td>\n",
       "      <td>Melbourne Cricket Ground,</td>\n",
       "      <td>6 NOV 2022</td>\n",
       "      <td>1:30 PM IST</td>\n",
       "    </tr>\n",
       "    <tr>\n",
       "      <th>1</th>\n",
       "      <td>1st T20I -</td>\n",
       "      <td>INDIA TOUR OF NEW ZEALAND T20 SERIES 2022-23</td>\n",
       "      <td>Sky Stadium,</td>\n",
       "      <td>18 NOV 2022</td>\n",
       "      <td>12:00 PM IST</td>\n",
       "    </tr>\n",
       "    <tr>\n",
       "      <th>2</th>\n",
       "      <td>2nd T20I -</td>\n",
       "      <td>INDIA TOUR OF NEW ZEALAND T20 SERIES 2022-23</td>\n",
       "      <td>Bay Oval,</td>\n",
       "      <td>20 NOV 2022</td>\n",
       "      <td>12:00 PM IST</td>\n",
       "    </tr>\n",
       "    <tr>\n",
       "      <th>3</th>\n",
       "      <td>3rd T20I -</td>\n",
       "      <td>INDIA TOUR OF NEW ZEALAND T20 SERIES 2022-23</td>\n",
       "      <td>Mclean Park,</td>\n",
       "      <td>22 NOV 2022</td>\n",
       "      <td>12:00 PM IST</td>\n",
       "    </tr>\n",
       "    <tr>\n",
       "      <th>4</th>\n",
       "      <td>1st ODI -</td>\n",
       "      <td>INDIA TOUR OF NEW ZEALAND ODI SERIES 2022-23</td>\n",
       "      <td>Eden Park,</td>\n",
       "      <td>25 NOV 2022</td>\n",
       "      <td>7:00 AM IST</td>\n",
       "    </tr>\n",
       "    <tr>\n",
       "      <th>5</th>\n",
       "      <td>2nd ODI -</td>\n",
       "      <td>INDIA TOUR OF NEW ZEALAND ODI SERIES 2022-23</td>\n",
       "      <td>Seddon Park,</td>\n",
       "      <td>27 NOV 2022</td>\n",
       "      <td>7:00 AM IST</td>\n",
       "    </tr>\n",
       "    <tr>\n",
       "      <th>6</th>\n",
       "      <td>3rd ODI -</td>\n",
       "      <td>INDIA TOUR OF NEW ZEALAND ODI SERIES 2022-23</td>\n",
       "      <td>Hagley Oval,</td>\n",
       "      <td>30 NOV 2022</td>\n",
       "      <td>7:00 AM IST</td>\n",
       "    </tr>\n",
       "    <tr>\n",
       "      <th>7</th>\n",
       "      <td>1st ODI -</td>\n",
       "      <td>INDIA TOUR OF BANGLADESH ODI SERIES 2022-23</td>\n",
       "      <td>Shere Bangla National Stadium, Mirpur,</td>\n",
       "      <td>4 DEC 2022</td>\n",
       "      <td>12:30 PM IST</td>\n",
       "    </tr>\n",
       "    <tr>\n",
       "      <th>8</th>\n",
       "      <td>2nd ODI -</td>\n",
       "      <td>INDIA TOUR OF BANGLADESH ODI SERIES 2022-23</td>\n",
       "      <td>Shere Bangla National Stadium, Mirpur,</td>\n",
       "      <td>7 DEC 2022</td>\n",
       "      <td>12:30 PM IST</td>\n",
       "    </tr>\n",
       "    <tr>\n",
       "      <th>9</th>\n",
       "      <td>3rd ODI -</td>\n",
       "      <td>INDIA TOUR OF BANGLADESH ODI SERIES 2022-23</td>\n",
       "      <td>Shere Bangla National Stadium, Mirpur,</td>\n",
       "      <td>10 DEC 2022</td>\n",
       "      <td>12:30 PM IST</td>\n",
       "    </tr>\n",
       "    <tr>\n",
       "      <th>10</th>\n",
       "      <td>1st Test -</td>\n",
       "      <td>INDIA TOUR OF BANGLADESH TEST SERIES 2022-23</td>\n",
       "      <td>Zahur Ahmed Chowdhury Stadium,</td>\n",
       "      <td>14 DEC 2022</td>\n",
       "      <td>9:30 AM IST</td>\n",
       "    </tr>\n",
       "    <tr>\n",
       "      <th>11</th>\n",
       "      <td>2nd Test -</td>\n",
       "      <td>INDIA TOUR OF BANGLADESH TEST SERIES 2022-23</td>\n",
       "      <td>Shere Bangla National Stadium, Mirpur,</td>\n",
       "      <td>22 DEC 2022</td>\n",
       "      <td>9:30 AM IST</td>\n",
       "    </tr>\n",
       "  </tbody>\n",
       "</table>\n",
       "</div>"
      ],
      "text/plain": [
       "   Match title                                        Series  \\\n",
       "0   5th T20I -                   ICC MENS T20 WORLD CUP 2022   \n",
       "1   1st T20I -  INDIA TOUR OF NEW ZEALAND T20 SERIES 2022-23   \n",
       "2   2nd T20I -  INDIA TOUR OF NEW ZEALAND T20 SERIES 2022-23   \n",
       "3   3rd T20I -  INDIA TOUR OF NEW ZEALAND T20 SERIES 2022-23   \n",
       "4    1st ODI -  INDIA TOUR OF NEW ZEALAND ODI SERIES 2022-23   \n",
       "5    2nd ODI -  INDIA TOUR OF NEW ZEALAND ODI SERIES 2022-23   \n",
       "6    3rd ODI -  INDIA TOUR OF NEW ZEALAND ODI SERIES 2022-23   \n",
       "7    1st ODI -   INDIA TOUR OF BANGLADESH ODI SERIES 2022-23   \n",
       "8    2nd ODI -   INDIA TOUR OF BANGLADESH ODI SERIES 2022-23   \n",
       "9    3rd ODI -   INDIA TOUR OF BANGLADESH ODI SERIES 2022-23   \n",
       "10  1st Test -  INDIA TOUR OF BANGLADESH TEST SERIES 2022-23   \n",
       "11  2nd Test -  INDIA TOUR OF BANGLADESH TEST SERIES 2022-23   \n",
       "\n",
       "                                     Place         Date          Time  \n",
       "0                Melbourne Cricket Ground,   6 NOV 2022   1:30 PM IST  \n",
       "1                             Sky Stadium,  18 NOV 2022  12:00 PM IST  \n",
       "2                                Bay Oval,  20 NOV 2022  12:00 PM IST  \n",
       "3                             Mclean Park,  22 NOV 2022  12:00 PM IST  \n",
       "4                               Eden Park,  25 NOV 2022   7:00 AM IST  \n",
       "5                             Seddon Park,  27 NOV 2022   7:00 AM IST  \n",
       "6                             Hagley Oval,  30 NOV 2022   7:00 AM IST  \n",
       "7   Shere Bangla National Stadium, Mirpur,   4 DEC 2022  12:30 PM IST  \n",
       "8   Shere Bangla National Stadium, Mirpur,   7 DEC 2022  12:30 PM IST  \n",
       "9   Shere Bangla National Stadium, Mirpur,  10 DEC 2022  12:30 PM IST  \n",
       "10          Zahur Ahmed Chowdhury Stadium,  14 DEC 2022   9:30 AM IST  \n",
       "11  Shere Bangla National Stadium, Mirpur,  22 DEC 2022   9:30 AM IST  "
      ]
     },
     "execution_count": 27,
     "metadata": {},
     "output_type": "execute_result"
    }
   ],
   "source": [
    "Match_data=pd.DataFrame({'Match title':Matches,'Series':Series_of_match,'Place':Place_m,'Date':Date_m,'Time':Time_m})\n",
    "Match_data"
   ]
  },
  {
   "cell_type": "markdown",
   "id": "3cbc9e19",
   "metadata": {},
   "source": [
    "3. Scrape the details of selenium exception from guru99.com.\n",
    "Url = https://www.guru99.com/\n",
    "You need to find following details:\n",
    "A) Name\n",
    "B) Description"
   ]
  },
  {
   "cell_type": "code",
   "execution_count": 17,
   "id": "5433e4fa",
   "metadata": {},
   "outputs": [],
   "source": [
    "# Opening the guru99.com page on automated chrome browser\n",
    "\n",
    "driver.get(\"https://www.guru99.com/\")"
   ]
  },
  {
   "cell_type": "code",
   "execution_count": 10,
   "id": "2f43bad6",
   "metadata": {},
   "outputs": [
    {
     "ename": "ElementNotInteractableException",
     "evalue": "Message: element not interactable\n  (Session info: chrome=107.0.5304.88)\nStacktrace:\nBacktrace:\n\tOrdinal0 [0x003D1ED3+2236115]\n\tOrdinal0 [0x003692F1+1807089]\n\tOrdinal0 [0x002765C0+812480]\n\tOrdinal0 [0x002A0C0E+986126]\n\tOrdinal0 [0x002A031D+983837]\n\tOrdinal0 [0x002C1A8C+1120908]\n\tOrdinal0 [0x0029BD84+966020]\n\tOrdinal0 [0x002C1CA4+1121444]\n\tOrdinal0 [0x002D59E2+1202658]\n\tOrdinal0 [0x002C18A6+1120422]\n\tOrdinal0 [0x0029A73D+960317]\n\tOrdinal0 [0x0029B71F+964383]\n\tGetHandleVerifier [0x0067E7E2+2743074]\n\tGetHandleVerifier [0x006708D4+2685972]\n\tGetHandleVerifier [0x00462BAA+532202]\n\tGetHandleVerifier [0x00461990+527568]\n\tOrdinal0 [0x0037080C+1837068]\n\tOrdinal0 [0x00374CD8+1854680]\n\tOrdinal0 [0x00374DC5+1854917]\n\tOrdinal0 [0x0037ED64+1895780]\n\tBaseThreadInitThunk [0x7762FA29+25]\n\tRtlGetAppContainerNamedObjectPath [0x77C07A9E+286]\n\tRtlGetAppContainerNamedObjectPath [0x77C07A6E+238]\n",
     "output_type": "error",
     "traceback": [
      "\u001b[1;31m---------------------------------------------------------------------------\u001b[0m",
      "\u001b[1;31mElementNotInteractableException\u001b[0m           Traceback (most recent call last)",
      "\u001b[1;32m<ipython-input-10-356e2b30c445>\u001b[0m in \u001b[0;36m<module>\u001b[1;34m\u001b[0m\n\u001b[0;32m      2\u001b[0m \u001b[1;33m\u001b[0m\u001b[0m\n\u001b[0;32m      3\u001b[0m \u001b[0mselenium\u001b[0m\u001b[1;33m=\u001b[0m\u001b[0mdriver\u001b[0m\u001b[1;33m.\u001b[0m\u001b[0mfind_element\u001b[0m\u001b[1;33m(\u001b[0m\u001b[0mBy\u001b[0m\u001b[1;33m.\u001b[0m\u001b[0mCLASS_NAME\u001b[0m\u001b[1;33m,\u001b[0m\u001b[1;34m\"gsc-input\"\u001b[0m\u001b[1;33m)\u001b[0m\u001b[1;33m\u001b[0m\u001b[1;33m\u001b[0m\u001b[0m\n\u001b[1;32m----> 4\u001b[1;33m \u001b[0mselenium\u001b[0m\u001b[1;33m.\u001b[0m\u001b[0msend_keys\u001b[0m\u001b[1;33m(\u001b[0m\u001b[1;34m'selenium exception handling'\u001b[0m\u001b[1;33m)\u001b[0m\u001b[1;33m\u001b[0m\u001b[1;33m\u001b[0m\u001b[0m\n\u001b[0m",
      "\u001b[1;32m~\\anaconda3\\lib\\site-packages\\selenium\\webdriver\\remote\\webelement.py\u001b[0m in \u001b[0;36msend_keys\u001b[1;34m(self, *value)\u001b[0m\n\u001b[0;32m    221\u001b[0m                 \u001b[0mvalue\u001b[0m \u001b[1;33m=\u001b[0m \u001b[1;34m'\\n'\u001b[0m\u001b[1;33m.\u001b[0m\u001b[0mjoin\u001b[0m\u001b[1;33m(\u001b[0m\u001b[0mremote_files\u001b[0m\u001b[1;33m)\u001b[0m\u001b[1;33m\u001b[0m\u001b[1;33m\u001b[0m\u001b[0m\n\u001b[0;32m    222\u001b[0m \u001b[1;33m\u001b[0m\u001b[0m\n\u001b[1;32m--> 223\u001b[1;33m         self._execute(Command.SEND_KEYS_TO_ELEMENT,\n\u001b[0m\u001b[0;32m    224\u001b[0m                       {'text': \"\".join(keys_to_typing(value)),\n\u001b[0;32m    225\u001b[0m                        'value': keys_to_typing(value)})\n",
      "\u001b[1;32m~\\anaconda3\\lib\\site-packages\\selenium\\webdriver\\remote\\webelement.py\u001b[0m in \u001b[0;36m_execute\u001b[1;34m(self, command, params)\u001b[0m\n\u001b[0;32m    394\u001b[0m             \u001b[0mparams\u001b[0m \u001b[1;33m=\u001b[0m \u001b[1;33m{\u001b[0m\u001b[1;33m}\u001b[0m\u001b[1;33m\u001b[0m\u001b[1;33m\u001b[0m\u001b[0m\n\u001b[0;32m    395\u001b[0m         \u001b[0mparams\u001b[0m\u001b[1;33m[\u001b[0m\u001b[1;34m'id'\u001b[0m\u001b[1;33m]\u001b[0m \u001b[1;33m=\u001b[0m \u001b[0mself\u001b[0m\u001b[1;33m.\u001b[0m\u001b[0m_id\u001b[0m\u001b[1;33m\u001b[0m\u001b[1;33m\u001b[0m\u001b[0m\n\u001b[1;32m--> 396\u001b[1;33m         \u001b[1;32mreturn\u001b[0m \u001b[0mself\u001b[0m\u001b[1;33m.\u001b[0m\u001b[0m_parent\u001b[0m\u001b[1;33m.\u001b[0m\u001b[0mexecute\u001b[0m\u001b[1;33m(\u001b[0m\u001b[0mcommand\u001b[0m\u001b[1;33m,\u001b[0m \u001b[0mparams\u001b[0m\u001b[1;33m)\u001b[0m\u001b[1;33m\u001b[0m\u001b[1;33m\u001b[0m\u001b[0m\n\u001b[0m\u001b[0;32m    397\u001b[0m \u001b[1;33m\u001b[0m\u001b[0m\n\u001b[0;32m    398\u001b[0m     \u001b[1;32mdef\u001b[0m \u001b[0mfind_element\u001b[0m\u001b[1;33m(\u001b[0m\u001b[0mself\u001b[0m\u001b[1;33m,\u001b[0m \u001b[0mby\u001b[0m\u001b[1;33m=\u001b[0m\u001b[0mBy\u001b[0m\u001b[1;33m.\u001b[0m\u001b[0mID\u001b[0m\u001b[1;33m,\u001b[0m \u001b[0mvalue\u001b[0m\u001b[1;33m=\u001b[0m\u001b[1;32mNone\u001b[0m\u001b[1;33m)\u001b[0m \u001b[1;33m->\u001b[0m \u001b[0mWebElement\u001b[0m\u001b[1;33m:\u001b[0m\u001b[1;33m\u001b[0m\u001b[1;33m\u001b[0m\u001b[0m\n",
      "\u001b[1;32m~\\anaconda3\\lib\\site-packages\\selenium\\webdriver\\remote\\webdriver.py\u001b[0m in \u001b[0;36mexecute\u001b[1;34m(self, driver_command, params)\u001b[0m\n\u001b[0;32m    427\u001b[0m         \u001b[0mresponse\u001b[0m \u001b[1;33m=\u001b[0m \u001b[0mself\u001b[0m\u001b[1;33m.\u001b[0m\u001b[0mcommand_executor\u001b[0m\u001b[1;33m.\u001b[0m\u001b[0mexecute\u001b[0m\u001b[1;33m(\u001b[0m\u001b[0mdriver_command\u001b[0m\u001b[1;33m,\u001b[0m \u001b[0mparams\u001b[0m\u001b[1;33m)\u001b[0m\u001b[1;33m\u001b[0m\u001b[1;33m\u001b[0m\u001b[0m\n\u001b[0;32m    428\u001b[0m         \u001b[1;32mif\u001b[0m \u001b[0mresponse\u001b[0m\u001b[1;33m:\u001b[0m\u001b[1;33m\u001b[0m\u001b[1;33m\u001b[0m\u001b[0m\n\u001b[1;32m--> 429\u001b[1;33m             \u001b[0mself\u001b[0m\u001b[1;33m.\u001b[0m\u001b[0merror_handler\u001b[0m\u001b[1;33m.\u001b[0m\u001b[0mcheck_response\u001b[0m\u001b[1;33m(\u001b[0m\u001b[0mresponse\u001b[0m\u001b[1;33m)\u001b[0m\u001b[1;33m\u001b[0m\u001b[1;33m\u001b[0m\u001b[0m\n\u001b[0m\u001b[0;32m    430\u001b[0m             response['value'] = self._unwrap_value(\n\u001b[0;32m    431\u001b[0m                 response.get('value', None))\n",
      "\u001b[1;32m~\\anaconda3\\lib\\site-packages\\selenium\\webdriver\\remote\\errorhandler.py\u001b[0m in \u001b[0;36mcheck_response\u001b[1;34m(self, response)\u001b[0m\n\u001b[0;32m    241\u001b[0m                 \u001b[0malert_text\u001b[0m \u001b[1;33m=\u001b[0m \u001b[0mvalue\u001b[0m\u001b[1;33m[\u001b[0m\u001b[1;34m'alert'\u001b[0m\u001b[1;33m]\u001b[0m\u001b[1;33m.\u001b[0m\u001b[0mget\u001b[0m\u001b[1;33m(\u001b[0m\u001b[1;34m'text'\u001b[0m\u001b[1;33m)\u001b[0m\u001b[1;33m\u001b[0m\u001b[1;33m\u001b[0m\u001b[0m\n\u001b[0;32m    242\u001b[0m             \u001b[1;32mraise\u001b[0m \u001b[0mexception_class\u001b[0m\u001b[1;33m(\u001b[0m\u001b[0mmessage\u001b[0m\u001b[1;33m,\u001b[0m \u001b[0mscreen\u001b[0m\u001b[1;33m,\u001b[0m \u001b[0mstacktrace\u001b[0m\u001b[1;33m,\u001b[0m \u001b[0malert_text\u001b[0m\u001b[1;33m)\u001b[0m  \u001b[1;31m# type: ignore[call-arg]  # mypy is not smart enough here\u001b[0m\u001b[1;33m\u001b[0m\u001b[1;33m\u001b[0m\u001b[0m\n\u001b[1;32m--> 243\u001b[1;33m         \u001b[1;32mraise\u001b[0m \u001b[0mexception_class\u001b[0m\u001b[1;33m(\u001b[0m\u001b[0mmessage\u001b[0m\u001b[1;33m,\u001b[0m \u001b[0mscreen\u001b[0m\u001b[1;33m,\u001b[0m \u001b[0mstacktrace\u001b[0m\u001b[1;33m)\u001b[0m\u001b[1;33m\u001b[0m\u001b[1;33m\u001b[0m\u001b[0m\n\u001b[0m",
      "\u001b[1;31mElementNotInteractableException\u001b[0m: Message: element not interactable\n  (Session info: chrome=107.0.5304.88)\nStacktrace:\nBacktrace:\n\tOrdinal0 [0x003D1ED3+2236115]\n\tOrdinal0 [0x003692F1+1807089]\n\tOrdinal0 [0x002765C0+812480]\n\tOrdinal0 [0x002A0C0E+986126]\n\tOrdinal0 [0x002A031D+983837]\n\tOrdinal0 [0x002C1A8C+1120908]\n\tOrdinal0 [0x0029BD84+966020]\n\tOrdinal0 [0x002C1CA4+1121444]\n\tOrdinal0 [0x002D59E2+1202658]\n\tOrdinal0 [0x002C18A6+1120422]\n\tOrdinal0 [0x0029A73D+960317]\n\tOrdinal0 [0x0029B71F+964383]\n\tGetHandleVerifier [0x0067E7E2+2743074]\n\tGetHandleVerifier [0x006708D4+2685972]\n\tGetHandleVerifier [0x00462BAA+532202]\n\tGetHandleVerifier [0x00461990+527568]\n\tOrdinal0 [0x0037080C+1837068]\n\tOrdinal0 [0x00374CD8+1854680]\n\tOrdinal0 [0x00374DC5+1854917]\n\tOrdinal0 [0x0037ED64+1895780]\n\tBaseThreadInitThunk [0x7762FA29+25]\n\tRtlGetAppContainerNamedObjectPath [0x77C07A9E+286]\n\tRtlGetAppContainerNamedObjectPath [0x77C07A6E+238]\n"
     ]
    }
   ],
   "source": [
    "# Entering the selenium exception in the search box\n",
    "\n",
    "selenium=driver.find_element(By.CLASS_NAME,\"gsc-input\")\n",
    "selenium.send_keys('selenium exception handling')"
   ]
  },
  {
   "cell_type": "code",
   "execution_count": 14,
   "id": "9d88c434",
   "metadata": {},
   "outputs": [
    {
     "name": "stdout",
     "output_type": "stream",
     "text": [
      "Exception Raised :  Message: element not interactable\n",
      "  (Session info: chrome=107.0.5304.88)\n",
      "Stacktrace:\n",
      "Backtrace:\n",
      "\tOrdinal0 [0x003D1ED3+2236115]\n",
      "\tOrdinal0 [0x003692F1+1807089]\n",
      "\tOrdinal0 [0x002765C0+812480]\n",
      "\tOrdinal0 [0x002A0C0E+986126]\n",
      "\tOrdinal0 [0x002A031D+983837]\n",
      "\tOrdinal0 [0x002C1A8C+1120908]\n",
      "\tOrdinal0 [0x0029BD84+966020]\n",
      "\tOrdinal0 [0x002C1CA4+1121444]\n",
      "\tOrdinal0 [0x002D59E2+1202658]\n",
      "\tOrdinal0 [0x002C18A6+1120422]\n",
      "\tOrdinal0 [0x0029A73D+960317]\n",
      "\tOrdinal0 [0x0029B71F+964383]\n",
      "\tGetHandleVerifier [0x0067E7E2+2743074]\n",
      "\tGetHandleVerifier [0x006708D4+2685972]\n",
      "\tGetHandleVerifier [0x00462BAA+532202]\n",
      "\tGetHandleVerifier [0x00461990+527568]\n",
      "\tOrdinal0 [0x0037080C+1837068]\n",
      "\tOrdinal0 [0x00374CD8+1854680]\n",
      "\tOrdinal0 [0x00374DC5+1854917]\n",
      "\tOrdinal0 [0x0037ED64+1895780]\n",
      "\tBaseThreadInitThunk [0x7762FA29+25]\n",
      "\tRtlGetAppContainerNamedObjectPath [0x77C07A9E+286]\n",
      "\tRtlGetAppContainerNamedObjectPath [0x77C07A6E+238]\n",
      "\n"
     ]
    },
    {
     "ename": "ElementNotInteractableException",
     "evalue": "Message: element not interactable\n  (Session info: chrome=107.0.5304.88)\nStacktrace:\nBacktrace:\n\tOrdinal0 [0x003D1ED3+2236115]\n\tOrdinal0 [0x003692F1+1807089]\n\tOrdinal0 [0x002765C0+812480]\n\tOrdinal0 [0x002A0C0E+986126]\n\tOrdinal0 [0x002A031D+983837]\n\tOrdinal0 [0x002C1A8C+1120908]\n\tOrdinal0 [0x0029BD84+966020]\n\tOrdinal0 [0x002C1CA4+1121444]\n\tOrdinal0 [0x002D59E2+1202658]\n\tOrdinal0 [0x002C18A6+1120422]\n\tOrdinal0 [0x0029A73D+960317]\n\tOrdinal0 [0x0029B71F+964383]\n\tGetHandleVerifier [0x0067E7E2+2743074]\n\tGetHandleVerifier [0x006708D4+2685972]\n\tGetHandleVerifier [0x00462BAA+532202]\n\tGetHandleVerifier [0x00461990+527568]\n\tOrdinal0 [0x0037080C+1837068]\n\tOrdinal0 [0x00374CD8+1854680]\n\tOrdinal0 [0x00374DC5+1854917]\n\tOrdinal0 [0x0037ED64+1895780]\n\tBaseThreadInitThunk [0x7762FA29+25]\n\tRtlGetAppContainerNamedObjectPath [0x77C07A9E+286]\n\tRtlGetAppContainerNamedObjectPath [0x77C07A6E+238]\n",
     "output_type": "error",
     "traceback": [
      "\u001b[1;31m---------------------------------------------------------------------------\u001b[0m",
      "\u001b[1;31mElementNotInteractableException\u001b[0m           Traceback (most recent call last)",
      "\u001b[1;32m<ipython-input-14-623014967c98>\u001b[0m in \u001b[0;36m<module>\u001b[1;34m\u001b[0m\n\u001b[0;32m      5\u001b[0m     \u001b[0mselenium\u001b[0m\u001b[1;33m=\u001b[0m\u001b[0mdriver\u001b[0m\u001b[1;33m.\u001b[0m\u001b[0mfind_element\u001b[0m\u001b[1;33m(\u001b[0m\u001b[0mBy\u001b[0m\u001b[1;33m.\u001b[0m\u001b[0mCLASS_NAME\u001b[0m\u001b[1;33m,\u001b[0m\u001b[1;34m\"gsc-input\"\u001b[0m\u001b[1;33m)\u001b[0m\u001b[1;33m\u001b[0m\u001b[1;33m\u001b[0m\u001b[0m\n\u001b[1;32m----> 6\u001b[1;33m     \u001b[0mselenium\u001b[0m\u001b[1;33m.\u001b[0m\u001b[0msend_keys\u001b[0m\u001b[1;33m(\u001b[0m\u001b[1;34m'selenium exception handling'\u001b[0m\u001b[1;33m)\u001b[0m\u001b[1;33m\u001b[0m\u001b[1;33m\u001b[0m\u001b[0m\n\u001b[0m\u001b[0;32m      7\u001b[0m \u001b[1;33m\u001b[0m\u001b[0m\n",
      "\u001b[1;32m~\\anaconda3\\lib\\site-packages\\selenium\\webdriver\\remote\\webelement.py\u001b[0m in \u001b[0;36msend_keys\u001b[1;34m(self, *value)\u001b[0m\n\u001b[0;32m    222\u001b[0m \u001b[1;33m\u001b[0m\u001b[0m\n\u001b[1;32m--> 223\u001b[1;33m         self._execute(Command.SEND_KEYS_TO_ELEMENT,\n\u001b[0m\u001b[0;32m    224\u001b[0m                       {'text': \"\".join(keys_to_typing(value)),\n",
      "\u001b[1;32m~\\anaconda3\\lib\\site-packages\\selenium\\webdriver\\remote\\webelement.py\u001b[0m in \u001b[0;36m_execute\u001b[1;34m(self, command, params)\u001b[0m\n\u001b[0;32m    395\u001b[0m         \u001b[0mparams\u001b[0m\u001b[1;33m[\u001b[0m\u001b[1;34m'id'\u001b[0m\u001b[1;33m]\u001b[0m \u001b[1;33m=\u001b[0m \u001b[0mself\u001b[0m\u001b[1;33m.\u001b[0m\u001b[0m_id\u001b[0m\u001b[1;33m\u001b[0m\u001b[1;33m\u001b[0m\u001b[0m\n\u001b[1;32m--> 396\u001b[1;33m         \u001b[1;32mreturn\u001b[0m \u001b[0mself\u001b[0m\u001b[1;33m.\u001b[0m\u001b[0m_parent\u001b[0m\u001b[1;33m.\u001b[0m\u001b[0mexecute\u001b[0m\u001b[1;33m(\u001b[0m\u001b[0mcommand\u001b[0m\u001b[1;33m,\u001b[0m \u001b[0mparams\u001b[0m\u001b[1;33m)\u001b[0m\u001b[1;33m\u001b[0m\u001b[1;33m\u001b[0m\u001b[0m\n\u001b[0m\u001b[0;32m    397\u001b[0m \u001b[1;33m\u001b[0m\u001b[0m\n",
      "\u001b[1;32m~\\anaconda3\\lib\\site-packages\\selenium\\webdriver\\remote\\webdriver.py\u001b[0m in \u001b[0;36mexecute\u001b[1;34m(self, driver_command, params)\u001b[0m\n\u001b[0;32m    428\u001b[0m         \u001b[1;32mif\u001b[0m \u001b[0mresponse\u001b[0m\u001b[1;33m:\u001b[0m\u001b[1;33m\u001b[0m\u001b[1;33m\u001b[0m\u001b[0m\n\u001b[1;32m--> 429\u001b[1;33m             \u001b[0mself\u001b[0m\u001b[1;33m.\u001b[0m\u001b[0merror_handler\u001b[0m\u001b[1;33m.\u001b[0m\u001b[0mcheck_response\u001b[0m\u001b[1;33m(\u001b[0m\u001b[0mresponse\u001b[0m\u001b[1;33m)\u001b[0m\u001b[1;33m\u001b[0m\u001b[1;33m\u001b[0m\u001b[0m\n\u001b[0m\u001b[0;32m    430\u001b[0m             response['value'] = self._unwrap_value(\n",
      "\u001b[1;32m~\\anaconda3\\lib\\site-packages\\selenium\\webdriver\\remote\\errorhandler.py\u001b[0m in \u001b[0;36mcheck_response\u001b[1;34m(self, response)\u001b[0m\n\u001b[0;32m    242\u001b[0m             \u001b[1;32mraise\u001b[0m \u001b[0mexception_class\u001b[0m\u001b[1;33m(\u001b[0m\u001b[0mmessage\u001b[0m\u001b[1;33m,\u001b[0m \u001b[0mscreen\u001b[0m\u001b[1;33m,\u001b[0m \u001b[0mstacktrace\u001b[0m\u001b[1;33m,\u001b[0m \u001b[0malert_text\u001b[0m\u001b[1;33m)\u001b[0m  \u001b[1;31m# type: ignore[call-arg]  # mypy is not smart enough here\u001b[0m\u001b[1;33m\u001b[0m\u001b[1;33m\u001b[0m\u001b[0m\n\u001b[1;32m--> 243\u001b[1;33m         \u001b[1;32mraise\u001b[0m \u001b[0mexception_class\u001b[0m\u001b[1;33m(\u001b[0m\u001b[0mmessage\u001b[0m\u001b[1;33m,\u001b[0m \u001b[0mscreen\u001b[0m\u001b[1;33m,\u001b[0m \u001b[0mstacktrace\u001b[0m\u001b[1;33m)\u001b[0m\u001b[1;33m\u001b[0m\u001b[1;33m\u001b[0m\u001b[0m\n\u001b[0m",
      "\u001b[1;31mElementNotInteractableException\u001b[0m: Message: element not interactable\n  (Session info: chrome=107.0.5304.88)\nStacktrace:\nBacktrace:\n\tOrdinal0 [0x003D1ED3+2236115]\n\tOrdinal0 [0x003692F1+1807089]\n\tOrdinal0 [0x002765C0+812480]\n\tOrdinal0 [0x002A0C0E+986126]\n\tOrdinal0 [0x002A031D+983837]\n\tOrdinal0 [0x002C1A8C+1120908]\n\tOrdinal0 [0x0029BD84+966020]\n\tOrdinal0 [0x002C1CA4+1121444]\n\tOrdinal0 [0x002D59E2+1202658]\n\tOrdinal0 [0x002C18A6+1120422]\n\tOrdinal0 [0x0029A73D+960317]\n\tOrdinal0 [0x0029B71F+964383]\n\tGetHandleVerifier [0x0067E7E2+2743074]\n\tGetHandleVerifier [0x006708D4+2685972]\n\tGetHandleVerifier [0x00462BAA+532202]\n\tGetHandleVerifier [0x00461990+527568]\n\tOrdinal0 [0x0037080C+1837068]\n\tOrdinal0 [0x00374CD8+1854680]\n\tOrdinal0 [0x00374DC5+1854917]\n\tOrdinal0 [0x0037ED64+1895780]\n\tBaseThreadInitThunk [0x7762FA29+25]\n\tRtlGetAppContainerNamedObjectPath [0x77C07A9E+286]\n\tRtlGetAppContainerNamedObjectPath [0x77C07A6E+238]\n",
      "\nDuring handling of the above exception, another exception occurred:\n",
      "\u001b[1;31mElementNotInteractableException\u001b[0m           Traceback (most recent call last)",
      "\u001b[1;32m<ipython-input-14-623014967c98>\u001b[0m in \u001b[0;36m<module>\u001b[1;34m\u001b[0m\n\u001b[0;32m      9\u001b[0m     \u001b[0mprint\u001b[0m\u001b[1;33m(\u001b[0m\u001b[1;34m\"Exception Raised : \"\u001b[0m\u001b[1;33m,\u001b[0m\u001b[0me\u001b[0m\u001b[1;33m)\u001b[0m\u001b[1;33m\u001b[0m\u001b[1;33m\u001b[0m\u001b[0m\n\u001b[0;32m     10\u001b[0m     \u001b[0mselenium\u001b[0m\u001b[1;33m=\u001b[0m\u001b[0mdriver\u001b[0m\u001b[1;33m.\u001b[0m\u001b[0mfind_element\u001b[0m\u001b[1;33m(\u001b[0m\u001b[0mBy\u001b[0m\u001b[1;33m.\u001b[0m\u001b[0mCLASS_NAME\u001b[0m\u001b[1;33m,\u001b[0m\u001b[1;34m\"gsc-input\"\u001b[0m\u001b[1;33m)\u001b[0m\u001b[1;33m\u001b[0m\u001b[1;33m\u001b[0m\u001b[0m\n\u001b[1;32m---> 11\u001b[1;33m     \u001b[0mselenium\u001b[0m\u001b[1;33m.\u001b[0m\u001b[0msend_keys\u001b[0m\u001b[1;33m(\u001b[0m\u001b[1;34m'selenium exception handling'\u001b[0m\u001b[1;33m)\u001b[0m\u001b[1;33m\u001b[0m\u001b[1;33m\u001b[0m\u001b[0m\n\u001b[0m",
      "\u001b[1;32m~\\anaconda3\\lib\\site-packages\\selenium\\webdriver\\remote\\webelement.py\u001b[0m in \u001b[0;36msend_keys\u001b[1;34m(self, *value)\u001b[0m\n\u001b[0;32m    221\u001b[0m                 \u001b[0mvalue\u001b[0m \u001b[1;33m=\u001b[0m \u001b[1;34m'\\n'\u001b[0m\u001b[1;33m.\u001b[0m\u001b[0mjoin\u001b[0m\u001b[1;33m(\u001b[0m\u001b[0mremote_files\u001b[0m\u001b[1;33m)\u001b[0m\u001b[1;33m\u001b[0m\u001b[1;33m\u001b[0m\u001b[0m\n\u001b[0;32m    222\u001b[0m \u001b[1;33m\u001b[0m\u001b[0m\n\u001b[1;32m--> 223\u001b[1;33m         self._execute(Command.SEND_KEYS_TO_ELEMENT,\n\u001b[0m\u001b[0;32m    224\u001b[0m                       {'text': \"\".join(keys_to_typing(value)),\n\u001b[0;32m    225\u001b[0m                        'value': keys_to_typing(value)})\n",
      "\u001b[1;32m~\\anaconda3\\lib\\site-packages\\selenium\\webdriver\\remote\\webelement.py\u001b[0m in \u001b[0;36m_execute\u001b[1;34m(self, command, params)\u001b[0m\n\u001b[0;32m    394\u001b[0m             \u001b[0mparams\u001b[0m \u001b[1;33m=\u001b[0m \u001b[1;33m{\u001b[0m\u001b[1;33m}\u001b[0m\u001b[1;33m\u001b[0m\u001b[1;33m\u001b[0m\u001b[0m\n\u001b[0;32m    395\u001b[0m         \u001b[0mparams\u001b[0m\u001b[1;33m[\u001b[0m\u001b[1;34m'id'\u001b[0m\u001b[1;33m]\u001b[0m \u001b[1;33m=\u001b[0m \u001b[0mself\u001b[0m\u001b[1;33m.\u001b[0m\u001b[0m_id\u001b[0m\u001b[1;33m\u001b[0m\u001b[1;33m\u001b[0m\u001b[0m\n\u001b[1;32m--> 396\u001b[1;33m         \u001b[1;32mreturn\u001b[0m \u001b[0mself\u001b[0m\u001b[1;33m.\u001b[0m\u001b[0m_parent\u001b[0m\u001b[1;33m.\u001b[0m\u001b[0mexecute\u001b[0m\u001b[1;33m(\u001b[0m\u001b[0mcommand\u001b[0m\u001b[1;33m,\u001b[0m \u001b[0mparams\u001b[0m\u001b[1;33m)\u001b[0m\u001b[1;33m\u001b[0m\u001b[1;33m\u001b[0m\u001b[0m\n\u001b[0m\u001b[0;32m    397\u001b[0m \u001b[1;33m\u001b[0m\u001b[0m\n\u001b[0;32m    398\u001b[0m     \u001b[1;32mdef\u001b[0m \u001b[0mfind_element\u001b[0m\u001b[1;33m(\u001b[0m\u001b[0mself\u001b[0m\u001b[1;33m,\u001b[0m \u001b[0mby\u001b[0m\u001b[1;33m=\u001b[0m\u001b[0mBy\u001b[0m\u001b[1;33m.\u001b[0m\u001b[0mID\u001b[0m\u001b[1;33m,\u001b[0m \u001b[0mvalue\u001b[0m\u001b[1;33m=\u001b[0m\u001b[1;32mNone\u001b[0m\u001b[1;33m)\u001b[0m \u001b[1;33m->\u001b[0m \u001b[0mWebElement\u001b[0m\u001b[1;33m:\u001b[0m\u001b[1;33m\u001b[0m\u001b[1;33m\u001b[0m\u001b[0m\n",
      "\u001b[1;32m~\\anaconda3\\lib\\site-packages\\selenium\\webdriver\\remote\\webdriver.py\u001b[0m in \u001b[0;36mexecute\u001b[1;34m(self, driver_command, params)\u001b[0m\n\u001b[0;32m    427\u001b[0m         \u001b[0mresponse\u001b[0m \u001b[1;33m=\u001b[0m \u001b[0mself\u001b[0m\u001b[1;33m.\u001b[0m\u001b[0mcommand_executor\u001b[0m\u001b[1;33m.\u001b[0m\u001b[0mexecute\u001b[0m\u001b[1;33m(\u001b[0m\u001b[0mdriver_command\u001b[0m\u001b[1;33m,\u001b[0m \u001b[0mparams\u001b[0m\u001b[1;33m)\u001b[0m\u001b[1;33m\u001b[0m\u001b[1;33m\u001b[0m\u001b[0m\n\u001b[0;32m    428\u001b[0m         \u001b[1;32mif\u001b[0m \u001b[0mresponse\u001b[0m\u001b[1;33m:\u001b[0m\u001b[1;33m\u001b[0m\u001b[1;33m\u001b[0m\u001b[0m\n\u001b[1;32m--> 429\u001b[1;33m             \u001b[0mself\u001b[0m\u001b[1;33m.\u001b[0m\u001b[0merror_handler\u001b[0m\u001b[1;33m.\u001b[0m\u001b[0mcheck_response\u001b[0m\u001b[1;33m(\u001b[0m\u001b[0mresponse\u001b[0m\u001b[1;33m)\u001b[0m\u001b[1;33m\u001b[0m\u001b[1;33m\u001b[0m\u001b[0m\n\u001b[0m\u001b[0;32m    430\u001b[0m             response['value'] = self._unwrap_value(\n\u001b[0;32m    431\u001b[0m                 response.get('value', None))\n",
      "\u001b[1;32m~\\anaconda3\\lib\\site-packages\\selenium\\webdriver\\remote\\errorhandler.py\u001b[0m in \u001b[0;36mcheck_response\u001b[1;34m(self, response)\u001b[0m\n\u001b[0;32m    241\u001b[0m                 \u001b[0malert_text\u001b[0m \u001b[1;33m=\u001b[0m \u001b[0mvalue\u001b[0m\u001b[1;33m[\u001b[0m\u001b[1;34m'alert'\u001b[0m\u001b[1;33m]\u001b[0m\u001b[1;33m.\u001b[0m\u001b[0mget\u001b[0m\u001b[1;33m(\u001b[0m\u001b[1;34m'text'\u001b[0m\u001b[1;33m)\u001b[0m\u001b[1;33m\u001b[0m\u001b[1;33m\u001b[0m\u001b[0m\n\u001b[0;32m    242\u001b[0m             \u001b[1;32mraise\u001b[0m \u001b[0mexception_class\u001b[0m\u001b[1;33m(\u001b[0m\u001b[0mmessage\u001b[0m\u001b[1;33m,\u001b[0m \u001b[0mscreen\u001b[0m\u001b[1;33m,\u001b[0m \u001b[0mstacktrace\u001b[0m\u001b[1;33m,\u001b[0m \u001b[0malert_text\u001b[0m\u001b[1;33m)\u001b[0m  \u001b[1;31m# type: ignore[call-arg]  # mypy is not smart enough here\u001b[0m\u001b[1;33m\u001b[0m\u001b[1;33m\u001b[0m\u001b[0m\n\u001b[1;32m--> 243\u001b[1;33m         \u001b[1;32mraise\u001b[0m \u001b[0mexception_class\u001b[0m\u001b[1;33m(\u001b[0m\u001b[0mmessage\u001b[0m\u001b[1;33m,\u001b[0m \u001b[0mscreen\u001b[0m\u001b[1;33m,\u001b[0m \u001b[0mstacktrace\u001b[0m\u001b[1;33m)\u001b[0m\u001b[1;33m\u001b[0m\u001b[1;33m\u001b[0m\u001b[0m\n\u001b[0m",
      "\u001b[1;31mElementNotInteractableException\u001b[0m: Message: element not interactable\n  (Session info: chrome=107.0.5304.88)\nStacktrace:\nBacktrace:\n\tOrdinal0 [0x003D1ED3+2236115]\n\tOrdinal0 [0x003692F1+1807089]\n\tOrdinal0 [0x002765C0+812480]\n\tOrdinal0 [0x002A0C0E+986126]\n\tOrdinal0 [0x002A031D+983837]\n\tOrdinal0 [0x002C1A8C+1120908]\n\tOrdinal0 [0x0029BD84+966020]\n\tOrdinal0 [0x002C1CA4+1121444]\n\tOrdinal0 [0x002D59E2+1202658]\n\tOrdinal0 [0x002C18A6+1120422]\n\tOrdinal0 [0x0029A73D+960317]\n\tOrdinal0 [0x0029B71F+964383]\n\tGetHandleVerifier [0x0067E7E2+2743074]\n\tGetHandleVerifier [0x006708D4+2685972]\n\tGetHandleVerifier [0x00462BAA+532202]\n\tGetHandleVerifier [0x00461990+527568]\n\tOrdinal0 [0x0037080C+1837068]\n\tOrdinal0 [0x00374CD8+1854680]\n\tOrdinal0 [0x00374DC5+1854917]\n\tOrdinal0 [0x0037ED64+1895780]\n\tBaseThreadInitThunk [0x7762FA29+25]\n\tRtlGetAppContainerNamedObjectPath [0x77C07A9E+286]\n\tRtlGetAppContainerNamedObjectPath [0x77C07A6E+238]\n"
     ]
    }
   ],
   "source": [
    "# Handling Exception\n",
    "\n",
    "time.sleep(5)\n",
    "try:\n",
    "    selenium=driver.find_element(By.CLASS_NAME,\"gsc-input\")\n",
    "    selenium.send_keys('selenium exception handling')\n",
    "    \n",
    "except ElementNotInteractableException as e:\n",
    "    print(\"Exception Raised : \",e)\n",
    "    selenium=driver.find_element(By.CLASS_NAME,\"gsc-input\")\n",
    "    selenium.send_keys('selenium exception handling')"
   ]
  },
  {
   "cell_type": "code",
   "execution_count": 15,
   "id": "1586c1a5",
   "metadata": {},
   "outputs": [],
   "source": [
    "driver.close()"
   ]
  },
  {
   "cell_type": "code",
   "execution_count": 19,
   "id": "21959932",
   "metadata": {},
   "outputs": [],
   "source": [
    "search=driver.find_element(By.CLASS_NAME,\"gsc-search-button\")\n",
    "search.click()"
   ]
  },
  {
   "cell_type": "code",
   "execution_count": 37,
   "id": "8fd81a93",
   "metadata": {},
   "outputs": [],
   "source": [
    "Names=[]\n",
    "Descriptions=[]"
   ]
  },
  {
   "cell_type": "code",
   "execution_count": 38,
   "id": "1c9f2906",
   "metadata": {},
   "outputs": [],
   "source": [
    "Name_tag=driver.find_elements(By.XPATH,'//a[@class=\"gs-title\"]')\n",
    "for i in Name_tag:\n",
    "    Names.append(i.text)     \n",
    "    \n",
    "Description_tag=driver.find_elements(By.XPATH,'//div[@class=\"gsc-table-result\"]')   \n",
    "for j in Description_tag:\n",
    "    Descriptions.append(j.text)      "
   ]
  },
  {
   "cell_type": "code",
   "execution_count": 39,
   "id": "b4ae7cd7",
   "metadata": {},
   "outputs": [
    {
     "data": {
      "text/plain": [
       "['Exception Handling in Selenium Webdriver (Types)',\n",
       " '',\n",
       " 'How to Handle SSL Certificate in Selenium WebDriver',\n",
       " '',\n",
       " 'Try Catch in Java: Exception Handling Example',\n",
       " '',\n",
       " 'Python Exception Handling: try, catch, finally & raise [Example]',\n",
       " '',\n",
       " 'C++ Exception Handling: Try, Catch, throw Example',\n",
       " '',\n",
       " 'Exception Handling in Oracle PL/SQL (Examples)',\n",
       " '',\n",
       " 'Exception Handling in VB.Net: Try & Catch Handling Examples',\n",
       " '',\n",
       " 'PHP Try Catch Example: Exception & Error Handling Tutorial',\n",
       " '',\n",
       " 'JSP Exception Handling: Error Page in JSP',\n",
       " '',\n",
       " 'Asp.Net Page Level Tracing, Debugging, Error Handling [Example]',\n",
       " '',\n",
       " '',\n",
       " '',\n",
       " '']"
      ]
     },
     "execution_count": 39,
     "metadata": {},
     "output_type": "execute_result"
    }
   ],
   "source": [
    "Names"
   ]
  },
  {
   "cell_type": "code",
   "execution_count": 42,
   "id": "1439e4e8",
   "metadata": {},
   "outputs": [
    {
     "data": {
      "text/plain": [
       "['4 days ago ... What is an Exceptions? An exception is an error that happens at the time of execution of a program. However, while running a program, ...',\n",
       " '4 days ago ... For handling SSL certificate error in Firefox, we need to use desired capabilities of Selenium Webdriver and follow the following steps.',\n",
       " '25-Aug-2022 ... All these errors are highlighted when you compile the code. Runtime Errors Example. A Runtime error is called an Exceptions error. It is any ...',\n",
       " '10-Sept-2022 ... In this Python exceptional handling tutorial, you will learn Exceptional Handling Mechanism(Try, Catch, Finally), Rules of Exceptions, ...',\n",
       " '25-Aug-2022 ... If an exceptional situation occurs within that section of code, an exception will be thrown. Next, the exception handler will take over control ...',\n",
       " '13-Sept-2022 ... In this tutorial, we learn Oracle PL/SQL Exception Handling with Examples. We also learn types of Exception, Predefined and User-defined ...',\n",
       " '22-Oct-2022 ... In this VB.Net Exception Handling tutorial, we will learn What is Exception Handling in VB.Net with Try, Catch, Finally, & Throw Exception ...',\n",
       " '01-Oct-2022 ... Learn with example Exception & Error handling using try catch blocks for thrown exceptions, Multiple Exceptions.',\n",
       " '4 days ago ... Exception handling in JSP is the same as in Java where we manage exceptions using Try Catch blocks. Unlike Java, there are exceptions in JSP ...',\n",
       " '4 days ago ... In any application, errors are bound to occur during the development process. It is important to be able to discover errors at an early ...',\n",
       " '',\n",
       " '-',\n",
       " '-',\n",
       " '-',\n",
       " '-',\n",
       " '-',\n",
       " '-',\n",
       " '-',\n",
       " '-',\n",
       " '-',\n",
       " '-',\n",
       " '-',\n",
       " '-']"
      ]
     },
     "execution_count": 42,
     "metadata": {},
     "output_type": "execute_result"
    }
   ],
   "source": [
    "Descriptions=Descriptions+['-']*12\n",
    "Descriptions"
   ]
  },
  {
   "cell_type": "code",
   "execution_count": 43,
   "id": "fc55791e",
   "metadata": {},
   "outputs": [
    {
     "name": "stdout",
     "output_type": "stream",
     "text": [
      "23 23\n"
     ]
    }
   ],
   "source": [
    "print(len(Names),len(Descriptions))"
   ]
  },
  {
   "cell_type": "code",
   "execution_count": 47,
   "id": "471e622e",
   "metadata": {},
   "outputs": [
    {
     "data": {
      "text/html": [
       "<div>\n",
       "<style scoped>\n",
       "    .dataframe tbody tr th:only-of-type {\n",
       "        vertical-align: middle;\n",
       "    }\n",
       "\n",
       "    .dataframe tbody tr th {\n",
       "        vertical-align: top;\n",
       "    }\n",
       "\n",
       "    .dataframe thead th {\n",
       "        text-align: right;\n",
       "    }\n",
       "</style>\n",
       "<table border=\"1\" class=\"dataframe\">\n",
       "  <thead>\n",
       "    <tr style=\"text-align: right;\">\n",
       "      <th></th>\n",
       "      <th>Name</th>\n",
       "      <th>Description</th>\n",
       "    </tr>\n",
       "  </thead>\n",
       "  <tbody>\n",
       "    <tr>\n",
       "      <th>0</th>\n",
       "      <td>Exception Handling in Selenium Webdriver (Types)</td>\n",
       "      <td>4 days ago ... What is an Exceptions? An excep...</td>\n",
       "    </tr>\n",
       "    <tr>\n",
       "      <th>1</th>\n",
       "      <td></td>\n",
       "      <td>4 days ago ... For handling SSL certificate er...</td>\n",
       "    </tr>\n",
       "    <tr>\n",
       "      <th>2</th>\n",
       "      <td>How to Handle SSL Certificate in Selenium WebD...</td>\n",
       "      <td>25-Aug-2022 ... All these errors are highlight...</td>\n",
       "    </tr>\n",
       "    <tr>\n",
       "      <th>3</th>\n",
       "      <td></td>\n",
       "      <td>10-Sept-2022 ... In this Python exceptional ha...</td>\n",
       "    </tr>\n",
       "    <tr>\n",
       "      <th>4</th>\n",
       "      <td>Try Catch in Java: Exception Handling Example</td>\n",
       "      <td>25-Aug-2022 ... If an exceptional situation oc...</td>\n",
       "    </tr>\n",
       "    <tr>\n",
       "      <th>5</th>\n",
       "      <td></td>\n",
       "      <td>13-Sept-2022 ... In this tutorial, we learn Or...</td>\n",
       "    </tr>\n",
       "    <tr>\n",
       "      <th>6</th>\n",
       "      <td>Python Exception Handling: try, catch, finally...</td>\n",
       "      <td>22-Oct-2022 ... In this VB.Net Exception Handl...</td>\n",
       "    </tr>\n",
       "    <tr>\n",
       "      <th>7</th>\n",
       "      <td></td>\n",
       "      <td>01-Oct-2022 ... Learn with example Exception &amp;...</td>\n",
       "    </tr>\n",
       "    <tr>\n",
       "      <th>8</th>\n",
       "      <td>C++ Exception Handling: Try, Catch, throw Example</td>\n",
       "      <td>4 days ago ... Exception handling in JSP is th...</td>\n",
       "    </tr>\n",
       "    <tr>\n",
       "      <th>9</th>\n",
       "      <td></td>\n",
       "      <td>4 days ago ... In any application, errors are ...</td>\n",
       "    </tr>\n",
       "  </tbody>\n",
       "</table>\n",
       "</div>"
      ],
      "text/plain": [
       "                                                Name  \\\n",
       "0   Exception Handling in Selenium Webdriver (Types)   \n",
       "1                                                      \n",
       "2  How to Handle SSL Certificate in Selenium WebD...   \n",
       "3                                                      \n",
       "4      Try Catch in Java: Exception Handling Example   \n",
       "5                                                      \n",
       "6  Python Exception Handling: try, catch, finally...   \n",
       "7                                                      \n",
       "8  C++ Exception Handling: Try, Catch, throw Example   \n",
       "9                                                      \n",
       "\n",
       "                                         Description  \n",
       "0  4 days ago ... What is an Exceptions? An excep...  \n",
       "1  4 days ago ... For handling SSL certificate er...  \n",
       "2  25-Aug-2022 ... All these errors are highlight...  \n",
       "3  10-Sept-2022 ... In this Python exceptional ha...  \n",
       "4  25-Aug-2022 ... If an exceptional situation oc...  \n",
       "5  13-Sept-2022 ... In this tutorial, we learn Or...  \n",
       "6  22-Oct-2022 ... In this VB.Net Exception Handl...  \n",
       "7  01-Oct-2022 ... Learn with example Exception &...  \n",
       "8  4 days ago ... Exception handling in JSP is th...  \n",
       "9  4 days ago ... In any application, errors are ...  "
      ]
     },
     "execution_count": 47,
     "metadata": {},
     "output_type": "execute_result"
    }
   ],
   "source": [
    "selenium_exp_details=pd.DataFrame({'Name':Names,'Description':Descriptions})\n",
    "selenium_exp_details.head(10)"
   ]
  },
  {
   "cell_type": "markdown",
   "id": "be7cee9a",
   "metadata": {},
   "source": [
    "4. Scrape the details of State-wise GDP of India from statisticstime.com.\n",
    "Url = http://statisticstimes.com/\n",
    "You have to find following details:\n",
    "A) Rank\n",
    "B) State\n",
    "C) GSDP(18-19)\n",
    "D) GSDP(17-18)\n",
    "E) Share(2017)\n",
    "F) GDP($ billion)"
   ]
  },
  {
   "cell_type": "code",
   "execution_count": 31,
   "id": "1855139b",
   "metadata": {},
   "outputs": [],
   "source": [
    "# First connect to the driver\n",
    "\n",
    "driver=webdriver.Chrome(r\"C:\\Users\\User\\Downloads\\chromedriver_win32\\chromedriver.exe\")"
   ]
  },
  {
   "cell_type": "code",
   "execution_count": 6,
   "id": "c7875c54",
   "metadata": {},
   "outputs": [],
   "source": [
    "# Opening the GDP page on automated chrome browser\n",
    "\n",
    "driver.get(\" http://statisticstimes.com/\")"
   ]
  },
  {
   "cell_type": "code",
   "execution_count": 54,
   "id": "f103873a",
   "metadata": {},
   "outputs": [
    {
     "ename": "ElementNotInteractableException",
     "evalue": "Message: element not interactable\n  (Session info: chrome=107.0.5304.88)\nStacktrace:\nBacktrace:\n\tOrdinal0 [0x00931ED3+2236115]\n\tOrdinal0 [0x008C92F1+1807089]\n\tOrdinal0 [0x007D65C0+812480]\n\tOrdinal0 [0x00806586+1009030]\n\tOrdinal0 [0x007FC416+967702]\n\tOrdinal0 [0x00821A8C+1120908]\n\tOrdinal0 [0x007FBD84+966020]\n\tOrdinal0 [0x00821CA4+1121444]\n\tOrdinal0 [0x008359E2+1202658]\n\tOrdinal0 [0x008218A6+1120422]\n\tOrdinal0 [0x007FA73D+960317]\n\tOrdinal0 [0x007FB71F+964383]\n\tGetHandleVerifier [0x00BDE7E2+2743074]\n\tGetHandleVerifier [0x00BD08D4+2685972]\n\tGetHandleVerifier [0x009C2BAA+532202]\n\tGetHandleVerifier [0x009C1990+527568]\n\tOrdinal0 [0x008D080C+1837068]\n\tOrdinal0 [0x008D4CD8+1854680]\n\tOrdinal0 [0x008D4DC5+1854917]\n\tOrdinal0 [0x008DED64+1895780]\n\tBaseThreadInitThunk [0x7661FA29+25]\n\tRtlGetAppContainerNamedObjectPath [0x773F7A9E+286]\n\tRtlGetAppContainerNamedObjectPath [0x773F7A6E+238]\n",
     "output_type": "error",
     "traceback": [
      "\u001b[1;31m---------------------------------------------------------------------------\u001b[0m",
      "\u001b[1;31mElementNotInteractableException\u001b[0m           Traceback (most recent call last)",
      "\u001b[1;32m<ipython-input-54-93bfa4c3d450>\u001b[0m in \u001b[0;36m<module>\u001b[1;34m\u001b[0m\n\u001b[0;32m      1\u001b[0m \u001b[0meconomy\u001b[0m\u001b[1;33m=\u001b[0m\u001b[0mdriver\u001b[0m\u001b[1;33m.\u001b[0m\u001b[0mfind_element\u001b[0m\u001b[1;33m(\u001b[0m\u001b[0mBy\u001b[0m\u001b[1;33m.\u001b[0m\u001b[0mCLASS_NAME\u001b[0m\u001b[1;33m,\u001b[0m\u001b[1;34m\"dropdown-content\"\u001b[0m\u001b[1;33m)\u001b[0m\u001b[1;33m\u001b[0m\u001b[1;33m\u001b[0m\u001b[0m\n\u001b[1;32m----> 2\u001b[1;33m \u001b[0meconomy\u001b[0m\u001b[1;33m.\u001b[0m\u001b[0mclick\u001b[0m\u001b[1;33m(\u001b[0m\u001b[1;33m)\u001b[0m\u001b[1;33m\u001b[0m\u001b[1;33m\u001b[0m\u001b[0m\n\u001b[0m",
      "\u001b[1;32m~\\anaconda3\\lib\\site-packages\\selenium\\webdriver\\remote\\webelement.py\u001b[0m in \u001b[0;36mclick\u001b[1;34m(self)\u001b[0m\n\u001b[0;32m     86\u001b[0m     \u001b[1;32mdef\u001b[0m \u001b[0mclick\u001b[0m\u001b[1;33m(\u001b[0m\u001b[0mself\u001b[0m\u001b[1;33m)\u001b[0m \u001b[1;33m->\u001b[0m \u001b[1;32mNone\u001b[0m\u001b[1;33m:\u001b[0m\u001b[1;33m\u001b[0m\u001b[1;33m\u001b[0m\u001b[0m\n\u001b[0;32m     87\u001b[0m         \u001b[1;34m\"\"\"Clicks the element.\"\"\"\u001b[0m\u001b[1;33m\u001b[0m\u001b[1;33m\u001b[0m\u001b[0m\n\u001b[1;32m---> 88\u001b[1;33m         \u001b[0mself\u001b[0m\u001b[1;33m.\u001b[0m\u001b[0m_execute\u001b[0m\u001b[1;33m(\u001b[0m\u001b[0mCommand\u001b[0m\u001b[1;33m.\u001b[0m\u001b[0mCLICK_ELEMENT\u001b[0m\u001b[1;33m)\u001b[0m\u001b[1;33m\u001b[0m\u001b[1;33m\u001b[0m\u001b[0m\n\u001b[0m\u001b[0;32m     89\u001b[0m \u001b[1;33m\u001b[0m\u001b[0m\n\u001b[0;32m     90\u001b[0m     \u001b[1;32mdef\u001b[0m \u001b[0msubmit\u001b[0m\u001b[1;33m(\u001b[0m\u001b[0mself\u001b[0m\u001b[1;33m)\u001b[0m\u001b[1;33m:\u001b[0m\u001b[1;33m\u001b[0m\u001b[1;33m\u001b[0m\u001b[0m\n",
      "\u001b[1;32m~\\anaconda3\\lib\\site-packages\\selenium\\webdriver\\remote\\webelement.py\u001b[0m in \u001b[0;36m_execute\u001b[1;34m(self, command, params)\u001b[0m\n\u001b[0;32m    394\u001b[0m             \u001b[0mparams\u001b[0m \u001b[1;33m=\u001b[0m \u001b[1;33m{\u001b[0m\u001b[1;33m}\u001b[0m\u001b[1;33m\u001b[0m\u001b[1;33m\u001b[0m\u001b[0m\n\u001b[0;32m    395\u001b[0m         \u001b[0mparams\u001b[0m\u001b[1;33m[\u001b[0m\u001b[1;34m'id'\u001b[0m\u001b[1;33m]\u001b[0m \u001b[1;33m=\u001b[0m \u001b[0mself\u001b[0m\u001b[1;33m.\u001b[0m\u001b[0m_id\u001b[0m\u001b[1;33m\u001b[0m\u001b[1;33m\u001b[0m\u001b[0m\n\u001b[1;32m--> 396\u001b[1;33m         \u001b[1;32mreturn\u001b[0m \u001b[0mself\u001b[0m\u001b[1;33m.\u001b[0m\u001b[0m_parent\u001b[0m\u001b[1;33m.\u001b[0m\u001b[0mexecute\u001b[0m\u001b[1;33m(\u001b[0m\u001b[0mcommand\u001b[0m\u001b[1;33m,\u001b[0m \u001b[0mparams\u001b[0m\u001b[1;33m)\u001b[0m\u001b[1;33m\u001b[0m\u001b[1;33m\u001b[0m\u001b[0m\n\u001b[0m\u001b[0;32m    397\u001b[0m \u001b[1;33m\u001b[0m\u001b[0m\n\u001b[0;32m    398\u001b[0m     \u001b[1;32mdef\u001b[0m \u001b[0mfind_element\u001b[0m\u001b[1;33m(\u001b[0m\u001b[0mself\u001b[0m\u001b[1;33m,\u001b[0m \u001b[0mby\u001b[0m\u001b[1;33m=\u001b[0m\u001b[0mBy\u001b[0m\u001b[1;33m.\u001b[0m\u001b[0mID\u001b[0m\u001b[1;33m,\u001b[0m \u001b[0mvalue\u001b[0m\u001b[1;33m=\u001b[0m\u001b[1;32mNone\u001b[0m\u001b[1;33m)\u001b[0m \u001b[1;33m->\u001b[0m \u001b[0mWebElement\u001b[0m\u001b[1;33m:\u001b[0m\u001b[1;33m\u001b[0m\u001b[1;33m\u001b[0m\u001b[0m\n",
      "\u001b[1;32m~\\anaconda3\\lib\\site-packages\\selenium\\webdriver\\remote\\webdriver.py\u001b[0m in \u001b[0;36mexecute\u001b[1;34m(self, driver_command, params)\u001b[0m\n\u001b[0;32m    427\u001b[0m         \u001b[0mresponse\u001b[0m \u001b[1;33m=\u001b[0m \u001b[0mself\u001b[0m\u001b[1;33m.\u001b[0m\u001b[0mcommand_executor\u001b[0m\u001b[1;33m.\u001b[0m\u001b[0mexecute\u001b[0m\u001b[1;33m(\u001b[0m\u001b[0mdriver_command\u001b[0m\u001b[1;33m,\u001b[0m \u001b[0mparams\u001b[0m\u001b[1;33m)\u001b[0m\u001b[1;33m\u001b[0m\u001b[1;33m\u001b[0m\u001b[0m\n\u001b[0;32m    428\u001b[0m         \u001b[1;32mif\u001b[0m \u001b[0mresponse\u001b[0m\u001b[1;33m:\u001b[0m\u001b[1;33m\u001b[0m\u001b[1;33m\u001b[0m\u001b[0m\n\u001b[1;32m--> 429\u001b[1;33m             \u001b[0mself\u001b[0m\u001b[1;33m.\u001b[0m\u001b[0merror_handler\u001b[0m\u001b[1;33m.\u001b[0m\u001b[0mcheck_response\u001b[0m\u001b[1;33m(\u001b[0m\u001b[0mresponse\u001b[0m\u001b[1;33m)\u001b[0m\u001b[1;33m\u001b[0m\u001b[1;33m\u001b[0m\u001b[0m\n\u001b[0m\u001b[0;32m    430\u001b[0m             response['value'] = self._unwrap_value(\n\u001b[0;32m    431\u001b[0m                 response.get('value', None))\n",
      "\u001b[1;32m~\\anaconda3\\lib\\site-packages\\selenium\\webdriver\\remote\\errorhandler.py\u001b[0m in \u001b[0;36mcheck_response\u001b[1;34m(self, response)\u001b[0m\n\u001b[0;32m    241\u001b[0m                 \u001b[0malert_text\u001b[0m \u001b[1;33m=\u001b[0m \u001b[0mvalue\u001b[0m\u001b[1;33m[\u001b[0m\u001b[1;34m'alert'\u001b[0m\u001b[1;33m]\u001b[0m\u001b[1;33m.\u001b[0m\u001b[0mget\u001b[0m\u001b[1;33m(\u001b[0m\u001b[1;34m'text'\u001b[0m\u001b[1;33m)\u001b[0m\u001b[1;33m\u001b[0m\u001b[1;33m\u001b[0m\u001b[0m\n\u001b[0;32m    242\u001b[0m             \u001b[1;32mraise\u001b[0m \u001b[0mexception_class\u001b[0m\u001b[1;33m(\u001b[0m\u001b[0mmessage\u001b[0m\u001b[1;33m,\u001b[0m \u001b[0mscreen\u001b[0m\u001b[1;33m,\u001b[0m \u001b[0mstacktrace\u001b[0m\u001b[1;33m,\u001b[0m \u001b[0malert_text\u001b[0m\u001b[1;33m)\u001b[0m  \u001b[1;31m# type: ignore[call-arg]  # mypy is not smart enough here\u001b[0m\u001b[1;33m\u001b[0m\u001b[1;33m\u001b[0m\u001b[0m\n\u001b[1;32m--> 243\u001b[1;33m         \u001b[1;32mraise\u001b[0m \u001b[0mexception_class\u001b[0m\u001b[1;33m(\u001b[0m\u001b[0mmessage\u001b[0m\u001b[1;33m,\u001b[0m \u001b[0mscreen\u001b[0m\u001b[1;33m,\u001b[0m \u001b[0mstacktrace\u001b[0m\u001b[1;33m)\u001b[0m\u001b[1;33m\u001b[0m\u001b[1;33m\u001b[0m\u001b[0m\n\u001b[0m",
      "\u001b[1;31mElementNotInteractableException\u001b[0m: Message: element not interactable\n  (Session info: chrome=107.0.5304.88)\nStacktrace:\nBacktrace:\n\tOrdinal0 [0x00931ED3+2236115]\n\tOrdinal0 [0x008C92F1+1807089]\n\tOrdinal0 [0x007D65C0+812480]\n\tOrdinal0 [0x00806586+1009030]\n\tOrdinal0 [0x007FC416+967702]\n\tOrdinal0 [0x00821A8C+1120908]\n\tOrdinal0 [0x007FBD84+966020]\n\tOrdinal0 [0x00821CA4+1121444]\n\tOrdinal0 [0x008359E2+1202658]\n\tOrdinal0 [0x008218A6+1120422]\n\tOrdinal0 [0x007FA73D+960317]\n\tOrdinal0 [0x007FB71F+964383]\n\tGetHandleVerifier [0x00BDE7E2+2743074]\n\tGetHandleVerifier [0x00BD08D4+2685972]\n\tGetHandleVerifier [0x009C2BAA+532202]\n\tGetHandleVerifier [0x009C1990+527568]\n\tOrdinal0 [0x008D080C+1837068]\n\tOrdinal0 [0x008D4CD8+1854680]\n\tOrdinal0 [0x008D4DC5+1854917]\n\tOrdinal0 [0x008DED64+1895780]\n\tBaseThreadInitThunk [0x7661FA29+25]\n\tRtlGetAppContainerNamedObjectPath [0x773F7A9E+286]\n\tRtlGetAppContainerNamedObjectPath [0x773F7A6E+238]\n"
     ]
    }
   ],
   "source": [
    "economy=driver.find_element(By.CLASS_NAME,\"dropdown-content\")\n",
    "economy.click()"
   ]
  },
  {
   "cell_type": "code",
   "execution_count": 55,
   "id": "dcacae38",
   "metadata": {},
   "outputs": [
    {
     "name": "stdout",
     "output_type": "stream",
     "text": [
      "Exception Raised :  Message: element not interactable\n",
      "  (Session info: chrome=107.0.5304.88)\n",
      "Stacktrace:\n",
      "Backtrace:\n",
      "\tOrdinal0 [0x00931ED3+2236115]\n",
      "\tOrdinal0 [0x008C92F1+1807089]\n",
      "\tOrdinal0 [0x007D65C0+812480]\n",
      "\tOrdinal0 [0x00806586+1009030]\n",
      "\tOrdinal0 [0x007FC416+967702]\n",
      "\tOrdinal0 [0x00821A8C+1120908]\n",
      "\tOrdinal0 [0x007FBD84+966020]\n",
      "\tOrdinal0 [0x00821CA4+1121444]\n",
      "\tOrdinal0 [0x008359E2+1202658]\n",
      "\tOrdinal0 [0x008218A6+1120422]\n",
      "\tOrdinal0 [0x007FA73D+960317]\n",
      "\tOrdinal0 [0x007FB71F+964383]\n",
      "\tGetHandleVerifier [0x00BDE7E2+2743074]\n",
      "\tGetHandleVerifier [0x00BD08D4+2685972]\n",
      "\tGetHandleVerifier [0x009C2BAA+532202]\n",
      "\tGetHandleVerifier [0x009C1990+527568]\n",
      "\tOrdinal0 [0x008D080C+1837068]\n",
      "\tOrdinal0 [0x008D4CD8+1854680]\n",
      "\tOrdinal0 [0x008D4DC5+1854917]\n",
      "\tOrdinal0 [0x008DED64+1895780]\n",
      "\tBaseThreadInitThunk [0x7661FA29+25]\n",
      "\tRtlGetAppContainerNamedObjectPath [0x773F7A9E+286]\n",
      "\tRtlGetAppContainerNamedObjectPath [0x773F7A6E+238]\n",
      "\n"
     ]
    },
    {
     "ename": "ElementNotInteractableException",
     "evalue": "Message: element not interactable\n  (Session info: chrome=107.0.5304.88)\nStacktrace:\nBacktrace:\n\tOrdinal0 [0x00931ED3+2236115]\n\tOrdinal0 [0x008C92F1+1807089]\n\tOrdinal0 [0x007D65C0+812480]\n\tOrdinal0 [0x00806586+1009030]\n\tOrdinal0 [0x007FC416+967702]\n\tOrdinal0 [0x00821A8C+1120908]\n\tOrdinal0 [0x007FBD84+966020]\n\tOrdinal0 [0x00821CA4+1121444]\n\tOrdinal0 [0x008359E2+1202658]\n\tOrdinal0 [0x008218A6+1120422]\n\tOrdinal0 [0x007FA73D+960317]\n\tOrdinal0 [0x007FB71F+964383]\n\tGetHandleVerifier [0x00BDE7E2+2743074]\n\tGetHandleVerifier [0x00BD08D4+2685972]\n\tGetHandleVerifier [0x009C2BAA+532202]\n\tGetHandleVerifier [0x009C1990+527568]\n\tOrdinal0 [0x008D080C+1837068]\n\tOrdinal0 [0x008D4CD8+1854680]\n\tOrdinal0 [0x008D4DC5+1854917]\n\tOrdinal0 [0x008DED64+1895780]\n\tBaseThreadInitThunk [0x7661FA29+25]\n\tRtlGetAppContainerNamedObjectPath [0x773F7A9E+286]\n\tRtlGetAppContainerNamedObjectPath [0x773F7A6E+238]\n",
     "output_type": "error",
     "traceback": [
      "\u001b[1;31m---------------------------------------------------------------------------\u001b[0m",
      "\u001b[1;31mElementNotInteractableException\u001b[0m           Traceback (most recent call last)",
      "\u001b[1;32m<ipython-input-55-dc5bf11b0960>\u001b[0m in \u001b[0;36m<module>\u001b[1;34m\u001b[0m\n\u001b[0;32m      5\u001b[0m     \u001b[0meconomy\u001b[0m\u001b[1;33m=\u001b[0m\u001b[0mdriver\u001b[0m\u001b[1;33m.\u001b[0m\u001b[0mfind_element\u001b[0m\u001b[1;33m(\u001b[0m\u001b[0mBy\u001b[0m\u001b[1;33m.\u001b[0m\u001b[0mCLASS_NAME\u001b[0m\u001b[1;33m,\u001b[0m\u001b[1;34m\"dropdown-content\"\u001b[0m\u001b[1;33m)\u001b[0m\u001b[1;33m\u001b[0m\u001b[1;33m\u001b[0m\u001b[0m\n\u001b[1;32m----> 6\u001b[1;33m     \u001b[0meconomy\u001b[0m\u001b[1;33m.\u001b[0m\u001b[0mclick\u001b[0m\u001b[1;33m(\u001b[0m\u001b[1;33m)\u001b[0m\u001b[1;33m\u001b[0m\u001b[1;33m\u001b[0m\u001b[0m\n\u001b[0m\u001b[0;32m      7\u001b[0m \u001b[1;33m\u001b[0m\u001b[0m\n",
      "\u001b[1;32m~\\anaconda3\\lib\\site-packages\\selenium\\webdriver\\remote\\webelement.py\u001b[0m in \u001b[0;36mclick\u001b[1;34m(self)\u001b[0m\n\u001b[0;32m     87\u001b[0m         \u001b[1;34m\"\"\"Clicks the element.\"\"\"\u001b[0m\u001b[1;33m\u001b[0m\u001b[1;33m\u001b[0m\u001b[0m\n\u001b[1;32m---> 88\u001b[1;33m         \u001b[0mself\u001b[0m\u001b[1;33m.\u001b[0m\u001b[0m_execute\u001b[0m\u001b[1;33m(\u001b[0m\u001b[0mCommand\u001b[0m\u001b[1;33m.\u001b[0m\u001b[0mCLICK_ELEMENT\u001b[0m\u001b[1;33m)\u001b[0m\u001b[1;33m\u001b[0m\u001b[1;33m\u001b[0m\u001b[0m\n\u001b[0m\u001b[0;32m     89\u001b[0m \u001b[1;33m\u001b[0m\u001b[0m\n",
      "\u001b[1;32m~\\anaconda3\\lib\\site-packages\\selenium\\webdriver\\remote\\webelement.py\u001b[0m in \u001b[0;36m_execute\u001b[1;34m(self, command, params)\u001b[0m\n\u001b[0;32m    395\u001b[0m         \u001b[0mparams\u001b[0m\u001b[1;33m[\u001b[0m\u001b[1;34m'id'\u001b[0m\u001b[1;33m]\u001b[0m \u001b[1;33m=\u001b[0m \u001b[0mself\u001b[0m\u001b[1;33m.\u001b[0m\u001b[0m_id\u001b[0m\u001b[1;33m\u001b[0m\u001b[1;33m\u001b[0m\u001b[0m\n\u001b[1;32m--> 396\u001b[1;33m         \u001b[1;32mreturn\u001b[0m \u001b[0mself\u001b[0m\u001b[1;33m.\u001b[0m\u001b[0m_parent\u001b[0m\u001b[1;33m.\u001b[0m\u001b[0mexecute\u001b[0m\u001b[1;33m(\u001b[0m\u001b[0mcommand\u001b[0m\u001b[1;33m,\u001b[0m \u001b[0mparams\u001b[0m\u001b[1;33m)\u001b[0m\u001b[1;33m\u001b[0m\u001b[1;33m\u001b[0m\u001b[0m\n\u001b[0m\u001b[0;32m    397\u001b[0m \u001b[1;33m\u001b[0m\u001b[0m\n",
      "\u001b[1;32m~\\anaconda3\\lib\\site-packages\\selenium\\webdriver\\remote\\webdriver.py\u001b[0m in \u001b[0;36mexecute\u001b[1;34m(self, driver_command, params)\u001b[0m\n\u001b[0;32m    428\u001b[0m         \u001b[1;32mif\u001b[0m \u001b[0mresponse\u001b[0m\u001b[1;33m:\u001b[0m\u001b[1;33m\u001b[0m\u001b[1;33m\u001b[0m\u001b[0m\n\u001b[1;32m--> 429\u001b[1;33m             \u001b[0mself\u001b[0m\u001b[1;33m.\u001b[0m\u001b[0merror_handler\u001b[0m\u001b[1;33m.\u001b[0m\u001b[0mcheck_response\u001b[0m\u001b[1;33m(\u001b[0m\u001b[0mresponse\u001b[0m\u001b[1;33m)\u001b[0m\u001b[1;33m\u001b[0m\u001b[1;33m\u001b[0m\u001b[0m\n\u001b[0m\u001b[0;32m    430\u001b[0m             response['value'] = self._unwrap_value(\n",
      "\u001b[1;32m~\\anaconda3\\lib\\site-packages\\selenium\\webdriver\\remote\\errorhandler.py\u001b[0m in \u001b[0;36mcheck_response\u001b[1;34m(self, response)\u001b[0m\n\u001b[0;32m    242\u001b[0m             \u001b[1;32mraise\u001b[0m \u001b[0mexception_class\u001b[0m\u001b[1;33m(\u001b[0m\u001b[0mmessage\u001b[0m\u001b[1;33m,\u001b[0m \u001b[0mscreen\u001b[0m\u001b[1;33m,\u001b[0m \u001b[0mstacktrace\u001b[0m\u001b[1;33m,\u001b[0m \u001b[0malert_text\u001b[0m\u001b[1;33m)\u001b[0m  \u001b[1;31m# type: ignore[call-arg]  # mypy is not smart enough here\u001b[0m\u001b[1;33m\u001b[0m\u001b[1;33m\u001b[0m\u001b[0m\n\u001b[1;32m--> 243\u001b[1;33m         \u001b[1;32mraise\u001b[0m \u001b[0mexception_class\u001b[0m\u001b[1;33m(\u001b[0m\u001b[0mmessage\u001b[0m\u001b[1;33m,\u001b[0m \u001b[0mscreen\u001b[0m\u001b[1;33m,\u001b[0m \u001b[0mstacktrace\u001b[0m\u001b[1;33m)\u001b[0m\u001b[1;33m\u001b[0m\u001b[1;33m\u001b[0m\u001b[0m\n\u001b[0m",
      "\u001b[1;31mElementNotInteractableException\u001b[0m: Message: element not interactable\n  (Session info: chrome=107.0.5304.88)\nStacktrace:\nBacktrace:\n\tOrdinal0 [0x00931ED3+2236115]\n\tOrdinal0 [0x008C92F1+1807089]\n\tOrdinal0 [0x007D65C0+812480]\n\tOrdinal0 [0x00806586+1009030]\n\tOrdinal0 [0x007FC416+967702]\n\tOrdinal0 [0x00821A8C+1120908]\n\tOrdinal0 [0x007FBD84+966020]\n\tOrdinal0 [0x00821CA4+1121444]\n\tOrdinal0 [0x008359E2+1202658]\n\tOrdinal0 [0x008218A6+1120422]\n\tOrdinal0 [0x007FA73D+960317]\n\tOrdinal0 [0x007FB71F+964383]\n\tGetHandleVerifier [0x00BDE7E2+2743074]\n\tGetHandleVerifier [0x00BD08D4+2685972]\n\tGetHandleVerifier [0x009C2BAA+532202]\n\tGetHandleVerifier [0x009C1990+527568]\n\tOrdinal0 [0x008D080C+1837068]\n\tOrdinal0 [0x008D4CD8+1854680]\n\tOrdinal0 [0x008D4DC5+1854917]\n\tOrdinal0 [0x008DED64+1895780]\n\tBaseThreadInitThunk [0x7661FA29+25]\n\tRtlGetAppContainerNamedObjectPath [0x773F7A9E+286]\n\tRtlGetAppContainerNamedObjectPath [0x773F7A6E+238]\n",
      "\nDuring handling of the above exception, another exception occurred:\n",
      "\u001b[1;31mElementNotInteractableException\u001b[0m           Traceback (most recent call last)",
      "\u001b[1;32m<ipython-input-55-dc5bf11b0960>\u001b[0m in \u001b[0;36m<module>\u001b[1;34m\u001b[0m\n\u001b[0;32m      9\u001b[0m     \u001b[0mprint\u001b[0m\u001b[1;33m(\u001b[0m\u001b[1;34m\"Exception Raised : \"\u001b[0m\u001b[1;33m,\u001b[0m\u001b[0me\u001b[0m\u001b[1;33m)\u001b[0m\u001b[1;33m\u001b[0m\u001b[1;33m\u001b[0m\u001b[0m\n\u001b[0;32m     10\u001b[0m     \u001b[0meconomy\u001b[0m\u001b[1;33m=\u001b[0m\u001b[0mdriver\u001b[0m\u001b[1;33m.\u001b[0m\u001b[0mfind_element\u001b[0m\u001b[1;33m(\u001b[0m\u001b[0mBy\u001b[0m\u001b[1;33m.\u001b[0m\u001b[0mCLASS_NAME\u001b[0m\u001b[1;33m,\u001b[0m\u001b[1;34m\"dropdown-content\"\u001b[0m\u001b[1;33m)\u001b[0m\u001b[1;33m\u001b[0m\u001b[1;33m\u001b[0m\u001b[0m\n\u001b[1;32m---> 11\u001b[1;33m     \u001b[0meconomy\u001b[0m\u001b[1;33m.\u001b[0m\u001b[0mclick\u001b[0m\u001b[1;33m(\u001b[0m\u001b[1;33m)\u001b[0m\u001b[1;33m\u001b[0m\u001b[1;33m\u001b[0m\u001b[0m\n\u001b[0m",
      "\u001b[1;32m~\\anaconda3\\lib\\site-packages\\selenium\\webdriver\\remote\\webelement.py\u001b[0m in \u001b[0;36mclick\u001b[1;34m(self)\u001b[0m\n\u001b[0;32m     86\u001b[0m     \u001b[1;32mdef\u001b[0m \u001b[0mclick\u001b[0m\u001b[1;33m(\u001b[0m\u001b[0mself\u001b[0m\u001b[1;33m)\u001b[0m \u001b[1;33m->\u001b[0m \u001b[1;32mNone\u001b[0m\u001b[1;33m:\u001b[0m\u001b[1;33m\u001b[0m\u001b[1;33m\u001b[0m\u001b[0m\n\u001b[0;32m     87\u001b[0m         \u001b[1;34m\"\"\"Clicks the element.\"\"\"\u001b[0m\u001b[1;33m\u001b[0m\u001b[1;33m\u001b[0m\u001b[0m\n\u001b[1;32m---> 88\u001b[1;33m         \u001b[0mself\u001b[0m\u001b[1;33m.\u001b[0m\u001b[0m_execute\u001b[0m\u001b[1;33m(\u001b[0m\u001b[0mCommand\u001b[0m\u001b[1;33m.\u001b[0m\u001b[0mCLICK_ELEMENT\u001b[0m\u001b[1;33m)\u001b[0m\u001b[1;33m\u001b[0m\u001b[1;33m\u001b[0m\u001b[0m\n\u001b[0m\u001b[0;32m     89\u001b[0m \u001b[1;33m\u001b[0m\u001b[0m\n\u001b[0;32m     90\u001b[0m     \u001b[1;32mdef\u001b[0m \u001b[0msubmit\u001b[0m\u001b[1;33m(\u001b[0m\u001b[0mself\u001b[0m\u001b[1;33m)\u001b[0m\u001b[1;33m:\u001b[0m\u001b[1;33m\u001b[0m\u001b[1;33m\u001b[0m\u001b[0m\n",
      "\u001b[1;32m~\\anaconda3\\lib\\site-packages\\selenium\\webdriver\\remote\\webelement.py\u001b[0m in \u001b[0;36m_execute\u001b[1;34m(self, command, params)\u001b[0m\n\u001b[0;32m    394\u001b[0m             \u001b[0mparams\u001b[0m \u001b[1;33m=\u001b[0m \u001b[1;33m{\u001b[0m\u001b[1;33m}\u001b[0m\u001b[1;33m\u001b[0m\u001b[1;33m\u001b[0m\u001b[0m\n\u001b[0;32m    395\u001b[0m         \u001b[0mparams\u001b[0m\u001b[1;33m[\u001b[0m\u001b[1;34m'id'\u001b[0m\u001b[1;33m]\u001b[0m \u001b[1;33m=\u001b[0m \u001b[0mself\u001b[0m\u001b[1;33m.\u001b[0m\u001b[0m_id\u001b[0m\u001b[1;33m\u001b[0m\u001b[1;33m\u001b[0m\u001b[0m\n\u001b[1;32m--> 396\u001b[1;33m         \u001b[1;32mreturn\u001b[0m \u001b[0mself\u001b[0m\u001b[1;33m.\u001b[0m\u001b[0m_parent\u001b[0m\u001b[1;33m.\u001b[0m\u001b[0mexecute\u001b[0m\u001b[1;33m(\u001b[0m\u001b[0mcommand\u001b[0m\u001b[1;33m,\u001b[0m \u001b[0mparams\u001b[0m\u001b[1;33m)\u001b[0m\u001b[1;33m\u001b[0m\u001b[1;33m\u001b[0m\u001b[0m\n\u001b[0m\u001b[0;32m    397\u001b[0m \u001b[1;33m\u001b[0m\u001b[0m\n\u001b[0;32m    398\u001b[0m     \u001b[1;32mdef\u001b[0m \u001b[0mfind_element\u001b[0m\u001b[1;33m(\u001b[0m\u001b[0mself\u001b[0m\u001b[1;33m,\u001b[0m \u001b[0mby\u001b[0m\u001b[1;33m=\u001b[0m\u001b[0mBy\u001b[0m\u001b[1;33m.\u001b[0m\u001b[0mID\u001b[0m\u001b[1;33m,\u001b[0m \u001b[0mvalue\u001b[0m\u001b[1;33m=\u001b[0m\u001b[1;32mNone\u001b[0m\u001b[1;33m)\u001b[0m \u001b[1;33m->\u001b[0m \u001b[0mWebElement\u001b[0m\u001b[1;33m:\u001b[0m\u001b[1;33m\u001b[0m\u001b[1;33m\u001b[0m\u001b[0m\n",
      "\u001b[1;32m~\\anaconda3\\lib\\site-packages\\selenium\\webdriver\\remote\\webdriver.py\u001b[0m in \u001b[0;36mexecute\u001b[1;34m(self, driver_command, params)\u001b[0m\n\u001b[0;32m    427\u001b[0m         \u001b[0mresponse\u001b[0m \u001b[1;33m=\u001b[0m \u001b[0mself\u001b[0m\u001b[1;33m.\u001b[0m\u001b[0mcommand_executor\u001b[0m\u001b[1;33m.\u001b[0m\u001b[0mexecute\u001b[0m\u001b[1;33m(\u001b[0m\u001b[0mdriver_command\u001b[0m\u001b[1;33m,\u001b[0m \u001b[0mparams\u001b[0m\u001b[1;33m)\u001b[0m\u001b[1;33m\u001b[0m\u001b[1;33m\u001b[0m\u001b[0m\n\u001b[0;32m    428\u001b[0m         \u001b[1;32mif\u001b[0m \u001b[0mresponse\u001b[0m\u001b[1;33m:\u001b[0m\u001b[1;33m\u001b[0m\u001b[1;33m\u001b[0m\u001b[0m\n\u001b[1;32m--> 429\u001b[1;33m             \u001b[0mself\u001b[0m\u001b[1;33m.\u001b[0m\u001b[0merror_handler\u001b[0m\u001b[1;33m.\u001b[0m\u001b[0mcheck_response\u001b[0m\u001b[1;33m(\u001b[0m\u001b[0mresponse\u001b[0m\u001b[1;33m)\u001b[0m\u001b[1;33m\u001b[0m\u001b[1;33m\u001b[0m\u001b[0m\n\u001b[0m\u001b[0;32m    430\u001b[0m             response['value'] = self._unwrap_value(\n\u001b[0;32m    431\u001b[0m                 response.get('value', None))\n",
      "\u001b[1;32m~\\anaconda3\\lib\\site-packages\\selenium\\webdriver\\remote\\errorhandler.py\u001b[0m in \u001b[0;36mcheck_response\u001b[1;34m(self, response)\u001b[0m\n\u001b[0;32m    241\u001b[0m                 \u001b[0malert_text\u001b[0m \u001b[1;33m=\u001b[0m \u001b[0mvalue\u001b[0m\u001b[1;33m[\u001b[0m\u001b[1;34m'alert'\u001b[0m\u001b[1;33m]\u001b[0m\u001b[1;33m.\u001b[0m\u001b[0mget\u001b[0m\u001b[1;33m(\u001b[0m\u001b[1;34m'text'\u001b[0m\u001b[1;33m)\u001b[0m\u001b[1;33m\u001b[0m\u001b[1;33m\u001b[0m\u001b[0m\n\u001b[0;32m    242\u001b[0m             \u001b[1;32mraise\u001b[0m \u001b[0mexception_class\u001b[0m\u001b[1;33m(\u001b[0m\u001b[0mmessage\u001b[0m\u001b[1;33m,\u001b[0m \u001b[0mscreen\u001b[0m\u001b[1;33m,\u001b[0m \u001b[0mstacktrace\u001b[0m\u001b[1;33m,\u001b[0m \u001b[0malert_text\u001b[0m\u001b[1;33m)\u001b[0m  \u001b[1;31m# type: ignore[call-arg]  # mypy is not smart enough here\u001b[0m\u001b[1;33m\u001b[0m\u001b[1;33m\u001b[0m\u001b[0m\n\u001b[1;32m--> 243\u001b[1;33m         \u001b[1;32mraise\u001b[0m \u001b[0mexception_class\u001b[0m\u001b[1;33m(\u001b[0m\u001b[0mmessage\u001b[0m\u001b[1;33m,\u001b[0m \u001b[0mscreen\u001b[0m\u001b[1;33m,\u001b[0m \u001b[0mstacktrace\u001b[0m\u001b[1;33m)\u001b[0m\u001b[1;33m\u001b[0m\u001b[1;33m\u001b[0m\u001b[0m\n\u001b[0m",
      "\u001b[1;31mElementNotInteractableException\u001b[0m: Message: element not interactable\n  (Session info: chrome=107.0.5304.88)\nStacktrace:\nBacktrace:\n\tOrdinal0 [0x00931ED3+2236115]\n\tOrdinal0 [0x008C92F1+1807089]\n\tOrdinal0 [0x007D65C0+812480]\n\tOrdinal0 [0x00806586+1009030]\n\tOrdinal0 [0x007FC416+967702]\n\tOrdinal0 [0x00821A8C+1120908]\n\tOrdinal0 [0x007FBD84+966020]\n\tOrdinal0 [0x00821CA4+1121444]\n\tOrdinal0 [0x008359E2+1202658]\n\tOrdinal0 [0x008218A6+1120422]\n\tOrdinal0 [0x007FA73D+960317]\n\tOrdinal0 [0x007FB71F+964383]\n\tGetHandleVerifier [0x00BDE7E2+2743074]\n\tGetHandleVerifier [0x00BD08D4+2685972]\n\tGetHandleVerifier [0x009C2BAA+532202]\n\tGetHandleVerifier [0x009C1990+527568]\n\tOrdinal0 [0x008D080C+1837068]\n\tOrdinal0 [0x008D4CD8+1854680]\n\tOrdinal0 [0x008D4DC5+1854917]\n\tOrdinal0 [0x008DED64+1895780]\n\tBaseThreadInitThunk [0x7661FA29+25]\n\tRtlGetAppContainerNamedObjectPath [0x773F7A9E+286]\n\tRtlGetAppContainerNamedObjectPath [0x773F7A6E+238]\n"
     ]
    }
   ],
   "source": [
    "# Handling Exception\n",
    "\n",
    "time.sleep(5)\n",
    "try:\n",
    "    economy=driver.find_element(By.CLASS_NAME,\"dropdown-content\")\n",
    "    economy.click()\n",
    "    \n",
    "except ElementNotInteractableException as e:\n",
    "    print(\"Exception Raised : \",e)\n",
    "    economy=driver.find_element(By.CLASS_NAME,\"dropdown-content\")\n",
    "    economy.click()"
   ]
  },
  {
   "cell_type": "code",
   "execution_count": 58,
   "id": "8ada63c1",
   "metadata": {},
   "outputs": [],
   "source": [
    "driver.close()"
   ]
  },
  {
   "cell_type": "code",
   "execution_count": 57,
   "id": "d8cb758b",
   "metadata": {},
   "outputs": [],
   "source": [
    "india_gdp=search=driver.find_element(By.CLASS_NAME,\"ec\")\n",
    "india_gdp.click()"
   ]
  },
  {
   "cell_type": "code",
   "execution_count": 13,
   "id": "dd3aaa8d",
   "metadata": {},
   "outputs": [],
   "source": [
    "Rank=[]\n",
    "State=[]\n",
    "Gsdp_2=[]"
   ]
  },
  {
   "cell_type": "code",
   "execution_count": 14,
   "id": "0372abbd",
   "metadata": {},
   "outputs": [],
   "source": [
    "    Rank_tag=driver.find_elements(By.XPATH,'//td[@class=\"data1\"]')\n",
    "    for i in Rank_tag:\n",
    "        Rank.append(i.text)\n",
    "        \n",
    "    State_tag=driver.find_elements(By.XPATH,'//td[@class=\"name\"]')   \n",
    "    for j in State_tag:\n",
    "        State.append(j.text)   \n",
    "        \n",
    "    Gdp2_tag=driver.find_elements(By.XPATH,'//td[@class=\"data sorting_1\"]')   \n",
    "    for m in Gdp2_tag:\n",
    "        Gsdp_2.append(m.text)"
   ]
  },
  {
   "cell_type": "code",
   "execution_count": 18,
   "id": "0bede6a7",
   "metadata": {},
   "outputs": [
    {
     "data": {
      "text/plain": [
       "['1', '2', '3', '4', '5', '6', '7', '8', '9', '10']"
      ]
     },
     "execution_count": 18,
     "metadata": {},
     "output_type": "execute_result"
    }
   ],
   "source": [
    "Ranks=Rank[0:10]\n",
    "Ranks"
   ]
  },
  {
   "cell_type": "code",
   "execution_count": 19,
   "id": "ad34a507",
   "metadata": {},
   "outputs": [
    {
     "data": {
      "text/plain": [
       "['Maharashtra',\n",
       " 'Tamil Nadu',\n",
       " 'Uttar Pradesh',\n",
       " 'Gujarat',\n",
       " 'Karnataka',\n",
       " 'West Bengal',\n",
       " 'Rajasthan',\n",
       " 'Andhra Pradesh',\n",
       " 'Telangana',\n",
       " 'Madhya Pradesh']"
      ]
     },
     "execution_count": 19,
     "metadata": {},
     "output_type": "execute_result"
    }
   ],
   "source": [
    "States=State[0:10]\n",
    "States"
   ]
  },
  {
   "cell_type": "code",
   "execution_count": 20,
   "id": "326341b5",
   "metadata": {},
   "outputs": [
    {
     "data": {
      "text/plain": [
       "['2,632,792',\n",
       " '1,630,208',\n",
       " '1,584,764',\n",
       " '1,502,899',\n",
       " '1,493,127',\n",
       " '1,089,898',\n",
       " '942,586',\n",
       " '862,957',\n",
       " '861,031',\n",
       " '809,592']"
      ]
     },
     "execution_count": 20,
     "metadata": {},
     "output_type": "execute_result"
    }
   ],
   "source": [
    "Gsdps_2=Gsdp_2[0:10]\n",
    "Gsdps_2"
   ]
  },
  {
   "cell_type": "code",
   "execution_count": 21,
   "id": "d7aea86e",
   "metadata": {},
   "outputs": [
    {
     "data": {
      "text/plain": [
       "['-',\n",
       " '1,845,853',\n",
       " '1,687,818',\n",
       " '-',\n",
       " '1,631,977',\n",
       " '1,253,832',\n",
       " '1,020,989',\n",
       " '972,782',\n",
       " '969,604',\n",
       " '906,672']"
      ]
     },
     "execution_count": 21,
     "metadata": {},
     "output_type": "execute_result"
    }
   ],
   "source": [
    "Gsdp_1=['-','1,845,853','1,687,818','-','1,631,977','1,253,832','1,020,989','972,782','969,604','906,672']\n",
    "Gsdp_1"
   ]
  },
  {
   "cell_type": "code",
   "execution_count": 22,
   "id": "fcafdd8b",
   "metadata": {},
   "outputs": [
    {
     "data": {
      "text/plain": [
       "['13.94%',\n",
       " '8.63%',\n",
       " '8.39%',\n",
       " '7.96%',\n",
       " '7.91%',\n",
       " '5.77%',\n",
       " '4.99%',\n",
       " '4.57%',\n",
       " '4.56%',\n",
       " '4.29%']"
      ]
     },
     "execution_count": 22,
     "metadata": {},
     "output_type": "execute_result"
    }
   ],
   "source": [
    "Share=['13.94%','8.63%','8.39%','7.96%','7.91%','5.77%','4.99%','4.57%','4.56%','4.29%']\n",
    "Share"
   ]
  },
  {
   "cell_type": "code",
   "execution_count": 23,
   "id": "5a852fdc",
   "metadata": {},
   "outputs": [
    {
     "data": {
      "text/plain": [
       "['399.921',\n",
       " '247.629',\n",
       " '240.726',\n",
       " '228.290',\n",
       " '226.806',\n",
       " '165.556',\n",
       " '143.179',\n",
       " '131.083',\n",
       " '130.791',\n",
       " '122.977']"
      ]
     },
     "execution_count": 23,
     "metadata": {},
     "output_type": "execute_result"
    }
   ],
   "source": [
    "GDP=['399.921','247.629','240.726','228.290','226.806','165.556','143.179','131.083','130.791','122.977']\n",
    "GDP"
   ]
  },
  {
   "cell_type": "code",
   "execution_count": 24,
   "id": "adcd0080",
   "metadata": {},
   "outputs": [
    {
     "name": "stdout",
     "output_type": "stream",
     "text": [
      "10 10 10 10 10\n"
     ]
    }
   ],
   "source": [
    "print(len(Ranks),len(States),len(Gsdps_2),len(Share),len(GDP))"
   ]
  },
  {
   "cell_type": "code",
   "execution_count": 25,
   "id": "de67f27a",
   "metadata": {},
   "outputs": [
    {
     "data": {
      "text/html": [
       "<div>\n",
       "<style scoped>\n",
       "    .dataframe tbody tr th:only-of-type {\n",
       "        vertical-align: middle;\n",
       "    }\n",
       "\n",
       "    .dataframe tbody tr th {\n",
       "        vertical-align: top;\n",
       "    }\n",
       "\n",
       "    .dataframe thead th {\n",
       "        text-align: right;\n",
       "    }\n",
       "</style>\n",
       "<table border=\"1\" class=\"dataframe\">\n",
       "  <thead>\n",
       "    <tr style=\"text-align: right;\">\n",
       "      <th></th>\n",
       "      <th>Rank</th>\n",
       "      <th>State</th>\n",
       "      <th>GSDP1</th>\n",
       "      <th>GSDP2</th>\n",
       "      <th>Share</th>\n",
       "      <th>GDP</th>\n",
       "    </tr>\n",
       "  </thead>\n",
       "  <tbody>\n",
       "    <tr>\n",
       "      <th>0</th>\n",
       "      <td>1</td>\n",
       "      <td>Maharashtra</td>\n",
       "      <td>-</td>\n",
       "      <td>2,632,792</td>\n",
       "      <td>13.94%</td>\n",
       "      <td>399.921</td>\n",
       "    </tr>\n",
       "    <tr>\n",
       "      <th>1</th>\n",
       "      <td>2</td>\n",
       "      <td>Tamil Nadu</td>\n",
       "      <td>1,845,853</td>\n",
       "      <td>1,630,208</td>\n",
       "      <td>8.63%</td>\n",
       "      <td>247.629</td>\n",
       "    </tr>\n",
       "    <tr>\n",
       "      <th>2</th>\n",
       "      <td>3</td>\n",
       "      <td>Uttar Pradesh</td>\n",
       "      <td>1,687,818</td>\n",
       "      <td>1,584,764</td>\n",
       "      <td>8.39%</td>\n",
       "      <td>240.726</td>\n",
       "    </tr>\n",
       "    <tr>\n",
       "      <th>3</th>\n",
       "      <td>4</td>\n",
       "      <td>Gujarat</td>\n",
       "      <td>-</td>\n",
       "      <td>1,502,899</td>\n",
       "      <td>7.96%</td>\n",
       "      <td>228.290</td>\n",
       "    </tr>\n",
       "    <tr>\n",
       "      <th>4</th>\n",
       "      <td>5</td>\n",
       "      <td>Karnataka</td>\n",
       "      <td>1,631,977</td>\n",
       "      <td>1,493,127</td>\n",
       "      <td>7.91%</td>\n",
       "      <td>226.806</td>\n",
       "    </tr>\n",
       "    <tr>\n",
       "      <th>5</th>\n",
       "      <td>6</td>\n",
       "      <td>West Bengal</td>\n",
       "      <td>1,253,832</td>\n",
       "      <td>1,089,898</td>\n",
       "      <td>5.77%</td>\n",
       "      <td>165.556</td>\n",
       "    </tr>\n",
       "    <tr>\n",
       "      <th>6</th>\n",
       "      <td>7</td>\n",
       "      <td>Rajasthan</td>\n",
       "      <td>1,020,989</td>\n",
       "      <td>942,586</td>\n",
       "      <td>4.99%</td>\n",
       "      <td>143.179</td>\n",
       "    </tr>\n",
       "    <tr>\n",
       "      <th>7</th>\n",
       "      <td>8</td>\n",
       "      <td>Andhra Pradesh</td>\n",
       "      <td>972,782</td>\n",
       "      <td>862,957</td>\n",
       "      <td>4.57%</td>\n",
       "      <td>131.083</td>\n",
       "    </tr>\n",
       "    <tr>\n",
       "      <th>8</th>\n",
       "      <td>9</td>\n",
       "      <td>Telangana</td>\n",
       "      <td>969,604</td>\n",
       "      <td>861,031</td>\n",
       "      <td>4.56%</td>\n",
       "      <td>130.791</td>\n",
       "    </tr>\n",
       "    <tr>\n",
       "      <th>9</th>\n",
       "      <td>10</td>\n",
       "      <td>Madhya Pradesh</td>\n",
       "      <td>906,672</td>\n",
       "      <td>809,592</td>\n",
       "      <td>4.29%</td>\n",
       "      <td>122.977</td>\n",
       "    </tr>\n",
       "  </tbody>\n",
       "</table>\n",
       "</div>"
      ],
      "text/plain": [
       "  Rank           State      GSDP1      GSDP2   Share      GDP\n",
       "0    1     Maharashtra          -  2,632,792  13.94%  399.921\n",
       "1    2      Tamil Nadu  1,845,853  1,630,208   8.63%  247.629\n",
       "2    3   Uttar Pradesh  1,687,818  1,584,764   8.39%  240.726\n",
       "3    4         Gujarat          -  1,502,899   7.96%  228.290\n",
       "4    5       Karnataka  1,631,977  1,493,127   7.91%  226.806\n",
       "5    6     West Bengal  1,253,832  1,089,898   5.77%  165.556\n",
       "6    7       Rajasthan  1,020,989    942,586   4.99%  143.179\n",
       "7    8  Andhra Pradesh    972,782    862,957   4.57%  131.083\n",
       "8    9       Telangana    969,604    861,031   4.56%  130.791\n",
       "9   10  Madhya Pradesh    906,672    809,592   4.29%  122.977"
      ]
     },
     "execution_count": 25,
     "metadata": {},
     "output_type": "execute_result"
    }
   ],
   "source": [
    "State_GDP=pd.DataFrame({'Rank':Ranks,'State':States,'GSDP1':Gsdp_1,'GSDP2':Gsdps_2,'Share':Share,'GDP':GDP})\n",
    "State_GDP"
   ]
  },
  {
   "cell_type": "markdown",
   "id": "c6f15c1d",
   "metadata": {},
   "source": [
    "5. Scrape the details of trending repositories on Github.com.\n",
    "Url = https://github.com/\n",
    "You have to find the following details:\n",
    "A) Repository title\n",
    "B) Repository description\n",
    "C) Contributors count\n",
    "D) Language used"
   ]
  },
  {
   "cell_type": "code",
   "execution_count": 32,
   "id": "317df286",
   "metadata": {},
   "outputs": [],
   "source": [
    "# Opening the Github page on automated chrome browser\n",
    "\n",
    "driver.get(\"https://github.com/\")"
   ]
  },
  {
   "cell_type": "code",
   "execution_count": 28,
   "id": "d8dfc22f",
   "metadata": {},
   "outputs": [
    {
     "ename": "NoSuchElementException",
     "evalue": "Message: no such element: Unable to locate element: {\"method\":\"css selector\",\"selector\":\".HeaderMenu-link border-0 width-full width-lg-auto px-0 px-lg-2 py-3 py-lg-2 no-wrap d-flex flex-items-center flex-justify-between js-details-target\"}\n  (Session info: chrome=107.0.5304.88)\nStacktrace:\nBacktrace:\n\tOrdinal0 [0x00931ED3+2236115]\n\tOrdinal0 [0x008C92F1+1807089]\n\tOrdinal0 [0x007D66FD+812797]\n\tOrdinal0 [0x008055DF+1005023]\n\tOrdinal0 [0x008057CB+1005515]\n\tOrdinal0 [0x00837632+1209906]\n\tOrdinal0 [0x00821AD4+1120980]\n\tOrdinal0 [0x008359E2+1202658]\n\tOrdinal0 [0x008218A6+1120422]\n\tOrdinal0 [0x007FA73D+960317]\n\tOrdinal0 [0x007FB71F+964383]\n\tGetHandleVerifier [0x00BDE7E2+2743074]\n\tGetHandleVerifier [0x00BD08D4+2685972]\n\tGetHandleVerifier [0x009C2BAA+532202]\n\tGetHandleVerifier [0x009C1990+527568]\n\tOrdinal0 [0x008D080C+1837068]\n\tOrdinal0 [0x008D4CD8+1854680]\n\tOrdinal0 [0x008D4DC5+1854917]\n\tOrdinal0 [0x008DED64+1895780]\n\tBaseThreadInitThunk [0x7661FA29+25]\n\tRtlGetAppContainerNamedObjectPath [0x773F7A9E+286]\n\tRtlGetAppContainerNamedObjectPath [0x773F7A6E+238]\n",
     "output_type": "error",
     "traceback": [
      "\u001b[1;31m---------------------------------------------------------------------------\u001b[0m",
      "\u001b[1;31mNoSuchElementException\u001b[0m                    Traceback (most recent call last)",
      "\u001b[1;32m<ipython-input-28-04e1e0b8404f>\u001b[0m in \u001b[0;36m<module>\u001b[1;34m\u001b[0m\n\u001b[1;32m----> 1\u001b[1;33m \u001b[0mopen_source\u001b[0m\u001b[1;33m=\u001b[0m\u001b[0mdriver\u001b[0m\u001b[1;33m.\u001b[0m\u001b[0mfind_element\u001b[0m\u001b[1;33m(\u001b[0m\u001b[0mBy\u001b[0m\u001b[1;33m.\u001b[0m\u001b[0mCLASS_NAME\u001b[0m\u001b[1;33m,\u001b[0m\u001b[1;34m\"HeaderMenu-link border-0 width-full width-lg-auto px-0 px-lg-2 py-3 py-lg-2 no-wrap d-flex flex-items-center flex-justify-between js-details-target\"\u001b[0m\u001b[1;33m)\u001b[0m\u001b[1;33m\u001b[0m\u001b[1;33m\u001b[0m\u001b[0m\n\u001b[0m\u001b[0;32m      2\u001b[0m \u001b[0mopen_source\u001b[0m\u001b[1;33m.\u001b[0m\u001b[0mclick\u001b[0m\u001b[1;33m(\u001b[0m\u001b[1;33m)\u001b[0m\u001b[1;33m\u001b[0m\u001b[1;33m\u001b[0m\u001b[0m\n",
      "\u001b[1;32m~\\anaconda3\\lib\\site-packages\\selenium\\webdriver\\remote\\webdriver.py\u001b[0m in \u001b[0;36mfind_element\u001b[1;34m(self, by, value)\u001b[0m\n\u001b[0;32m    854\u001b[0m             \u001b[0mvalue\u001b[0m \u001b[1;33m=\u001b[0m \u001b[1;34m'[name=\"%s\"]'\u001b[0m \u001b[1;33m%\u001b[0m \u001b[0mvalue\u001b[0m\u001b[1;33m\u001b[0m\u001b[1;33m\u001b[0m\u001b[0m\n\u001b[0;32m    855\u001b[0m \u001b[1;33m\u001b[0m\u001b[0m\n\u001b[1;32m--> 856\u001b[1;33m         return self.execute(Command.FIND_ELEMENT, {\n\u001b[0m\u001b[0;32m    857\u001b[0m             \u001b[1;34m'using'\u001b[0m\u001b[1;33m:\u001b[0m \u001b[0mby\u001b[0m\u001b[1;33m,\u001b[0m\u001b[1;33m\u001b[0m\u001b[1;33m\u001b[0m\u001b[0m\n\u001b[0;32m    858\u001b[0m             'value': value})['value']\n",
      "\u001b[1;32m~\\anaconda3\\lib\\site-packages\\selenium\\webdriver\\remote\\webdriver.py\u001b[0m in \u001b[0;36mexecute\u001b[1;34m(self, driver_command, params)\u001b[0m\n\u001b[0;32m    427\u001b[0m         \u001b[0mresponse\u001b[0m \u001b[1;33m=\u001b[0m \u001b[0mself\u001b[0m\u001b[1;33m.\u001b[0m\u001b[0mcommand_executor\u001b[0m\u001b[1;33m.\u001b[0m\u001b[0mexecute\u001b[0m\u001b[1;33m(\u001b[0m\u001b[0mdriver_command\u001b[0m\u001b[1;33m,\u001b[0m \u001b[0mparams\u001b[0m\u001b[1;33m)\u001b[0m\u001b[1;33m\u001b[0m\u001b[1;33m\u001b[0m\u001b[0m\n\u001b[0;32m    428\u001b[0m         \u001b[1;32mif\u001b[0m \u001b[0mresponse\u001b[0m\u001b[1;33m:\u001b[0m\u001b[1;33m\u001b[0m\u001b[1;33m\u001b[0m\u001b[0m\n\u001b[1;32m--> 429\u001b[1;33m             \u001b[0mself\u001b[0m\u001b[1;33m.\u001b[0m\u001b[0merror_handler\u001b[0m\u001b[1;33m.\u001b[0m\u001b[0mcheck_response\u001b[0m\u001b[1;33m(\u001b[0m\u001b[0mresponse\u001b[0m\u001b[1;33m)\u001b[0m\u001b[1;33m\u001b[0m\u001b[1;33m\u001b[0m\u001b[0m\n\u001b[0m\u001b[0;32m    430\u001b[0m             response['value'] = self._unwrap_value(\n\u001b[0;32m    431\u001b[0m                 response.get('value', None))\n",
      "\u001b[1;32m~\\anaconda3\\lib\\site-packages\\selenium\\webdriver\\remote\\errorhandler.py\u001b[0m in \u001b[0;36mcheck_response\u001b[1;34m(self, response)\u001b[0m\n\u001b[0;32m    241\u001b[0m                 \u001b[0malert_text\u001b[0m \u001b[1;33m=\u001b[0m \u001b[0mvalue\u001b[0m\u001b[1;33m[\u001b[0m\u001b[1;34m'alert'\u001b[0m\u001b[1;33m]\u001b[0m\u001b[1;33m.\u001b[0m\u001b[0mget\u001b[0m\u001b[1;33m(\u001b[0m\u001b[1;34m'text'\u001b[0m\u001b[1;33m)\u001b[0m\u001b[1;33m\u001b[0m\u001b[1;33m\u001b[0m\u001b[0m\n\u001b[0;32m    242\u001b[0m             \u001b[1;32mraise\u001b[0m \u001b[0mexception_class\u001b[0m\u001b[1;33m(\u001b[0m\u001b[0mmessage\u001b[0m\u001b[1;33m,\u001b[0m \u001b[0mscreen\u001b[0m\u001b[1;33m,\u001b[0m \u001b[0mstacktrace\u001b[0m\u001b[1;33m,\u001b[0m \u001b[0malert_text\u001b[0m\u001b[1;33m)\u001b[0m  \u001b[1;31m# type: ignore[call-arg]  # mypy is not smart enough here\u001b[0m\u001b[1;33m\u001b[0m\u001b[1;33m\u001b[0m\u001b[0m\n\u001b[1;32m--> 243\u001b[1;33m         \u001b[1;32mraise\u001b[0m \u001b[0mexception_class\u001b[0m\u001b[1;33m(\u001b[0m\u001b[0mmessage\u001b[0m\u001b[1;33m,\u001b[0m \u001b[0mscreen\u001b[0m\u001b[1;33m,\u001b[0m \u001b[0mstacktrace\u001b[0m\u001b[1;33m)\u001b[0m\u001b[1;33m\u001b[0m\u001b[1;33m\u001b[0m\u001b[0m\n\u001b[0m",
      "\u001b[1;31mNoSuchElementException\u001b[0m: Message: no such element: Unable to locate element: {\"method\":\"css selector\",\"selector\":\".HeaderMenu-link border-0 width-full width-lg-auto px-0 px-lg-2 py-3 py-lg-2 no-wrap d-flex flex-items-center flex-justify-between js-details-target\"}\n  (Session info: chrome=107.0.5304.88)\nStacktrace:\nBacktrace:\n\tOrdinal0 [0x00931ED3+2236115]\n\tOrdinal0 [0x008C92F1+1807089]\n\tOrdinal0 [0x007D66FD+812797]\n\tOrdinal0 [0x008055DF+1005023]\n\tOrdinal0 [0x008057CB+1005515]\n\tOrdinal0 [0x00837632+1209906]\n\tOrdinal0 [0x00821AD4+1120980]\n\tOrdinal0 [0x008359E2+1202658]\n\tOrdinal0 [0x008218A6+1120422]\n\tOrdinal0 [0x007FA73D+960317]\n\tOrdinal0 [0x007FB71F+964383]\n\tGetHandleVerifier [0x00BDE7E2+2743074]\n\tGetHandleVerifier [0x00BD08D4+2685972]\n\tGetHandleVerifier [0x009C2BAA+532202]\n\tGetHandleVerifier [0x009C1990+527568]\n\tOrdinal0 [0x008D080C+1837068]\n\tOrdinal0 [0x008D4CD8+1854680]\n\tOrdinal0 [0x008D4DC5+1854917]\n\tOrdinal0 [0x008DED64+1895780]\n\tBaseThreadInitThunk [0x7661FA29+25]\n\tRtlGetAppContainerNamedObjectPath [0x773F7A9E+286]\n\tRtlGetAppContainerNamedObjectPath [0x773F7A6E+238]\n"
     ]
    }
   ],
   "source": [
    "open_source=driver.find_element(By.CLASS_NAME,\"HeaderMenu-link border-0 width-full width-lg-auto px-0 px-lg-2 py-3 py-lg-2 no-wrap d-flex flex-items-center flex-justify-between js-details-target\")\n",
    "open_source.click()"
   ]
  },
  {
   "cell_type": "code",
   "execution_count": 29,
   "id": "b3532d9b",
   "metadata": {},
   "outputs": [
    {
     "name": "stdout",
     "output_type": "stream",
     "text": [
      "Exception Raised :  Message: no such element: Unable to locate element: {\"method\":\"css selector\",\"selector\":\".HeaderMenu-link border-0 width-full width-lg-auto px-0 px-lg-2 py-3 py-lg-2 no-wrap d-flex flex-items-center flex-justify-between js-details-target\"}\n",
      "  (Session info: chrome=107.0.5304.88)\n",
      "Stacktrace:\n",
      "Backtrace:\n",
      "\tOrdinal0 [0x00931ED3+2236115]\n",
      "\tOrdinal0 [0x008C92F1+1807089]\n",
      "\tOrdinal0 [0x007D66FD+812797]\n",
      "\tOrdinal0 [0x008055DF+1005023]\n",
      "\tOrdinal0 [0x008057CB+1005515]\n",
      "\tOrdinal0 [0x00837632+1209906]\n",
      "\tOrdinal0 [0x00821AD4+1120980]\n",
      "\tOrdinal0 [0x008359E2+1202658]\n",
      "\tOrdinal0 [0x008218A6+1120422]\n",
      "\tOrdinal0 [0x007FA73D+960317]\n",
      "\tOrdinal0 [0x007FB71F+964383]\n",
      "\tGetHandleVerifier [0x00BDE7E2+2743074]\n",
      "\tGetHandleVerifier [0x00BD08D4+2685972]\n",
      "\tGetHandleVerifier [0x009C2BAA+532202]\n",
      "\tGetHandleVerifier [0x009C1990+527568]\n",
      "\tOrdinal0 [0x008D080C+1837068]\n",
      "\tOrdinal0 [0x008D4CD8+1854680]\n",
      "\tOrdinal0 [0x008D4DC5+1854917]\n",
      "\tOrdinal0 [0x008DED64+1895780]\n",
      "\tBaseThreadInitThunk [0x7661FA29+25]\n",
      "\tRtlGetAppContainerNamedObjectPath [0x773F7A9E+286]\n",
      "\tRtlGetAppContainerNamedObjectPath [0x773F7A6E+238]\n",
      "\n"
     ]
    },
    {
     "ename": "NoSuchElementException",
     "evalue": "Message: no such element: Unable to locate element: {\"method\":\"css selector\",\"selector\":\".HeaderMenu-link border-0 width-full width-lg-auto px-0 px-lg-2 py-3 py-lg-2 no-wrap d-flex flex-items-center flex-justify-between js-details-target\"}\n  (Session info: chrome=107.0.5304.88)\nStacktrace:\nBacktrace:\n\tOrdinal0 [0x00931ED3+2236115]\n\tOrdinal0 [0x008C92F1+1807089]\n\tOrdinal0 [0x007D66FD+812797]\n\tOrdinal0 [0x008055DF+1005023]\n\tOrdinal0 [0x008057CB+1005515]\n\tOrdinal0 [0x00837632+1209906]\n\tOrdinal0 [0x00821AD4+1120980]\n\tOrdinal0 [0x008359E2+1202658]\n\tOrdinal0 [0x008218A6+1120422]\n\tOrdinal0 [0x007FA73D+960317]\n\tOrdinal0 [0x007FB71F+964383]\n\tGetHandleVerifier [0x00BDE7E2+2743074]\n\tGetHandleVerifier [0x00BD08D4+2685972]\n\tGetHandleVerifier [0x009C2BAA+532202]\n\tGetHandleVerifier [0x009C1990+527568]\n\tOrdinal0 [0x008D080C+1837068]\n\tOrdinal0 [0x008D4CD8+1854680]\n\tOrdinal0 [0x008D4DC5+1854917]\n\tOrdinal0 [0x008DED64+1895780]\n\tBaseThreadInitThunk [0x7661FA29+25]\n\tRtlGetAppContainerNamedObjectPath [0x773F7A9E+286]\n\tRtlGetAppContainerNamedObjectPath [0x773F7A6E+238]\n",
     "output_type": "error",
     "traceback": [
      "\u001b[1;31m---------------------------------------------------------------------------\u001b[0m",
      "\u001b[1;31mNoSuchElementException\u001b[0m                    Traceback (most recent call last)",
      "\u001b[1;32m<ipython-input-29-7cbc343539b6>\u001b[0m in \u001b[0;36m<module>\u001b[1;34m\u001b[0m\n\u001b[0;32m      4\u001b[0m \u001b[1;32mtry\u001b[0m\u001b[1;33m:\u001b[0m\u001b[1;33m\u001b[0m\u001b[1;33m\u001b[0m\u001b[0m\n\u001b[1;32m----> 5\u001b[1;33m     \u001b[0mopen_source\u001b[0m\u001b[1;33m=\u001b[0m\u001b[0mdriver\u001b[0m\u001b[1;33m.\u001b[0m\u001b[0mfind_element\u001b[0m\u001b[1;33m(\u001b[0m\u001b[0mBy\u001b[0m\u001b[1;33m.\u001b[0m\u001b[0mCLASS_NAME\u001b[0m\u001b[1;33m,\u001b[0m\u001b[1;34m\"HeaderMenu-link border-0 width-full width-lg-auto px-0 px-lg-2 py-3 py-lg-2 no-wrap d-flex flex-items-center flex-justify-between js-details-target\"\u001b[0m\u001b[1;33m)\u001b[0m\u001b[1;33m\u001b[0m\u001b[1;33m\u001b[0m\u001b[0m\n\u001b[0m\u001b[0;32m      6\u001b[0m     \u001b[0mopen_source\u001b[0m\u001b[1;33m.\u001b[0m\u001b[0mclick\u001b[0m\u001b[1;33m(\u001b[0m\u001b[1;33m)\u001b[0m\u001b[1;33m\u001b[0m\u001b[1;33m\u001b[0m\u001b[0m\n",
      "\u001b[1;32m~\\anaconda3\\lib\\site-packages\\selenium\\webdriver\\remote\\webdriver.py\u001b[0m in \u001b[0;36mfind_element\u001b[1;34m(self, by, value)\u001b[0m\n\u001b[0;32m    855\u001b[0m \u001b[1;33m\u001b[0m\u001b[0m\n\u001b[1;32m--> 856\u001b[1;33m         return self.execute(Command.FIND_ELEMENT, {\n\u001b[0m\u001b[0;32m    857\u001b[0m             \u001b[1;34m'using'\u001b[0m\u001b[1;33m:\u001b[0m \u001b[0mby\u001b[0m\u001b[1;33m,\u001b[0m\u001b[1;33m\u001b[0m\u001b[1;33m\u001b[0m\u001b[0m\n",
      "\u001b[1;32m~\\anaconda3\\lib\\site-packages\\selenium\\webdriver\\remote\\webdriver.py\u001b[0m in \u001b[0;36mexecute\u001b[1;34m(self, driver_command, params)\u001b[0m\n\u001b[0;32m    428\u001b[0m         \u001b[1;32mif\u001b[0m \u001b[0mresponse\u001b[0m\u001b[1;33m:\u001b[0m\u001b[1;33m\u001b[0m\u001b[1;33m\u001b[0m\u001b[0m\n\u001b[1;32m--> 429\u001b[1;33m             \u001b[0mself\u001b[0m\u001b[1;33m.\u001b[0m\u001b[0merror_handler\u001b[0m\u001b[1;33m.\u001b[0m\u001b[0mcheck_response\u001b[0m\u001b[1;33m(\u001b[0m\u001b[0mresponse\u001b[0m\u001b[1;33m)\u001b[0m\u001b[1;33m\u001b[0m\u001b[1;33m\u001b[0m\u001b[0m\n\u001b[0m\u001b[0;32m    430\u001b[0m             response['value'] = self._unwrap_value(\n",
      "\u001b[1;32m~\\anaconda3\\lib\\site-packages\\selenium\\webdriver\\remote\\errorhandler.py\u001b[0m in \u001b[0;36mcheck_response\u001b[1;34m(self, response)\u001b[0m\n\u001b[0;32m    242\u001b[0m             \u001b[1;32mraise\u001b[0m \u001b[0mexception_class\u001b[0m\u001b[1;33m(\u001b[0m\u001b[0mmessage\u001b[0m\u001b[1;33m,\u001b[0m \u001b[0mscreen\u001b[0m\u001b[1;33m,\u001b[0m \u001b[0mstacktrace\u001b[0m\u001b[1;33m,\u001b[0m \u001b[0malert_text\u001b[0m\u001b[1;33m)\u001b[0m  \u001b[1;31m# type: ignore[call-arg]  # mypy is not smart enough here\u001b[0m\u001b[1;33m\u001b[0m\u001b[1;33m\u001b[0m\u001b[0m\n\u001b[1;32m--> 243\u001b[1;33m         \u001b[1;32mraise\u001b[0m \u001b[0mexception_class\u001b[0m\u001b[1;33m(\u001b[0m\u001b[0mmessage\u001b[0m\u001b[1;33m,\u001b[0m \u001b[0mscreen\u001b[0m\u001b[1;33m,\u001b[0m \u001b[0mstacktrace\u001b[0m\u001b[1;33m)\u001b[0m\u001b[1;33m\u001b[0m\u001b[1;33m\u001b[0m\u001b[0m\n\u001b[0m",
      "\u001b[1;31mNoSuchElementException\u001b[0m: Message: no such element: Unable to locate element: {\"method\":\"css selector\",\"selector\":\".HeaderMenu-link border-0 width-full width-lg-auto px-0 px-lg-2 py-3 py-lg-2 no-wrap d-flex flex-items-center flex-justify-between js-details-target\"}\n  (Session info: chrome=107.0.5304.88)\nStacktrace:\nBacktrace:\n\tOrdinal0 [0x00931ED3+2236115]\n\tOrdinal0 [0x008C92F1+1807089]\n\tOrdinal0 [0x007D66FD+812797]\n\tOrdinal0 [0x008055DF+1005023]\n\tOrdinal0 [0x008057CB+1005515]\n\tOrdinal0 [0x00837632+1209906]\n\tOrdinal0 [0x00821AD4+1120980]\n\tOrdinal0 [0x008359E2+1202658]\n\tOrdinal0 [0x008218A6+1120422]\n\tOrdinal0 [0x007FA73D+960317]\n\tOrdinal0 [0x007FB71F+964383]\n\tGetHandleVerifier [0x00BDE7E2+2743074]\n\tGetHandleVerifier [0x00BD08D4+2685972]\n\tGetHandleVerifier [0x009C2BAA+532202]\n\tGetHandleVerifier [0x009C1990+527568]\n\tOrdinal0 [0x008D080C+1837068]\n\tOrdinal0 [0x008D4CD8+1854680]\n\tOrdinal0 [0x008D4DC5+1854917]\n\tOrdinal0 [0x008DED64+1895780]\n\tBaseThreadInitThunk [0x7661FA29+25]\n\tRtlGetAppContainerNamedObjectPath [0x773F7A9E+286]\n\tRtlGetAppContainerNamedObjectPath [0x773F7A6E+238]\n",
      "\nDuring handling of the above exception, another exception occurred:\n",
      "\u001b[1;31mNoSuchElementException\u001b[0m                    Traceback (most recent call last)",
      "\u001b[1;32m<ipython-input-29-7cbc343539b6>\u001b[0m in \u001b[0;36m<module>\u001b[1;34m\u001b[0m\n\u001b[0;32m      8\u001b[0m \u001b[1;32mexcept\u001b[0m \u001b[0mNoSuchElementException\u001b[0m \u001b[1;32mas\u001b[0m \u001b[0me\u001b[0m\u001b[1;33m:\u001b[0m\u001b[1;33m\u001b[0m\u001b[1;33m\u001b[0m\u001b[0m\n\u001b[0;32m      9\u001b[0m     \u001b[0mprint\u001b[0m\u001b[1;33m(\u001b[0m\u001b[1;34m\"Exception Raised : \"\u001b[0m\u001b[1;33m,\u001b[0m\u001b[0me\u001b[0m\u001b[1;33m)\u001b[0m\u001b[1;33m\u001b[0m\u001b[1;33m\u001b[0m\u001b[0m\n\u001b[1;32m---> 10\u001b[1;33m     \u001b[0mopen_source\u001b[0m\u001b[1;33m=\u001b[0m\u001b[0mdriver\u001b[0m\u001b[1;33m.\u001b[0m\u001b[0mfind_element\u001b[0m\u001b[1;33m(\u001b[0m\u001b[0mBy\u001b[0m\u001b[1;33m.\u001b[0m\u001b[0mCLASS_NAME\u001b[0m\u001b[1;33m,\u001b[0m\u001b[1;34m\"HeaderMenu-link border-0 width-full width-lg-auto px-0 px-lg-2 py-3 py-lg-2 no-wrap d-flex flex-items-center flex-justify-between js-details-target\"\u001b[0m\u001b[1;33m)\u001b[0m\u001b[1;33m\u001b[0m\u001b[1;33m\u001b[0m\u001b[0m\n\u001b[0m\u001b[0;32m     11\u001b[0m     \u001b[0mopen_source\u001b[0m\u001b[1;33m.\u001b[0m\u001b[0mclick\u001b[0m\u001b[1;33m(\u001b[0m\u001b[1;33m)\u001b[0m\u001b[1;33m\u001b[0m\u001b[1;33m\u001b[0m\u001b[0m\n",
      "\u001b[1;32m~\\anaconda3\\lib\\site-packages\\selenium\\webdriver\\remote\\webdriver.py\u001b[0m in \u001b[0;36mfind_element\u001b[1;34m(self, by, value)\u001b[0m\n\u001b[0;32m    854\u001b[0m             \u001b[0mvalue\u001b[0m \u001b[1;33m=\u001b[0m \u001b[1;34m'[name=\"%s\"]'\u001b[0m \u001b[1;33m%\u001b[0m \u001b[0mvalue\u001b[0m\u001b[1;33m\u001b[0m\u001b[1;33m\u001b[0m\u001b[0m\n\u001b[0;32m    855\u001b[0m \u001b[1;33m\u001b[0m\u001b[0m\n\u001b[1;32m--> 856\u001b[1;33m         return self.execute(Command.FIND_ELEMENT, {\n\u001b[0m\u001b[0;32m    857\u001b[0m             \u001b[1;34m'using'\u001b[0m\u001b[1;33m:\u001b[0m \u001b[0mby\u001b[0m\u001b[1;33m,\u001b[0m\u001b[1;33m\u001b[0m\u001b[1;33m\u001b[0m\u001b[0m\n\u001b[0;32m    858\u001b[0m             'value': value})['value']\n",
      "\u001b[1;32m~\\anaconda3\\lib\\site-packages\\selenium\\webdriver\\remote\\webdriver.py\u001b[0m in \u001b[0;36mexecute\u001b[1;34m(self, driver_command, params)\u001b[0m\n\u001b[0;32m    427\u001b[0m         \u001b[0mresponse\u001b[0m \u001b[1;33m=\u001b[0m \u001b[0mself\u001b[0m\u001b[1;33m.\u001b[0m\u001b[0mcommand_executor\u001b[0m\u001b[1;33m.\u001b[0m\u001b[0mexecute\u001b[0m\u001b[1;33m(\u001b[0m\u001b[0mdriver_command\u001b[0m\u001b[1;33m,\u001b[0m \u001b[0mparams\u001b[0m\u001b[1;33m)\u001b[0m\u001b[1;33m\u001b[0m\u001b[1;33m\u001b[0m\u001b[0m\n\u001b[0;32m    428\u001b[0m         \u001b[1;32mif\u001b[0m \u001b[0mresponse\u001b[0m\u001b[1;33m:\u001b[0m\u001b[1;33m\u001b[0m\u001b[1;33m\u001b[0m\u001b[0m\n\u001b[1;32m--> 429\u001b[1;33m             \u001b[0mself\u001b[0m\u001b[1;33m.\u001b[0m\u001b[0merror_handler\u001b[0m\u001b[1;33m.\u001b[0m\u001b[0mcheck_response\u001b[0m\u001b[1;33m(\u001b[0m\u001b[0mresponse\u001b[0m\u001b[1;33m)\u001b[0m\u001b[1;33m\u001b[0m\u001b[1;33m\u001b[0m\u001b[0m\n\u001b[0m\u001b[0;32m    430\u001b[0m             response['value'] = self._unwrap_value(\n\u001b[0;32m    431\u001b[0m                 response.get('value', None))\n",
      "\u001b[1;32m~\\anaconda3\\lib\\site-packages\\selenium\\webdriver\\remote\\errorhandler.py\u001b[0m in \u001b[0;36mcheck_response\u001b[1;34m(self, response)\u001b[0m\n\u001b[0;32m    241\u001b[0m                 \u001b[0malert_text\u001b[0m \u001b[1;33m=\u001b[0m \u001b[0mvalue\u001b[0m\u001b[1;33m[\u001b[0m\u001b[1;34m'alert'\u001b[0m\u001b[1;33m]\u001b[0m\u001b[1;33m.\u001b[0m\u001b[0mget\u001b[0m\u001b[1;33m(\u001b[0m\u001b[1;34m'text'\u001b[0m\u001b[1;33m)\u001b[0m\u001b[1;33m\u001b[0m\u001b[1;33m\u001b[0m\u001b[0m\n\u001b[0;32m    242\u001b[0m             \u001b[1;32mraise\u001b[0m \u001b[0mexception_class\u001b[0m\u001b[1;33m(\u001b[0m\u001b[0mmessage\u001b[0m\u001b[1;33m,\u001b[0m \u001b[0mscreen\u001b[0m\u001b[1;33m,\u001b[0m \u001b[0mstacktrace\u001b[0m\u001b[1;33m,\u001b[0m \u001b[0malert_text\u001b[0m\u001b[1;33m)\u001b[0m  \u001b[1;31m# type: ignore[call-arg]  # mypy is not smart enough here\u001b[0m\u001b[1;33m\u001b[0m\u001b[1;33m\u001b[0m\u001b[0m\n\u001b[1;32m--> 243\u001b[1;33m         \u001b[1;32mraise\u001b[0m \u001b[0mexception_class\u001b[0m\u001b[1;33m(\u001b[0m\u001b[0mmessage\u001b[0m\u001b[1;33m,\u001b[0m \u001b[0mscreen\u001b[0m\u001b[1;33m,\u001b[0m \u001b[0mstacktrace\u001b[0m\u001b[1;33m)\u001b[0m\u001b[1;33m\u001b[0m\u001b[1;33m\u001b[0m\u001b[0m\n\u001b[0m",
      "\u001b[1;31mNoSuchElementException\u001b[0m: Message: no such element: Unable to locate element: {\"method\":\"css selector\",\"selector\":\".HeaderMenu-link border-0 width-full width-lg-auto px-0 px-lg-2 py-3 py-lg-2 no-wrap d-flex flex-items-center flex-justify-between js-details-target\"}\n  (Session info: chrome=107.0.5304.88)\nStacktrace:\nBacktrace:\n\tOrdinal0 [0x00931ED3+2236115]\n\tOrdinal0 [0x008C92F1+1807089]\n\tOrdinal0 [0x007D66FD+812797]\n\tOrdinal0 [0x008055DF+1005023]\n\tOrdinal0 [0x008057CB+1005515]\n\tOrdinal0 [0x00837632+1209906]\n\tOrdinal0 [0x00821AD4+1120980]\n\tOrdinal0 [0x008359E2+1202658]\n\tOrdinal0 [0x008218A6+1120422]\n\tOrdinal0 [0x007FA73D+960317]\n\tOrdinal0 [0x007FB71F+964383]\n\tGetHandleVerifier [0x00BDE7E2+2743074]\n\tGetHandleVerifier [0x00BD08D4+2685972]\n\tGetHandleVerifier [0x009C2BAA+532202]\n\tGetHandleVerifier [0x009C1990+527568]\n\tOrdinal0 [0x008D080C+1837068]\n\tOrdinal0 [0x008D4CD8+1854680]\n\tOrdinal0 [0x008D4DC5+1854917]\n\tOrdinal0 [0x008DED64+1895780]\n\tBaseThreadInitThunk [0x7661FA29+25]\n\tRtlGetAppContainerNamedObjectPath [0x773F7A9E+286]\n\tRtlGetAppContainerNamedObjectPath [0x773F7A6E+238]\n"
     ]
    }
   ],
   "source": [
    "# Handling Exception\n",
    "\n",
    "time.sleep(5)\n",
    "try:\n",
    "    open_source=driver.find_element(By.CLASS_NAME,\"HeaderMenu-link border-0 width-full width-lg-auto px-0 px-lg-2 py-3 py-lg-2 no-wrap d-flex flex-items-center flex-justify-between js-details-target\")\n",
    "    open_source.click()\n",
    "    \n",
    "except NoSuchElementException as e:\n",
    "    print(\"Exception Raised : \",e)\n",
    "    open_source=driver.find_element(By.CLASS_NAME,\"HeaderMenu-link border-0 width-full width-lg-auto px-0 px-lg-2 py-3 py-lg-2 no-wrap d-flex flex-items-center flex-justify-between js-details-target\")\n",
    "    open_source.click()"
   ]
  },
  {
   "cell_type": "code",
   "execution_count": 30,
   "id": "595d1997",
   "metadata": {},
   "outputs": [],
   "source": [
    "driver.close()"
   ]
  },
  {
   "cell_type": "code",
   "execution_count": 33,
   "id": "38cc4ee1",
   "metadata": {},
   "outputs": [
    {
     "ename": "NoSuchElementException",
     "evalue": "Message: no such element: Unable to locate element: {\"method\":\"css selector\",\"selector\":\".HeaderMenu-dropdown-link lh-condensed d-block no-underline position-relative py-2 Link--secondary\"}\n  (Session info: chrome=107.0.5304.88)\nStacktrace:\nBacktrace:\n\tOrdinal0 [0x00931ED3+2236115]\n\tOrdinal0 [0x008C92F1+1807089]\n\tOrdinal0 [0x007D66FD+812797]\n\tOrdinal0 [0x008055DF+1005023]\n\tOrdinal0 [0x008057CB+1005515]\n\tOrdinal0 [0x00837632+1209906]\n\tOrdinal0 [0x00821AD4+1120980]\n\tOrdinal0 [0x008359E2+1202658]\n\tOrdinal0 [0x008218A6+1120422]\n\tOrdinal0 [0x007FA73D+960317]\n\tOrdinal0 [0x007FB71F+964383]\n\tGetHandleVerifier [0x00BDE7E2+2743074]\n\tGetHandleVerifier [0x00BD08D4+2685972]\n\tGetHandleVerifier [0x009C2BAA+532202]\n\tGetHandleVerifier [0x009C1990+527568]\n\tOrdinal0 [0x008D080C+1837068]\n\tOrdinal0 [0x008D4CD8+1854680]\n\tOrdinal0 [0x008D4DC5+1854917]\n\tOrdinal0 [0x008DED64+1895780]\n\tBaseThreadInitThunk [0x7661FA29+25]\n\tRtlGetAppContainerNamedObjectPath [0x773F7A9E+286]\n\tRtlGetAppContainerNamedObjectPath [0x773F7A6E+238]\n",
     "output_type": "error",
     "traceback": [
      "\u001b[1;31m---------------------------------------------------------------------------\u001b[0m",
      "\u001b[1;31mNoSuchElementException\u001b[0m                    Traceback (most recent call last)",
      "\u001b[1;32m<ipython-input-33-d535e72fbceb>\u001b[0m in \u001b[0;36m<module>\u001b[1;34m\u001b[0m\n\u001b[1;32m----> 1\u001b[1;33m \u001b[0mtrending\u001b[0m\u001b[1;33m=\u001b[0m\u001b[0mdriver\u001b[0m\u001b[1;33m.\u001b[0m\u001b[0mfind_element\u001b[0m\u001b[1;33m(\u001b[0m\u001b[0mBy\u001b[0m\u001b[1;33m.\u001b[0m\u001b[0mCLASS_NAME\u001b[0m\u001b[1;33m,\u001b[0m\u001b[1;34m\"HeaderMenu-dropdown-link lh-condensed d-block no-underline position-relative py-2 Link--secondary\"\u001b[0m\u001b[1;33m)\u001b[0m\u001b[1;33m\u001b[0m\u001b[1;33m\u001b[0m\u001b[0m\n\u001b[0m\u001b[0;32m      2\u001b[0m \u001b[0mtrending\u001b[0m\u001b[1;33m.\u001b[0m\u001b[0mclick\u001b[0m\u001b[1;33m(\u001b[0m\u001b[1;33m)\u001b[0m\u001b[1;33m\u001b[0m\u001b[1;33m\u001b[0m\u001b[0m\n",
      "\u001b[1;32m~\\anaconda3\\lib\\site-packages\\selenium\\webdriver\\remote\\webdriver.py\u001b[0m in \u001b[0;36mfind_element\u001b[1;34m(self, by, value)\u001b[0m\n\u001b[0;32m    854\u001b[0m             \u001b[0mvalue\u001b[0m \u001b[1;33m=\u001b[0m \u001b[1;34m'[name=\"%s\"]'\u001b[0m \u001b[1;33m%\u001b[0m \u001b[0mvalue\u001b[0m\u001b[1;33m\u001b[0m\u001b[1;33m\u001b[0m\u001b[0m\n\u001b[0;32m    855\u001b[0m \u001b[1;33m\u001b[0m\u001b[0m\n\u001b[1;32m--> 856\u001b[1;33m         return self.execute(Command.FIND_ELEMENT, {\n\u001b[0m\u001b[0;32m    857\u001b[0m             \u001b[1;34m'using'\u001b[0m\u001b[1;33m:\u001b[0m \u001b[0mby\u001b[0m\u001b[1;33m,\u001b[0m\u001b[1;33m\u001b[0m\u001b[1;33m\u001b[0m\u001b[0m\n\u001b[0;32m    858\u001b[0m             'value': value})['value']\n",
      "\u001b[1;32m~\\anaconda3\\lib\\site-packages\\selenium\\webdriver\\remote\\webdriver.py\u001b[0m in \u001b[0;36mexecute\u001b[1;34m(self, driver_command, params)\u001b[0m\n\u001b[0;32m    427\u001b[0m         \u001b[0mresponse\u001b[0m \u001b[1;33m=\u001b[0m \u001b[0mself\u001b[0m\u001b[1;33m.\u001b[0m\u001b[0mcommand_executor\u001b[0m\u001b[1;33m.\u001b[0m\u001b[0mexecute\u001b[0m\u001b[1;33m(\u001b[0m\u001b[0mdriver_command\u001b[0m\u001b[1;33m,\u001b[0m \u001b[0mparams\u001b[0m\u001b[1;33m)\u001b[0m\u001b[1;33m\u001b[0m\u001b[1;33m\u001b[0m\u001b[0m\n\u001b[0;32m    428\u001b[0m         \u001b[1;32mif\u001b[0m \u001b[0mresponse\u001b[0m\u001b[1;33m:\u001b[0m\u001b[1;33m\u001b[0m\u001b[1;33m\u001b[0m\u001b[0m\n\u001b[1;32m--> 429\u001b[1;33m             \u001b[0mself\u001b[0m\u001b[1;33m.\u001b[0m\u001b[0merror_handler\u001b[0m\u001b[1;33m.\u001b[0m\u001b[0mcheck_response\u001b[0m\u001b[1;33m(\u001b[0m\u001b[0mresponse\u001b[0m\u001b[1;33m)\u001b[0m\u001b[1;33m\u001b[0m\u001b[1;33m\u001b[0m\u001b[0m\n\u001b[0m\u001b[0;32m    430\u001b[0m             response['value'] = self._unwrap_value(\n\u001b[0;32m    431\u001b[0m                 response.get('value', None))\n",
      "\u001b[1;32m~\\anaconda3\\lib\\site-packages\\selenium\\webdriver\\remote\\errorhandler.py\u001b[0m in \u001b[0;36mcheck_response\u001b[1;34m(self, response)\u001b[0m\n\u001b[0;32m    241\u001b[0m                 \u001b[0malert_text\u001b[0m \u001b[1;33m=\u001b[0m \u001b[0mvalue\u001b[0m\u001b[1;33m[\u001b[0m\u001b[1;34m'alert'\u001b[0m\u001b[1;33m]\u001b[0m\u001b[1;33m.\u001b[0m\u001b[0mget\u001b[0m\u001b[1;33m(\u001b[0m\u001b[1;34m'text'\u001b[0m\u001b[1;33m)\u001b[0m\u001b[1;33m\u001b[0m\u001b[1;33m\u001b[0m\u001b[0m\n\u001b[0;32m    242\u001b[0m             \u001b[1;32mraise\u001b[0m \u001b[0mexception_class\u001b[0m\u001b[1;33m(\u001b[0m\u001b[0mmessage\u001b[0m\u001b[1;33m,\u001b[0m \u001b[0mscreen\u001b[0m\u001b[1;33m,\u001b[0m \u001b[0mstacktrace\u001b[0m\u001b[1;33m,\u001b[0m \u001b[0malert_text\u001b[0m\u001b[1;33m)\u001b[0m  \u001b[1;31m# type: ignore[call-arg]  # mypy is not smart enough here\u001b[0m\u001b[1;33m\u001b[0m\u001b[1;33m\u001b[0m\u001b[0m\n\u001b[1;32m--> 243\u001b[1;33m         \u001b[1;32mraise\u001b[0m \u001b[0mexception_class\u001b[0m\u001b[1;33m(\u001b[0m\u001b[0mmessage\u001b[0m\u001b[1;33m,\u001b[0m \u001b[0mscreen\u001b[0m\u001b[1;33m,\u001b[0m \u001b[0mstacktrace\u001b[0m\u001b[1;33m)\u001b[0m\u001b[1;33m\u001b[0m\u001b[1;33m\u001b[0m\u001b[0m\n\u001b[0m",
      "\u001b[1;31mNoSuchElementException\u001b[0m: Message: no such element: Unable to locate element: {\"method\":\"css selector\",\"selector\":\".HeaderMenu-dropdown-link lh-condensed d-block no-underline position-relative py-2 Link--secondary\"}\n  (Session info: chrome=107.0.5304.88)\nStacktrace:\nBacktrace:\n\tOrdinal0 [0x00931ED3+2236115]\n\tOrdinal0 [0x008C92F1+1807089]\n\tOrdinal0 [0x007D66FD+812797]\n\tOrdinal0 [0x008055DF+1005023]\n\tOrdinal0 [0x008057CB+1005515]\n\tOrdinal0 [0x00837632+1209906]\n\tOrdinal0 [0x00821AD4+1120980]\n\tOrdinal0 [0x008359E2+1202658]\n\tOrdinal0 [0x008218A6+1120422]\n\tOrdinal0 [0x007FA73D+960317]\n\tOrdinal0 [0x007FB71F+964383]\n\tGetHandleVerifier [0x00BDE7E2+2743074]\n\tGetHandleVerifier [0x00BD08D4+2685972]\n\tGetHandleVerifier [0x009C2BAA+532202]\n\tGetHandleVerifier [0x009C1990+527568]\n\tOrdinal0 [0x008D080C+1837068]\n\tOrdinal0 [0x008D4CD8+1854680]\n\tOrdinal0 [0x008D4DC5+1854917]\n\tOrdinal0 [0x008DED64+1895780]\n\tBaseThreadInitThunk [0x7661FA29+25]\n\tRtlGetAppContainerNamedObjectPath [0x773F7A9E+286]\n\tRtlGetAppContainerNamedObjectPath [0x773F7A6E+238]\n"
     ]
    }
   ],
   "source": [
    "trending=driver.find_element(By.CLASS_NAME,\"HeaderMenu-dropdown-link lh-condensed d-block no-underline position-relative py-2 Link--secondary\")\n",
    "trending.click()"
   ]
  },
  {
   "cell_type": "code",
   "execution_count": 34,
   "id": "190c748e",
   "metadata": {},
   "outputs": [
    {
     "name": "stdout",
     "output_type": "stream",
     "text": [
      "Exception Raised :  Message: no such element: Unable to locate element: {\"method\":\"css selector\",\"selector\":\".HeaderMenu-dropdown-link lh-condensed d-block no-underline position-relative py-2 Link--secondary\"}\n",
      "  (Session info: chrome=107.0.5304.88)\n",
      "Stacktrace:\n",
      "Backtrace:\n",
      "\tOrdinal0 [0x00931ED3+2236115]\n",
      "\tOrdinal0 [0x008C92F1+1807089]\n",
      "\tOrdinal0 [0x007D66FD+812797]\n",
      "\tOrdinal0 [0x008055DF+1005023]\n",
      "\tOrdinal0 [0x008057CB+1005515]\n",
      "\tOrdinal0 [0x00837632+1209906]\n",
      "\tOrdinal0 [0x00821AD4+1120980]\n",
      "\tOrdinal0 [0x008359E2+1202658]\n",
      "\tOrdinal0 [0x008218A6+1120422]\n",
      "\tOrdinal0 [0x007FA73D+960317]\n",
      "\tOrdinal0 [0x007FB71F+964383]\n",
      "\tGetHandleVerifier [0x00BDE7E2+2743074]\n",
      "\tGetHandleVerifier [0x00BD08D4+2685972]\n",
      "\tGetHandleVerifier [0x009C2BAA+532202]\n",
      "\tGetHandleVerifier [0x009C1990+527568]\n",
      "\tOrdinal0 [0x008D080C+1837068]\n",
      "\tOrdinal0 [0x008D4CD8+1854680]\n",
      "\tOrdinal0 [0x008D4DC5+1854917]\n",
      "\tOrdinal0 [0x008DED64+1895780]\n",
      "\tBaseThreadInitThunk [0x7661FA29+25]\n",
      "\tRtlGetAppContainerNamedObjectPath [0x773F7A9E+286]\n",
      "\tRtlGetAppContainerNamedObjectPath [0x773F7A6E+238]\n",
      "\n"
     ]
    },
    {
     "ename": "NoSuchElementException",
     "evalue": "Message: no such element: Unable to locate element: {\"method\":\"css selector\",\"selector\":\".HeaderMenu-dropdown-link lh-condensed d-block no-underline position-relative py-2 Link--secondary\"}\n  (Session info: chrome=107.0.5304.88)\nStacktrace:\nBacktrace:\n\tOrdinal0 [0x00931ED3+2236115]\n\tOrdinal0 [0x008C92F1+1807089]\n\tOrdinal0 [0x007D66FD+812797]\n\tOrdinal0 [0x008055DF+1005023]\n\tOrdinal0 [0x008057CB+1005515]\n\tOrdinal0 [0x00837632+1209906]\n\tOrdinal0 [0x00821AD4+1120980]\n\tOrdinal0 [0x008359E2+1202658]\n\tOrdinal0 [0x008218A6+1120422]\n\tOrdinal0 [0x007FA73D+960317]\n\tOrdinal0 [0x007FB71F+964383]\n\tGetHandleVerifier [0x00BDE7E2+2743074]\n\tGetHandleVerifier [0x00BD08D4+2685972]\n\tGetHandleVerifier [0x009C2BAA+532202]\n\tGetHandleVerifier [0x009C1990+527568]\n\tOrdinal0 [0x008D080C+1837068]\n\tOrdinal0 [0x008D4CD8+1854680]\n\tOrdinal0 [0x008D4DC5+1854917]\n\tOrdinal0 [0x008DED64+1895780]\n\tBaseThreadInitThunk [0x7661FA29+25]\n\tRtlGetAppContainerNamedObjectPath [0x773F7A9E+286]\n\tRtlGetAppContainerNamedObjectPath [0x773F7A6E+238]\n",
     "output_type": "error",
     "traceback": [
      "\u001b[1;31m---------------------------------------------------------------------------\u001b[0m",
      "\u001b[1;31mNoSuchElementException\u001b[0m                    Traceback (most recent call last)",
      "\u001b[1;32m<ipython-input-34-301ddbf5730a>\u001b[0m in \u001b[0;36m<module>\u001b[1;34m\u001b[0m\n\u001b[0;32m      4\u001b[0m \u001b[1;32mtry\u001b[0m\u001b[1;33m:\u001b[0m\u001b[1;33m\u001b[0m\u001b[1;33m\u001b[0m\u001b[0m\n\u001b[1;32m----> 5\u001b[1;33m     \u001b[0mtrending\u001b[0m\u001b[1;33m=\u001b[0m\u001b[0mdriver\u001b[0m\u001b[1;33m.\u001b[0m\u001b[0mfind_element\u001b[0m\u001b[1;33m(\u001b[0m\u001b[0mBy\u001b[0m\u001b[1;33m.\u001b[0m\u001b[0mCLASS_NAME\u001b[0m\u001b[1;33m,\u001b[0m\u001b[1;34m\"HeaderMenu-dropdown-link lh-condensed d-block no-underline position-relative py-2 Link--secondary\"\u001b[0m\u001b[1;33m)\u001b[0m\u001b[1;33m\u001b[0m\u001b[1;33m\u001b[0m\u001b[0m\n\u001b[0m\u001b[0;32m      6\u001b[0m     \u001b[0mtrending\u001b[0m\u001b[1;33m.\u001b[0m\u001b[0mclick\u001b[0m\u001b[1;33m(\u001b[0m\u001b[1;33m)\u001b[0m\u001b[1;33m\u001b[0m\u001b[1;33m\u001b[0m\u001b[0m\n",
      "\u001b[1;32m~\\anaconda3\\lib\\site-packages\\selenium\\webdriver\\remote\\webdriver.py\u001b[0m in \u001b[0;36mfind_element\u001b[1;34m(self, by, value)\u001b[0m\n\u001b[0;32m    855\u001b[0m \u001b[1;33m\u001b[0m\u001b[0m\n\u001b[1;32m--> 856\u001b[1;33m         return self.execute(Command.FIND_ELEMENT, {\n\u001b[0m\u001b[0;32m    857\u001b[0m             \u001b[1;34m'using'\u001b[0m\u001b[1;33m:\u001b[0m \u001b[0mby\u001b[0m\u001b[1;33m,\u001b[0m\u001b[1;33m\u001b[0m\u001b[1;33m\u001b[0m\u001b[0m\n",
      "\u001b[1;32m~\\anaconda3\\lib\\site-packages\\selenium\\webdriver\\remote\\webdriver.py\u001b[0m in \u001b[0;36mexecute\u001b[1;34m(self, driver_command, params)\u001b[0m\n\u001b[0;32m    428\u001b[0m         \u001b[1;32mif\u001b[0m \u001b[0mresponse\u001b[0m\u001b[1;33m:\u001b[0m\u001b[1;33m\u001b[0m\u001b[1;33m\u001b[0m\u001b[0m\n\u001b[1;32m--> 429\u001b[1;33m             \u001b[0mself\u001b[0m\u001b[1;33m.\u001b[0m\u001b[0merror_handler\u001b[0m\u001b[1;33m.\u001b[0m\u001b[0mcheck_response\u001b[0m\u001b[1;33m(\u001b[0m\u001b[0mresponse\u001b[0m\u001b[1;33m)\u001b[0m\u001b[1;33m\u001b[0m\u001b[1;33m\u001b[0m\u001b[0m\n\u001b[0m\u001b[0;32m    430\u001b[0m             response['value'] = self._unwrap_value(\n",
      "\u001b[1;32m~\\anaconda3\\lib\\site-packages\\selenium\\webdriver\\remote\\errorhandler.py\u001b[0m in \u001b[0;36mcheck_response\u001b[1;34m(self, response)\u001b[0m\n\u001b[0;32m    242\u001b[0m             \u001b[1;32mraise\u001b[0m \u001b[0mexception_class\u001b[0m\u001b[1;33m(\u001b[0m\u001b[0mmessage\u001b[0m\u001b[1;33m,\u001b[0m \u001b[0mscreen\u001b[0m\u001b[1;33m,\u001b[0m \u001b[0mstacktrace\u001b[0m\u001b[1;33m,\u001b[0m \u001b[0malert_text\u001b[0m\u001b[1;33m)\u001b[0m  \u001b[1;31m# type: ignore[call-arg]  # mypy is not smart enough here\u001b[0m\u001b[1;33m\u001b[0m\u001b[1;33m\u001b[0m\u001b[0m\n\u001b[1;32m--> 243\u001b[1;33m         \u001b[1;32mraise\u001b[0m \u001b[0mexception_class\u001b[0m\u001b[1;33m(\u001b[0m\u001b[0mmessage\u001b[0m\u001b[1;33m,\u001b[0m \u001b[0mscreen\u001b[0m\u001b[1;33m,\u001b[0m \u001b[0mstacktrace\u001b[0m\u001b[1;33m)\u001b[0m\u001b[1;33m\u001b[0m\u001b[1;33m\u001b[0m\u001b[0m\n\u001b[0m",
      "\u001b[1;31mNoSuchElementException\u001b[0m: Message: no such element: Unable to locate element: {\"method\":\"css selector\",\"selector\":\".HeaderMenu-dropdown-link lh-condensed d-block no-underline position-relative py-2 Link--secondary\"}\n  (Session info: chrome=107.0.5304.88)\nStacktrace:\nBacktrace:\n\tOrdinal0 [0x00931ED3+2236115]\n\tOrdinal0 [0x008C92F1+1807089]\n\tOrdinal0 [0x007D66FD+812797]\n\tOrdinal0 [0x008055DF+1005023]\n\tOrdinal0 [0x008057CB+1005515]\n\tOrdinal0 [0x00837632+1209906]\n\tOrdinal0 [0x00821AD4+1120980]\n\tOrdinal0 [0x008359E2+1202658]\n\tOrdinal0 [0x008218A6+1120422]\n\tOrdinal0 [0x007FA73D+960317]\n\tOrdinal0 [0x007FB71F+964383]\n\tGetHandleVerifier [0x00BDE7E2+2743074]\n\tGetHandleVerifier [0x00BD08D4+2685972]\n\tGetHandleVerifier [0x009C2BAA+532202]\n\tGetHandleVerifier [0x009C1990+527568]\n\tOrdinal0 [0x008D080C+1837068]\n\tOrdinal0 [0x008D4CD8+1854680]\n\tOrdinal0 [0x008D4DC5+1854917]\n\tOrdinal0 [0x008DED64+1895780]\n\tBaseThreadInitThunk [0x7661FA29+25]\n\tRtlGetAppContainerNamedObjectPath [0x773F7A9E+286]\n\tRtlGetAppContainerNamedObjectPath [0x773F7A6E+238]\n",
      "\nDuring handling of the above exception, another exception occurred:\n",
      "\u001b[1;31mNoSuchElementException\u001b[0m                    Traceback (most recent call last)",
      "\u001b[1;32m<ipython-input-34-301ddbf5730a>\u001b[0m in \u001b[0;36m<module>\u001b[1;34m\u001b[0m\n\u001b[0;32m      8\u001b[0m \u001b[1;32mexcept\u001b[0m \u001b[0mNoSuchElementException\u001b[0m \u001b[1;32mas\u001b[0m \u001b[0me\u001b[0m\u001b[1;33m:\u001b[0m\u001b[1;33m\u001b[0m\u001b[1;33m\u001b[0m\u001b[0m\n\u001b[0;32m      9\u001b[0m     \u001b[0mprint\u001b[0m\u001b[1;33m(\u001b[0m\u001b[1;34m\"Exception Raised : \"\u001b[0m\u001b[1;33m,\u001b[0m\u001b[0me\u001b[0m\u001b[1;33m)\u001b[0m\u001b[1;33m\u001b[0m\u001b[1;33m\u001b[0m\u001b[0m\n\u001b[1;32m---> 10\u001b[1;33m     \u001b[0mtrending\u001b[0m\u001b[1;33m=\u001b[0m\u001b[0mdriver\u001b[0m\u001b[1;33m.\u001b[0m\u001b[0mfind_element\u001b[0m\u001b[1;33m(\u001b[0m\u001b[0mBy\u001b[0m\u001b[1;33m.\u001b[0m\u001b[0mCLASS_NAME\u001b[0m\u001b[1;33m,\u001b[0m\u001b[1;34m\"HeaderMenu-dropdown-link lh-condensed d-block no-underline position-relative py-2 Link--secondary\"\u001b[0m\u001b[1;33m)\u001b[0m\u001b[1;33m\u001b[0m\u001b[1;33m\u001b[0m\u001b[0m\n\u001b[0m\u001b[0;32m     11\u001b[0m     \u001b[0mtrending\u001b[0m\u001b[1;33m.\u001b[0m\u001b[0mclick\u001b[0m\u001b[1;33m(\u001b[0m\u001b[1;33m)\u001b[0m\u001b[1;33m\u001b[0m\u001b[1;33m\u001b[0m\u001b[0m\n",
      "\u001b[1;32m~\\anaconda3\\lib\\site-packages\\selenium\\webdriver\\remote\\webdriver.py\u001b[0m in \u001b[0;36mfind_element\u001b[1;34m(self, by, value)\u001b[0m\n\u001b[0;32m    854\u001b[0m             \u001b[0mvalue\u001b[0m \u001b[1;33m=\u001b[0m \u001b[1;34m'[name=\"%s\"]'\u001b[0m \u001b[1;33m%\u001b[0m \u001b[0mvalue\u001b[0m\u001b[1;33m\u001b[0m\u001b[1;33m\u001b[0m\u001b[0m\n\u001b[0;32m    855\u001b[0m \u001b[1;33m\u001b[0m\u001b[0m\n\u001b[1;32m--> 856\u001b[1;33m         return self.execute(Command.FIND_ELEMENT, {\n\u001b[0m\u001b[0;32m    857\u001b[0m             \u001b[1;34m'using'\u001b[0m\u001b[1;33m:\u001b[0m \u001b[0mby\u001b[0m\u001b[1;33m,\u001b[0m\u001b[1;33m\u001b[0m\u001b[1;33m\u001b[0m\u001b[0m\n\u001b[0;32m    858\u001b[0m             'value': value})['value']\n",
      "\u001b[1;32m~\\anaconda3\\lib\\site-packages\\selenium\\webdriver\\remote\\webdriver.py\u001b[0m in \u001b[0;36mexecute\u001b[1;34m(self, driver_command, params)\u001b[0m\n\u001b[0;32m    427\u001b[0m         \u001b[0mresponse\u001b[0m \u001b[1;33m=\u001b[0m \u001b[0mself\u001b[0m\u001b[1;33m.\u001b[0m\u001b[0mcommand_executor\u001b[0m\u001b[1;33m.\u001b[0m\u001b[0mexecute\u001b[0m\u001b[1;33m(\u001b[0m\u001b[0mdriver_command\u001b[0m\u001b[1;33m,\u001b[0m \u001b[0mparams\u001b[0m\u001b[1;33m)\u001b[0m\u001b[1;33m\u001b[0m\u001b[1;33m\u001b[0m\u001b[0m\n\u001b[0;32m    428\u001b[0m         \u001b[1;32mif\u001b[0m \u001b[0mresponse\u001b[0m\u001b[1;33m:\u001b[0m\u001b[1;33m\u001b[0m\u001b[1;33m\u001b[0m\u001b[0m\n\u001b[1;32m--> 429\u001b[1;33m             \u001b[0mself\u001b[0m\u001b[1;33m.\u001b[0m\u001b[0merror_handler\u001b[0m\u001b[1;33m.\u001b[0m\u001b[0mcheck_response\u001b[0m\u001b[1;33m(\u001b[0m\u001b[0mresponse\u001b[0m\u001b[1;33m)\u001b[0m\u001b[1;33m\u001b[0m\u001b[1;33m\u001b[0m\u001b[0m\n\u001b[0m\u001b[0;32m    430\u001b[0m             response['value'] = self._unwrap_value(\n\u001b[0;32m    431\u001b[0m                 response.get('value', None))\n",
      "\u001b[1;32m~\\anaconda3\\lib\\site-packages\\selenium\\webdriver\\remote\\errorhandler.py\u001b[0m in \u001b[0;36mcheck_response\u001b[1;34m(self, response)\u001b[0m\n\u001b[0;32m    241\u001b[0m                 \u001b[0malert_text\u001b[0m \u001b[1;33m=\u001b[0m \u001b[0mvalue\u001b[0m\u001b[1;33m[\u001b[0m\u001b[1;34m'alert'\u001b[0m\u001b[1;33m]\u001b[0m\u001b[1;33m.\u001b[0m\u001b[0mget\u001b[0m\u001b[1;33m(\u001b[0m\u001b[1;34m'text'\u001b[0m\u001b[1;33m)\u001b[0m\u001b[1;33m\u001b[0m\u001b[1;33m\u001b[0m\u001b[0m\n\u001b[0;32m    242\u001b[0m             \u001b[1;32mraise\u001b[0m \u001b[0mexception_class\u001b[0m\u001b[1;33m(\u001b[0m\u001b[0mmessage\u001b[0m\u001b[1;33m,\u001b[0m \u001b[0mscreen\u001b[0m\u001b[1;33m,\u001b[0m \u001b[0mstacktrace\u001b[0m\u001b[1;33m,\u001b[0m \u001b[0malert_text\u001b[0m\u001b[1;33m)\u001b[0m  \u001b[1;31m# type: ignore[call-arg]  # mypy is not smart enough here\u001b[0m\u001b[1;33m\u001b[0m\u001b[1;33m\u001b[0m\u001b[0m\n\u001b[1;32m--> 243\u001b[1;33m         \u001b[1;32mraise\u001b[0m \u001b[0mexception_class\u001b[0m\u001b[1;33m(\u001b[0m\u001b[0mmessage\u001b[0m\u001b[1;33m,\u001b[0m \u001b[0mscreen\u001b[0m\u001b[1;33m,\u001b[0m \u001b[0mstacktrace\u001b[0m\u001b[1;33m)\u001b[0m\u001b[1;33m\u001b[0m\u001b[1;33m\u001b[0m\u001b[0m\n\u001b[0m",
      "\u001b[1;31mNoSuchElementException\u001b[0m: Message: no such element: Unable to locate element: {\"method\":\"css selector\",\"selector\":\".HeaderMenu-dropdown-link lh-condensed d-block no-underline position-relative py-2 Link--secondary\"}\n  (Session info: chrome=107.0.5304.88)\nStacktrace:\nBacktrace:\n\tOrdinal0 [0x00931ED3+2236115]\n\tOrdinal0 [0x008C92F1+1807089]\n\tOrdinal0 [0x007D66FD+812797]\n\tOrdinal0 [0x008055DF+1005023]\n\tOrdinal0 [0x008057CB+1005515]\n\tOrdinal0 [0x00837632+1209906]\n\tOrdinal0 [0x00821AD4+1120980]\n\tOrdinal0 [0x008359E2+1202658]\n\tOrdinal0 [0x008218A6+1120422]\n\tOrdinal0 [0x007FA73D+960317]\n\tOrdinal0 [0x007FB71F+964383]\n\tGetHandleVerifier [0x00BDE7E2+2743074]\n\tGetHandleVerifier [0x00BD08D4+2685972]\n\tGetHandleVerifier [0x009C2BAA+532202]\n\tGetHandleVerifier [0x009C1990+527568]\n\tOrdinal0 [0x008D080C+1837068]\n\tOrdinal0 [0x008D4CD8+1854680]\n\tOrdinal0 [0x008D4DC5+1854917]\n\tOrdinal0 [0x008DED64+1895780]\n\tBaseThreadInitThunk [0x7661FA29+25]\n\tRtlGetAppContainerNamedObjectPath [0x773F7A9E+286]\n\tRtlGetAppContainerNamedObjectPath [0x773F7A6E+238]\n"
     ]
    }
   ],
   "source": [
    "# Handling Exception\n",
    "\n",
    "time.sleep(5)\n",
    "try:\n",
    "    trending=driver.find_element(By.CLASS_NAME,\"HeaderMenu-dropdown-link lh-condensed d-block no-underline position-relative py-2 Link--secondary\")\n",
    "    trending.click()\n",
    "    \n",
    "except NoSuchElementException as e:\n",
    "    print(\"Exception Raised : \",e)\n",
    "    trending=driver.find_element(By.CLASS_NAME,\"HeaderMenu-dropdown-link lh-condensed d-block no-underline position-relative py-2 Link--secondary\")\n",
    "    trending.click()"
   ]
  },
  {
   "cell_type": "code",
   "execution_count": 44,
   "id": "4680bda0",
   "metadata": {},
   "outputs": [],
   "source": [
    "Title=[]\n",
    "description=[]\n",
    "contributors=[]\n",
    "language=[]"
   ]
  },
  {
   "cell_type": "code",
   "execution_count": 51,
   "id": "69bc797d",
   "metadata": {},
   "outputs": [],
   "source": [
    "\n",
    "        \n",
    "    description_tag=driver.find_elements(By.XPATH,'//p[@class=\"col-9 color-fg-muted my-1 pr-4\"]')   \n",
    "    for j in description_tag:\n",
    "        description.append(j.text)   \n",
    "        \n",
    "    contributor_tag=driver.find_elements(By.XPATH,'//a[@class=\"Link--muted d-inline-block mr-3\"]')   \n",
    "    for l in contributor_tag:\n",
    "        contributors.append(l.text)\n",
    "        \n",
    "    language_tag=driver.find_elements(By.XPATH,'//span[@class=\"d-inline-block ml-0 mr-3\"]')   \n",
    "    for m in language_tag:\n",
    "        language.append(m.text)"
   ]
  },
  {
   "cell_type": "code",
   "execution_count": 45,
   "id": "b9bae634",
   "metadata": {},
   "outputs": [],
   "source": [
    "title_tag=driver.find_elements(By.XPATH,'//span[@class=\"text-normal\"]')\n",
    "for i in title_tag:\n",
    "    Title.append(i.text.split('/'))\n",
    "        "
   ]
  },
  {
   "cell_type": "code",
   "execution_count": 55,
   "id": "980b5d32",
   "metadata": {},
   "outputs": [
    {
     "data": {
      "text/plain": [
       "[['refinedev ', ''],\n",
       " ['Sanster ', ''],\n",
       " ['yangshun ', ''],\n",
       " ['milanm ', ''],\n",
       " ['SagerNet ', ''],\n",
       " ['alirezadir ', ''],\n",
       " ['NCSC-NL ', ''],\n",
       " ['jwasham ', ''],\n",
       " ['jamealg ', ''],\n",
       " ['Taiga74164 ', ''],\n",
       " ['commaai ', ''],\n",
       " ['poteto ', ''],\n",
       " ['remix-run ', ''],\n",
       " ['openssl ', ''],\n",
       " ['colmmacc ', ''],\n",
       " ['TeamNewPipe ', ''],\n",
       " ['nvm-sh ', ''],\n",
       " ['facebookresearch ', ''],\n",
       " ['windows-powertool ', ''],\n",
       " ['SheerSt ', '']]"
      ]
     },
     "execution_count": 55,
     "metadata": {},
     "output_type": "execute_result"
    }
   ],
   "source": [
    "Titles=Title[0:20]\n",
    "Titles"
   ]
  },
  {
   "cell_type": "code",
   "execution_count": 57,
   "id": "f923e0ef",
   "metadata": {},
   "outputs": [
    {
     "data": {
      "text/plain": [
       "['Build your React-based CRUD applications, without constraints.',\n",
       " 'Image inpainting tool powered by SOTA AI Model. Remove any unwanted object, defect, people from your pictures or erase and replace(powered by stable diffusion) any thing on your pictures.',\n",
       " '💯 Curated coding interview preparation materials for busy software engineers',\n",
       " 'DevOps Roadmap for 2022. with learning resources',\n",
       " 'The universal proxy platform',\n",
       " 'This repo is meant to serve as a guide for Machine Learning/AI technical interviews.',\n",
       " 'Operational information regarding CVE-2022-3602 and CVE-2022-3786, two vulnerabilities in OpenSSL 3',\n",
       " 'A complete computer science study plan to become a software engineer.',\n",
       " 'A hiking and backpacking trail companion progressive web app',\n",
       " 'Akebi Genshin Cheat source for OS/CN 3.0',\n",
       " 'openpilot is an open source driver assistance system. openpilot performs the functions of Automated Lane Centering and Adaptive Cruise Control for over 200 supported car makes and models.',\n",
       " \"⭐️ Companies that don't have a broken hiring process\",\n",
       " 'Build Better Websites. Create modern, resilient user experiences with web fundamentals.',\n",
       " 'TLS/SSL and crypto library',\n",
       " 'A libre lightweight streaming front-end for Android.',\n",
       " 'Node Version Manager - POSIX-compliant bash script to manage multiple active node.js versions',\n",
       " 'Evolutionary Scale Modeling (esm): Pretrained language models for proteins',\n",
       " 'Windows powertool is a windows 10 and 11 utility designed to provide one click solution to reduce and trim down unnecessary burden that comes by default with windows. its used to Improve speed, remove bloatware, protect privacy, eliminate data collection, and so more.',\n",
       " 'PokeWilds - A Gen 2 Game/Engine using libGDX',\n",
       " 'The open and composable observability and data visualization platform. Visualize metrics, logs, and traces from multiple sources like Prometheus, Loki, Elasticsearch, InfluxDB, Postgres and many more.']"
      ]
     },
     "execution_count": 57,
     "metadata": {},
     "output_type": "execute_result"
    }
   ],
   "source": [
    "descriptions=description[0:20]\n",
    "descriptions"
   ]
  },
  {
   "cell_type": "code",
   "execution_count": 58,
   "id": "5d3f23f1",
   "metadata": {},
   "outputs": [
    {
     "data": {
      "text/plain": [
       "['4,498',\n",
       " '351',\n",
       " '2,361',\n",
       " '212',\n",
       " '81,373',\n",
       " '10,804',\n",
       " '1,602',\n",
       " '82',\n",
       " '1,686',\n",
       " '198',\n",
       " '1,290',\n",
       " '282',\n",
       " '470',\n",
       " '105',\n",
       " '237,477',\n",
       " '63,506',\n",
       " '434',\n",
       " '10',\n",
       " '697',\n",
       " '482']"
      ]
     },
     "execution_count": 58,
     "metadata": {},
     "output_type": "execute_result"
    }
   ],
   "source": [
    "Contributors=contributors[0:20]\n",
    "Contributors"
   ]
  },
  {
   "cell_type": "code",
   "execution_count": 59,
   "id": "647e1e8f",
   "metadata": {},
   "outputs": [
    {
     "data": {
      "text/plain": [
       "['TypeScript',\n",
       " 'Python',\n",
       " 'TypeScript',\n",
       " 'Go',\n",
       " 'Jupyter Notebook',\n",
       " 'JavaScript',\n",
       " 'C++',\n",
       " 'Python',\n",
       " 'JavaScript',\n",
       " 'TypeScript',\n",
       " 'C',\n",
       " 'Python',\n",
       " 'Java',\n",
       " 'Shell',\n",
       " 'Python',\n",
       " 'Assembly',\n",
       " 'TypeScript',\n",
       " 'Go',\n",
       " 'C#',\n",
       " 'Python']"
      ]
     },
     "execution_count": 59,
     "metadata": {},
     "output_type": "execute_result"
    }
   ],
   "source": [
    "languages=language[0:20]\n",
    "languages"
   ]
  },
  {
   "cell_type": "code",
   "execution_count": 60,
   "id": "e726573a",
   "metadata": {},
   "outputs": [
    {
     "data": {
      "text/html": [
       "<div>\n",
       "<style scoped>\n",
       "    .dataframe tbody tr th:only-of-type {\n",
       "        vertical-align: middle;\n",
       "    }\n",
       "\n",
       "    .dataframe tbody tr th {\n",
       "        vertical-align: top;\n",
       "    }\n",
       "\n",
       "    .dataframe thead th {\n",
       "        text-align: right;\n",
       "    }\n",
       "</style>\n",
       "<table border=\"1\" class=\"dataframe\">\n",
       "  <thead>\n",
       "    <tr style=\"text-align: right;\">\n",
       "      <th></th>\n",
       "      <th>Repository title</th>\n",
       "      <th>Repository description</th>\n",
       "      <th>Contributors count</th>\n",
       "      <th>Language used</th>\n",
       "    </tr>\n",
       "  </thead>\n",
       "  <tbody>\n",
       "    <tr>\n",
       "      <th>0</th>\n",
       "      <td>[refinedev , ]</td>\n",
       "      <td>Build your React-based CRUD applications, with...</td>\n",
       "      <td>4,498</td>\n",
       "      <td>TypeScript</td>\n",
       "    </tr>\n",
       "    <tr>\n",
       "      <th>1</th>\n",
       "      <td>[Sanster , ]</td>\n",
       "      <td>Image inpainting tool powered by SOTA AI Model...</td>\n",
       "      <td>351</td>\n",
       "      <td>Python</td>\n",
       "    </tr>\n",
       "    <tr>\n",
       "      <th>2</th>\n",
       "      <td>[yangshun , ]</td>\n",
       "      <td>💯 Curated coding interview preparation materia...</td>\n",
       "      <td>2,361</td>\n",
       "      <td>TypeScript</td>\n",
       "    </tr>\n",
       "    <tr>\n",
       "      <th>3</th>\n",
       "      <td>[milanm , ]</td>\n",
       "      <td>DevOps Roadmap for 2022. with learning resources</td>\n",
       "      <td>212</td>\n",
       "      <td>Go</td>\n",
       "    </tr>\n",
       "    <tr>\n",
       "      <th>4</th>\n",
       "      <td>[SagerNet , ]</td>\n",
       "      <td>The universal proxy platform</td>\n",
       "      <td>81,373</td>\n",
       "      <td>Jupyter Notebook</td>\n",
       "    </tr>\n",
       "    <tr>\n",
       "      <th>5</th>\n",
       "      <td>[alirezadir , ]</td>\n",
       "      <td>This repo is meant to serve as a guide for Mac...</td>\n",
       "      <td>10,804</td>\n",
       "      <td>JavaScript</td>\n",
       "    </tr>\n",
       "    <tr>\n",
       "      <th>6</th>\n",
       "      <td>[NCSC-NL , ]</td>\n",
       "      <td>Operational information regarding CVE-2022-360...</td>\n",
       "      <td>1,602</td>\n",
       "      <td>C++</td>\n",
       "    </tr>\n",
       "    <tr>\n",
       "      <th>7</th>\n",
       "      <td>[jwasham , ]</td>\n",
       "      <td>A complete computer science study plan to beco...</td>\n",
       "      <td>82</td>\n",
       "      <td>Python</td>\n",
       "    </tr>\n",
       "    <tr>\n",
       "      <th>8</th>\n",
       "      <td>[jamealg , ]</td>\n",
       "      <td>A hiking and backpacking trail companion progr...</td>\n",
       "      <td>1,686</td>\n",
       "      <td>JavaScript</td>\n",
       "    </tr>\n",
       "    <tr>\n",
       "      <th>9</th>\n",
       "      <td>[Taiga74164 , ]</td>\n",
       "      <td>Akebi Genshin Cheat source for OS/CN 3.0</td>\n",
       "      <td>198</td>\n",
       "      <td>TypeScript</td>\n",
       "    </tr>\n",
       "    <tr>\n",
       "      <th>10</th>\n",
       "      <td>[commaai , ]</td>\n",
       "      <td>openpilot is an open source driver assistance ...</td>\n",
       "      <td>1,290</td>\n",
       "      <td>C</td>\n",
       "    </tr>\n",
       "    <tr>\n",
       "      <th>11</th>\n",
       "      <td>[poteto , ]</td>\n",
       "      <td>⭐️ Companies that don't have a broken hiring p...</td>\n",
       "      <td>282</td>\n",
       "      <td>Python</td>\n",
       "    </tr>\n",
       "    <tr>\n",
       "      <th>12</th>\n",
       "      <td>[remix-run , ]</td>\n",
       "      <td>Build Better Websites. Create modern, resilien...</td>\n",
       "      <td>470</td>\n",
       "      <td>Java</td>\n",
       "    </tr>\n",
       "    <tr>\n",
       "      <th>13</th>\n",
       "      <td>[openssl , ]</td>\n",
       "      <td>TLS/SSL and crypto library</td>\n",
       "      <td>105</td>\n",
       "      <td>Shell</td>\n",
       "    </tr>\n",
       "    <tr>\n",
       "      <th>14</th>\n",
       "      <td>[colmmacc , ]</td>\n",
       "      <td>A libre lightweight streaming front-end for An...</td>\n",
       "      <td>237,477</td>\n",
       "      <td>Python</td>\n",
       "    </tr>\n",
       "    <tr>\n",
       "      <th>15</th>\n",
       "      <td>[TeamNewPipe , ]</td>\n",
       "      <td>Node Version Manager - POSIX-compliant bash sc...</td>\n",
       "      <td>63,506</td>\n",
       "      <td>Assembly</td>\n",
       "    </tr>\n",
       "    <tr>\n",
       "      <th>16</th>\n",
       "      <td>[nvm-sh , ]</td>\n",
       "      <td>Evolutionary Scale Modeling (esm): Pretrained ...</td>\n",
       "      <td>434</td>\n",
       "      <td>TypeScript</td>\n",
       "    </tr>\n",
       "    <tr>\n",
       "      <th>17</th>\n",
       "      <td>[facebookresearch , ]</td>\n",
       "      <td>Windows powertool is a windows 10 and 11 utili...</td>\n",
       "      <td>10</td>\n",
       "      <td>Go</td>\n",
       "    </tr>\n",
       "    <tr>\n",
       "      <th>18</th>\n",
       "      <td>[windows-powertool , ]</td>\n",
       "      <td>PokeWilds - A Gen 2 Game/Engine using libGDX</td>\n",
       "      <td>697</td>\n",
       "      <td>C#</td>\n",
       "    </tr>\n",
       "    <tr>\n",
       "      <th>19</th>\n",
       "      <td>[SheerSt , ]</td>\n",
       "      <td>The open and composable observability and data...</td>\n",
       "      <td>482</td>\n",
       "      <td>Python</td>\n",
       "    </tr>\n",
       "  </tbody>\n",
       "</table>\n",
       "</div>"
      ],
      "text/plain": [
       "          Repository title                             Repository description  \\\n",
       "0           [refinedev , ]  Build your React-based CRUD applications, with...   \n",
       "1             [Sanster , ]  Image inpainting tool powered by SOTA AI Model...   \n",
       "2            [yangshun , ]  💯 Curated coding interview preparation materia...   \n",
       "3              [milanm , ]   DevOps Roadmap for 2022. with learning resources   \n",
       "4            [SagerNet , ]                       The universal proxy platform   \n",
       "5          [alirezadir , ]  This repo is meant to serve as a guide for Mac...   \n",
       "6             [NCSC-NL , ]  Operational information regarding CVE-2022-360...   \n",
       "7             [jwasham , ]  A complete computer science study plan to beco...   \n",
       "8             [jamealg , ]  A hiking and backpacking trail companion progr...   \n",
       "9          [Taiga74164 , ]           Akebi Genshin Cheat source for OS/CN 3.0   \n",
       "10            [commaai , ]  openpilot is an open source driver assistance ...   \n",
       "11             [poteto , ]  ⭐️ Companies that don't have a broken hiring p...   \n",
       "12          [remix-run , ]  Build Better Websites. Create modern, resilien...   \n",
       "13            [openssl , ]                         TLS/SSL and crypto library   \n",
       "14           [colmmacc , ]  A libre lightweight streaming front-end for An...   \n",
       "15        [TeamNewPipe , ]  Node Version Manager - POSIX-compliant bash sc...   \n",
       "16             [nvm-sh , ]  Evolutionary Scale Modeling (esm): Pretrained ...   \n",
       "17   [facebookresearch , ]  Windows powertool is a windows 10 and 11 utili...   \n",
       "18  [windows-powertool , ]       PokeWilds - A Gen 2 Game/Engine using libGDX   \n",
       "19            [SheerSt , ]  The open and composable observability and data...   \n",
       "\n",
       "   Contributors count     Language used  \n",
       "0               4,498        TypeScript  \n",
       "1                 351            Python  \n",
       "2               2,361        TypeScript  \n",
       "3                 212                Go  \n",
       "4              81,373  Jupyter Notebook  \n",
       "5              10,804        JavaScript  \n",
       "6               1,602               C++  \n",
       "7                  82            Python  \n",
       "8               1,686        JavaScript  \n",
       "9                 198        TypeScript  \n",
       "10              1,290                 C  \n",
       "11                282            Python  \n",
       "12                470              Java  \n",
       "13                105             Shell  \n",
       "14            237,477            Python  \n",
       "15             63,506          Assembly  \n",
       "16                434        TypeScript  \n",
       "17                 10                Go  \n",
       "18                697                C#  \n",
       "19                482            Python  "
      ]
     },
     "execution_count": 60,
     "metadata": {},
     "output_type": "execute_result"
    }
   ],
   "source": [
    "Github_data=pd.DataFrame({'Repository title':Titles,'Repository description':descriptions,'Contributors count':Contributors,\n",
    "                          'Language used':languages})\n",
    "Github_data"
   ]
  },
  {
   "cell_type": "markdown",
   "id": "f840345e",
   "metadata": {},
   "source": [
    "6. Scrape the details of top 100 songs on billiboard.com.\n",
    "Url = https:/www.billboard.com/\n",
    "You have to find the following details:\n",
    "A) Song name\n",
    "B) Artist name\n",
    "C) Last week rank\n",
    "D) Peak rank\n",
    "E) Weeks on board"
   ]
  },
  {
   "cell_type": "code",
   "execution_count": 69,
   "id": "701ed068",
   "metadata": {},
   "outputs": [],
   "source": [
    "# Opening the billboard page on automated chrome browser\n",
    "\n",
    "driver.get(\" https:/www.billboard.com/\")"
   ]
  },
  {
   "cell_type": "code",
   "execution_count": 64,
   "id": "53a89ba1",
   "metadata": {},
   "outputs": [
    {
     "ename": "InvalidSelectorException",
     "evalue": "Message: invalid selector: An invalid or illegal selector was specified\n  (Session info: chrome=107.0.5304.88)\nStacktrace:\nBacktrace:\n\tOrdinal0 [0x00931ED3+2236115]\n\tOrdinal0 [0x008C92F1+1807089]\n\tOrdinal0 [0x007D66FD+812797]\n\tOrdinal0 [0x007D92B4+823988]\n\tOrdinal0 [0x007D9165+823653]\n\tOrdinal0 [0x007D9400+824320]\n\tOrdinal0 [0x00805352+1004370]\n\tOrdinal0 [0x008057CB+1005515]\n\tOrdinal0 [0x00837632+1209906]\n\tOrdinal0 [0x00821AD4+1120980]\n\tOrdinal0 [0x008359E2+1202658]\n\tOrdinal0 [0x008218A6+1120422]\n\tOrdinal0 [0x007FA73D+960317]\n\tOrdinal0 [0x007FB71F+964383]\n\tGetHandleVerifier [0x00BDE7E2+2743074]\n\tGetHandleVerifier [0x00BD08D4+2685972]\n\tGetHandleVerifier [0x009C2BAA+532202]\n\tGetHandleVerifier [0x009C1990+527568]\n\tOrdinal0 [0x008D080C+1837068]\n\tOrdinal0 [0x008D4CD8+1854680]\n\tOrdinal0 [0x008D4DC5+1854917]\n\tOrdinal0 [0x008DED64+1895780]\n\tBaseThreadInitThunk [0x7661FA29+25]\n\tRtlGetAppContainerNamedObjectPath [0x773F7A9E+286]\n\tRtlGetAppContainerNamedObjectPath [0x773F7A6E+238]\n",
     "output_type": "error",
     "traceback": [
      "\u001b[1;31m---------------------------------------------------------------------------\u001b[0m",
      "\u001b[1;31mInvalidSelectorException\u001b[0m                  Traceback (most recent call last)",
      "\u001b[1;32m<ipython-input-64-b16c23c7f207>\u001b[0m in \u001b[0;36m<module>\u001b[1;34m\u001b[0m\n\u001b[1;32m----> 1\u001b[1;33m \u001b[0msongs\u001b[0m\u001b[1;33m=\u001b[0m\u001b[0mdriver\u001b[0m\u001b[1;33m.\u001b[0m\u001b[0mfind_element\u001b[0m\u001b[1;33m(\u001b[0m\u001b[0mBy\u001b[0m\u001b[1;33m.\u001b[0m\u001b[0mCLASS_NAME\u001b[0m\u001b[1;33m,\u001b[0m\u001b[1;34m\"mega-menu-item-heading lrv-u-flex lrv-u-align-items-center lrv-u-color-white u-border-b-2@desktop lrv-u-border-color-brand-primary a-become-color-white-on-expand\"\u001b[0m\u001b[1;33m)\u001b[0m\u001b[1;33m\u001b[0m\u001b[1;33m\u001b[0m\u001b[0m\n\u001b[0m\u001b[0;32m      2\u001b[0m \u001b[0msongs\u001b[0m\u001b[1;33m.\u001b[0m\u001b[0mclick\u001b[0m\u001b[1;33m(\u001b[0m\u001b[1;33m)\u001b[0m\u001b[1;33m\u001b[0m\u001b[1;33m\u001b[0m\u001b[0m\n",
      "\u001b[1;32m~\\anaconda3\\lib\\site-packages\\selenium\\webdriver\\remote\\webdriver.py\u001b[0m in \u001b[0;36mfind_element\u001b[1;34m(self, by, value)\u001b[0m\n\u001b[0;32m    854\u001b[0m             \u001b[0mvalue\u001b[0m \u001b[1;33m=\u001b[0m \u001b[1;34m'[name=\"%s\"]'\u001b[0m \u001b[1;33m%\u001b[0m \u001b[0mvalue\u001b[0m\u001b[1;33m\u001b[0m\u001b[1;33m\u001b[0m\u001b[0m\n\u001b[0;32m    855\u001b[0m \u001b[1;33m\u001b[0m\u001b[0m\n\u001b[1;32m--> 856\u001b[1;33m         return self.execute(Command.FIND_ELEMENT, {\n\u001b[0m\u001b[0;32m    857\u001b[0m             \u001b[1;34m'using'\u001b[0m\u001b[1;33m:\u001b[0m \u001b[0mby\u001b[0m\u001b[1;33m,\u001b[0m\u001b[1;33m\u001b[0m\u001b[1;33m\u001b[0m\u001b[0m\n\u001b[0;32m    858\u001b[0m             'value': value})['value']\n",
      "\u001b[1;32m~\\anaconda3\\lib\\site-packages\\selenium\\webdriver\\remote\\webdriver.py\u001b[0m in \u001b[0;36mexecute\u001b[1;34m(self, driver_command, params)\u001b[0m\n\u001b[0;32m    427\u001b[0m         \u001b[0mresponse\u001b[0m \u001b[1;33m=\u001b[0m \u001b[0mself\u001b[0m\u001b[1;33m.\u001b[0m\u001b[0mcommand_executor\u001b[0m\u001b[1;33m.\u001b[0m\u001b[0mexecute\u001b[0m\u001b[1;33m(\u001b[0m\u001b[0mdriver_command\u001b[0m\u001b[1;33m,\u001b[0m \u001b[0mparams\u001b[0m\u001b[1;33m)\u001b[0m\u001b[1;33m\u001b[0m\u001b[1;33m\u001b[0m\u001b[0m\n\u001b[0;32m    428\u001b[0m         \u001b[1;32mif\u001b[0m \u001b[0mresponse\u001b[0m\u001b[1;33m:\u001b[0m\u001b[1;33m\u001b[0m\u001b[1;33m\u001b[0m\u001b[0m\n\u001b[1;32m--> 429\u001b[1;33m             \u001b[0mself\u001b[0m\u001b[1;33m.\u001b[0m\u001b[0merror_handler\u001b[0m\u001b[1;33m.\u001b[0m\u001b[0mcheck_response\u001b[0m\u001b[1;33m(\u001b[0m\u001b[0mresponse\u001b[0m\u001b[1;33m)\u001b[0m\u001b[1;33m\u001b[0m\u001b[1;33m\u001b[0m\u001b[0m\n\u001b[0m\u001b[0;32m    430\u001b[0m             response['value'] = self._unwrap_value(\n\u001b[0;32m    431\u001b[0m                 response.get('value', None))\n",
      "\u001b[1;32m~\\anaconda3\\lib\\site-packages\\selenium\\webdriver\\remote\\errorhandler.py\u001b[0m in \u001b[0;36mcheck_response\u001b[1;34m(self, response)\u001b[0m\n\u001b[0;32m    241\u001b[0m                 \u001b[0malert_text\u001b[0m \u001b[1;33m=\u001b[0m \u001b[0mvalue\u001b[0m\u001b[1;33m[\u001b[0m\u001b[1;34m'alert'\u001b[0m\u001b[1;33m]\u001b[0m\u001b[1;33m.\u001b[0m\u001b[0mget\u001b[0m\u001b[1;33m(\u001b[0m\u001b[1;34m'text'\u001b[0m\u001b[1;33m)\u001b[0m\u001b[1;33m\u001b[0m\u001b[1;33m\u001b[0m\u001b[0m\n\u001b[0;32m    242\u001b[0m             \u001b[1;32mraise\u001b[0m \u001b[0mexception_class\u001b[0m\u001b[1;33m(\u001b[0m\u001b[0mmessage\u001b[0m\u001b[1;33m,\u001b[0m \u001b[0mscreen\u001b[0m\u001b[1;33m,\u001b[0m \u001b[0mstacktrace\u001b[0m\u001b[1;33m,\u001b[0m \u001b[0malert_text\u001b[0m\u001b[1;33m)\u001b[0m  \u001b[1;31m# type: ignore[call-arg]  # mypy is not smart enough here\u001b[0m\u001b[1;33m\u001b[0m\u001b[1;33m\u001b[0m\u001b[0m\n\u001b[1;32m--> 243\u001b[1;33m         \u001b[1;32mraise\u001b[0m \u001b[0mexception_class\u001b[0m\u001b[1;33m(\u001b[0m\u001b[0mmessage\u001b[0m\u001b[1;33m,\u001b[0m \u001b[0mscreen\u001b[0m\u001b[1;33m,\u001b[0m \u001b[0mstacktrace\u001b[0m\u001b[1;33m)\u001b[0m\u001b[1;33m\u001b[0m\u001b[1;33m\u001b[0m\u001b[0m\n\u001b[0m",
      "\u001b[1;31mInvalidSelectorException\u001b[0m: Message: invalid selector: An invalid or illegal selector was specified\n  (Session info: chrome=107.0.5304.88)\nStacktrace:\nBacktrace:\n\tOrdinal0 [0x00931ED3+2236115]\n\tOrdinal0 [0x008C92F1+1807089]\n\tOrdinal0 [0x007D66FD+812797]\n\tOrdinal0 [0x007D92B4+823988]\n\tOrdinal0 [0x007D9165+823653]\n\tOrdinal0 [0x007D9400+824320]\n\tOrdinal0 [0x00805352+1004370]\n\tOrdinal0 [0x008057CB+1005515]\n\tOrdinal0 [0x00837632+1209906]\n\tOrdinal0 [0x00821AD4+1120980]\n\tOrdinal0 [0x008359E2+1202658]\n\tOrdinal0 [0x008218A6+1120422]\n\tOrdinal0 [0x007FA73D+960317]\n\tOrdinal0 [0x007FB71F+964383]\n\tGetHandleVerifier [0x00BDE7E2+2743074]\n\tGetHandleVerifier [0x00BD08D4+2685972]\n\tGetHandleVerifier [0x009C2BAA+532202]\n\tGetHandleVerifier [0x009C1990+527568]\n\tOrdinal0 [0x008D080C+1837068]\n\tOrdinal0 [0x008D4CD8+1854680]\n\tOrdinal0 [0x008D4DC5+1854917]\n\tOrdinal0 [0x008DED64+1895780]\n\tBaseThreadInitThunk [0x7661FA29+25]\n\tRtlGetAppContainerNamedObjectPath [0x773F7A9E+286]\n\tRtlGetAppContainerNamedObjectPath [0x773F7A6E+238]\n"
     ]
    }
   ],
   "source": [
    "songs=driver.find_element(By.CLASS_NAME,\"mega-menu-item-heading lrv-u-flex lrv-u-align-items-center lrv-u-color-white u-border-b-2@desktop lrv-u-border-color-brand-primary a-become-color-white-on-expand\")\n",
    "songs.click()"
   ]
  },
  {
   "cell_type": "code",
   "execution_count": 82,
   "id": "d875db19",
   "metadata": {},
   "outputs": [],
   "source": [
    "from selenium.common.exceptions import InvalidSelectorException"
   ]
  },
  {
   "cell_type": "code",
   "execution_count": 66,
   "id": "7a6c886e",
   "metadata": {},
   "outputs": [
    {
     "name": "stdout",
     "output_type": "stream",
     "text": [
      "Exception Raised :  Message: invalid selector: An invalid or illegal selector was specified\n",
      "  (Session info: chrome=107.0.5304.88)\n",
      "Stacktrace:\n",
      "Backtrace:\n",
      "\tOrdinal0 [0x00931ED3+2236115]\n",
      "\tOrdinal0 [0x008C92F1+1807089]\n",
      "\tOrdinal0 [0x007D66FD+812797]\n",
      "\tOrdinal0 [0x007D92B4+823988]\n",
      "\tOrdinal0 [0x007D9165+823653]\n",
      "\tOrdinal0 [0x007D9400+824320]\n",
      "\tOrdinal0 [0x00805352+1004370]\n",
      "\tOrdinal0 [0x008057CB+1005515]\n",
      "\tOrdinal0 [0x00837632+1209906]\n",
      "\tOrdinal0 [0x00821AD4+1120980]\n",
      "\tOrdinal0 [0x008359E2+1202658]\n",
      "\tOrdinal0 [0x008218A6+1120422]\n",
      "\tOrdinal0 [0x007FA73D+960317]\n",
      "\tOrdinal0 [0x007FB71F+964383]\n",
      "\tGetHandleVerifier [0x00BDE7E2+2743074]\n",
      "\tGetHandleVerifier [0x00BD08D4+2685972]\n",
      "\tGetHandleVerifier [0x009C2BAA+532202]\n",
      "\tGetHandleVerifier [0x009C1990+527568]\n",
      "\tOrdinal0 [0x008D080C+1837068]\n",
      "\tOrdinal0 [0x008D4CD8+1854680]\n",
      "\tOrdinal0 [0x008D4DC5+1854917]\n",
      "\tOrdinal0 [0x008DED64+1895780]\n",
      "\tBaseThreadInitThunk [0x7661FA29+25]\n",
      "\tRtlGetAppContainerNamedObjectPath [0x773F7A9E+286]\n",
      "\tRtlGetAppContainerNamedObjectPath [0x773F7A6E+238]\n",
      "\n"
     ]
    },
    {
     "ename": "InvalidSelectorException",
     "evalue": "Message: invalid selector: An invalid or illegal selector was specified\n  (Session info: chrome=107.0.5304.88)\nStacktrace:\nBacktrace:\n\tOrdinal0 [0x00931ED3+2236115]\n\tOrdinal0 [0x008C92F1+1807089]\n\tOrdinal0 [0x007D66FD+812797]\n\tOrdinal0 [0x007D92B4+823988]\n\tOrdinal0 [0x007D9165+823653]\n\tOrdinal0 [0x007D9400+824320]\n\tOrdinal0 [0x00805352+1004370]\n\tOrdinal0 [0x008057CB+1005515]\n\tOrdinal0 [0x00837632+1209906]\n\tOrdinal0 [0x00821AD4+1120980]\n\tOrdinal0 [0x008359E2+1202658]\n\tOrdinal0 [0x008218A6+1120422]\n\tOrdinal0 [0x007FA73D+960317]\n\tOrdinal0 [0x007FB71F+964383]\n\tGetHandleVerifier [0x00BDE7E2+2743074]\n\tGetHandleVerifier [0x00BD08D4+2685972]\n\tGetHandleVerifier [0x009C2BAA+532202]\n\tGetHandleVerifier [0x009C1990+527568]\n\tOrdinal0 [0x008D080C+1837068]\n\tOrdinal0 [0x008D4CD8+1854680]\n\tOrdinal0 [0x008D4DC5+1854917]\n\tOrdinal0 [0x008DED64+1895780]\n\tBaseThreadInitThunk [0x7661FA29+25]\n\tRtlGetAppContainerNamedObjectPath [0x773F7A9E+286]\n\tRtlGetAppContainerNamedObjectPath [0x773F7A6E+238]\n",
     "output_type": "error",
     "traceback": [
      "\u001b[1;31m---------------------------------------------------------------------------\u001b[0m",
      "\u001b[1;31mInvalidSelectorException\u001b[0m                  Traceback (most recent call last)",
      "\u001b[1;32m<ipython-input-66-d40ea1415a6a>\u001b[0m in \u001b[0;36m<module>\u001b[1;34m\u001b[0m\n\u001b[0;32m      4\u001b[0m \u001b[1;32mtry\u001b[0m\u001b[1;33m:\u001b[0m\u001b[1;33m\u001b[0m\u001b[1;33m\u001b[0m\u001b[0m\n\u001b[1;32m----> 5\u001b[1;33m     \u001b[0msongs\u001b[0m\u001b[1;33m=\u001b[0m\u001b[0mdriver\u001b[0m\u001b[1;33m.\u001b[0m\u001b[0mfind_element\u001b[0m\u001b[1;33m(\u001b[0m\u001b[0mBy\u001b[0m\u001b[1;33m.\u001b[0m\u001b[0mCLASS_NAME\u001b[0m\u001b[1;33m,\u001b[0m\u001b[1;34m\"mega-menu-item-heading lrv-u-flex lrv-u-align-items-center lrv-u-color-white u-border-b-2@desktop lrv-u-border-color-brand-primary a-become-color-white-on-expand\"\u001b[0m\u001b[1;33m)\u001b[0m\u001b[1;33m\u001b[0m\u001b[1;33m\u001b[0m\u001b[0m\n\u001b[0m\u001b[0;32m      6\u001b[0m     \u001b[0msongs\u001b[0m\u001b[1;33m.\u001b[0m\u001b[0mclick\u001b[0m\u001b[1;33m(\u001b[0m\u001b[1;33m)\u001b[0m\u001b[1;33m\u001b[0m\u001b[1;33m\u001b[0m\u001b[0m\n",
      "\u001b[1;32m~\\anaconda3\\lib\\site-packages\\selenium\\webdriver\\remote\\webdriver.py\u001b[0m in \u001b[0;36mfind_element\u001b[1;34m(self, by, value)\u001b[0m\n\u001b[0;32m    855\u001b[0m \u001b[1;33m\u001b[0m\u001b[0m\n\u001b[1;32m--> 856\u001b[1;33m         return self.execute(Command.FIND_ELEMENT, {\n\u001b[0m\u001b[0;32m    857\u001b[0m             \u001b[1;34m'using'\u001b[0m\u001b[1;33m:\u001b[0m \u001b[0mby\u001b[0m\u001b[1;33m,\u001b[0m\u001b[1;33m\u001b[0m\u001b[1;33m\u001b[0m\u001b[0m\n",
      "\u001b[1;32m~\\anaconda3\\lib\\site-packages\\selenium\\webdriver\\remote\\webdriver.py\u001b[0m in \u001b[0;36mexecute\u001b[1;34m(self, driver_command, params)\u001b[0m\n\u001b[0;32m    428\u001b[0m         \u001b[1;32mif\u001b[0m \u001b[0mresponse\u001b[0m\u001b[1;33m:\u001b[0m\u001b[1;33m\u001b[0m\u001b[1;33m\u001b[0m\u001b[0m\n\u001b[1;32m--> 429\u001b[1;33m             \u001b[0mself\u001b[0m\u001b[1;33m.\u001b[0m\u001b[0merror_handler\u001b[0m\u001b[1;33m.\u001b[0m\u001b[0mcheck_response\u001b[0m\u001b[1;33m(\u001b[0m\u001b[0mresponse\u001b[0m\u001b[1;33m)\u001b[0m\u001b[1;33m\u001b[0m\u001b[1;33m\u001b[0m\u001b[0m\n\u001b[0m\u001b[0;32m    430\u001b[0m             response['value'] = self._unwrap_value(\n",
      "\u001b[1;32m~\\anaconda3\\lib\\site-packages\\selenium\\webdriver\\remote\\errorhandler.py\u001b[0m in \u001b[0;36mcheck_response\u001b[1;34m(self, response)\u001b[0m\n\u001b[0;32m    242\u001b[0m             \u001b[1;32mraise\u001b[0m \u001b[0mexception_class\u001b[0m\u001b[1;33m(\u001b[0m\u001b[0mmessage\u001b[0m\u001b[1;33m,\u001b[0m \u001b[0mscreen\u001b[0m\u001b[1;33m,\u001b[0m \u001b[0mstacktrace\u001b[0m\u001b[1;33m,\u001b[0m \u001b[0malert_text\u001b[0m\u001b[1;33m)\u001b[0m  \u001b[1;31m# type: ignore[call-arg]  # mypy is not smart enough here\u001b[0m\u001b[1;33m\u001b[0m\u001b[1;33m\u001b[0m\u001b[0m\n\u001b[1;32m--> 243\u001b[1;33m         \u001b[1;32mraise\u001b[0m \u001b[0mexception_class\u001b[0m\u001b[1;33m(\u001b[0m\u001b[0mmessage\u001b[0m\u001b[1;33m,\u001b[0m \u001b[0mscreen\u001b[0m\u001b[1;33m,\u001b[0m \u001b[0mstacktrace\u001b[0m\u001b[1;33m)\u001b[0m\u001b[1;33m\u001b[0m\u001b[1;33m\u001b[0m\u001b[0m\n\u001b[0m",
      "\u001b[1;31mInvalidSelectorException\u001b[0m: Message: invalid selector: An invalid or illegal selector was specified\n  (Session info: chrome=107.0.5304.88)\nStacktrace:\nBacktrace:\n\tOrdinal0 [0x00931ED3+2236115]\n\tOrdinal0 [0x008C92F1+1807089]\n\tOrdinal0 [0x007D66FD+812797]\n\tOrdinal0 [0x007D92B4+823988]\n\tOrdinal0 [0x007D9165+823653]\n\tOrdinal0 [0x007D9400+824320]\n\tOrdinal0 [0x00805352+1004370]\n\tOrdinal0 [0x008057CB+1005515]\n\tOrdinal0 [0x00837632+1209906]\n\tOrdinal0 [0x00821AD4+1120980]\n\tOrdinal0 [0x008359E2+1202658]\n\tOrdinal0 [0x008218A6+1120422]\n\tOrdinal0 [0x007FA73D+960317]\n\tOrdinal0 [0x007FB71F+964383]\n\tGetHandleVerifier [0x00BDE7E2+2743074]\n\tGetHandleVerifier [0x00BD08D4+2685972]\n\tGetHandleVerifier [0x009C2BAA+532202]\n\tGetHandleVerifier [0x009C1990+527568]\n\tOrdinal0 [0x008D080C+1837068]\n\tOrdinal0 [0x008D4CD8+1854680]\n\tOrdinal0 [0x008D4DC5+1854917]\n\tOrdinal0 [0x008DED64+1895780]\n\tBaseThreadInitThunk [0x7661FA29+25]\n\tRtlGetAppContainerNamedObjectPath [0x773F7A9E+286]\n\tRtlGetAppContainerNamedObjectPath [0x773F7A6E+238]\n",
      "\nDuring handling of the above exception, another exception occurred:\n",
      "\u001b[1;31mInvalidSelectorException\u001b[0m                  Traceback (most recent call last)",
      "\u001b[1;32m<ipython-input-66-d40ea1415a6a>\u001b[0m in \u001b[0;36m<module>\u001b[1;34m\u001b[0m\n\u001b[0;32m      8\u001b[0m \u001b[1;32mexcept\u001b[0m \u001b[0mInvalidSelectorException\u001b[0m \u001b[1;32mas\u001b[0m \u001b[0me\u001b[0m\u001b[1;33m:\u001b[0m\u001b[1;33m\u001b[0m\u001b[1;33m\u001b[0m\u001b[0m\n\u001b[0;32m      9\u001b[0m     \u001b[0mprint\u001b[0m\u001b[1;33m(\u001b[0m\u001b[1;34m\"Exception Raised : \"\u001b[0m\u001b[1;33m,\u001b[0m\u001b[0me\u001b[0m\u001b[1;33m)\u001b[0m\u001b[1;33m\u001b[0m\u001b[1;33m\u001b[0m\u001b[0m\n\u001b[1;32m---> 10\u001b[1;33m     \u001b[0msongs\u001b[0m\u001b[1;33m=\u001b[0m\u001b[0mdriver\u001b[0m\u001b[1;33m.\u001b[0m\u001b[0mfind_element\u001b[0m\u001b[1;33m(\u001b[0m\u001b[0mBy\u001b[0m\u001b[1;33m.\u001b[0m\u001b[0mCLASS_NAME\u001b[0m\u001b[1;33m,\u001b[0m\u001b[1;34m\"mega-menu-item-heading lrv-u-flex lrv-u-align-items-center lrv-u-color-white u-border-b-2@desktop lrv-u-border-color-brand-primary a-become-color-white-on-expand\"\u001b[0m\u001b[1;33m)\u001b[0m\u001b[1;33m\u001b[0m\u001b[1;33m\u001b[0m\u001b[0m\n\u001b[0m\u001b[0;32m     11\u001b[0m     \u001b[0msongs\u001b[0m\u001b[1;33m.\u001b[0m\u001b[0mclick\u001b[0m\u001b[1;33m(\u001b[0m\u001b[1;33m)\u001b[0m\u001b[1;33m\u001b[0m\u001b[1;33m\u001b[0m\u001b[0m\n",
      "\u001b[1;32m~\\anaconda3\\lib\\site-packages\\selenium\\webdriver\\remote\\webdriver.py\u001b[0m in \u001b[0;36mfind_element\u001b[1;34m(self, by, value)\u001b[0m\n\u001b[0;32m    854\u001b[0m             \u001b[0mvalue\u001b[0m \u001b[1;33m=\u001b[0m \u001b[1;34m'[name=\"%s\"]'\u001b[0m \u001b[1;33m%\u001b[0m \u001b[0mvalue\u001b[0m\u001b[1;33m\u001b[0m\u001b[1;33m\u001b[0m\u001b[0m\n\u001b[0;32m    855\u001b[0m \u001b[1;33m\u001b[0m\u001b[0m\n\u001b[1;32m--> 856\u001b[1;33m         return self.execute(Command.FIND_ELEMENT, {\n\u001b[0m\u001b[0;32m    857\u001b[0m             \u001b[1;34m'using'\u001b[0m\u001b[1;33m:\u001b[0m \u001b[0mby\u001b[0m\u001b[1;33m,\u001b[0m\u001b[1;33m\u001b[0m\u001b[1;33m\u001b[0m\u001b[0m\n\u001b[0;32m    858\u001b[0m             'value': value})['value']\n",
      "\u001b[1;32m~\\anaconda3\\lib\\site-packages\\selenium\\webdriver\\remote\\webdriver.py\u001b[0m in \u001b[0;36mexecute\u001b[1;34m(self, driver_command, params)\u001b[0m\n\u001b[0;32m    427\u001b[0m         \u001b[0mresponse\u001b[0m \u001b[1;33m=\u001b[0m \u001b[0mself\u001b[0m\u001b[1;33m.\u001b[0m\u001b[0mcommand_executor\u001b[0m\u001b[1;33m.\u001b[0m\u001b[0mexecute\u001b[0m\u001b[1;33m(\u001b[0m\u001b[0mdriver_command\u001b[0m\u001b[1;33m,\u001b[0m \u001b[0mparams\u001b[0m\u001b[1;33m)\u001b[0m\u001b[1;33m\u001b[0m\u001b[1;33m\u001b[0m\u001b[0m\n\u001b[0;32m    428\u001b[0m         \u001b[1;32mif\u001b[0m \u001b[0mresponse\u001b[0m\u001b[1;33m:\u001b[0m\u001b[1;33m\u001b[0m\u001b[1;33m\u001b[0m\u001b[0m\n\u001b[1;32m--> 429\u001b[1;33m             \u001b[0mself\u001b[0m\u001b[1;33m.\u001b[0m\u001b[0merror_handler\u001b[0m\u001b[1;33m.\u001b[0m\u001b[0mcheck_response\u001b[0m\u001b[1;33m(\u001b[0m\u001b[0mresponse\u001b[0m\u001b[1;33m)\u001b[0m\u001b[1;33m\u001b[0m\u001b[1;33m\u001b[0m\u001b[0m\n\u001b[0m\u001b[0;32m    430\u001b[0m             response['value'] = self._unwrap_value(\n\u001b[0;32m    431\u001b[0m                 response.get('value', None))\n",
      "\u001b[1;32m~\\anaconda3\\lib\\site-packages\\selenium\\webdriver\\remote\\errorhandler.py\u001b[0m in \u001b[0;36mcheck_response\u001b[1;34m(self, response)\u001b[0m\n\u001b[0;32m    241\u001b[0m                 \u001b[0malert_text\u001b[0m \u001b[1;33m=\u001b[0m \u001b[0mvalue\u001b[0m\u001b[1;33m[\u001b[0m\u001b[1;34m'alert'\u001b[0m\u001b[1;33m]\u001b[0m\u001b[1;33m.\u001b[0m\u001b[0mget\u001b[0m\u001b[1;33m(\u001b[0m\u001b[1;34m'text'\u001b[0m\u001b[1;33m)\u001b[0m\u001b[1;33m\u001b[0m\u001b[1;33m\u001b[0m\u001b[0m\n\u001b[0;32m    242\u001b[0m             \u001b[1;32mraise\u001b[0m \u001b[0mexception_class\u001b[0m\u001b[1;33m(\u001b[0m\u001b[0mmessage\u001b[0m\u001b[1;33m,\u001b[0m \u001b[0mscreen\u001b[0m\u001b[1;33m,\u001b[0m \u001b[0mstacktrace\u001b[0m\u001b[1;33m,\u001b[0m \u001b[0malert_text\u001b[0m\u001b[1;33m)\u001b[0m  \u001b[1;31m# type: ignore[call-arg]  # mypy is not smart enough here\u001b[0m\u001b[1;33m\u001b[0m\u001b[1;33m\u001b[0m\u001b[0m\n\u001b[1;32m--> 243\u001b[1;33m         \u001b[1;32mraise\u001b[0m \u001b[0mexception_class\u001b[0m\u001b[1;33m(\u001b[0m\u001b[0mmessage\u001b[0m\u001b[1;33m,\u001b[0m \u001b[0mscreen\u001b[0m\u001b[1;33m,\u001b[0m \u001b[0mstacktrace\u001b[0m\u001b[1;33m)\u001b[0m\u001b[1;33m\u001b[0m\u001b[1;33m\u001b[0m\u001b[0m\n\u001b[0m",
      "\u001b[1;31mInvalidSelectorException\u001b[0m: Message: invalid selector: An invalid or illegal selector was specified\n  (Session info: chrome=107.0.5304.88)\nStacktrace:\nBacktrace:\n\tOrdinal0 [0x00931ED3+2236115]\n\tOrdinal0 [0x008C92F1+1807089]\n\tOrdinal0 [0x007D66FD+812797]\n\tOrdinal0 [0x007D92B4+823988]\n\tOrdinal0 [0x007D9165+823653]\n\tOrdinal0 [0x007D9400+824320]\n\tOrdinal0 [0x00805352+1004370]\n\tOrdinal0 [0x008057CB+1005515]\n\tOrdinal0 [0x00837632+1209906]\n\tOrdinal0 [0x00821AD4+1120980]\n\tOrdinal0 [0x008359E2+1202658]\n\tOrdinal0 [0x008218A6+1120422]\n\tOrdinal0 [0x007FA73D+960317]\n\tOrdinal0 [0x007FB71F+964383]\n\tGetHandleVerifier [0x00BDE7E2+2743074]\n\tGetHandleVerifier [0x00BD08D4+2685972]\n\tGetHandleVerifier [0x009C2BAA+532202]\n\tGetHandleVerifier [0x009C1990+527568]\n\tOrdinal0 [0x008D080C+1837068]\n\tOrdinal0 [0x008D4CD8+1854680]\n\tOrdinal0 [0x008D4DC5+1854917]\n\tOrdinal0 [0x008DED64+1895780]\n\tBaseThreadInitThunk [0x7661FA29+25]\n\tRtlGetAppContainerNamedObjectPath [0x773F7A9E+286]\n\tRtlGetAppContainerNamedObjectPath [0x773F7A6E+238]\n"
     ]
    }
   ],
   "source": [
    "# Handling Exception\n",
    "\n",
    "time.sleep(5)\n",
    "try:\n",
    "    songs=driver.find_element(By.CLASS_NAME,\"mega-menu-item-heading lrv-u-flex lrv-u-align-items-center lrv-u-color-white u-border-b-2@desktop lrv-u-border-color-brand-primary a-become-color-white-on-expand\")\n",
    "    songs.click()\n",
    "    \n",
    "except InvalidSelectorException as e:\n",
    "    print(\"Exception Raised : \",e)\n",
    "    songs=driver.find_element(By.CLASS_NAME,\"mega-menu-item-heading lrv-u-flex lrv-u-align-items-center lrv-u-color-white u-border-b-2@desktop lrv-u-border-color-brand-primary a-become-color-white-on-expand\")\n",
    "    songs.click()"
   ]
  },
  {
   "cell_type": "code",
   "execution_count": 67,
   "id": "81528603",
   "metadata": {},
   "outputs": [],
   "source": [
    "driver.close()"
   ]
  },
  {
   "cell_type": "code",
   "execution_count": 74,
   "id": "5088ccfa",
   "metadata": {},
   "outputs": [],
   "source": [
    "top100_songs=[]"
   ]
  },
  {
   "cell_type": "code",
   "execution_count": 75,
   "id": "2babaae5",
   "metadata": {},
   "outputs": [],
   "source": [
    "    song_tag=driver.find_elements(By.XPATH,'//div[@class=\"u-max-width-960 lrv-u-margin-lr-auto\"]')\n",
    "    for i in song_tag:\n",
    "        top100_songs.append(i.text)\n",
    "        "
   ]
  },
  {
   "cell_type": "code",
   "execution_count": 76,
   "id": "78a5464d",
   "metadata": {},
   "outputs": [
    {
     "data": {
      "text/plain": [
       "[\"Billboard Hot 100\\nWEEK OF NOVEMBER 5, 2022\\nTHIS WEEK\\nAWARD\\ni\\nLAST WEEK\\nPEAK POS.\\nWKS ON CHART\\n1\\nNEW\\nAnti-Hero\\nTaylor Swift\\n-\\n1\\n1\\n2\\nNEW\\nLavender Haze\\nTaylor Swift\\n-\\n2\\n1\\n3\\nNEW\\nMaroon\\nTaylor Swift\\n-\\n3\\n1\\n4\\nNEW\\nSnow On The Beach\\nTaylor Swift Featuring Lana Del Rey\\n-\\n4\\n1\\n5\\nNEW\\nMidnight Rain\\nTaylor Swift\\n-\\n5\\n1\\n6\\nNEW\\nBejeweled\\nTaylor Swift\\n-\\n6\\n1\\n7\\nNEW\\nQuestion...?\\nTaylor Swift\\n-\\n7\\n1\\n8\\nNEW\\nYou're On Your Own, Kid\\nTaylor Swift\\n-\\n8\\n1\\n9\\nNEW\\nKarma\\nTaylor Swift\\n-\\n9\\n1\\n10\\nNEW\\nVigilante Shit\\nTaylor Swift\\n-\\n10\\n1\\n11\\nUnholy\\nSam Smith & Kim Petras\\n1\\n1\\n5\\n12\\nBad Habit\\nSteve Lacy\\n2\\n1\\n17\\n13\\nNEW\\nMastermind\\nTaylor Swift\\n-\\n13\\n1\\n14\\nNEW\\nLabyrinth\\nTaylor Swift\\n-\\n14\\n1\\n15\\nNEW\\nSweet Nothing\\nTaylor Swift\\n-\\n15\\n1\\n16\\nAs It Was\\nHarry Styles\\n3\\n1\\n30\\n17\\nI Like You (A Happier Song)\\nPost Malone Featuring Doja Cat\\n5\\n3\\n21\\n18\\nI Ain't Worried\\nOneRepublic\\n6\\n6\\n20\\n19\\nYou Proof\\nMorgan Wallen\\n7\\n5\\n24\\n20\\nNEW\\nWould've, Could've, Should've\\nTaylor Swift\\n-\\n20\\n1\\n21\\nNEW\\nBigger Than The Whole Sky\\nTaylor Swift\\n-\\n21\\n1\\n22\\nSuper Freaky Girl\\nNicki Minaj\\n9\\n1\\n11\\n23\\nSunroof\\nNicky Youre & dazy\\n11\\n4\\n22\\n24\\nI'm Good (Blue)\\nDavid Guetta & Bebe Rexha\\n14\\n14\\n9\\n25\\nUnder The Influence\\nChris Brown\\n29\\n23\\n7\\n26\\nNEW\\nThe Great War\\nTaylor Swift\\n-\\n26\\n1\\n27\\nVegas\\nDoja Cat\\n13\\n10\\n21\\n28\\nSomething In The Orange\\nZach Bryan\\n12\\n12\\n27\\n29\\nWasted On You\\nMorgan Wallen\\n17\\n9\\n50\\n30\\nJimmy Cooks\\nDrake Featuring 21 Savage\\n31\\n1\\n19\\n31\\nWait For U\\nFuture Featuring Drake & Tems\\n18\\n1\\n26\\n32\\nNEW\\nParis\\nTaylor Swift\\n-\\n32\\n1\\n33\\nNEW\\nHigh Infidelity\\nTaylor Swift\\n-\\n33\\n1\\n34\\nTomorrow 2\\nGloRilla & Cardi B\\n24\\n9\\n5\\n35\\nTiti Me Pregunto\\nBad Bunny\\n25\\n5\\n25\\n36\\nAbout Damn Time\\nLizzo\\n20\\n1\\n28\\n37\\nThe Kind Of Love We Make\\nLuke Combs\\n23\\n8\\n19\\n38\\nLate Night Talking\\nHarry Styles\\n27\\n3\\n23\\n39\\nCuff It\\nBeyonce\\n33\\n13\\n11\\n40\\nShe Had Me At Heads Carolina\\nCole Swindell\\n28\\n16\\n22\\n41\\nNEW\\nGlitch\\nTaylor Swift\\n-\\n41\\n1\\n42\\nMe Porto Bonito\\nBad Bunny & Chencho Corleone\\n30\\n6\\n25\\n43\\nDie For You\\nThe Weeknd\\n37\\n33\\n13\\n44\\nCalifornia Breeze\\nLil Baby\\n4\\n4\\n2\\n45\\nNEW\\nDear Reader\\nTaylor Swift\\n-\\n45\\n1\\n46\\nForever\\nLil Baby Featuring Fridayy\\n8\\n8\\n2\\n47\\nHold Me Closer\\nElton John & Britney Spears\\n34\\n6\\n9\\n48\\nJust Wanna Rock\\nLil Uzi Vert\\n86\\n48\\n2\\n49\\n5 Foot 9\\nTyler Hubbard\\n41\\n22\\n20\\n50\\nUnstoppable\\nSia\\n39\\n28\\n17\\n51\\nThank God\\nKane Brown With Katelyn Brown\\n38\\n22\\n7\\n52\\nFall In Love\\nBailey Zimmerman\\n36\\n29\\n26\\n53\\nRock And A Hard Place\\nBailey Zimmerman\\n35\\n24\\n20\\n54\\nGolden Hour\\nJVKE\\n62\\n54\\n9\\n55\\nHeyy\\nLil Baby\\n21\\n21\\n3\\n56\\nHalf Of Me\\nThomas Rhett Featuring Riley Green\\n63\\n53\\n10\\n57\\nUntil I Found You\\nStephen Sanchez\\n48\\n38\\n17\\n58\\nVictoria’s Secret\\nJax\\n47\\n35\\n13\\n59\\nSon Of A Sinner\\nJelly Roll\\n49\\n31\\n17\\n60\\nStar Walkin' (League Of Legends Worlds Anthem)\\nLil Nas X\\n43\\n32\\n5\\n61\\nRomantic Homicide\\nd4vd\\n46\\n33\\n8\\n62\\nWhat My World Spins Around\\nJordan Davis\\n51\\n41\\n11\\n63\\nReal Spill\\nLil Baby\\n10\\n10\\n2\\n64\\nDon't Come Lookin'\\nJackson Dean\\n50\\n50\\n9\\n65\\nNEW\\nMonotonia\\nShakira + Ozuna\\n-\\n65\\n1\\n66\\nStand On It\\nLil Baby\\n22\\n22\\n2\\n67\\nNever Hating\\nLil Baby & Young Thug\\n19\\n19\\n2\\n68\\nWishful Drinking\\nIngrid Andress With Sam Hunt\\n60\\n47\\n17\\n69\\nNo Se Va\\nGrupo Frontera\\n67\\n57\\n5\\n70\\nFree Mind\\nTems\\n65\\n46\\n15\\n71\\nNot Finished\\nLil Baby\\n26\\n26\\n2\\n72\\nMusic For A Sushi Restaurant\\nHarry Styles\\n74\\n8\\n15\\n73\\nPop Out\\nLil Baby & Nardo Wick\\n15\\n15\\n2\\n74\\nStaying Alive\\nDJ Khaled Featuring Drake & Lil Baby\\n66\\n5\\n12\\n75\\nPoland\\nLil Yachty\\n40\\n40\\n3\\n76\\nWhiskey On You\\nNate Smith\\n55\\n44\\n19\\n77\\nBillie Eilish.\\nArmani White\\n71\\n58\\n7\\n78\\nBetty (Get Money)\\nYung Gravy\\n59\\n30\\n16\\n79\\n2 Be Loved (Am I Ready)\\nLizzo\\n72\\n55\\n11\\n80\\nWait In The Truck\\nHARDY Featuring Lainey Wilson\\n75\\n54\\n8\\n81\\nAll Mine\\nBrent Faiyaz\\n78\\n42\\n12\\n82\\nLa Bachata\\nManuel Turizo\\n82\\n67\\n10\\n83\\nLast Last\\nBurna Boy\\n73\\n44\\n16\\n84\\nGlimpse Of Us\\nJoji\\n56\\n8\\n20\\n85\\nFreestyle\\nLil Baby\\n84\\n63\\n7\\n86\\nCalm Down\\nRema & Selena Gomez\\n89\\n74\\n8\\n87\\nGatubela\\nKarol G x Maldy\\n83\\n37\\n9\\n88\\nEvergreen\\nOmar Apollo\\n77\\n51\\n6\\n89\\nPick Me Up\\nGabby Barrett\\n90\\n69\\n13\\n90\\nGotta Move On\\nDiddy & Bryson Tiller\\n79\\n79\\n4\\n91\\nPerfect Timing\\nLil Baby\\n32\\n32\\n2\\n92\\nCountry On\\nLuke Bryan\\n91\\n72\\n10\\n93\\nSnap\\nRosa Linn\\n95\\n82\\n9\\n94\\nShe Likes It\\nRussell Dickerson & Jake Scott\\n93\\n63\\n30\\n95\\nNEW\\nMade You Look\\nMeghan Trainor\\n-\\n95\\n1\\n96\\nRE- ENTRY\\nDark Red\\nSteve Lacy\\n-\\n78\\n5\\n97\\nFrom Now On\\nLil Baby Featuring Future\\n42\\n42\\n2\\n98\\nForget Me\\nLewis Capaldi\\n99\\n95\\n4\\n99\\nNEW\\nMiss You\\nOliver Tree & Robin Schulz\\n-\\n99\\n1\\n100\\nDespecha\\nRosalia\\n92\\n63\\n12\"]"
      ]
     },
     "execution_count": 76,
     "metadata": {},
     "output_type": "execute_result"
    }
   ],
   "source": [
    "top100_songs"
   ]
  },
  {
   "cell_type": "markdown",
   "id": "6e0e55d3",
   "metadata": {},
   "source": [
    "7. Scrape the details of Data science recruiters from naukri.com.\n",
    "Url = https://www.naukri.com/\n",
    "You have to find the following details:\n",
    "A) Name\n",
    "B) Designation\n",
    "C) Company\n",
    "D) Skills they hire for\n",
    "E) Location"
   ]
  },
  {
   "cell_type": "code",
   "execution_count": 85,
   "id": "eead70a4",
   "metadata": {},
   "outputs": [],
   "source": [
    "# Opening the naukri page on automated chrome browser\n",
    "\n",
    "driver.get(\"https://www.naukri.com/\")"
   ]
  },
  {
   "cell_type": "code",
   "execution_count": 86,
   "id": "4c6f9d6d",
   "metadata": {},
   "outputs": [],
   "source": [
    "ds=driver.find_element(By.CLASS_NAME,\"suggestor-input \")\n",
    "ds.send_keys('Data Scientist')"
   ]
  },
  {
   "cell_type": "code",
   "execution_count": 87,
   "id": "af2ad910",
   "metadata": {},
   "outputs": [],
   "source": [
    "search=driver.find_element(By.CLASS_NAME,\"qsbSubmit\")\n",
    "search.click()"
   ]
  },
  {
   "cell_type": "code",
   "execution_count": 88,
   "id": "e8bd7f20",
   "metadata": {},
   "outputs": [],
   "source": [
    "designation=[]\n",
    "company=[]\n",
    "skills=[]\n",
    "location=[]"
   ]
  },
  {
   "cell_type": "code",
   "execution_count": 89,
   "id": "e8ab8f4f",
   "metadata": {},
   "outputs": [],
   "source": [
    "    post_tag=driver.find_elements(By.XPATH,'//a[@class=\"title fw500 ellipsis\"]')\n",
    "    for i in post_tag:\n",
    "        designation.append(i.text)\n",
    "        \n",
    "    company_tag=driver.find_elements(By.XPATH,'//a[@class=\"subTitle ellipsis fleft\"]')   \n",
    "    for j in company_tag:\n",
    "        company.append(j.text)   \n",
    "        \n",
    "    skills_tag=driver.find_elements(By.XPATH,'//ul[@class=\"tags has-description\"]')   \n",
    "    for l in skills_tag:\n",
    "        skills.append(l.text)\n",
    "        \n",
    "    location_tag=driver.find_elements(By.XPATH,'//span[@class=\"ellipsis fleft fs12 lh16 locWdth\"]')   \n",
    "    for m in location_tag:\n",
    "        location.append(m.text)"
   ]
  },
  {
   "cell_type": "code",
   "execution_count": 90,
   "id": "8599b45d",
   "metadata": {},
   "outputs": [
    {
     "data": {
      "text/plain": [
       "['Data Scientist',\n",
       " 'Senior Data Scientist',\n",
       " 'Assistant Vice President - Data Scientist - KPO',\n",
       " 'Data Scientist',\n",
       " 'Opportunity For Data Scientist - Female Candidates ONLY',\n",
       " 'DigitalBCG GAMMA Data Scientist',\n",
       " 'Data Scientist',\n",
       " 'Data Scientist',\n",
       " 'Data Scientist',\n",
       " 'Data Scientist',\n",
       " 'Data Scientist',\n",
       " 'Senior Analyst-Data Science',\n",
       " 'ACN - Applied Intelligence - Data & Insights - CSS - 09',\n",
       " 'Data Scientist: Advanced Analytics',\n",
       " 'Analystics & Modeling Specialist',\n",
       " 'Data Scientist',\n",
       " 'AVAP Agile Information Systems - Data Scientist - Machine Learning',\n",
       " 'Lead - Data Science - KPO',\n",
       " 'Data Scientist',\n",
       " 'Data Scientist']"
      ]
     },
     "execution_count": 90,
     "metadata": {},
     "output_type": "execute_result"
    }
   ],
   "source": [
    "designation"
   ]
  },
  {
   "cell_type": "code",
   "execution_count": 91,
   "id": "5ac70b77",
   "metadata": {},
   "outputs": [
    {
     "data": {
      "text/plain": [
       "['HCLTech',\n",
       " 'Boston Consulting Group',\n",
       " 'Huquo Consulting Pvt. Ltd',\n",
       " 'Infinics Global Solutions Pvt Ltd',\n",
       " 'PayU Finance',\n",
       " 'Boston Consulting Group',\n",
       " 'Siemens',\n",
       " 'TRH Consultancy Services',\n",
       " 'TRH Consultancy Services',\n",
       " 'TRH Consultancy Services',\n",
       " 'TRH Consultancy Services',\n",
       " 'Accenture',\n",
       " 'Accenture',\n",
       " 'IBM',\n",
       " 'Accenture',\n",
       " 'Trh Consultancy Services',\n",
       " 'AVAP Agile',\n",
       " 'Huquo Consulting Pvt. Ltd',\n",
       " 'ACS Solutions',\n",
       " 'ACS Solutions']"
      ]
     },
     "execution_count": 91,
     "metadata": {},
     "output_type": "execute_result"
    }
   ],
   "source": [
    "company"
   ]
  },
  {
   "cell_type": "code",
   "execution_count": 92,
   "id": "42b206e5",
   "metadata": {},
   "outputs": [
    {
     "data": {
      "text/plain": [
       "['pytorch\\nIT Skills\\nData Science\\nMachine Learning\\ndeep learning\\ntensorflow\\nnlp\\nreinforcement learning',\n",
       " 'Supply chain\\nadvanced analytics\\nDue diligence\\nNetwork analysis\\nConsulting\\nManagement consulting\\nMachine learning\\nPredictive modeling',\n",
       " 'R\\nSQL\\nPython\\nJava\\nC++\\ndata visualization techniques\\nScala\\nHadoop',\n",
       " 'python\\nsql\\nTableau\\nLooker\\nPeople Analytics\\nR\\nHR\\nData Flow',\n",
       " 'python\\nNoSQL\\nmodel development\\nModel Building\\nDeep Learning\\nData Science\\nspark\\nDjango',\n",
       " 'Supply chain\\nComputer science\\nadvanced analytics\\nArtificial Intelligence\\nNetwork analysis\\nMachine learning\\nManagement consulting\\nPredictive modeling',\n",
       " 'Data analysis\\nCoding\\nAnalytical\\nSignal processing\\nData mining\\nMATLAB\\nCivil engineering\\nSQL',\n",
       " 'Machine Learning\\nData Science\\nR\\nNLP\\nPyTorch\\nData Scientist\\nKeras\\nPython',\n",
       " 'SQL\\nwritten communications\\nPyTorch\\nspacy\\nOracle\\nverbal\\nTensorFlow\\nText Analytics',\n",
       " 'Python\\nPyTorch\\nGCP\\nData Scientist\\nAWS Glue\\nAL\\nSpark\\nSpacy',\n",
       " 'Data Scientist\\nML\\nPython\\nOracle\\nPyTorch\\nverbal\\nspacy\\nSQL server',\n",
       " 'Publishing\\nArtificial Intelligence\\nConsulting\\nMachine learning\\nAnalytics\\nIT Skills\\nData Science\\nCloud',\n",
       " 'Supply chain\\nData management\\nRF\\nConsulting\\nForecasting\\nIT Skills\\nData Science\\nMachine Learning',\n",
       " 'Service level\\nClaims\\nExpense management\\nFixed assets\\nAgile\\nTraining\\nadvanced analytics\\nCircuit designing',\n",
       " 'Bfsi\\nConsulting\\nMachine learning\\nOpen source\\nPython\\nIT Skills\\nBusiness process\\nMarket research',\n",
       " 'Data Scientist\\nR\\nPyTorch\\nText Analytics\\nAI\\nSpacy\\nstatistical programming\\nOracle',\n",
       " 'Machine Learning\\nIT Skills\\nPython\\nC++\\nLinux\\nData science\\nPerl',\n",
       " 'Data Science\\nCommunication Skills\\nR\\nLogistic Regression\\nData Management\\nStatistical Modeling\\nData Processing\\nPowerpoint',\n",
       " 'machine learning\\npython\\ndata science\\nsql',\n",
       " 'machine learning\\nData science\\ncommunication\\nPython\\nJupyter\\nScrum\\nSQL databases\\nLean']"
      ]
     },
     "execution_count": 92,
     "metadata": {},
     "output_type": "execute_result"
    }
   ],
   "source": [
    "skills"
   ]
  },
  {
   "cell_type": "code",
   "execution_count": 93,
   "id": "c7f1a324",
   "metadata": {},
   "outputs": [
    {
     "data": {
      "text/plain": [
       "['Noida, Hyderabad/Secunderabad, Chennai, Bangalore/Bengaluru',\n",
       " 'Mumbai, New Delhi, Chennai, Bangalore/Bengaluru',\n",
       " 'Mumbai, Hyderabad/Secunderabad, Pune, Gurgaon/Gurugram, Chennai, Bangalore/Bengaluru, Delhi / NCR',\n",
       " 'Kolkata, Hyderabad/Secunderabad, Pune, Ahmedabad, Chennai, Bangalore/Bengaluru, Delhi / NCR, Mumbai (All Areas)',\n",
       " 'Hybrid - Gurgaon/Gurugram, Bangalore/Bengaluru, Mumbai (All Areas)',\n",
       " 'New Delhi, Bangalore/Bengaluru',\n",
       " 'Gurgaon/Gurugram',\n",
       " 'Kolkata, Mumbai, Nagpur, Hyderabad/Secunderabad, Pune, Chennai, Coimbatore, Bangalore/Bengaluru, Delhi',\n",
       " 'Noida, Kolkata, Mumbai, Hyderabad/Secunderabad, Pune, Chennai, Coimbatore, Bangalore/Bengaluru, Delhi / NCR',\n",
       " 'Noida, Kolkata, Mumbai, Hyderabad/Secunderabad, Pune, Chennai, Coimbatore, Bangalore/Bengaluru, Delhi',\n",
       " 'Noida, Mumbai, Hyderabad/Secunderabad, Pune, Chennai, Bangalore/Bengaluru, Delhi / NCR',\n",
       " 'Gurgaon/Gurugram',\n",
       " 'Gurgaon/Gurugram',\n",
       " 'Gurgaon/Gurugram',\n",
       " 'Kolkata, Mumbai, Hyderabad/Secunderabad, Pune, Chennai, Bangalore/Bengaluru',\n",
       " 'Noida, Kolkata, Mumbai, Hyderabad/Secunderabad, Pune, Chennai, Coimbatore, Bangalore/Bengaluru',\n",
       " 'Kolkata, Mumbai, Hyderabad/Secunderabad, Pune, Chennai, Ahmedabad, Delhi / NCR, Bangalore/Bengaluru',\n",
       " 'Hyderabad/Secunderabad, Pune, Chennai, Gurgaon/Gurugram, Bangalore/Bengaluru',\n",
       " 'Noida, Hyderabad/Secunderabad, Pune, Chennai, Bangalore/Bengaluru',\n",
       " 'Noida, Hyderabad/Secunderabad, Pune, Chennai, Bangalore/Bengaluru']"
      ]
     },
     "execution_count": 93,
     "metadata": {},
     "output_type": "execute_result"
    }
   ],
   "source": [
    "location"
   ]
  },
  {
   "cell_type": "code",
   "execution_count": 94,
   "id": "7af421e6",
   "metadata": {},
   "outputs": [
    {
     "name": "stdout",
     "output_type": "stream",
     "text": [
      "20 20 20 20\n"
     ]
    }
   ],
   "source": [
    "print(len(designation),len(skills),len(company),len(location))"
   ]
  },
  {
   "cell_type": "code",
   "execution_count": 95,
   "id": "e11bfe7c",
   "metadata": {},
   "outputs": [
    {
     "data": {
      "text/html": [
       "<div>\n",
       "<style scoped>\n",
       "    .dataframe tbody tr th:only-of-type {\n",
       "        vertical-align: middle;\n",
       "    }\n",
       "\n",
       "    .dataframe tbody tr th {\n",
       "        vertical-align: top;\n",
       "    }\n",
       "\n",
       "    .dataframe thead th {\n",
       "        text-align: right;\n",
       "    }\n",
       "</style>\n",
       "<table border=\"1\" class=\"dataframe\">\n",
       "  <thead>\n",
       "    <tr style=\"text-align: right;\">\n",
       "      <th></th>\n",
       "      <th>Designation</th>\n",
       "      <th>Company</th>\n",
       "      <th>Skills they hire for</th>\n",
       "      <th>Location</th>\n",
       "    </tr>\n",
       "  </thead>\n",
       "  <tbody>\n",
       "    <tr>\n",
       "      <th>0</th>\n",
       "      <td>Data Scientist</td>\n",
       "      <td>HCLTech</td>\n",
       "      <td>pytorch\\nIT Skills\\nData Science\\nMachine Lear...</td>\n",
       "      <td>Noida, Hyderabad/Secunderabad, Chennai, Bangal...</td>\n",
       "    </tr>\n",
       "    <tr>\n",
       "      <th>1</th>\n",
       "      <td>Senior Data Scientist</td>\n",
       "      <td>Boston Consulting Group</td>\n",
       "      <td>Supply chain\\nadvanced analytics\\nDue diligenc...</td>\n",
       "      <td>Mumbai, New Delhi, Chennai, Bangalore/Bengaluru</td>\n",
       "    </tr>\n",
       "    <tr>\n",
       "      <th>2</th>\n",
       "      <td>Assistant Vice President - Data Scientist - KPO</td>\n",
       "      <td>Huquo Consulting Pvt. Ltd</td>\n",
       "      <td>R\\nSQL\\nPython\\nJava\\nC++\\ndata visualization ...</td>\n",
       "      <td>Mumbai, Hyderabad/Secunderabad, Pune, Gurgaon/...</td>\n",
       "    </tr>\n",
       "    <tr>\n",
       "      <th>3</th>\n",
       "      <td>Data Scientist</td>\n",
       "      <td>Infinics Global Solutions Pvt Ltd</td>\n",
       "      <td>python\\nsql\\nTableau\\nLooker\\nPeople Analytics...</td>\n",
       "      <td>Kolkata, Hyderabad/Secunderabad, Pune, Ahmedab...</td>\n",
       "    </tr>\n",
       "    <tr>\n",
       "      <th>4</th>\n",
       "      <td>Opportunity For Data Scientist - Female Candid...</td>\n",
       "      <td>PayU Finance</td>\n",
       "      <td>python\\nNoSQL\\nmodel development\\nModel Buildi...</td>\n",
       "      <td>Hybrid - Gurgaon/Gurugram, Bangalore/Bengaluru...</td>\n",
       "    </tr>\n",
       "    <tr>\n",
       "      <th>5</th>\n",
       "      <td>DigitalBCG GAMMA Data Scientist</td>\n",
       "      <td>Boston Consulting Group</td>\n",
       "      <td>Supply chain\\nComputer science\\nadvanced analy...</td>\n",
       "      <td>New Delhi, Bangalore/Bengaluru</td>\n",
       "    </tr>\n",
       "    <tr>\n",
       "      <th>6</th>\n",
       "      <td>Data Scientist</td>\n",
       "      <td>Siemens</td>\n",
       "      <td>Data analysis\\nCoding\\nAnalytical\\nSignal proc...</td>\n",
       "      <td>Gurgaon/Gurugram</td>\n",
       "    </tr>\n",
       "    <tr>\n",
       "      <th>7</th>\n",
       "      <td>Data Scientist</td>\n",
       "      <td>TRH Consultancy Services</td>\n",
       "      <td>Machine Learning\\nData Science\\nR\\nNLP\\nPyTorc...</td>\n",
       "      <td>Kolkata, Mumbai, Nagpur, Hyderabad/Secunderaba...</td>\n",
       "    </tr>\n",
       "    <tr>\n",
       "      <th>8</th>\n",
       "      <td>Data Scientist</td>\n",
       "      <td>TRH Consultancy Services</td>\n",
       "      <td>SQL\\nwritten communications\\nPyTorch\\nspacy\\nO...</td>\n",
       "      <td>Noida, Kolkata, Mumbai, Hyderabad/Secunderabad...</td>\n",
       "    </tr>\n",
       "    <tr>\n",
       "      <th>9</th>\n",
       "      <td>Data Scientist</td>\n",
       "      <td>TRH Consultancy Services</td>\n",
       "      <td>Python\\nPyTorch\\nGCP\\nData Scientist\\nAWS Glue...</td>\n",
       "      <td>Noida, Kolkata, Mumbai, Hyderabad/Secunderabad...</td>\n",
       "    </tr>\n",
       "    <tr>\n",
       "      <th>10</th>\n",
       "      <td>Data Scientist</td>\n",
       "      <td>TRH Consultancy Services</td>\n",
       "      <td>Data Scientist\\nML\\nPython\\nOracle\\nPyTorch\\nv...</td>\n",
       "      <td>Noida, Mumbai, Hyderabad/Secunderabad, Pune, C...</td>\n",
       "    </tr>\n",
       "    <tr>\n",
       "      <th>11</th>\n",
       "      <td>Senior Analyst-Data Science</td>\n",
       "      <td>Accenture</td>\n",
       "      <td>Publishing\\nArtificial Intelligence\\nConsultin...</td>\n",
       "      <td>Gurgaon/Gurugram</td>\n",
       "    </tr>\n",
       "    <tr>\n",
       "      <th>12</th>\n",
       "      <td>ACN - Applied Intelligence - Data &amp; Insights -...</td>\n",
       "      <td>Accenture</td>\n",
       "      <td>Supply chain\\nData management\\nRF\\nConsulting\\...</td>\n",
       "      <td>Gurgaon/Gurugram</td>\n",
       "    </tr>\n",
       "    <tr>\n",
       "      <th>13</th>\n",
       "      <td>Data Scientist: Advanced Analytics</td>\n",
       "      <td>IBM</td>\n",
       "      <td>Service level\\nClaims\\nExpense management\\nFix...</td>\n",
       "      <td>Gurgaon/Gurugram</td>\n",
       "    </tr>\n",
       "    <tr>\n",
       "      <th>14</th>\n",
       "      <td>Analystics &amp; Modeling Specialist</td>\n",
       "      <td>Accenture</td>\n",
       "      <td>Bfsi\\nConsulting\\nMachine learning\\nOpen sourc...</td>\n",
       "      <td>Kolkata, Mumbai, Hyderabad/Secunderabad, Pune,...</td>\n",
       "    </tr>\n",
       "    <tr>\n",
       "      <th>15</th>\n",
       "      <td>Data Scientist</td>\n",
       "      <td>Trh Consultancy Services</td>\n",
       "      <td>Data Scientist\\nR\\nPyTorch\\nText Analytics\\nAI...</td>\n",
       "      <td>Noida, Kolkata, Mumbai, Hyderabad/Secunderabad...</td>\n",
       "    </tr>\n",
       "    <tr>\n",
       "      <th>16</th>\n",
       "      <td>AVAP Agile Information Systems - Data Scientis...</td>\n",
       "      <td>AVAP Agile</td>\n",
       "      <td>Machine Learning\\nIT Skills\\nPython\\nC++\\nLinu...</td>\n",
       "      <td>Kolkata, Mumbai, Hyderabad/Secunderabad, Pune,...</td>\n",
       "    </tr>\n",
       "    <tr>\n",
       "      <th>17</th>\n",
       "      <td>Lead - Data Science - KPO</td>\n",
       "      <td>Huquo Consulting Pvt. Ltd</td>\n",
       "      <td>Data Science\\nCommunication Skills\\nR\\nLogisti...</td>\n",
       "      <td>Hyderabad/Secunderabad, Pune, Chennai, Gurgaon...</td>\n",
       "    </tr>\n",
       "    <tr>\n",
       "      <th>18</th>\n",
       "      <td>Data Scientist</td>\n",
       "      <td>ACS Solutions</td>\n",
       "      <td>machine learning\\npython\\ndata science\\nsql</td>\n",
       "      <td>Noida, Hyderabad/Secunderabad, Pune, Chennai, ...</td>\n",
       "    </tr>\n",
       "    <tr>\n",
       "      <th>19</th>\n",
       "      <td>Data Scientist</td>\n",
       "      <td>ACS Solutions</td>\n",
       "      <td>machine learning\\nData science\\ncommunication\\...</td>\n",
       "      <td>Noida, Hyderabad/Secunderabad, Pune, Chennai, ...</td>\n",
       "    </tr>\n",
       "  </tbody>\n",
       "</table>\n",
       "</div>"
      ],
      "text/plain": [
       "                                          Designation  \\\n",
       "0                                      Data Scientist   \n",
       "1                               Senior Data Scientist   \n",
       "2     Assistant Vice President - Data Scientist - KPO   \n",
       "3                                      Data Scientist   \n",
       "4   Opportunity For Data Scientist - Female Candid...   \n",
       "5                     DigitalBCG GAMMA Data Scientist   \n",
       "6                                      Data Scientist   \n",
       "7                                      Data Scientist   \n",
       "8                                      Data Scientist   \n",
       "9                                      Data Scientist   \n",
       "10                                     Data Scientist   \n",
       "11                        Senior Analyst-Data Science   \n",
       "12  ACN - Applied Intelligence - Data & Insights -...   \n",
       "13                 Data Scientist: Advanced Analytics   \n",
       "14                   Analystics & Modeling Specialist   \n",
       "15                                     Data Scientist   \n",
       "16  AVAP Agile Information Systems - Data Scientis...   \n",
       "17                          Lead - Data Science - KPO   \n",
       "18                                     Data Scientist   \n",
       "19                                     Data Scientist   \n",
       "\n",
       "                              Company  \\\n",
       "0                             HCLTech   \n",
       "1             Boston Consulting Group   \n",
       "2           Huquo Consulting Pvt. Ltd   \n",
       "3   Infinics Global Solutions Pvt Ltd   \n",
       "4                        PayU Finance   \n",
       "5             Boston Consulting Group   \n",
       "6                             Siemens   \n",
       "7            TRH Consultancy Services   \n",
       "8            TRH Consultancy Services   \n",
       "9            TRH Consultancy Services   \n",
       "10           TRH Consultancy Services   \n",
       "11                          Accenture   \n",
       "12                          Accenture   \n",
       "13                                IBM   \n",
       "14                          Accenture   \n",
       "15           Trh Consultancy Services   \n",
       "16                         AVAP Agile   \n",
       "17          Huquo Consulting Pvt. Ltd   \n",
       "18                      ACS Solutions   \n",
       "19                      ACS Solutions   \n",
       "\n",
       "                                 Skills they hire for  \\\n",
       "0   pytorch\\nIT Skills\\nData Science\\nMachine Lear...   \n",
       "1   Supply chain\\nadvanced analytics\\nDue diligenc...   \n",
       "2   R\\nSQL\\nPython\\nJava\\nC++\\ndata visualization ...   \n",
       "3   python\\nsql\\nTableau\\nLooker\\nPeople Analytics...   \n",
       "4   python\\nNoSQL\\nmodel development\\nModel Buildi...   \n",
       "5   Supply chain\\nComputer science\\nadvanced analy...   \n",
       "6   Data analysis\\nCoding\\nAnalytical\\nSignal proc...   \n",
       "7   Machine Learning\\nData Science\\nR\\nNLP\\nPyTorc...   \n",
       "8   SQL\\nwritten communications\\nPyTorch\\nspacy\\nO...   \n",
       "9   Python\\nPyTorch\\nGCP\\nData Scientist\\nAWS Glue...   \n",
       "10  Data Scientist\\nML\\nPython\\nOracle\\nPyTorch\\nv...   \n",
       "11  Publishing\\nArtificial Intelligence\\nConsultin...   \n",
       "12  Supply chain\\nData management\\nRF\\nConsulting\\...   \n",
       "13  Service level\\nClaims\\nExpense management\\nFix...   \n",
       "14  Bfsi\\nConsulting\\nMachine learning\\nOpen sourc...   \n",
       "15  Data Scientist\\nR\\nPyTorch\\nText Analytics\\nAI...   \n",
       "16  Machine Learning\\nIT Skills\\nPython\\nC++\\nLinu...   \n",
       "17  Data Science\\nCommunication Skills\\nR\\nLogisti...   \n",
       "18        machine learning\\npython\\ndata science\\nsql   \n",
       "19  machine learning\\nData science\\ncommunication\\...   \n",
       "\n",
       "                                             Location  \n",
       "0   Noida, Hyderabad/Secunderabad, Chennai, Bangal...  \n",
       "1     Mumbai, New Delhi, Chennai, Bangalore/Bengaluru  \n",
       "2   Mumbai, Hyderabad/Secunderabad, Pune, Gurgaon/...  \n",
       "3   Kolkata, Hyderabad/Secunderabad, Pune, Ahmedab...  \n",
       "4   Hybrid - Gurgaon/Gurugram, Bangalore/Bengaluru...  \n",
       "5                      New Delhi, Bangalore/Bengaluru  \n",
       "6                                    Gurgaon/Gurugram  \n",
       "7   Kolkata, Mumbai, Nagpur, Hyderabad/Secunderaba...  \n",
       "8   Noida, Kolkata, Mumbai, Hyderabad/Secunderabad...  \n",
       "9   Noida, Kolkata, Mumbai, Hyderabad/Secunderabad...  \n",
       "10  Noida, Mumbai, Hyderabad/Secunderabad, Pune, C...  \n",
       "11                                   Gurgaon/Gurugram  \n",
       "12                                   Gurgaon/Gurugram  \n",
       "13                                   Gurgaon/Gurugram  \n",
       "14  Kolkata, Mumbai, Hyderabad/Secunderabad, Pune,...  \n",
       "15  Noida, Kolkata, Mumbai, Hyderabad/Secunderabad...  \n",
       "16  Kolkata, Mumbai, Hyderabad/Secunderabad, Pune,...  \n",
       "17  Hyderabad/Secunderabad, Pune, Chennai, Gurgaon...  \n",
       "18  Noida, Hyderabad/Secunderabad, Pune, Chennai, ...  \n",
       "19  Noida, Hyderabad/Secunderabad, Pune, Chennai, ...  "
      ]
     },
     "execution_count": 95,
     "metadata": {},
     "output_type": "execute_result"
    }
   ],
   "source": [
    "Data_Scientist_Details=pd.DataFrame({'Designation':designation,'Company':company,\n",
    "                                     'Skills they hire for':skills,'Location':location})\n",
    "Data_Scientist_Details"
   ]
  },
  {
   "cell_type": "markdown",
   "id": "2b699789",
   "metadata": {},
   "source": [
    "8. Scrape the details of Highest selling novels.\n",
    "Url = https://www.theguardian.com/news/datablog/2012/aug/09/best-selling-books-all-time-fifty-shades-grey\u0002compare/\n",
    "You have to find the following details:\n",
    "A) Book name\n",
    "B) Author name\n",
    "C) Volumes sold\n",
    "D) Publisher\n",
    "E) Genre"
   ]
  },
  {
   "cell_type": "code",
   "execution_count": 96,
   "id": "64ca8fde",
   "metadata": {},
   "outputs": [],
   "source": [
    "# First connect to the driver\n",
    "\n",
    "driver=webdriver.Chrome(r\"C:\\Users\\User\\Downloads\\chromedriver_win32\\chromedriver.exe\")"
   ]
  },
  {
   "cell_type": "code",
   "execution_count": 98,
   "id": "2ebfbc33",
   "metadata": {},
   "outputs": [],
   "source": [
    "# Opening the novels page on automated chrome browser\n",
    "\n",
    "driver.get(\" https://www.theguardian.com/news/datablog/2012/aug/09/best-selling-books-all-time-fifty-shades-grey-compare/\")"
   ]
  },
  {
   "cell_type": "code",
   "execution_count": 99,
   "id": "c0fe863b",
   "metadata": {},
   "outputs": [],
   "source": [
    "Book_Author_Volume_sold_Publisher_Genre=[]"
   ]
  },
  {
   "cell_type": "code",
   "execution_count": 100,
   "id": "275eda13",
   "metadata": {},
   "outputs": [],
   "source": [
    "    novels_tag=driver.find_elements(By.XPATH,'//table[@class=\"in-article sortable\"]')\n",
    "    for i in novels_tag:\n",
    "        Book_Author_Volume_sold_Publisher_Genre.append(i.text)"
   ]
  },
  {
   "cell_type": "code",
   "execution_count": 101,
   "id": "828cee65",
   "metadata": {},
   "outputs": [
    {
     "data": {
      "text/plain": [
       "['Top 100 best selling books of all time\\nUK sales only. Click heading to sort table. Download this data\\nRank\\nTitle\\nAuthor\\nVolume Sales\\nPublisher\\nGenre\\nSOURCE: NIELSEN BOOK SCAN\\n1 Da Vinci Code,The Brown, Dan 5,094,805 Transworld Crime, Thriller & Adventure\\n2 Harry Potter and the Deathly Hallows Rowling, J.K. 4,475,152 Bloomsbury Children\\'s Fiction\\n3 Harry Potter and the Philosopher\\'s Stone Rowling, J.K. 4,200,654 Bloomsbury Children\\'s Fiction\\n4 Harry Potter and the Order of the Phoenix Rowling, J.K. 4,179,479 Bloomsbury Children\\'s Fiction\\n5 Fifty Shades of Grey James, E. L. 3,758,936 Random House Romance & Sagas\\n6 Harry Potter and the Goblet of Fire Rowling, J.K. 3,583,215 Bloomsbury Children\\'s Fiction\\n7 Harry Potter and the Chamber of Secrets Rowling, J.K. 3,484,047 Bloomsbury Children\\'s Fiction\\n8 Harry Potter and the Prisoner of Azkaban Rowling, J.K. 3,377,906 Bloomsbury Children\\'s Fiction\\n9 Angels and Demons Brown, Dan 3,193,946 Transworld Crime, Thriller & Adventure\\n10 Harry Potter and the Half-blood Prince:Children\\'s Edition Rowling, J.K. 2,950,264 Bloomsbury Children\\'s Fiction\\n11 Fifty Shades Darker James, E. L. 2,479,784 Random House Romance & Sagas\\n12 Twilight Meyer, Stephenie 2,315,405 Little, Brown Book Young Adult Fiction\\n13 Girl with the Dragon Tattoo,The:Millennium Trilogy Larsson, Stieg 2,233,570 Quercus Crime, Thriller & Adventure\\n14 Fifty Shades Freed James, E. L. 2,193,928 Random House Romance & Sagas\\n15 Lost Symbol,The Brown, Dan 2,183,031 Transworld Crime, Thriller & Adventure\\n16 New Moon Meyer, Stephenie 2,152,737 Little, Brown Book Young Adult Fiction\\n17 Deception Point Brown, Dan 2,062,145 Transworld Crime, Thriller & Adventure\\n18 Eclipse Meyer, Stephenie 2,052,876 Little, Brown Book Young Adult Fiction\\n19 Lovely Bones,The Sebold, Alice 2,005,598 Pan Macmillan General & Literary Fiction\\n20 Curious Incident of the Dog in the Night-time,The Haddon, Mark 1,979,552 Random House General & Literary Fiction\\n21 Digital Fortress Brown, Dan 1,928,900 Transworld Crime, Thriller & Adventure\\n22 Short History of Nearly Everything,A Bryson, Bill 1,852,919 Transworld Popular Science\\n23 Girl Who Played with Fire,The:Millennium Trilogy Larsson, Stieg 1,814,784 Quercus Crime, Thriller & Adventure\\n24 Breaking Dawn Meyer, Stephenie 1,787,118 Little, Brown Book Young Adult Fiction\\n25 Very Hungry Caterpillar,The:The Very Hungry Caterpillar Carle, Eric 1,783,535 Penguin Picture Books\\n26 Gruffalo,The Donaldson, Julia 1,781,269 Pan Macmillan Picture Books\\n27 Jamie\\'s 30-Minute Meals Oliver, Jamie 1,743,266 Penguin Food & Drink: General\\n28 Kite Runner,The Hosseini, Khaled 1,629,119 Bloomsbury General & Literary Fiction\\n29 One Day Nicholls, David 1,616,068 Hodder & Stoughton General & Literary Fiction\\n30 Thousand Splendid Suns,A Hosseini, Khaled 1,583,992 Bloomsbury General & Literary Fiction\\n31 Girl Who Kicked the Hornets\\' Nest,The:Millennium Trilogy Larsson, Stieg 1,555,135 Quercus Crime, Thriller & Adventure\\n32 Time Traveler\\'s Wife,The Niffenegger, Audrey 1,546,886 Random House General & Literary Fiction\\n33 Atonement McEwan, Ian 1,539,428 Random House General & Literary Fiction\\n34 Bridget Jones\\'s Diary:A Novel Fielding, Helen 1,508,205 Pan Macmillan General & Literary Fiction\\n35 World According to Clarkson,The Clarkson, Jeremy 1,489,403 Penguin Humour: Collections & General\\n36 Captain Corelli\\'s Mandolin Bernieres, Louis de 1,352,318 Random House General & Literary Fiction\\n37 Sound of Laughter,The Kay, Peter 1,310,207 Random House Autobiography: General\\n38 Life of Pi Martel, Yann 1,310,176 Canongate General & Literary Fiction\\n39 Billy Connolly Stephenson, Pamela 1,231,957 HarperCollins Biography: The Arts\\n40 Child Called It,A Pelzer, Dave 1,217,712 Orion Autobiography: General\\n41 Gruffalo\\'s Child,The Donaldson, Julia 1,208,711 Pan Macmillan Picture Books\\n42 Angela\\'s Ashes:A Memoir of a Childhood McCourt, Frank 1,204,058 HarperCollins Autobiography: General\\n43 Birdsong Faulks, Sebastian 1,184,967 Random House General & Literary Fiction\\n44 Northern Lights:His Dark Materials S. Pullman, Philip 1,181,503 Scholastic Ltd. Young Adult Fiction\\n45 Labyrinth Mosse, Kate 1,181,093 Orion General & Literary Fiction\\n46 Harry Potter and the Half-blood Prince Rowling, J.K. 1,153,181 Bloomsbury Science Fiction & Fantasy\\n47 Help,The Stockett, Kathryn 1,132,336 Penguin General & Literary Fiction\\n48 Man and Boy Parsons, Tony 1,130,802 HarperCollins General & Literary Fiction\\n49 Memoirs of a Geisha Golden, Arthur 1,126,337 Random House General & Literary Fiction\\n50 No.1 Ladies\\' Detective Agency,The:No.1 Ladies\\' Detective Agency S. McCall Smith, Alexander 1,115,549 Little, Brown Book Crime, Thriller & Adventure\\n51 Island,The Hislop, Victoria 1,108,328 Headline General & Literary Fiction\\n52 PS, I Love You Ahern, Cecelia 1,107,379 HarperCollins General & Literary Fiction\\n53 You are What You Eat:The Plan That Will Change Your Life McKeith, Gillian 1,104,403 Penguin Fitness & Diet\\n54 Shadow of the Wind,The Zafon, Carlos Ruiz 1,092,349 Orion General & Literary Fiction\\n55 Tales of Beedle the Bard,The Rowling, J.K. 1,090,847 Bloomsbury Children\\'s Fiction\\n56 Broker,The Grisham, John 1,087,262 Random House Crime, Thriller & Adventure\\n57 Dr. Atkins\\' New Diet Revolution:The No-hunger, Luxurious Weight Loss P Atkins, Robert C. 1,054,196 Random House Fitness & Diet\\n58 Subtle Knife,The:His Dark Materials S. Pullman, Philip 1,037,160 Scholastic Ltd. Young Adult Fiction\\n59 Eats, Shoots and Leaves:The Zero Tolerance Approach to Punctuation Truss, Lynne 1,023,688 Profile Books Group Usage & Writing Guides\\n60 Delia\\'s How to Cook:(Bk.1) Smith, Delia 1,015,956 Random House Food & Drink: General\\n61 Chocolat Harris, Joanne 1,009,873 Transworld General & Literary Fiction\\n62 Boy in the Striped Pyjamas,The Boyne, John 1,004,414 Random House Childrens Books G Young Adult Fiction\\n63 My Sister\\'s Keeper Picoult, Jodi 1,003,780 Hodder & Stoughton General & Literary Fiction\\n64 Amber Spyglass,The:His Dark Materials S. Pullman, Philip 1,002,314 Scholastic Ltd. Young Adult Fiction\\n65 To Kill a Mockingbird Lee, Harper 998,213 Random House General & Literary Fiction\\n66 Men are from Mars, Women are from Venus:A Practical Guide for Improvin Gray, John 992,846 HarperCollins Popular Culture & Media: General Interest\\n67 Dear Fatty French, Dawn 986,753 Random House Autobiography: The Arts\\n68 Short History of Tractors in Ukrainian,A Lewycka, Marina 986,115 Penguin General & Literary Fiction\\n69 Hannibal Harris, Thomas 970,509 Random House Crime, Thriller & Adventure\\n70 Lord of the Rings,The Tolkien, J. R. R. 967,466 HarperCollins Science Fiction & Fantasy\\n71 Stupid White Men:...and Other Sorry Excuses for the State of the Natio Moore, Michael 963,353 Penguin Current Affairs & Issues\\n72 Interpretation of Murder,The Rubenfeld, Jed 962,515 Headline Crime, Thriller & Adventure\\n73 Sharon Osbourne Extreme:My Autobiography Osbourne, Sharon 959,496 Little, Brown Book Autobiography: The Arts\\n74 Alchemist,The:A Fable About Following Your Dream Coelho, Paulo 956,114 HarperCollins General & Literary Fiction\\n75 At My Mother\\'s Knee ...:and Other Low Joints O\\'Grady, Paul 945,640 Transworld Autobiography: The Arts\\n76 Notes from a Small Island Bryson, Bill 931,312 Transworld Travel Writing\\n77 Return of the Naked Chef,The Oliver, Jamie 925,425 Penguin Food & Drink: General\\n78 Bridget Jones: The Edge of Reason Fielding, Helen 924,695 Pan Macmillan General & Literary Fiction\\n79 Jamie\\'s Italy Oliver, Jamie 906,968 Penguin National & Regional Cuisine\\n80 I Can Make You Thin McKenna, Paul 905,086 Transworld Fitness & Diet\\n81 Down Under Bryson, Bill 890,847 Transworld Travel Writing\\n82 Summons,The Grisham, John 869,671 Random House Crime, Thriller & Adventure\\n83 Small Island Levy, Andrea 869,659 Headline General & Literary Fiction\\n84 Nigella Express Lawson, Nigella 862,602 Random House Food & Drink: General\\n85 Brick Lane Ali, Monica 856,540 Transworld General & Literary Fiction\\n86 Memory Keeper\\'s Daughter,The Edwards, Kim 845,858 Penguin General & Literary Fiction\\n87 Room on the Broom Donaldson, Julia 842,535 Pan Macmillan Picture Books\\n88 About a Boy Hornby, Nick 828,215 Penguin General & Literary Fiction\\n89 My Booky Wook Brand, Russell 820,563 Hodder & Stoughton Autobiography: The Arts\\n90 God Delusion,The Dawkins, Richard 816,907 Transworld Popular Science\\n91 \"Beano\" Annual,The 0 816,585 D.C. Thomson Children\\'s Annuals\\n92 White Teeth Smith, Zadie 815,586 Penguin General & Literary Fiction\\n93 House at Riverton,The Morton, Kate 814,370 Pan Macmillan General & Literary Fiction\\n94 Book Thief,The Zusak, Markus 809,641 Transworld General & Literary Fiction\\n95 Nights of Rain and Stars Binchy, Maeve 808,900 Orion General & Literary Fiction\\n96 Ghost,The Harris, Robert 807,311 Random House General & Literary Fiction\\n97 Happy Days with the Naked Chef Oliver, Jamie 794,201 Penguin Food & Drink: General\\n98 Hunger Games,The:Hunger Games Trilogy Collins, Suzanne 792,187 Scholastic Ltd. Young Adult Fiction\\n99 Lost Boy,The:A Foster Child\\'s Search for the Love of a Family Pelzer, Dave 791,507 Orion Biography: General\\n100 Jamie\\'s Ministry of Food:Anyone Can Learn to Cook in 24 Hours Oliver, Jamie 791,095 Penguin Food & Drink: General']"
      ]
     },
     "execution_count": 101,
     "metadata": {},
     "output_type": "execute_result"
    }
   ],
   "source": [
    "Book_Author_Volume_sold_Publisher_Genre"
   ]
  },
  {
   "cell_type": "markdown",
   "id": "89ac4309",
   "metadata": {},
   "source": [
    "9. Scrape the details most watched tv series of all time from imdb.com.\n",
    "Url = https://www.imdb.com/list/ls095964455/\n",
    "You have to find the following details:\n",
    "A) Name\n",
    "B) Year span\n",
    "C) Genre\n",
    "D) Run time\n",
    "E) Ratings\n",
    "F) Votes"
   ]
  },
  {
   "cell_type": "code",
   "execution_count": 6,
   "id": "5c85c4ac",
   "metadata": {},
   "outputs": [],
   "source": [
    "# Opening the naukri page on automated chrome browser\n",
    "\n",
    "driver.get(\" https://www.imdb.com/list/ls095964455/\")"
   ]
  },
  {
   "cell_type": "code",
   "execution_count": 41,
   "id": "a3ad80c9",
   "metadata": {},
   "outputs": [],
   "source": [
    "Names=[]\n",
    "Year=[]\n",
    "Genre=[]\n",
    "Time=[]\n",
    "ratings=[]\n",
    "Votes=[]"
   ]
  },
  {
   "cell_type": "code",
   "execution_count": 42,
   "id": "e3cb40ac",
   "metadata": {},
   "outputs": [],
   "source": [
    "        \n",
    "    year_tag=driver.find_elements(By.XPATH,'//span[@class=\"lister-item-year text-muted unbold\"]')   \n",
    "    for j in year_tag:\n",
    "        Year.append(j.text)   \n",
    "        \n",
    "    genre_tag=driver.find_elements(By.XPATH,'//span[@class=\"genre\"]')   \n",
    "    for l in genre_tag:\n",
    "        Genre.append(l.text)\n",
    "        \n",
    "    time_tag=driver.find_elements(By.XPATH,'//span[@class=\"runtime\"]')   \n",
    "    for m in time_tag:\n",
    "        Time.append(m.text)\n",
    "        \n",
    "    rating_tag=driver.find_elements(By.XPATH,'//span[@class=\"ipl-rating-star__rating\"]')   \n",
    "    for n in rating_tag:\n",
    "        ratings.append(n.text)  "
   ]
  },
  {
   "cell_type": "code",
   "execution_count": 43,
   "id": "2c70dc44",
   "metadata": {},
   "outputs": [],
   "source": [
    "    name_tag=driver.find_elements(By.XPATH,'//h3[@class=\"lister-item-header\"]')\n",
    "    for i in name_tag:\n",
    "        Names.append(i.text)"
   ]
  },
  {
   "cell_type": "code",
   "execution_count": 44,
   "id": "517774d3",
   "metadata": {
    "scrolled": false
   },
   "outputs": [
    {
     "data": {
      "text/plain": [
       "['1. Game of Thrones (2011–2019)',\n",
       " '2. Stranger Things (2016– )',\n",
       " '3. The Walking Dead (2010–2022)',\n",
       " '4. 13 Reasons Why (2017–2020)',\n",
       " '5. The 100 (2014–2020)',\n",
       " '6. Orange Is the New Black (2013–2019)',\n",
       " '7. Riverdale (2017– )',\n",
       " \"8. Grey's Anatomy (2005– )\",\n",
       " '9. The Flash (2014–2023)',\n",
       " '10. Arrow (2012–2020)',\n",
       " '11. Money Heist (2017–2021)',\n",
       " '12. The Big Bang Theory (2007–2019)',\n",
       " '13. Black Mirror (2011–2019)',\n",
       " '14. Sherlock (2010–2017)',\n",
       " '15. Vikings (2013–2020)',\n",
       " '16. Pretty Little Liars (2010–2017)',\n",
       " '17. The Vampire Diaries (2009–2017)',\n",
       " '18. American Horror Story (2011– )',\n",
       " '19. Breaking Bad (2008–2013)',\n",
       " '20. Lucifer (2016–2021)',\n",
       " '21. Supernatural (2005–2020)',\n",
       " '22. Prison Break (2005–2017)',\n",
       " '23. How to Get Away with Murder (2014–2020)',\n",
       " '24. Teen Wolf (2011–2017)',\n",
       " '25. The Simpsons (1989– )',\n",
       " '26. Once Upon a Time (2011–2018)',\n",
       " '27. Narcos (2015–2017)',\n",
       " '28. Daredevil (2015–2018)',\n",
       " '29. Friends (1994–2004)',\n",
       " '30. How I Met Your Mother (2005–2014)',\n",
       " '31. Suits (2011–2019)',\n",
       " '32. Mr. Robot (2015–2019)',\n",
       " '33. The Originals (2013–2018)',\n",
       " '34. Supergirl (2015–2021)',\n",
       " '35. Gossip Girl (2007–2012)',\n",
       " '36. Sense8 (2015–2018)',\n",
       " '37. Gotham (2014–2019)',\n",
       " '38. Westworld (2016–2022)',\n",
       " '39. Jessica Jones (2015–2019)',\n",
       " '40. Modern Family (2009–2020)',\n",
       " '41. Rick and Morty (2013– )',\n",
       " '42. Shadowhunters (2016–2019)',\n",
       " '43. The End of the F***ing World (2017–2019)',\n",
       " '44. House of Cards (2013–2018)',\n",
       " '45. Dark (2017–2020)',\n",
       " '46. Elite (2018– )',\n",
       " '47. Sex Education (2019– )',\n",
       " '48. Shameless (2011–2021)',\n",
       " '49. New Girl (2011–2018)',\n",
       " '50. Agents of S.H.I.E.L.D. (2013–2020)',\n",
       " '51. You (2018– )',\n",
       " '52. Dexter (2006–2013)',\n",
       " '53. Fear the Walking Dead (2015– )',\n",
       " '54. Family Guy (1999– )',\n",
       " '55. The Blacklist (2013– )',\n",
       " '56. Lost (2004–2010)',\n",
       " '57. Peaky Blinders (2013–2022)',\n",
       " '58. House (2004–2012)',\n",
       " '59. Quantico (2015–2018)',\n",
       " '60. Orphan Black (2013–2017)',\n",
       " '61. Homeland (2011–2020)',\n",
       " '62. Blindspot (2015–2020)',\n",
       " \"63. DC's Legends of Tomorrow (2016–2022)\",\n",
       " \"64. The Handmaid's Tale (2017– )\",\n",
       " '65. Chilling Adventures of Sabrina (2018–2020)',\n",
       " '66. The Good Doctor (2017– )',\n",
       " '67. Jane the Virgin (2014–2019)',\n",
       " '68. Glee (2009–2015)',\n",
       " '69. South Park (1997– )',\n",
       " '70. Brooklyn Nine-Nine (2013–2021)',\n",
       " '71. Under the Dome (2013–2015)',\n",
       " '72. The Umbrella Academy (2019–2023)',\n",
       " '73. True Detective (2014–2019)',\n",
       " '74. The OA (2016–2019)',\n",
       " '75. Desperate Housewives (2004–2012)',\n",
       " '76. Better Call Saul (2015–2022)',\n",
       " '77. Bates Motel (2013–2017)',\n",
       " '78. The Punisher (2017–2019)',\n",
       " '79. Atypical (2017–2021)',\n",
       " '80. Dynasty (2017–2022)',\n",
       " '81. This Is Us (2016–2022)',\n",
       " '82. The Good Place (2016–2020)',\n",
       " '83. Iron Fist (2017–2018)',\n",
       " '84. The Rain (2018–2020)',\n",
       " '85. Mindhunter (2017–2019)',\n",
       " '86. Revenge (2011–2015)',\n",
       " '87. Luke Cage (2016–2018)',\n",
       " '88. Scandal (2012–2018)',\n",
       " '89. The Defenders (2017)',\n",
       " '90. Big Little Lies (2017–2019)',\n",
       " '91. Insatiable (2018–2019)',\n",
       " '92. The Mentalist (2008–2015)',\n",
       " '93. The Crown (2016– )',\n",
       " '94. Chernobyl (2019)',\n",
       " '95. iZombie (2015–2019)',\n",
       " '96. Reign (2013–2017)',\n",
       " '97. A Series of Unfortunate Events (2017–2019)',\n",
       " '98. Criminal Minds (2005–2020)',\n",
       " '99. Scream: The TV Series (2015–2019)',\n",
       " '100. The Haunting of Hill House (2018)']"
      ]
     },
     "execution_count": 44,
     "metadata": {},
     "output_type": "execute_result"
    }
   ],
   "source": [
    "Names"
   ]
  },
  {
   "cell_type": "code",
   "execution_count": 45,
   "id": "b8d927df",
   "metadata": {},
   "outputs": [],
   "source": [
    "    vote_tag=driver.find_elements(By.XPATH,'//span[@name=\"nv\"]')   \n",
    "    for o in vote_tag:\n",
    "        Votes.append(o.text)"
   ]
  },
  {
   "cell_type": "code",
   "execution_count": 46,
   "id": "413cc43a",
   "metadata": {},
   "outputs": [
    {
     "data": {
      "text/plain": [
       "['2,077,871',\n",
       " '1,168,223',\n",
       " '979,134',\n",
       " '291,476',\n",
       " '250,539',\n",
       " '301,818',\n",
       " '144,882',\n",
       " '306,690',\n",
       " '345,338',\n",
       " '431,072',\n",
       " '473,294',\n",
       " '803,590',\n",
       " '541,365',\n",
       " '919,428',\n",
       " '528,932',\n",
       " '167,423',\n",
       " '320,653',\n",
       " '317,183',\n",
       " '1,856,807',\n",
       " '322,067',\n",
       " '443,178',\n",
       " '532,823',\n",
       " '151,437',\n",
       " '148,157',\n",
       " '405,646',\n",
       " '224,615',\n",
       " '419,681',\n",
       " '438,629',\n",
       " '986,850',\n",
       " '680,205',\n",
       " '408,792',\n",
       " '385,889',\n",
       " '135,936',\n",
       " '124,111',\n",
       " '174,546',\n",
       " '154,527',\n",
       " '230,282',\n",
       " '502,004',\n",
       " '214,408',\n",
       " '427,851',\n",
       " '513,536',\n",
       " '63,679',\n",
       " '188,931',\n",
       " '503,063',\n",
       " '377,186',\n",
       " '78,191',\n",
       " '277,482',\n",
       " '241,857',\n",
       " '223,617',\n",
       " '217,158',\n",
       " '237,820',\n",
       " '723,405',\n",
       " '129,750',\n",
       " '337,789',\n",
       " '248,139',\n",
       " '551,237',\n",
       " '540,510',\n",
       " '462,227',\n",
       " '61,138',\n",
       " '111,229',\n",
       " '340,869',\n",
       " '74,119',\n",
       " '104,912',\n",
       " '232,777',\n",
       " '94,940',\n",
       " '94,282',\n",
       " '50,628',\n",
       " '148,516',\n",
       " '368,237',\n",
       " '313,274',\n",
       " '106,827',\n",
       " '246,419',\n",
       " '567,071',\n",
       " '104,899',\n",
       " '129,055',\n",
       " '516,893',\n",
       " '108,258',\n",
       " '234,660',\n",
       " '88,508',\n",
       " '22,672',\n",
       " '143,470',\n",
       " '159,005',\n",
       " '131,122',\n",
       " '37,284',\n",
       " '286,020',\n",
       " '120,248',\n",
       " '131,269',\n",
       " '74,050',\n",
       " '107,867',\n",
       " '197,930',\n",
       " '28,899',\n",
       " '184,902',\n",
       " '206,367',\n",
       " '742,162',\n",
       " '68,356',\n",
       " '49,958',\n",
       " '61,088',\n",
       " '196,570',\n",
       " '41,416',\n",
       " '242,622']"
      ]
     },
     "execution_count": 46,
     "metadata": {},
     "output_type": "execute_result"
    }
   ],
   "source": [
    "Votes"
   ]
  },
  {
   "cell_type": "code",
   "execution_count": 47,
   "id": "33d4ac94",
   "metadata": {},
   "outputs": [
    {
     "data": {
      "text/plain": [
       "['(2011–2019)',\n",
       " '(2016– )',\n",
       " '(2010–2022)',\n",
       " '(2017–2020)',\n",
       " '(2014–2020)',\n",
       " '(2013–2019)',\n",
       " '(2017– )',\n",
       " '(2005– )',\n",
       " '(2014–2023)',\n",
       " '(2012–2020)',\n",
       " '(2017–2021)',\n",
       " '(2007–2019)',\n",
       " '(2011–2019)',\n",
       " '(2010–2017)',\n",
       " '(2013–2020)',\n",
       " '(2010–2017)',\n",
       " '(2009–2017)',\n",
       " '(2011– )',\n",
       " '(2008–2013)',\n",
       " '(2016–2021)',\n",
       " '(2005–2020)',\n",
       " '(2005–2017)',\n",
       " '(2014–2020)',\n",
       " '(2011–2017)',\n",
       " '(1989– )',\n",
       " '(2011–2018)',\n",
       " '(2015–2017)',\n",
       " '(2015–2018)',\n",
       " '(1994–2004)',\n",
       " '(2005–2014)',\n",
       " '(2011–2019)',\n",
       " '(2015–2019)',\n",
       " '(2013–2018)',\n",
       " '(2015–2021)',\n",
       " '(2007–2012)',\n",
       " '(2015–2018)',\n",
       " '(2014–2019)',\n",
       " '(2016–2022)',\n",
       " '(2015–2019)',\n",
       " '(2009–2020)',\n",
       " '(2013– )',\n",
       " '(2016–2019)',\n",
       " '(2017–2019)',\n",
       " '(2013–2018)',\n",
       " '(2017–2020)',\n",
       " '(2018– )',\n",
       " '(2019– )',\n",
       " '(2011–2021)',\n",
       " '(2011–2018)',\n",
       " '(2013–2020)',\n",
       " '(2018– )',\n",
       " '(2006–2013)',\n",
       " '(2015– )',\n",
       " '(1999– )',\n",
       " '(2013– )',\n",
       " '(2004–2010)',\n",
       " '(2013–2022)',\n",
       " '(2004–2012)',\n",
       " '(2015–2018)',\n",
       " '(2013–2017)',\n",
       " '(2011–2020)',\n",
       " '(2015–2020)',\n",
       " '(2016–2022)',\n",
       " '(2017– )',\n",
       " '(2018–2020)',\n",
       " '(2017– )',\n",
       " '(2014–2019)',\n",
       " '(2009–2015)',\n",
       " '(1997– )',\n",
       " '(2013–2021)',\n",
       " '(2013–2015)',\n",
       " '(2019–2023)',\n",
       " '(2014–2019)',\n",
       " '(2016–2019)',\n",
       " '(2004–2012)',\n",
       " '(2015–2022)',\n",
       " '(2013–2017)',\n",
       " '(2017–2019)',\n",
       " '(2017–2021)',\n",
       " '(2017–2022)',\n",
       " '(2016–2022)',\n",
       " '(2016–2020)',\n",
       " '(2017–2018)',\n",
       " '(2018–2020)',\n",
       " '(2017–2019)',\n",
       " '(2011–2015)',\n",
       " '(2016–2018)',\n",
       " '(2012–2018)',\n",
       " '(2017)',\n",
       " '(2017–2019)',\n",
       " '(2018–2019)',\n",
       " '(2008–2015)',\n",
       " '(2016– )',\n",
       " '(2019)',\n",
       " '(2015–2019)',\n",
       " '(2013–2017)',\n",
       " '(2017–2019)',\n",
       " '(2005–2020)',\n",
       " '(2015–2019)',\n",
       " '(2018)']"
      ]
     },
     "execution_count": 47,
     "metadata": {},
     "output_type": "execute_result"
    }
   ],
   "source": [
    "Year"
   ]
  },
  {
   "cell_type": "code",
   "execution_count": 48,
   "id": "c0742d89",
   "metadata": {},
   "outputs": [
    {
     "data": {
      "text/plain": [
       "['Action, Adventure, Drama',\n",
       " 'Drama, Fantasy, Horror',\n",
       " 'Drama, Horror, Thriller',\n",
       " 'Drama, Mystery, Thriller',\n",
       " 'Drama, Mystery, Sci-Fi',\n",
       " 'Comedy, Crime, Drama',\n",
       " 'Crime, Drama, Mystery',\n",
       " 'Drama, Romance',\n",
       " 'Action, Adventure, Drama',\n",
       " 'Action, Adventure, Crime',\n",
       " 'Action, Crime, Drama',\n",
       " 'Comedy, Romance',\n",
       " 'Drama, Mystery, Sci-Fi',\n",
       " 'Crime, Drama, Mystery',\n",
       " 'Action, Adventure, Drama',\n",
       " 'Drama, Mystery, Romance',\n",
       " 'Drama, Fantasy, Horror',\n",
       " 'Drama, Horror, Sci-Fi',\n",
       " 'Crime, Drama, Thriller',\n",
       " 'Crime, Drama, Fantasy',\n",
       " 'Drama, Fantasy, Horror',\n",
       " 'Action, Crime, Drama',\n",
       " 'Crime, Drama, Mystery',\n",
       " 'Action, Drama, Fantasy',\n",
       " 'Animation, Comedy',\n",
       " 'Adventure, Fantasy, Romance',\n",
       " 'Biography, Crime, Drama',\n",
       " 'Action, Crime, Drama',\n",
       " 'Comedy, Romance',\n",
       " 'Comedy, Romance',\n",
       " 'Comedy, Drama',\n",
       " 'Crime, Drama, Thriller',\n",
       " 'Drama, Fantasy, Horror',\n",
       " 'Action, Adventure, Drama',\n",
       " 'Drama, Romance',\n",
       " 'Drama, Mystery, Sci-Fi',\n",
       " 'Action, Crime, Drama',\n",
       " 'Drama, Mystery, Sci-Fi',\n",
       " 'Action, Crime, Drama',\n",
       " 'Comedy, Drama, Romance',\n",
       " 'Animation, Adventure, Comedy',\n",
       " 'Action, Drama, Fantasy',\n",
       " 'Adventure, Comedy, Crime',\n",
       " 'Drama',\n",
       " 'Crime, Drama, Mystery',\n",
       " 'Crime, Drama, Thriller',\n",
       " 'Comedy, Drama',\n",
       " 'Comedy, Drama',\n",
       " 'Comedy, Romance',\n",
       " 'Action, Adventure, Drama',\n",
       " 'Crime, Drama, Romance',\n",
       " 'Crime, Drama, Mystery',\n",
       " 'Drama, Horror, Sci-Fi',\n",
       " 'Animation, Comedy',\n",
       " 'Crime, Drama, Mystery',\n",
       " 'Adventure, Drama, Fantasy',\n",
       " 'Crime, Drama',\n",
       " 'Drama, Mystery',\n",
       " 'Crime, Drama, Mystery',\n",
       " 'Drama, Sci-Fi, Thriller',\n",
       " 'Crime, Drama, Mystery',\n",
       " 'Action, Crime, Drama',\n",
       " 'Action, Adventure, Drama',\n",
       " 'Drama, Sci-Fi, Thriller',\n",
       " 'Drama, Fantasy, Horror',\n",
       " 'Drama',\n",
       " 'Comedy',\n",
       " 'Comedy, Drama, Music',\n",
       " 'Animation, Comedy',\n",
       " 'Comedy, Crime',\n",
       " 'Drama, Mystery, Sci-Fi',\n",
       " 'Action, Adventure, Comedy',\n",
       " 'Crime, Drama, Mystery',\n",
       " 'Drama, Fantasy, Mystery',\n",
       " 'Comedy, Drama, Mystery',\n",
       " 'Crime, Drama',\n",
       " 'Drama, Horror, Mystery',\n",
       " 'Action, Crime, Drama',\n",
       " 'Comedy, Drama',\n",
       " 'Drama',\n",
       " 'Comedy, Drama, Romance',\n",
       " 'Comedy, Drama, Fantasy',\n",
       " 'Action, Adventure, Crime',\n",
       " 'Drama, Sci-Fi, Thriller',\n",
       " 'Crime, Drama, Mystery',\n",
       " 'Drama, Mystery, Thriller',\n",
       " 'Action, Crime, Drama',\n",
       " 'Drama, Thriller',\n",
       " 'Action, Adventure, Crime',\n",
       " 'Crime, Drama, Mystery',\n",
       " 'Comedy, Drama, Thriller',\n",
       " 'Crime, Drama, Mystery',\n",
       " 'Biography, Drama, History',\n",
       " 'Drama, History, Thriller',\n",
       " 'Comedy, Crime, Drama',\n",
       " 'Drama',\n",
       " 'Adventure, Comedy, Drama',\n",
       " 'Crime, Drama, Mystery',\n",
       " 'Comedy, Crime, Drama',\n",
       " 'Drama, Horror, Mystery']"
      ]
     },
     "execution_count": 48,
     "metadata": {},
     "output_type": "execute_result"
    }
   ],
   "source": [
    "Genre"
   ]
  },
  {
   "cell_type": "code",
   "execution_count": 49,
   "id": "f3d4d7dc",
   "metadata": {
    "scrolled": true
   },
   "outputs": [
    {
     "data": {
      "text/plain": [
       "['57 min',\n",
       " '51 min',\n",
       " '44 min',\n",
       " '60 min',\n",
       " '43 min',\n",
       " '59 min',\n",
       " '45 min',\n",
       " '41 min',\n",
       " '43 min',\n",
       " '42 min',\n",
       " '70 min',\n",
       " '22 min',\n",
       " '60 min',\n",
       " '88 min',\n",
       " '44 min',\n",
       " '44 min',\n",
       " '43 min',\n",
       " '60 min',\n",
       " '49 min',\n",
       " '42 min',\n",
       " '44 min',\n",
       " '44 min',\n",
       " '43 min',\n",
       " '41 min',\n",
       " '22 min',\n",
       " '60 min',\n",
       " '49 min',\n",
       " '54 min',\n",
       " '22 min',\n",
       " '22 min',\n",
       " '44 min',\n",
       " '49 min',\n",
       " '45 min',\n",
       " '43 min',\n",
       " '42 min',\n",
       " '60 min',\n",
       " '42 min',\n",
       " '62 min',\n",
       " '56 min',\n",
       " '22 min',\n",
       " '23 min',\n",
       " '42 min',\n",
       " '25 min',\n",
       " '51 min',\n",
       " '60 min',\n",
       " '60 min',\n",
       " '45 min',\n",
       " '46 min',\n",
       " '22 min',\n",
       " '45 min',\n",
       " '45 min',\n",
       " '53 min',\n",
       " '44 min',\n",
       " '22 min',\n",
       " '43 min',\n",
       " '44 min',\n",
       " '60 min',\n",
       " '44 min',\n",
       " '42 min',\n",
       " '44 min',\n",
       " '55 min',\n",
       " '42 min',\n",
       " '42 min',\n",
       " '60 min',\n",
       " '60 min',\n",
       " '41 min',\n",
       " '60 min',\n",
       " '44 min',\n",
       " '22 min',\n",
       " '22 min',\n",
       " '43 min',\n",
       " '60 min',\n",
       " '55 min',\n",
       " '60 min',\n",
       " '45 min',\n",
       " '46 min',\n",
       " '45 min',\n",
       " '53 min',\n",
       " '30 min',\n",
       " '42 min',\n",
       " '45 min',\n",
       " '22 min',\n",
       " '55 min',\n",
       " '45 min',\n",
       " '60 min',\n",
       " '44 min',\n",
       " '55 min',\n",
       " '43 min',\n",
       " '50 min',\n",
       " '60 min',\n",
       " '45 min',\n",
       " '43 min',\n",
       " '58 min',\n",
       " '330 min',\n",
       " '42 min',\n",
       " '42 min',\n",
       " '50 min',\n",
       " '42 min',\n",
       " '45 min',\n",
       " '572 min']"
      ]
     },
     "execution_count": 49,
     "metadata": {},
     "output_type": "execute_result"
    }
   ],
   "source": [
    "Time"
   ]
  },
  {
   "cell_type": "code",
   "execution_count": 50,
   "id": "cf13b296",
   "metadata": {},
   "outputs": [],
   "source": [
    "    rating_tag=driver.find_elements(By.XPATH,'//span[@class=\"ipl-rating-star__rating\"]')   \n",
    "    for n in rating_tag:\n",
    "        ratings.append(n.text)"
   ]
  },
  {
   "cell_type": "code",
   "execution_count": 51,
   "id": "62a2a439",
   "metadata": {},
   "outputs": [
    {
     "data": {
      "text/plain": [
       "['9.2',\n",
       " '',\n",
       " 'Rate',\n",
       " '',\n",
       " '',\n",
       " '',\n",
       " '',\n",
       " '',\n",
       " '',\n",
       " '',\n",
       " '',\n",
       " '',\n",
       " '',\n",
       " '',\n",
       " '',\n",
       " '',\n",
       " '',\n",
       " '',\n",
       " '',\n",
       " '',\n",
       " '',\n",
       " '',\n",
       " '',\n",
       " '8.7',\n",
       " '',\n",
       " 'Rate',\n",
       " '',\n",
       " '',\n",
       " '',\n",
       " '',\n",
       " '',\n",
       " '',\n",
       " '',\n",
       " '',\n",
       " '',\n",
       " '',\n",
       " '',\n",
       " '',\n",
       " '',\n",
       " '',\n",
       " '',\n",
       " '',\n",
       " '',\n",
       " '',\n",
       " '',\n",
       " '',\n",
       " '8.1',\n",
       " '',\n",
       " 'Rate',\n",
       " '',\n",
       " '',\n",
       " '',\n",
       " '',\n",
       " '',\n",
       " '',\n",
       " '',\n",
       " '',\n",
       " '',\n",
       " '',\n",
       " '',\n",
       " '',\n",
       " '',\n",
       " '',\n",
       " '',\n",
       " '',\n",
       " '',\n",
       " '',\n",
       " '',\n",
       " '',\n",
       " '7.5',\n",
       " '',\n",
       " 'Rate',\n",
       " '',\n",
       " '',\n",
       " '',\n",
       " '',\n",
       " '',\n",
       " '',\n",
       " '',\n",
       " '',\n",
       " '',\n",
       " '',\n",
       " '',\n",
       " '',\n",
       " '',\n",
       " '',\n",
       " '',\n",
       " '',\n",
       " '',\n",
       " '',\n",
       " '',\n",
       " '',\n",
       " '7.6',\n",
       " '',\n",
       " 'Rate',\n",
       " '',\n",
       " '',\n",
       " '',\n",
       " '',\n",
       " '']"
      ]
     },
     "execution_count": 51,
     "metadata": {},
     "output_type": "execute_result"
    }
   ],
   "source": [
    "Rating_s=ratings[0:100]\n",
    "Rating_s"
   ]
  },
  {
   "cell_type": "code",
   "execution_count": 52,
   "id": "7e5c498a",
   "metadata": {},
   "outputs": [
    {
     "name": "stdout",
     "output_type": "stream",
     "text": [
      "100 100 100 100 100 100\n"
     ]
    }
   ],
   "source": [
    "print(len(Names),len(Year),len(Genre),len(Time),len(Rating_s),len(Votes))"
   ]
  },
  {
   "cell_type": "code",
   "execution_count": 53,
   "id": "147a41d1",
   "metadata": {
    "scrolled": false
   },
   "outputs": [
    {
     "data": {
      "text/html": [
       "<div>\n",
       "<style scoped>\n",
       "    .dataframe tbody tr th:only-of-type {\n",
       "        vertical-align: middle;\n",
       "    }\n",
       "\n",
       "    .dataframe tbody tr th {\n",
       "        vertical-align: top;\n",
       "    }\n",
       "\n",
       "    .dataframe thead th {\n",
       "        text-align: right;\n",
       "    }\n",
       "</style>\n",
       "<table border=\"1\" class=\"dataframe\">\n",
       "  <thead>\n",
       "    <tr style=\"text-align: right;\">\n",
       "      <th></th>\n",
       "      <th>Name</th>\n",
       "      <th>Year span</th>\n",
       "      <th>Genre</th>\n",
       "      <th>Run time</th>\n",
       "      <th>Ratings</th>\n",
       "      <th>Votes</th>\n",
       "    </tr>\n",
       "  </thead>\n",
       "  <tbody>\n",
       "    <tr>\n",
       "      <th>0</th>\n",
       "      <td>1. Game of Thrones (2011–2019)</td>\n",
       "      <td>(2011–2019)</td>\n",
       "      <td>Action, Adventure, Drama</td>\n",
       "      <td>57 min</td>\n",
       "      <td>9.2</td>\n",
       "      <td>2,077,871</td>\n",
       "    </tr>\n",
       "    <tr>\n",
       "      <th>1</th>\n",
       "      <td>2. Stranger Things (2016– )</td>\n",
       "      <td>(2016– )</td>\n",
       "      <td>Drama, Fantasy, Horror</td>\n",
       "      <td>51 min</td>\n",
       "      <td></td>\n",
       "      <td>1,168,223</td>\n",
       "    </tr>\n",
       "    <tr>\n",
       "      <th>2</th>\n",
       "      <td>3. The Walking Dead (2010–2022)</td>\n",
       "      <td>(2010–2022)</td>\n",
       "      <td>Drama, Horror, Thriller</td>\n",
       "      <td>44 min</td>\n",
       "      <td>Rate</td>\n",
       "      <td>979,134</td>\n",
       "    </tr>\n",
       "    <tr>\n",
       "      <th>3</th>\n",
       "      <td>4. 13 Reasons Why (2017–2020)</td>\n",
       "      <td>(2017–2020)</td>\n",
       "      <td>Drama, Mystery, Thriller</td>\n",
       "      <td>60 min</td>\n",
       "      <td></td>\n",
       "      <td>291,476</td>\n",
       "    </tr>\n",
       "    <tr>\n",
       "      <th>4</th>\n",
       "      <td>5. The 100 (2014–2020)</td>\n",
       "      <td>(2014–2020)</td>\n",
       "      <td>Drama, Mystery, Sci-Fi</td>\n",
       "      <td>43 min</td>\n",
       "      <td></td>\n",
       "      <td>250,539</td>\n",
       "    </tr>\n",
       "    <tr>\n",
       "      <th>...</th>\n",
       "      <td>...</td>\n",
       "      <td>...</td>\n",
       "      <td>...</td>\n",
       "      <td>...</td>\n",
       "      <td>...</td>\n",
       "      <td>...</td>\n",
       "    </tr>\n",
       "    <tr>\n",
       "      <th>95</th>\n",
       "      <td>96. Reign (2013–2017)</td>\n",
       "      <td>(2013–2017)</td>\n",
       "      <td>Drama</td>\n",
       "      <td>42 min</td>\n",
       "      <td></td>\n",
       "      <td>49,958</td>\n",
       "    </tr>\n",
       "    <tr>\n",
       "      <th>96</th>\n",
       "      <td>97. A Series of Unfortunate Events (2017–2019)</td>\n",
       "      <td>(2017–2019)</td>\n",
       "      <td>Adventure, Comedy, Drama</td>\n",
       "      <td>50 min</td>\n",
       "      <td></td>\n",
       "      <td>61,088</td>\n",
       "    </tr>\n",
       "    <tr>\n",
       "      <th>97</th>\n",
       "      <td>98. Criminal Minds (2005–2020)</td>\n",
       "      <td>(2005–2020)</td>\n",
       "      <td>Crime, Drama, Mystery</td>\n",
       "      <td>42 min</td>\n",
       "      <td></td>\n",
       "      <td>196,570</td>\n",
       "    </tr>\n",
       "    <tr>\n",
       "      <th>98</th>\n",
       "      <td>99. Scream: The TV Series (2015–2019)</td>\n",
       "      <td>(2015–2019)</td>\n",
       "      <td>Comedy, Crime, Drama</td>\n",
       "      <td>45 min</td>\n",
       "      <td></td>\n",
       "      <td>41,416</td>\n",
       "    </tr>\n",
       "    <tr>\n",
       "      <th>99</th>\n",
       "      <td>100. The Haunting of Hill House (2018)</td>\n",
       "      <td>(2018)</td>\n",
       "      <td>Drama, Horror, Mystery</td>\n",
       "      <td>572 min</td>\n",
       "      <td></td>\n",
       "      <td>242,622</td>\n",
       "    </tr>\n",
       "  </tbody>\n",
       "</table>\n",
       "<p>100 rows × 6 columns</p>\n",
       "</div>"
      ],
      "text/plain": [
       "                                              Name    Year span  \\\n",
       "0                   1. Game of Thrones (2011–2019)  (2011–2019)   \n",
       "1                      2. Stranger Things (2016– )     (2016– )   \n",
       "2                  3. The Walking Dead (2010–2022)  (2010–2022)   \n",
       "3                    4. 13 Reasons Why (2017–2020)  (2017–2020)   \n",
       "4                           5. The 100 (2014–2020)  (2014–2020)   \n",
       "..                                             ...          ...   \n",
       "95                           96. Reign (2013–2017)  (2013–2017)   \n",
       "96  97. A Series of Unfortunate Events (2017–2019)  (2017–2019)   \n",
       "97                  98. Criminal Minds (2005–2020)  (2005–2020)   \n",
       "98           99. Scream: The TV Series (2015–2019)  (2015–2019)   \n",
       "99          100. The Haunting of Hill House (2018)       (2018)   \n",
       "\n",
       "                       Genre Run time Ratings      Votes  \n",
       "0   Action, Adventure, Drama   57 min     9.2  2,077,871  \n",
       "1     Drama, Fantasy, Horror   51 min          1,168,223  \n",
       "2    Drama, Horror, Thriller   44 min    Rate    979,134  \n",
       "3   Drama, Mystery, Thriller   60 min            291,476  \n",
       "4     Drama, Mystery, Sci-Fi   43 min            250,539  \n",
       "..                       ...      ...     ...        ...  \n",
       "95                     Drama   42 min             49,958  \n",
       "96  Adventure, Comedy, Drama   50 min             61,088  \n",
       "97     Crime, Drama, Mystery   42 min            196,570  \n",
       "98      Comedy, Crime, Drama   45 min             41,416  \n",
       "99    Drama, Horror, Mystery  572 min            242,622  \n",
       "\n",
       "[100 rows x 6 columns]"
      ]
     },
     "execution_count": 53,
     "metadata": {},
     "output_type": "execute_result"
    }
   ],
   "source": [
    "imdb_most_watched_data=pd.DataFrame({'Name':Names,'Year span':Year,'Genre':Genre,'Run time':Time,\n",
    "                                     'Ratings':Rating_s,'Votes':Votes})\n",
    "imdb_most_watched_data"
   ]
  },
  {
   "cell_type": "markdown",
   "id": "a42174bb",
   "metadata": {},
   "source": [
    "10. Details of Datasets from UCI machine learning repositories.\n",
    "Url = https://archive.ics.uci.edu/\n",
    "You have to find the following details:\n",
    "A) Dataset name\n",
    "B) Data type\n",
    "C) Task\n",
    "D) Attribute type\n",
    "E) No of instances\n",
    "F) No of attribute\n",
    "G) Year"
   ]
  },
  {
   "cell_type": "code",
   "execution_count": 6,
   "id": "f07c6eb4",
   "metadata": {},
   "outputs": [],
   "source": [
    "# Opening the UCI repository page on automated chrome browser\n",
    "\n",
    "driver.get(\"https://archive.ics.uci.edu/\")"
   ]
  },
  {
   "cell_type": "code",
   "execution_count": 9,
   "id": "24c9a5ba",
   "metadata": {},
   "outputs": [],
   "source": [
    "search=driver.find_element(By.CLASS_NAME,\"whitetext\")\n",
    "search.click()"
   ]
  },
  {
   "cell_type": "code",
   "execution_count": 7,
   "id": "7084e68f",
   "metadata": {},
   "outputs": [],
   "source": [
    "UCI_details=[]"
   ]
  },
  {
   "cell_type": "code",
   "execution_count": 8,
   "id": "b17667ba",
   "metadata": {},
   "outputs": [],
   "source": [
    "    uci_tag=driver.find_elements(By.XPATH,'//td[@valign=\"top\"]')   \n",
    "    for o in uci_tag:\n",
    "        UCI_details.append(o.text)"
   ]
  },
  {
   "cell_type": "code",
   "execution_count": 9,
   "id": "801f6f04",
   "metadata": {
    "scrolled": false
   },
   "outputs": [
    {
     "data": {
      "text/plain": [
       "['About  Citation Policy  Donate a Data Set  Contact\\n\\n\\nRepository Web           \\nView ALL Data Sets',\n",
       " 'Browse Through:\\nDefault Task\\nClassification (466)\\nRegression (151)\\nClustering (121)\\nOther (56)\\nAttribute Type\\nCategorical (38)\\nNumerical (422)\\nMixed (55)\\nData Type\\nMultivariate (480)\\nUnivariate (30)\\nSequential (59)\\nTime-Series (126)\\nText (69)\\nDomain-Theory (23)\\nOther (21)\\nArea\\nLife Sciences (147)\\nPhysical Sciences (57)\\nCS / Engineering (234)\\nSocial Sciences (41)\\nBusiness (45)\\nGame (12)\\nOther (81)\\n# Attributes\\nLess than 10 (166)\\n10 to 100 (279)\\nGreater than 100 (110)\\n# Instances\\nLess than 100 (38)\\n100 to 1000 (210)\\nGreater than 1000 (339)\\nFormat Type\\nMatrix (439)\\nNon-Matrix (183)',\n",
       " 'Classification (466)\\nRegression (151)\\nClustering (121)\\nOther (56)',\n",
       " 'Categorical (38)\\nNumerical (422)\\nMixed (55)',\n",
       " 'Multivariate (480)\\nUnivariate (30)\\nSequential (59)\\nTime-Series (126)\\nText (69)\\nDomain-Theory (23)\\nOther (21)',\n",
       " 'Life Sciences (147)\\nPhysical Sciences (57)\\nCS / Engineering (234)\\nSocial Sciences (41)\\nBusiness (45)\\nGame (12)\\nOther (81)',\n",
       " 'Less than 10 (166)\\n10 to 100 (279)\\nGreater than 100 (110)',\n",
       " 'Less than 100 (38)\\n100 to 1000 (210)\\nGreater than 1000 (339)',\n",
       " 'Matrix (439)\\nNon-Matrix (183)',\n",
       " \"622 Data Sets\\nTable View  List View\\nName\\nData Types\\nDefault Task\\nAttribute Types\\n# Instances\\n# Attributes\\nYear\\n  Abalone\\nMultivariate \\nClassification \\nCategorical, Integer, Real \\n4177 \\n8 \\n1995 \\n  Adult\\nMultivariate \\nClassification \\nCategorical, Integer \\n48842 \\n14 \\n1996 \\n  Annealing\\nMultivariate \\nClassification \\nCategorical, Integer, Real \\n798 \\n38 \\n    Anonymous Microsoft Web Data\\n  Recommender-Systems \\nCategorical \\n37711 \\n294 \\n1998 \\n  Arrhythmia\\nMultivariate \\nClassification \\nCategorical, Integer, Real \\n452 \\n279 \\n1998 \\n  Artificial Characters\\nMultivariate \\nClassification \\nCategorical, Integer, Real \\n6000 \\n7 \\n1992 \\n  Audiology (Original)\\nMultivariate \\nClassification \\nCategorical \\n226 \\n  1987 \\n  Audiology (Standardized)\\nMultivariate \\nClassification \\nCategorical \\n226 \\n69 \\n1992 \\n  Auto MPG\\nMultivariate \\nRegression \\nCategorical, Real \\n398 \\n8 \\n1993 \\n  Automobile\\nMultivariate \\nRegression \\nCategorical, Integer, Real \\n205 \\n26 \\n1987 \\n  Badges\\nUnivariate, Text \\nClassification \\n  294 \\n1 \\n1994 \\n  Balance Scale\\nMultivariate \\nClassification \\nCategorical \\n625 \\n4 \\n1994 \\n  Balloons\\nMultivariate \\nClassification \\nCategorical \\n16 \\n4 \\n    Breast Cancer\\nMultivariate \\nClassification \\nCategorical \\n286 \\n9 \\n1988 \\n  Breast Cancer Wisconsin (Original)\\nMultivariate \\nClassification \\nInteger \\n699 \\n10 \\n1992 \\n  Breast Cancer Wisconsin (Prognostic)\\nMultivariate \\nClassification, Regression \\nReal \\n198 \\n34 \\n1995 \\n  Breast Cancer Wisconsin (Diagnostic)\\nMultivariate \\nClassification \\nReal \\n569 \\n32 \\n1995 \\n  Pittsburgh Bridges\\nMultivariate \\nClassification \\nCategorical, Integer \\n108 \\n13 \\n1990 \\n  Car Evaluation\\nMultivariate \\nClassification \\nCategorical \\n1728 \\n6 \\n1997 \\n  Census Income\\nMultivariate \\nClassification \\nCategorical, Integer \\n48842 \\n14 \\n1996 \\n  Chess (King-Rook vs. King-Knight)\\nMultivariate, Data-Generator \\nClassification \\nCategorical, Integer \\n  22 \\n1988 \\n  Chess (King-Rook vs. King-Pawn)\\nMultivariate \\nClassification \\nCategorical \\n3196 \\n36 \\n1989 \\n  Chess (King-Rook vs. King)\\nMultivariate \\nClassification \\nCategorical, Integer \\n28056 \\n6 \\n1994 \\n  Chess (Domain Theories)\\nDomain-Theory \\n            Bach Chorales\\nUnivariate, Time-Series \\n  Categorical, Integer \\n100 \\n6 \\n    Connect-4\\nMultivariate, Spatial \\nClassification \\nCategorical \\n67557 \\n42 \\n1995 \\n  Credit Approval\\nMultivariate \\nClassification \\nCategorical, Integer, Real \\n690 \\n15 \\n    Japanese Credit Screening\\nMultivariate, Domain-Theory \\nClassification \\nCategorical, Real, Integer \\n125 \\n  1992 \\n  Computer Hardware\\nMultivariate \\nRegression \\nInteger \\n209 \\n9 \\n1987 \\n  Contraceptive Method Choice\\nMultivariate \\nClassification \\nCategorical, Integer \\n1473 \\n9 \\n1997 \\n  Covertype\\nMultivariate \\nClassification \\nCategorical, Integer \\n581012 \\n54 \\n1998 \\n  Cylinder Bands\\nMultivariate \\nClassification \\nCategorical, Integer, Real \\n512 \\n39 \\n1995 \\n  Dermatology\\nMultivariate \\nClassification \\nCategorical, Integer \\n366 \\n33 \\n1998 \\n  Diabetes\\nMultivariate, Time-Series \\n  Categorical, Integer \\n  20 \\n    DGP2 - The Second Data Generation Program\\nData-Generator \\n  Real \\n        Document Understanding\\n          1994 \\n  EBL Domain Theories\\n              Echocardiogram\\nMultivariate \\nClassification \\nCategorical, Integer, Real \\n132 \\n12 \\n1989 \\n  Ecoli\\nMultivariate \\nClassification \\nReal \\n336 \\n8 \\n1996 \\n  Flags\\nMultivariate \\nClassification \\nCategorical, Integer \\n194 \\n30 \\n1990 \\n  Function Finding\\n  Function-Learning \\nReal \\n352 \\n  1990 \\n  Glass Identification\\nMultivariate \\nClassification \\nReal \\n214 \\n10 \\n1987 \\n  Haberman's Survival\\nMultivariate \\nClassification \\nInteger \\n306 \\n3 \\n1999 \\n  Hayes-Roth\\nMultivariate \\nClassification \\nCategorical \\n160 \\n5 \\n1989 \\n  Heart Disease\\nMultivariate \\nClassification \\nCategorical, Integer, Real \\n303 \\n75 \\n1988 \\n  Hepatitis\\nMultivariate \\nClassification \\nCategorical, Integer, Real \\n155 \\n19 \\n1988 \\n  Horse Colic\\nMultivariate \\nClassification \\nCategorical, Integer, Real \\n368 \\n27 \\n1989 \\n  ICU\\nMultivariate, Time-Series \\n  Real \\n        Image Segmentation\\nMultivariate \\nClassification \\nReal \\n2310 \\n19 \\n1990 \\n  Internet Advertisements\\nMultivariate \\nClassification \\nCategorical, Integer, Real \\n3279 \\n1558 \\n1998 \\n  Ionosphere\\nMultivariate \\nClassification \\nInteger, Real \\n351 \\n34 \\n1989 \\n  Iris\\nMultivariate \\nClassification \\nReal \\n150 \\n4 \\n1988 \\n  ISOLET\\nMultivariate \\nClassification \\nReal \\n7797 \\n617 \\n1994 \\n  Kinship\\nRelational \\nRelational-Learning \\nCategorical \\n104 \\n12 \\n1990 \\n  Labor Relations\\nMultivariate \\n  Categorical, Integer, Real \\n57 \\n16 \\n1988 \\n  LED Display Domain\\nMultivariate, Data-Generator \\nClassification \\nCategorical \\n  7 \\n1988 \\n  Lenses\\nMultivariate \\nClassification \\nCategorical \\n24 \\n4 \\n1990 \\n  Letter Recognition\\nMultivariate \\nClassification \\nInteger \\n20000 \\n16 \\n1991 \\n  Liver Disorders\\nMultivariate \\n  Categorical, Integer, Real \\n345 \\n7 \\n1990 \\n  Logic Theorist\\nDomain-Theory \\n            Lung Cancer\\nMultivariate \\nClassification \\nInteger \\n32 \\n56 \\n1992 \\n  Lymphography\\nMultivariate \\nClassification \\nCategorical \\n148 \\n18 \\n1988 \\n  Mechanical Analysis\\nMultivariate \\nClassification \\nCategorical, Integer, Real \\n209 \\n8 \\n1990 \\n  Meta-data\\nMultivariate \\nClassification \\nCategorical, Integer, Real \\n528 \\n22 \\n1996 \\n  Mobile Robots\\nDomain-Theory \\n  Categorical, Integer, Real \\n    1995 \\n  Molecular Biology (Promoter Gene Sequences)\\nSequential, Domain-Theory \\nClassification \\nCategorical \\n106 \\n58 \\n1990 \\n  Molecular Biology (Protein Secondary Structure)\\nSequential \\nClassification \\nCategorical \\n128 \\n      Molecular Biology (Splice-junction Gene Sequences)\\nSequential, Domain-Theory \\nClassification \\nCategorical \\n3190 \\n61 \\n1992 \\n  MONK's Problems\\nMultivariate \\nClassification \\nCategorical \\n432 \\n7 \\n1992 \\n  Moral Reasoner\\nDomain-Theory \\n    202 \\n  1994 \\n  Multiple Features\\nMultivariate \\nClassification \\nInteger, Real \\n2000 \\n649 \\n    Mushroom\\nMultivariate \\nClassification \\nCategorical \\n8124 \\n22 \\n1987 \\n  Musk (Version 1)\\nMultivariate \\nClassification \\nInteger \\n476 \\n168 \\n1994 \\n  Musk (Version 2)\\nMultivariate \\nClassification \\nInteger \\n6598 \\n168 \\n1994 \\n  Nursery\\nMultivariate \\nClassification \\nCategorical \\n12960 \\n8 \\n1997 \\n  Othello Domain Theory\\nDomain-Theory \\n        1991 \\n  Page Blocks Classification\\nMultivariate \\nClassification \\nInteger, Real \\n5473 \\n10 \\n1995 \\n  Optical Recognition of Handwritten Digits\\nMultivariate \\nClassification \\nInteger \\n5620 \\n64 \\n1998 \\n  Pen-Based Recognition of Handwritten Digits\\nMultivariate \\nClassification \\nInteger \\n10992 \\n16 \\n1998 \\n  Post-Operative Patient\\nMultivariate \\nClassification \\nCategorical, Integer \\n90 \\n8 \\n1993 \\n  Primary Tumor\\nMultivariate \\nClassification \\nCategorical \\n339 \\n17 \\n1988 \\n  Prodigy\\nDomain-Theory \\n            Qualitative Structure Activity Relationships\\nDomain-Theory \\n            Quadruped Mammals\\nMultivariate, Data-Generator \\nClassification \\nReal \\n  72 \\n1992 \\n  Servo\\nMultivariate \\nRegression \\nCategorical, Integer \\n167 \\n4 \\n1993 \\n  Shuttle Landing Control\\nMultivariate \\nClassification \\nCategorical \\n15 \\n6 \\n1988 \\n  Solar Flare\\nMultivariate \\nRegression \\nCategorical \\n1389 \\n10 \\n1989 \\n  Soybean (Large)\\nMultivariate \\nClassification \\nCategorical \\n307 \\n35 \\n1988 \\n  Soybean (Small)\\nMultivariate \\nClassification \\nCategorical \\n47 \\n35 \\n1987 \\n  Challenger USA Space Shuttle O-Ring\\nMultivariate \\nRegression \\nInteger \\n23 \\n4 \\n1993 \\n  Low Resolution Spectrometer\\nMultivariate \\nClassification \\nInteger, Real \\n531 \\n102 \\n1988 \\n  Spambase\\nMultivariate \\nClassification \\nInteger, Real \\n4601 \\n57 \\n1999 \\n  SPECT Heart\\nMultivariate \\nClassification \\nCategorical \\n267 \\n22 \\n2001 \\n  SPECTF Heart\\nMultivariate \\nClassification \\nInteger \\n267 \\n44 \\n2001 \\n  Sponge\\nMultivariate \\nClustering \\nCategorical, Integer \\n76 \\n45 \\n    Statlog Project\\n          1992 \\n  Student Loan Relational\\nDomain-Theory \\n    1000 \\n  1993 \\n  Teaching Assistant Evaluation\\nMultivariate \\nClassification \\nCategorical, Integer \\n151 \\n5 \\n1997 \\n  Tic-Tac-Toe Endgame\\nMultivariate \\nClassification \\nCategorical \\n958 \\n9 \\n1991 \\n  Thyroid Disease\\nMultivariate, Domain-Theory \\nClassification \\nCategorical, Real \\n7200 \\n21 \\n1987 \\n  Trains\\nMultivariate \\nClassification \\nCategorical \\n10 \\n32 \\n1994 \\n  University\\nMultivariate \\nClassification \\nCategorical, Integer \\n285 \\n17 \\n1988 \\n  Congressional Voting Records\\nMultivariate \\nClassification \\nCategorical \\n435 \\n16 \\n1987 \\n  Water Treatment Plant\\nMultivariate \\nClustering \\nInteger, Real \\n527 \\n38 \\n1993 \\n  Waveform Database Generator (Version 1)\\nMultivariate, Data-Generator \\nClassification \\nReal \\n5000 \\n21 \\n1988 \\n  Waveform Database Generator (Version 2)\\nMultivariate, Data-Generator \\nClassification \\nReal \\n5000 \\n40 \\n1988 \\n  Wine\\nMultivariate \\nClassification \\nInteger, Real \\n178 \\n13 \\n1991 \\n  Yeast\\nMultivariate \\nClassification \\nReal \\n1484 \\n8 \\n1996 \\n  Zoo\\nMultivariate \\nClassification \\nCategorical, Integer \\n101 \\n17 \\n1990 \\n  Undocumented\\n              Twenty Newsgroups\\nText \\n    20000 \\n  1999 \\n  Australian Sign Language signs\\nMultivariate, Time-Series \\nClassification \\nCategorical, Real \\n6650 \\n15 \\n1999 \\n  Australian Sign Language signs (High Quality)\\nMultivariate, Time-Series \\nClassification \\nReal \\n2565 \\n22 \\n2002 \\n  US Census Data (1990)\\nMultivariate \\nClustering \\nCategorical \\n2458285 \\n68 \\n    Census-Income (KDD)\\nMultivariate \\nClassification \\nCategorical, Integer \\n299285 \\n40 \\n2000 \\n  Coil 1999 Competition Data\\nMultivariate \\n  Categorical, Real \\n340 \\n17 \\n1999 \\n  Corel Image Features\\nMultivariate \\n  Real \\n68040 \\n89 \\n1999 \\n  E. Coli Genes\\nRelational \\n        2001 \\n  EEG Database\\nMultivariate, Time-Series \\n  Categorical, Integer, Real \\n122 \\n4 \\n1999 \\n  El Nino\\nSpatio-temporal \\n  Integer, Real \\n178080 \\n12 \\n1999 \\n  Entree Chicago Recommendation Data\\nTransactional, Sequential \\nRecommender-Systems \\nCategorical \\n50672 \\n  2000 \\n  CMU Face Images\\nImage \\nClassification \\nInteger \\n640 \\n  1999 \\n  Insurance Company Benchmark (COIL 2000)\\nMultivariate \\nRegression, Description \\nCategorical, Integer \\n9000 \\n86 \\n2000 \\n  Internet Usage Data\\nMultivariate \\n  Categorical, Integer \\n10104 \\n72 \\n1999 \\n  IPUMS Census Database\\nMultivariate \\n  Categorical, Integer \\n256932 \\n61 \\n1999 \\n  Japanese Vowels\\nMultivariate, Time-Series \\nClassification \\nReal \\n640 \\n12 \\n    KDD Cup 1998 Data\\nMultivariate \\nRegression \\nCategorical, Integer \\n191779 \\n481 \\n1998 \\n  KDD Cup 1999 Data\\nMultivariate \\nClassification \\nCategorical, Integer \\n4000000 \\n42 \\n1999 \\n  M. Tuberculosis Genes\\nRelational \\n        2001 \\n  Movie\\nMultivariate, Relational \\n    10000 \\n  1999 \\n  MSNBC.com Anonymous Web Data\\nSequential \\n  Categorical \\n989818 \\n      NSF Research Award Abstracts 1990-2003\\nText \\n    129000 \\n  2003 \\n  Pioneer-1 Mobile Robot Data\\nMultivariate, Time-Series \\n  Categorical, Real \\n    1999 \\n  Pseudo Periodic Synthetic Time Series\\nUnivariate, Time-Series \\n    100000 \\n  1999 \\n  Reuters-21578 Text Categorization Collection\\nText \\nClassification \\nCategorical \\n21578 \\n5 \\n1997 \\n  Robot Execution Failures\\nMultivariate, Time-Series \\nClassification \\nInteger \\n463 \\n90 \\n1999 \\n  Synthetic Control Chart Time Series\\nTime-Series \\nClassification, Clustering \\nReal \\n600 \\n  1999 \\n  Syskill and Webert Web Page Ratings\\nMultivariate, Text \\nClassification \\nCategorical \\n332 \\n5 \\n1998 \\n  UNIX User Data\\nText, Sequential \\n            Volcanoes on Venus - JARtool experiment\\nImage \\nClassification \\n          Statlog (Australian Credit Approval)\\nMultivariate \\nClassification \\nCategorical, Integer, Real \\n690 \\n14 \\n    Statlog (German Credit Data)\\nMultivariate \\nClassification \\nCategorical, Integer \\n1000 \\n20 \\n1994 \\n  Statlog (Heart)\\nMultivariate \\nClassification \\nCategorical, Real \\n270 \\n13 \\n    Statlog (Landsat Satellite)\\nMultivariate \\nClassification \\nInteger \\n6435 \\n36 \\n1993 \\n  Statlog (Image Segmentation)\\nMultivariate \\nClassification \\nReal \\n2310 \\n19 \\n1990 \\n  Statlog (Shuttle)\\nMultivariate \\nClassification \\nInteger \\n58000 \\n9 \\n    Statlog (Vehicle Silhouettes)\\nMultivariate \\nClassification \\nInteger \\n946 \\n18 \\n    Connectionist Bench (Nettalk Corpus)\\nMultivariate \\n  Categorical \\n20008 \\n4 \\n    Connectionist Bench (Sonar, Mines vs. Rocks)\\nMultivariate \\nClassification \\nReal \\n208 \\n60 \\n    Connectionist Bench (Vowel Recognition - Deterding Data)\\n  Classification \\nReal \\n528 \\n10 \\n    Economic Sanctions\\nDomain-Theory \\n            Protein Data\\n              Cloud\\nMultivariate \\n  Real \\n1024 \\n10 \\n1989 \\n  CalIt2 Building People Counts\\nMultivariate, Time-Series \\n  Categorical, Integer \\n10080 \\n4 \\n2006 \\n  Dodgers Loop Sensor\\nMultivariate, Time-Series \\n  Categorical, Integer \\n50400 \\n3 \\n2006 \\n  Poker Hand\\nMultivariate \\nClassification \\nCategorical, Integer \\n1025010 \\n11 \\n2007 \\n  MAGIC Gamma Telescope\\nMultivariate \\nClassification \\nReal \\n19020 \\n11 \\n2007 \\n  UJI Pen Characters\\nMultivariate, Sequential \\nClassification \\nInteger \\n1364 \\n  2007 \\n  Mammographic Mass\\nMultivariate \\nClassification \\nInteger \\n961 \\n6 \\n2007 \\n  Forest Fires\\nMultivariate \\nRegression \\nReal \\n517 \\n13 \\n2008 \\n  Reuters Transcribed Subset\\nText \\nClassification \\n  200 \\n  2008 \\n  Bag of Words\\nText \\nClustering \\nInteger \\n8000000 \\n100000 \\n2008 \\n  Concrete Compressive Strength\\nMultivariate \\nRegression \\nReal \\n1030 \\n9 \\n2007 \\n  Hill-Valley\\nSequential \\nClassification \\nReal \\n606 \\n101 \\n2008 \\n  Arcene\\nMultivariate \\nClassification \\nReal \\n900 \\n10000 \\n2008 \\n  Dexter\\nMultivariate \\nClassification \\nInteger \\n2600 \\n20000 \\n2008 \\n  Dorothea\\nMultivariate \\nClassification \\nInteger \\n1950 \\n100000 \\n2008 \\n  Gisette\\nMultivariate \\nClassification \\nInteger \\n13500 \\n5000 \\n2008 \\n  Madelon\\nMultivariate \\nClassification \\nReal \\n4400 \\n500 \\n2008 \\n  Ozone Level Detection\\nMultivariate, Sequential, Time-Series \\nClassification \\nReal \\n2536 \\n73 \\n2008 \\n  Abscisic Acid Signaling Network\\nMultivariate \\nCausal-Discovery \\nInteger \\n300 \\n43 \\n2008 \\n  Parkinsons\\nMultivariate \\nClassification \\nReal \\n197 \\n23 \\n2008 \\n  Character Trajectories\\nTime-Series \\nClassification, Clustering \\nReal \\n2858 \\n3 \\n2008 \\n  Blood Transfusion Service Center\\nMultivariate \\nClassification \\nReal \\n748 \\n5 \\n2008 \\n  UJI Pen Characters (Version 2)\\nMultivariate, Sequential \\nClassification \\nInteger \\n11640 \\n  2009 \\n  Semeion Handwritten Digit\\nMultivariate \\nClassification \\nInteger \\n1593 \\n256 \\n2008 \\n  SECOM\\nMultivariate \\nClassification, Causal-Discovery \\nReal \\n1567 \\n591 \\n2008 \\n  Plants\\nMultivariate \\nClustering \\nCategorical \\n22632 \\n70 \\n2008 \\n  Libras Movement\\nMultivariate, Sequential \\nClassification, Clustering \\nReal \\n360 \\n91 \\n2009 \\n  Concrete Slump Test\\nMultivariate \\nRegression \\nReal \\n103 \\n10 \\n2009 \\n  Communities and Crime\\nMultivariate \\nRegression \\nReal \\n1994 \\n128 \\n2009 \\n  Acute Inflammations\\nMultivariate \\nClassification \\nCategorical, Integer \\n120 \\n6 \\n2009 \\n  Wine Quality\\nMultivariate \\nClassification, Regression \\nReal \\n4898 \\n12 \\n2009 \\n  URL Reputation\\nMultivariate, Time-Series \\nClassification \\nInteger, Real \\n2396130 \\n3231961 \\n2009 \\n  p53 Mutants\\nMultivariate \\nClassification \\nReal \\n16772 \\n5409 \\n2010 \\n  Parkinsons Telemonitoring\\nMultivariate \\nRegression \\nInteger, Real \\n5875 \\n26 \\n2009 \\n  Demospongiae\\nMultivariate \\nClassification \\nInteger \\n503 \\n  2010 \\n  Opinosis Opinion ⁄ Review\\nText \\n    51 \\n  2010 \\n  Breast Tissue\\nMultivariate \\nClassification \\nReal \\n106 \\n10 \\n2010 \\n  Cardiotocography\\nMultivariate \\nClassification \\nReal \\n2126 \\n23 \\n2010 \\n  Wall-Following Robot Navigation Data\\nMultivariate, Sequential \\nClassification \\nReal \\n5456 \\n24 \\n2010 \\n  Spoken Arabic Digit\\nMultivariate, Time-Series \\nClassification \\nReal \\n8800 \\n13 \\n2010 \\n  Localization Data for Person Activity\\nUnivariate, Sequential, Time-Series \\nClassification \\nReal \\n164860 \\n8 \\n2010 \\n  AutoUniv\\nMultivariate \\nClassification \\nCategorical, Integer, Real \\n    2010 \\n  Steel Plates Faults\\nMultivariate \\nClassification \\nInteger, Real \\n1941 \\n27 \\n2010 \\n  MiniBooNE particle identification\\nMultivariate \\nClassification \\nReal \\n130065 \\n50 \\n2010 \\n  YearPredictionMSD\\nMultivariate \\nRegression \\nReal \\n515345 \\n90 \\n2011 \\n  PEMS-SF\\nMultivariate, Time-Series \\nClassification \\nReal \\n440 \\n138672 \\n2011 \\n  OpinRank Review Dataset\\nText \\n        2011 \\n  Relative location of CT slices on axial axis\\nDomain-Theory \\nRegression \\nReal \\n53500 \\n386 \\n2011 \\n  Online Handwritten Assamese Characters Dataset\\nMultivariate, Sequential \\nClassification \\nInteger \\n8235 \\n  2011 \\n  PubChem Bioassay Data\\nMultivariate \\nClassification \\nInteger, Real \\n    2011 \\n  Record Linkage Comparison Patterns\\nMultivariate \\nClassification \\nReal \\n5749132 \\n12 \\n2011 \\n  Communities and Crime Unnormalized\\nMultivariate \\nRegression \\nReal \\n2215 \\n147 \\n2011 \\n  Vertebral Column\\nMultivariate \\nClassification \\nReal \\n310 \\n6 \\n2011 \\n  EMG Physical Action Data Set\\nTime-Series \\nClassification \\nReal \\n10000 \\n8 \\n2011 \\n  Vicon Physical Action Data Set\\nTime-Series \\nClassification \\nReal \\n3000 \\n27 \\n2011 \\n  Amazon Commerce reviews set\\nMultivariate, Text, Domain-Theory \\nClassification \\nReal \\n1500 \\n10000 \\n2011 \\n  Amazon Access Samples\\nTime-Series, Domain-Theory \\nRegression, Clustering, Causal-Discovery \\n  30000 \\n20000 \\n2011 \\n  Reuter_50_50\\nMultivariate, Text, Domain-Theory \\nClassification, Clustering \\nReal \\n2500 \\n10000 \\n2011 \\n  Farm Ads\\nText \\nClassification \\n  4143 \\n54877 \\n2011 \\n  DBWorld e-mails\\nText \\nClassification \\n  64 \\n4702 \\n2011 \\n  KEGG Metabolic Relation Network (Directed)\\nMultivariate, Univariate, Text \\nClassification, Regression, Clustering \\nInteger, Real \\n53414 \\n24 \\n2011 \\n  KEGG Metabolic Reaction Network (Undirected)\\nMultivariate, Univariate, Text \\nClassification, Regression, Clustering \\nInteger, Real \\n65554 \\n29 \\n2011 \\n  Bank Marketing\\nMultivariate \\nClassification \\nReal \\n45211 \\n17 \\n2012 \\n  YouTube Comedy Slam Preference Data\\nText \\nClassification \\n  1138562 \\n3 \\n2012 \\n  Gas Sensor Array Drift Dataset\\nMultivariate \\nClassification \\nReal \\n13910 \\n128 \\n2012 \\n  ILPD (Indian Liver Patient Dataset)\\nMultivariate \\nClassification \\nInteger, Real \\n583 \\n10 \\n2012 \\n  OPPORTUNITY Activity Recognition\\nMultivariate, Time-Series \\nClassification \\nReal \\n2551 \\n242 \\n2012 \\n  Nomao\\nUnivariate \\nClassification \\nReal \\n34465 \\n120 \\n2012 \\n  SMS Spam Collection\\nMultivariate, Text, Domain-Theory \\nClassification, Clustering \\nReal \\n5574 \\n  2012 \\n  Skin Segmentation\\nUnivariate \\nClassification \\nReal \\n245057 \\n4 \\n2012 \\n  Planning Relax\\nUnivariate \\nClassification \\nReal \\n182 \\n13 \\n2012 \\n  PAMAP2 Physical Activity Monitoring\\nMultivariate, Time-Series \\nClassification \\nReal \\n3850505 \\n52 \\n2012 \\n  Restaurant & consumer data\\nMultivariate \\n    138 \\n47 \\n2012 \\n  CNAE-9\\nMultivariate, Text \\nClassification \\nInteger \\n1080 \\n857 \\n2012 \\n  Individual household electric power consumption\\nMultivariate, Time-Series \\nRegression, Clustering \\nReal \\n2075259 \\n9 \\n2012 \\n  seeds\\nMultivariate \\nClassification, Clustering \\nReal \\n210 \\n7 \\n2012 \\n  Northix\\nMultivariate, Univariate, Text \\nClassification \\nInteger, Real \\n115 \\n200 \\n2012 \\n  QtyT40I10D100K\\nSequential \\n  Integer \\n3960456 \\n4 \\n2012 \\n  Legal Case Reports\\nText \\nClassification \\n      2012 \\n  Human Activity Recognition Using Smartphones\\nMultivariate, Time-Series \\nClassification, Clustering \\n  10299 \\n561 \\n2012 \\n  One-hundred plant species leaves data set\\n  Classification \\nReal \\n1600 \\n64 \\n2012 \\n  Energy efficiency\\nMultivariate \\nClassification, Regression \\nInteger, Real \\n768 \\n8 \\n2012 \\n  Yacht Hydrodynamics\\nMultivariate \\nRegression \\nReal \\n308 \\n7 \\n2013 \\n  Fertility\\nMultivariate \\nClassification, Regression \\nReal \\n100 \\n10 \\n2013 \\n  Daphnet Freezing of Gait\\nMultivariate, Time-Series \\nClassification \\nReal \\n237 \\n9 \\n2013 \\n  3D Road Network (North Jutland, Denmark)\\nSequential, Text \\nRegression, Clustering \\nReal \\n434874 \\n4 \\n2013 \\n  ISTANBUL STOCK EXCHANGE\\nMultivariate, Univariate, Time-Series \\nClassification, Regression \\nReal \\n536 \\n8 \\n2013 \\n  Buzz in social media\\nTime-Series, Multivariate \\nRegression, Classification \\nInteger, Real \\n140000 \\n77 \\n2013 \\n  First-order theorem proving\\nMultivariate \\nClassification \\nReal \\n6118 \\n51 \\n2013 \\n  Wearable Computing: Classification of Body Postures and Movements (PUC-Rio)\\nSequential \\nClassification \\nInteger, Real \\n165632 \\n18 \\n2013 \\n  Gas sensor arrays in open sampling settings\\nMultivariate, Time-Series \\nClassification \\nReal \\n18000 \\n1950000 \\n2013 \\n  Climate Model Simulation Crashes\\nMultivariate \\nClassification \\nReal \\n540 \\n18 \\n2013 \\n  MicroMass\\nMultivariate \\nClassification \\nReal \\n931 \\n1300 \\n2013 \\n  QSAR biodegradation\\nMultivariate \\nClassification \\nInteger, Real \\n1055 \\n41 \\n2013 \\n  BLOGGER\\nMultivariate \\nClassification \\n  100 \\n6 \\n2013 \\n  Daily and Sports Activities\\nMultivariate, Time-Series \\nClassification, Clustering \\nReal \\n9120 \\n5625 \\n2013 \\n  User Knowledge Modeling\\nMultivariate \\nClassification, Clustering \\nInteger \\n403 \\n5 \\n2013 \\n  Reuters RCV1 RCV2 Multilingual, Multiview Text Categorization Test collection\\nMultivariate \\nClassification \\nReal \\n111740 \\n  2013 \\n  NYSK\\nMultivariate, Sequential, Text \\nClustering \\n  10421 \\n7 \\n2013 \\n  Turkiye Student Evaluation\\nMultivariate \\nClassification, Clustering \\n  5820 \\n33 \\n2013 \\n  ser Knowledge Modeling Data (Students' Knowledge Levels on DC Electrical Machines)\\nMultivariate \\nClassification \\nReal \\n403 \\n5 \\n2013 \\n  EEG Eye State\\nMultivariate, Sequential, Time-Series \\nClassification \\nInteger, Real \\n14980 \\n15 \\n2013 \\n  Physicochemical Properties of Protein Tertiary Structure\\nMultivariate \\nRegression \\nReal \\n45730 \\n9 \\n2013 \\n  seismic-bumps\\nMultivariate \\nClassification \\nReal \\n2584 \\n19 \\n2013 \\n  banknote authentication\\nMultivariate \\nClassification \\nReal \\n1372 \\n5 \\n2013 \\n  USPTO Algorithm Challenge, run by NASA-Harvard Tournament Lab and TopCoder Problem: Pat\\nDomain-Theory \\nClassification \\nInteger \\n306 \\n5 \\n2013 \\n  YouTube Multiview Video Games Dataset\\nMultivariate, Text \\nClassification, Clustering \\nInteger, Real \\n120000 \\n1000000 \\n2013 \\n  Gas Sensor Array Drift Dataset at Different Concentrations\\nMultivariate, Time-Series \\nClassification, Regression, Clustering, Causa \\nReal \\n13910 \\n129 \\n2013 \\n  Activities of Daily Living (ADLs) Recognition Using Binary Sensors\\nMultivariate, Sequential, Time-Series \\nClassification, Clustering \\n  2747 \\n  2013 \\n  SkillCraft1 Master Table Dataset\\nMultivariate \\nRegression \\nInteger, Real \\n3395 \\n20 \\n2013 \\n  Weight Lifting Exercises monitored with Inertial Measurement Units\\nMultivariate \\nClassification \\nReal \\n39242 \\n152 \\n2013 \\n  SML2010\\nMultivariate, Sequential, Time-Series, Text \\nRegression \\nReal \\n4137 \\n24 \\n2014 \\n  Bike Sharing Dataset\\nUnivariate \\nRegression \\nInteger, Real \\n17389 \\n16 \\n2013 \\n  Predict keywords activities in a online social media\\nMultivariate, Sequential, Time-Series \\n  Integer, Real \\n51 \\n35 \\n2013 \\n  Thoracic Surgery Data\\nMultivariate \\nClassification \\nInteger, Real \\n470 \\n17 \\n2013 \\n  EMG dataset in Lower Limb\\nMultivariate, Time-Series \\n  Real \\n132 \\n5 \\n2014 \\n  SUSY\\n  Classification \\nReal \\n5000000 \\n18 \\n2014 \\n  HIGGS\\n  Classification \\nReal \\n11000000 \\n28 \\n2014 \\n  Qualitative_Bankruptcy\\nMultivariate \\nClassification \\n  250 \\n7 \\n2014 \\n  LSVT Voice Rehabilitation\\nMultivariate \\nClassification \\nReal \\n126 \\n309 \\n2014 \\n  Dataset for ADL Recognition with Wrist-worn Accelerometer\\nMultivariate, Time-Series \\nClassification, Clustering \\n    3 \\n2014 \\n  Wilt\\nMultivariate \\nClassification \\n  4889 \\n6 \\n2014 \\n  User Identification From Walking Activity\\nUnivariate, Sequential, Time-Series \\nClassification, Clustering \\nReal \\n    2014 \\n  Activity Recognition from Single Chest-Mounted Accelerometer\\nUnivariate, Sequential, Time-Series \\nClassification, Clustering \\nReal \\n    2014 \\n  Leaf\\nMultivariate \\nClassification \\nReal \\n340 \\n16 \\n2014 \\n  Dresses_Attribute_Sales\\nText \\nClassification, Clustering \\n  501 \\n13 \\n2014 \\n  Tamilnadu Electricity Board Hourly Readings\\nMultivariate \\nClassification, Regression, Clustering \\nReal \\n45781 \\n5 \\n2013 \\n  Airfoil Self-Noise\\nMultivariate \\nRegression \\nReal \\n1503 \\n6 \\n2014 \\n  Wholesale customers\\nMultivariate \\nClassification, Clustering \\nInteger \\n440 \\n8 \\n2014 \\n  Twitter Data set for Arabic Sentiment Analysis\\nText \\nClassification \\n  2000 \\n2 \\n2014 \\n  Combined Cycle Power Plant\\nMultivariate \\nRegression \\nReal \\n9568 \\n4 \\n2014 \\n  Urban Land Cover\\nMultivariate \\nClassification \\n  168 \\n148 \\n2014 \\n  Diabetes 130-US hospitals for years 1999-2008\\nMultivariate \\nClassification, Clustering \\nInteger \\n100000 \\n55 \\n2014 \\n  Bach Choral Harmony\\nSequential \\nClassification \\n  5665 \\n17 \\n2014 \\n  StoneFlakes\\nMultivariate \\nClassification, Clustering, Causal-Discovery \\nReal \\n79 \\n8 \\n2014 \\n  Tennis Major Tournament Match Statistics\\nMultivariate \\nClassification, Regression, Clustering \\nInteger, Real \\n127 \\n42 \\n2014 \\n  Parkinson Speech Dataset with Multiple Types of Sound Recordings\\nMultivariate \\nClassification, Regression \\nInteger, Real \\n1040 \\n26 \\n2014 \\n  Gesture Phase Segmentation\\nMultivariate, Sequential, Time-Series \\nClassification, Clustering \\nReal \\n9900 \\n50 \\n2014 \\n  Perfume Data\\nUnivariate, Domain-Theory \\nClassification, Clustering \\nInteger \\n560 \\n2 \\n2014 \\n  BlogFeedback\\nMultivariate \\nRegression \\nInteger, Real \\n60021 \\n281 \\n2014 \\n  REALDISP Activity Recognition Dataset\\nMultivariate, Time-Series \\nClassification \\nReal \\n1419 \\n120 \\n2014 \\n  Newspaper and magazine images segmentation dataset\\n  Classification \\n  101 \\n  2014 \\n  AAAI 2014 Accepted Papers\\nMultivariate \\nClustering \\n  399 \\n6 \\n2014 \\n  Gas sensor array under flow modulation\\nMultivariate, Time-Series \\nClassification, Regression \\nReal \\n58 \\n120432 \\n2014 \\n  Gas sensor array exposed to turbulent gas mixtures\\nMultivariate, Time-Series \\nClassification, Regression \\nReal \\n180 \\n150000 \\n2014 \\n  UJIIndoorLoc\\nMultivariate \\nClassification, Regression \\nInteger, Real \\n21048 \\n529 \\n2014 \\n  Sentence Classification\\nText \\nClassification \\nInteger \\n    2014 \\n  Dow Jones Index\\nTime-Series \\nClassification, Clustering \\nInteger, Real \\n750 \\n16 \\n2014 \\n  sEMG for Basic Hand movements\\nTime-Series \\nClassification \\nReal \\n3000 \\n2500 \\n2014 \\n  AAAI 2013 Accepted Papers\\nMultivariate \\nClustering \\n  150 \\n5 \\n2014 \\n  Geographical Original of Music\\nMultivariate \\nClassification, Regression \\nReal \\n1059 \\n68 \\n2014 \\n  Condition Based Maintenance of Naval Propulsion Plants\\nMultivariate \\nRegression \\nReal \\n11934 \\n16 \\n2014 \\n  Grammatical Facial Expressions\\nMultivariate, Sequential \\nClassification, Clustering \\nReal \\n27965 \\n100 \\n2014 \\n  NoisyOffice\\nMultivariate \\nClassification, Regression \\nReal \\n216 \\n216 \\n2015 \\n  MHEALTH Dataset\\nMultivariate, Time-Series \\nClassification \\nReal \\n120 \\n23 \\n2014 \\n  Student Performance\\nMultivariate \\nClassification, Regression \\nInteger \\n649 \\n33 \\n2014 \\n  ElectricityLoadDiagrams20112014\\nTime-Series \\nRegression, Clustering \\nReal \\n370 \\n140256 \\n2015 \\n  Gas sensor array under dynamic gas mixtures\\nMultivariate, Time-Series \\nClassification, Regression \\nReal \\n4178504 \\n19 \\n2015 \\n  microblogPCU\\nMultivariate, Univariate, Sequential, Text \\nClassification, Causal-Discovery \\nInteger, Real \\n221579 \\n20 \\n2015 \\n  Firm-Teacher_Clave-Direction_Classification\\nMultivariate \\nClassification \\n  10800 \\n20 \\n2015 \\n  Dataset for Sensorless Drive Diagnosis\\nMultivariate \\nClassification \\nReal \\n58509 \\n49 \\n2015 \\n  TV News Channel Commercial Detection Dataset\\nMultivariate \\nClassification, Clustering \\nReal \\n129685 \\n12 \\n2015 \\n  Phishing Websites\\n  Classification \\nInteger \\n2456 \\n30 \\n2015 \\n  Greenhouse Gas Observing Network\\nMultivariate, Time-Series \\nRegression \\nReal \\n2921 \\n5232 \\n2015 \\n  Diabetic Retinopathy Debrecen Data Set\\nMultivariate \\nClassification \\nInteger, Real \\n1151 \\n20 \\n2014 \\n  HIV-1 protease cleavage\\nMultivariate \\nClassification \\nCategorical \\n6590 \\n1 \\n2015 \\n  Sentiment Labelled Sentences\\nText \\nClassification \\n  3000 \\n  2015 \\n  Online News Popularity\\nMultivariate \\nClassification, Regression \\nInteger, Real \\n39797 \\n61 \\n2015 \\n  Forest type mapping\\nMultivariate \\nClassification \\n  326 \\n27 \\n2015 \\n  wiki4HE\\nMultivariate \\nRegression, Clustering, Causal-Discovery \\n  913 \\n53 \\n2015 \\n  Online Video Characteristics and Transcoding Time Dataset\\nMultivariate \\nRegression \\nInteger, Real \\n168286 \\n11 \\n2015 \\n  Chronic_Kidney_Disease\\nMultivariate \\nClassification \\nReal \\n400 \\n25 \\n2015 \\n  Machine Learning based ZZAlpha Ltd. Stock Recommendations 2012-2014\\nSequential, Time-Series \\nClassification \\nReal \\n314080 \\n0 \\n2015 \\n  Folio\\nMultivariate \\nClassification, Clustering \\n  637 \\n20 \\n2015 \\n  Taxi Service Trajectory - Prediction Challenge, ECML PKDD 2015\\nMultivariate, Sequential, Time-Series, Domain-Theory \\nClustering, Causal-Discovery \\nReal \\n1710671 \\n9 \\n2015 \\n  Cuff-Less Blood Pressure Estimation\\nMultivariate \\nClassification, Regression \\nReal \\n12000 \\n3 \\n2015 \\n  Smartphone-Based Recognition of Human Activities and Postural Transitions\\nMultivariate, Time-Series \\nClassification \\nReal \\n10929 \\n561 \\n2015 \\n  Mice Protein Expression\\nMultivariate \\nClassification, Clustering \\nReal \\n1080 \\n82 \\n2015 \\n  UJIIndoorLoc-Mag\\nMultivariate, Sequential, Time-Series \\nClassification, Regression, Clustering \\nInteger, Real \\n40000 \\n13 \\n2015 \\n  Heterogeneity Activity Recognition\\nMultivariate, Time-Series \\nClassification, Clustering \\nReal \\n43930257 \\n16 \\n2015 \\n  Educational Process Mining (EPM): A Learning Analytics Data Set\\nMultivariate, Sequential, Time-Series \\nClassification, Regression, Clustering \\nInteger \\n230318 \\n13 \\n2015 \\n  HEPMASS\\nMultivariate \\nClassification \\nReal \\n10500000 \\n28 \\n2016 \\n  Indoor User Movement Prediction from RSS data\\nMultivariate, Sequential, Time-Series \\nClassification \\nReal \\n13197 \\n4 \\n2016 \\n  Open University Learning Analytics dataset\\nMultivariate, Sequential, Time-Series \\nClassification, Regression, Clustering \\nInteger \\n    2015 \\n  default of credit card clients\\nMultivariate \\nClassification \\nInteger, Real \\n30000 \\n24 \\n2016 \\n  Mesothelioma’s disease data set\\nMultivariate \\nClassification \\nReal \\n324 \\n34 \\n2016 \\n  Online Retail\\nMultivariate, Sequential, Time-Series \\nClassification, Clustering \\nInteger, Real \\n541909 \\n8 \\n2015 \\n  SIFT10M\\nMultivariate \\nCausal-Discovery \\nInteger \\n11164866 \\n128 \\n2016 \\n  GPS Trajectories\\nMultivariate \\nClassification, Regression \\nReal \\n163 \\n15 \\n2016 \\n  Detect Malacious Executable(AntiVirus)\\nMultivariate \\nClassification \\nReal \\n373 \\n513 \\n2016 \\n  Occupancy Detection\\nMultivariate, Time-Series \\nClassification \\nReal \\n20560 \\n7 \\n2016 \\n  Improved Spiral Test Using Digitized Graphics Tablet for Monitoring Parkinson’s Disease\\nMultivariate \\nClassification, Regression, Clustering \\nReal \\n40 \\n7 \\n2016 \\n  News Aggregator\\nMultivariate \\nClassification, Clustering \\n  422937 \\n5 \\n2016 \\n  Air Quality\\nMultivariate, Time-Series \\nRegression \\nReal \\n9358 \\n15 \\n2016 \\n  Twin gas sensor arrays\\nMultivariate, Time-Series, Domain-Theory \\nClassification, Regression \\nReal \\n640 \\n480000 \\n2016 \\n  Gas sensors for home activity monitoring\\nMultivariate, Time-Series \\nClassification \\nReal \\n919438 \\n11 \\n2016 \\n  Facebook Comment Volume Dataset\\nMultivariate \\nRegression \\nInteger, Real \\n40949 \\n54 \\n2016 \\n  Smartphone Dataset for Human Activity Recognition (HAR) in Ambient Assisted Living (AAL)\\nTime-Series \\nClassification \\nReal \\n5744 \\n561 \\n2016 \\n  Polish companies bankruptcy data\\nMultivariate \\nClassification \\nReal \\n10503 \\n64 \\n2016 \\n  Activity Recognition system based on Multisensor data fusion (AReM)\\nMultivariate, Sequential, Time-Series \\nClassification \\nReal \\n42240 \\n6 \\n2016 \\n  Dota2 Games Results\\nMultivariate \\nClassification \\n  102944 \\n116 \\n2016 \\n  Facebook metrics\\nMultivariate \\nRegression \\nInteger \\n500 \\n19 \\n2016 \\n  UbiqLog (smartphone lifelogging)\\nMultivariate \\nCausal-Discovery \\n  9782222 \\n  2016 \\n  NIPS Conference Papers 1987-2015\\nText \\nClustering \\nInteger \\n11463 \\n5812 \\n2016 \\n  HTRU2\\nMultivariate \\nClassification, Clustering \\nReal \\n17898 \\n9 \\n2017 \\n  Drug consumption (quantified)\\nMultivariate \\nClassification \\nReal \\n1885 \\n32 \\n2016 \\n  Appliances energy prediction\\nMultivariate, Time-Series \\nRegression \\nReal \\n19735 \\n29 \\n2017 \\n  Miskolc IIS Hybrid IPS\\nText \\nClassification, Clustering, Causal-Discovery \\nInteger \\n1540 \\n67 \\n2016 \\n  KDC-4007 dataset Collection\\nMultivariate, Text \\nClassification, Regression \\nInteger \\n4007 \\n  2017 \\n  Geo-Magnetic field and WLAN dataset for indoor localisation from wristband and smartphone\\nMultivariate, Sequential, Time-Series \\nClassification, Regression, Clustering \\nInteger, Real \\n153540 \\n25 \\n2017 \\n  DrivFace\\nMultivariate \\nClassification, Regression, Clustering \\nReal \\n606 \\n6400 \\n2016 \\n  Website Phishing\\nMultivariate \\nClassification \\nInteger \\n1353 \\n10 \\n2016 \\n  YouTube Spam Collection\\nText \\nClassification \\n  1956 \\n5 \\n2017 \\n  Beijing PM2.5 Data\\nMultivariate, Time-Series \\nRegression \\nInteger, Real \\n43824 \\n13 \\n2017 \\n  Cargo 2000 Freight Tracking and Tracing\\nMultivariate, Sequential \\nClassification, Regression \\nInteger \\n3942 \\n98 \\n2016 \\n  Cervical cancer (Risk Factors)\\nMultivariate \\nClassification \\nInteger, Real \\n858 \\n36 \\n2017 \\n  Quality Assessment of Digital Colposcopies\\nMultivariate \\nClassification \\nReal \\n287 \\n69 \\n2017 \\n  KASANDR\\nMultivariate \\nCausal-Discovery \\nInteger \\n17764280 \\n2158859 \\n2017 \\n  FMA: A Dataset For Music Analysis\\nMultivariate, Time-Series \\nClassification, Clustering \\nReal \\n106574 \\n518 \\n2017 \\n  Air quality\\nMultivariate, Time-Series \\nRegression \\nReal \\n9358 \\n15 \\n2016 \\n  Epileptic Seizure Recognition\\nMultivariate, Time-Series \\nClassification, Clustering \\nInteger, Real \\n11500 \\n179 \\n2017 \\n  Devanagari Handwritten Character Dataset\\n  Classification \\nInteger \\n92000 \\n  2016 \\n  Stock portfolio performance\\nMultivariate \\nRegression \\nReal \\n315 \\n12 \\n2016 \\n  MoCap Hand Postures\\nMultivariate \\nClassification, Clustering \\nInteger, Real \\n78095 \\n38 \\n2016 \\n  Early biomarkers of Parkinson�s disease based on natural connected speech\\nMultivariate \\nClassification, Regression \\nInteger, Real \\n130 \\n65 \\n2017 \\n  Data for Software Engineering Teamwork Assessment in Education Setting\\nSequential, Time-Series \\nClassification \\nInteger, Real \\n74 \\n102 \\n2017 \\n  PM2.5 Data of Five Chinese Cities\\nMultivariate, Time-Series \\nRegression \\nInteger, Real \\n52854 \\n86 \\n2017 \\n  Parkinson Disease Spiral Drawings Using Digitized Graphics Tablet\\nMultivariate \\nClassification, Regression, Clustering \\nInteger \\n77 \\n7 \\n2017 \\n  Sales_Transactions_Dataset_Weekly\\nMultivariate, Time-Series \\nClustering \\nInteger, Real \\n811 \\n53 \\n2017 \\n  Las Vegas Strip\\n  Classification, Regression \\nInteger \\n504 \\n20 \\n2017 \\n  Eco-hotel\\nText \\n    401 \\n1 \\n2017 \\n  MEU-Mobile KSD\\nMultivariate \\nClassification \\nInteger, Real \\n2856 \\n71 \\n2016 \\n  Crowdsourced Mapping\\nMultivariate \\nClassification \\n  10546 \\n29 \\n2016 \\n  gene expression cancer RNA-Seq\\nMultivariate \\nClassification, Clustering \\nReal \\n801 \\n20531 \\n2016 \\n  Hybrid Indoor Positioning Dataset from WiFi RSSI, Bluetooth and magnetometer\\nMultivariate, Sequential, Time-Series \\nClassification \\nReal \\n1540 \\n65 \\n2016 \\n  chestnut – LARVIC\\n  Classification, Clustering \\n  1451 \\n3 \\n2017 \\n  Burst Header Packet (BHP) flooding attack on Optical Burst Switching (OBS) Network\\nText \\nClassification \\nInteger \\n1075 \\n22 \\n2017 \\n  Motion Capture Hand Postures\\nMultivariate \\nClassification, Clustering \\nReal \\n78095 \\n38 \\n2017 \\n  Anuran Calls (MFCCs)\\nMultivariate \\nClassification, Clustering \\nReal \\n7195 \\n22 \\n2017 \\n  TTC-3600: Benchmark dataset for Turkish text categorization\\nText \\nClassification, Clustering \\nInteger \\n3600 \\n4814 \\n2017 \\n  Gastrointestinal Lesions in Regular Colonoscopy\\nMultivariate \\nClassification \\nReal \\n76 \\n698 \\n2016 \\n  Daily Demand Forecasting Orders\\nTime-Series \\nRegression \\nInteger \\n60 \\n13 \\n2017 \\n  Paper Reviews\\nText \\nClassification, Regression \\nInteger \\n405 \\n10 \\n2017 \\n  extention of Z-Alizadeh sani dataset\\n  Classification \\nInteger, Real \\n303 \\n59 \\n2017 \\n  Z-Alizadeh Sani\\n  Classification \\nInteger, Real \\n303 \\n56 \\n2017 \\n  Dynamic Features of VirusShare Executables\\nMultivariate, Time-Series \\nClassification, Regression \\nInteger \\n107888 \\n482 \\n2017 \\n  IDA2016Challenge\\nMultivariate \\nClassification \\nInteger \\n76000 \\n171 \\n2017 \\n  DSRC Vehicle Communications\\nSequential, Text \\nClustering \\nReal \\n10000 \\n5 \\n2017 \\n  Mturk User-Perceived Clusters over Images\\nMultivariate, Text \\nClustering \\nInteger \\n180 \\n500 \\n2016 \\n  Character Font Images\\nMultivariate \\nClassification \\nInteger, Real \\n745000 \\n411 \\n2016 \\n  DeliciousMIL: A Data Set for Multi-Label Multi-Instance Learning with Instance Labels\\nText \\nClassification \\nInteger \\n12234 \\n8519 \\n2016 \\n  Autistic Spectrum Disorder Screening Data for Children\\nMultivariate \\nClassification \\nInteger \\n292 \\n21 \\n2017 \\n  Autistic Spectrum Disorder Screening Data for Adolescent\\nMultivariate \\nClassification \\nInteger \\n104 \\n21 \\n2017 \\n  APS Failure at Scania Trucks\\nMultivariate \\nClassification \\nInteger, Real \\n60000 \\n171 \\n2017 \\n  Wireless Indoor Localization\\nMultivariate \\nClassification \\nReal \\n2000 \\n7 \\n2017 \\n  HCC Survival\\nMultivariate \\nClassification \\nInteger, Real \\n165 \\n49 \\n2017 \\n  CSM (Conventional and Social Media Movies) Dataset 2014 and 2015\\nMultivariate \\nClassification, Regression \\nInteger \\n217 \\n12 \\n2017 \\n  University of Tehran Question Dataset 2016 (UTQD.2016)\\nText \\nClassification \\n  1175 \\n3 \\n2017 \\n  Autism Screening Adult\\n  Classification \\nInteger \\n704 \\n21 \\n2017 \\n  Activity recognition with healthy older people using a batteryless wearable sensor\\nSequential \\nClassification \\nReal \\n75128 \\n9 \\n2016 \\n  Immunotherapy Dataset\\nUnivariate \\nClassification \\nInteger, Real \\n90 \\n8 \\n2018 \\n  Cryotherapy Dataset\\nUnivariate \\nClassification \\nInteger, Real \\n90 \\n7 \\n2018 \\n  OCT data & Color Fundus Images of Left & Right Eyes\\nMultivariate \\nClassification \\nReal \\n50 \\n2 \\n2016 \\n  Discrete Tone Image Dataset\\nMultivariate \\nClassification \\n  71 \\n11 \\n2018 \\n  News Popularity in Multiple Social Media Platforms\\nMultivariate, Time-Series, Text \\nRegression \\nInteger, Real \\n93239 \\n11 \\n2018 \\n  Ultrasonic flowmeter diagnostics\\nMultivariate \\nClassification \\nReal \\n540 \\n173 \\n2018 \\n  ICMLA 2014 Accepted Papers Data Set\\nMultivariate \\nClassification, Clustering \\n  105 \\n5 \\n2018 \\n  BLE RSSI Dataset for Indoor localization and Navigation\\nMultivariate, Sequential, Time-Series \\nClassification, Clustering \\nInteger \\n6611 \\n15 \\n2018 \\n  Container Crane Controller Data Set\\nUnivariate, Domain-Theory \\nClassification, Regression \\nReal \\n15 \\n3 \\n2018 \\n  Residential Building Data Set\\nMultivariate \\nRegression \\nReal \\n372 \\n105 \\n2018 \\n  Health News in Twitter\\nText \\nClustering \\nReal \\n58000 \\n25000 \\n2018 \\n  chipseq\\nSequential \\nClassification \\nInteger \\n4960 \\n  2018 \\n  SGEMM GPU kernel performance\\nMultivariate \\nRegression \\nInteger \\n241600 \\n18 \\n2018 \\n  Repeat Consumption Matrices\\nMultivariate \\nClustering \\nReal \\n130000 \\n21000 \\n2018 \\n  detection_of_IoT_botnet_attacks_N_BaIoT\\nMultivariate, Sequential \\nClassification, Clustering \\nReal \\n7062606 \\n115 \\n2018 \\n  Absenteeism at work\\nMultivariate, Time-Series \\nClassification, Clustering \\nInteger, Real \\n740 \\n21 \\n2018 \\n  SCADI\\nMultivariate \\nClassification, Clustering \\n  70 \\n206 \\n2018 \\n  Condition monitoring of hydraulic systems\\nMultivariate, Time-Series \\nClassification, Regression \\nReal \\n2205 \\n43680 \\n2018 \\n  Carbon Nanotubes\\nUnivariate \\nRegression \\nReal \\n10721 \\n8 \\n2018 \\n  Optical Interconnection Network\\nMultivariate \\nClassification, Regression \\nInteger, Real \\n640 \\n10 \\n2018 \\n  Sports articles for objectivity analysis\\nMultivariate, Text \\nClassification \\nInteger \\n1000 \\n59 \\n2018 \\n  Breast Cancer Coimbra\\nMultivariate \\nClassification \\nInteger \\n116 \\n10 \\n2018 \\n  GNFUV Unmanned Surface Vehicles Sensor Data\\nMultivariate, Time-Series \\nRegression \\nReal \\n1672 \\n5 \\n2018 \\n  Dishonest Internet users Dataset\\nMultivariate \\nClassification, Clustering \\n  322 \\n5 \\n2018 \\n  Victorian Era Authorship Attribution\\nText \\nClassification \\n  93600 \\n1000 \\n2018 \\n  Simulated Falls and Daily Living Activities Data Set\\nTime-Series \\nClassification \\nInteger \\n3060 \\n138 \\n2018 \\n  Multimodal Damage Identification for Humanitarian Computing\\nMultivariate, Text \\nClassification \\nInteger \\n5879 \\n  2018 \\n  EEG Steady-State Visual Evoked Potential Signals\\nMultivariate, Time-Series \\nClassification, Regression \\nInteger \\n9200 \\n16 \\n2018 \\n  Roman Urdu Data Set\\nText \\nClassification \\n  20000 \\n2 \\n2018 \\n  Avila\\nMultivariate \\nClassification \\nReal \\n20867 \\n10 \\n2018 \\n  PANDOR\\nMultivariate \\nRecommendation \\nCategorical \\n    2018 \\n  Drug Review Dataset (Druglib.com)\\nMultivariate, Text \\nClassification, Regression, Clustering \\nInteger \\n4143 \\n8 \\n2018 \\n  Drug Review Dataset (Drugs.com)\\nMultivariate, Text \\nClassification, Regression, Clustering \\nInteger \\n215063 \\n6 \\n2018 \\n  Physical Unclonable Functions\\nMultivariate \\nClassification \\nInteger \\n6000000 \\n129 \\n2018 \\n  Superconductivty Data\\nMultivariate \\nRegression \\nReal \\n21263 \\n81 \\n2018 \\n  WESAD (Wearable Stress and Affect Detection)\\nMultivariate, Time-Series \\nClassification, Regression \\nReal \\n63000000 \\n12 \\n2018 \\n  GNFUV Unmanned Surface Vehicles Sensor Data Set 2\\nMultivariate, Sequential, Time-Series \\nRegression \\nReal \\n10190 \\n6 \\n2018 \\n  Student Academics Performance\\nMultivariate \\nClassification \\n  300 \\n22 \\n2018 \\n  Online Shoppers Purchasing Intention Dataset\\nMultivariate \\nClassification, Clustering \\nInteger, Real \\n12330 \\n18 \\n2018 \\n  PMU-UD\\nUnivariate \\nClassification \\n  5180 \\n9 \\n2018 \\n  Parkinson's Disease Classification\\nMultivariate \\nClassification \\nInteger, Real \\n756 \\n754 \\n2018 \\n  Electrical Grid Stability Simulated Data\\nMultivariate \\nClassification, Regression \\nReal \\n10000 \\n14 \\n2018 \\n  Caesarian Section Classification Dataset\\nUnivariate \\nClassification \\nInteger \\n80 \\n5 \\n2018 \\n  BAUM-1\\nTime-Series \\nClassification \\n  1184 \\n  2018 \\n  BAUM-2\\nTime-Series \\nClassification \\n  1047 \\n  2018 \\n  Audit Data\\nMultivariate \\nClassification \\nReal \\n777 \\n18 \\n2018 \\n  BuddyMove Data Set\\nMultivariate, Text \\nClassification, Clustering \\nReal \\n249 \\n7 \\n2018 \\n  Real estate valuation data set\\nMultivariate \\nRegression \\nInteger, Real \\n414 \\n7 \\n2018 \\n  Early biomarkers of Parkinson’s disease based on natural connected speech Data Set\\nMultivariate \\nClassification \\nReal \\n    2018 \\n  Somerville Happiness Survey\\n  Classification \\nInteger \\n143 \\n7 \\n2018 \\n  2.4 GHZ Indoor Channel Measurements\\nMultivariate \\nClassification \\nReal \\n7840 \\n5 \\n2018 \\n  EMG data for gestures\\nTime-Series \\nClassification \\nReal \\n30000 \\n6 \\n2019 \\n  Parking Birmingham\\nMultivariate, Univariate, Sequential, Time-Series \\nClassification, Regression, Clustering \\nReal \\n35717 \\n4 \\n2019 \\n  Behavior of the urban traffic of the city of Sao Paulo in Brazil\\nMultivariate, Time-Series \\nClassification, Regression \\nInteger, Real \\n135 \\n18 \\n2018 \\n  Travel Reviews\\nMultivariate, Text \\nClassification, Clustering \\nReal \\n980 \\n11 \\n2018 \\n  Tarvel Review Ratings\\nMultivariate, Text \\nClassification, Clustering \\nReal \\n5456 \\n25 \\n2018 \\n  Rice Leaf Diseases\\nMultivariate \\nClassification \\nInteger \\n120 \\n  2019 \\n  Gas sensor array temperature modulation\\nMultivariate, Time-Series \\nClassification, Regression \\nReal \\n4095000 \\n20 \\n2019 \\n  Facebook Live Sellers in Thailand\\nMultivariate \\nClustering \\nInteger \\n7051 \\n12 \\n2019 \\n  Parkinson Dataset with replicated acoustic features\\nMultivariate \\nClassification \\n  240 \\n46 \\n2019 \\n  Metro Interstate Traffic Volume\\nMultivariate, Sequential, Time-Series \\nRegression \\nInteger, Real \\n48204 \\n9 \\n2019 \\n  Query Analytics Workloads Dataset\\nMultivariate \\nRegression, Clustering \\nReal \\n260000 \\n8 \\n2019 \\n  Wave Energy Converters\\nMultivariate \\nRegression \\nReal \\n288000 \\n49 \\n2019 \\n  PPG-DaLiA\\nMultivariate, Time-Series \\nRegression \\nReal \\n8300000 \\n11 \\n2019 \\n  Alcohol QCM Sensor Dataset\\nMultivariate \\nClassification, Regression, Clustering \\nReal \\n125 \\n8 \\n2019 \\n  Divorce Predictors data set\\nMultivariate, Univariate \\nClassification \\nInteger \\n170 \\n54 \\n2019 \\n  Incident management process enriched event log\\nMultivariate, Sequential \\nRegression, Clustering \\nInteger \\n141712 \\n36 \\n2019 \\n  Opinion Corpus for Lebanese Arabic Reviews (OCLAR)\\nText \\nClassification \\nInteger \\n3916 \\n3916 \\n2019 \\n  MEx\\nTime-Series \\nClassification, Clustering \\nReal \\n6262 \\n710 \\n2019 \\n  Beijing Multi-Site Air-Quality Data\\nMultivariate, Time-Series \\nRegression \\nInteger, Real \\n420768 \\n18 \\n2019 \\n  Online Retail II\\nMultivariate, Sequential, Time-Series, Text \\nClassification, Regression, Clustering \\nInteger, Real \\n1067371 \\n8 \\n2019 \\n  Hepatitis C Virus (HCV) for Egyptian patients\\nMultivariate \\nClassification \\nInteger, Real \\n1385 \\n29 \\n2019 \\n  QSAR fish toxicity\\nMultivariate \\nRegression \\nReal \\n908 \\n7 \\n2019 \\n  QSAR aquatic toxicity\\nMultivariate \\nRegression \\nReal \\n546 \\n9 \\n2019 \\n  Human Activity Recognition from Continuous Ambient Sensor Data\\nMultivariate, Sequential, Time-Series \\nClassification \\nInteger, Real \\n13956534 \\n37 \\n2019 \\n  WISDM Smartphone and Smartwatch Activity and Biometrics Dataset\\nMultivariate, Time-Series \\nClassification \\nReal \\n15630426 \\n6 \\n2019 \\n  QSAR oral toxicity\\nMultivariate \\nClassification \\n  8992 \\n1024 \\n2019 \\n  QSAR androgen receptor\\nMultivariate \\nClassification \\n  1687 \\n1024 \\n2019 \\n  QSAR Bioconcentration classes dataset\\nMultivariate \\nClassification, Regression \\n  779 \\n14 \\n2019 \\n  QSAR fish bioconcentration factor (BCF)\\nMultivariate \\nRegression \\nInteger, Real \\n1056 \\n7 \\n2019 \\n  A study of Asian Religious and Biblical Texts\\nMultivariate, Text \\nClassification, Clustering \\nInteger \\n590 \\n8265 \\n2019 \\n  Real-time Election Results: Portugal 2019\\nMultivariate, Time-Series, Text \\nRegression \\nInteger, Real \\n21643 \\n29 \\n2019 \\n  Bias correction of numerical prediction model temperature forecast\\nMultivariate \\nRegression \\nReal \\n7750 \\n25 \\n2020 \\n  Bar Crawl: Detecting Heavy Drinking\\nMultivariate, Time-Series \\nClassification, Regression \\nReal \\n14057567 \\n3 \\n2020 \\n  Kitsune Network Attack Dataset\\nMultivariate, Sequential, Time-Series \\nClassification, Clustering, Causal-Discovery \\nReal \\n27170754 \\n115 \\n2019 \\n  Shoulder Implant X-Ray Manufacturer Classification\\nMultivariate \\nClassification \\nReal \\n597 \\n1 \\n2020 \\n  Speaker Accent Recognition\\nMultivariate \\nClassification \\nReal \\n329 \\n12 \\n2020 \\n  Heart failure clinical records\\nMultivariate \\nClassification, Regression, Clustering \\nInteger, Real \\n299 \\n13 \\n2020 \\n  Deepfakes: Medical Image Tamper Detection\\nMultivariate \\nClassification \\nReal \\n20000 \\n200000 \\n2020 \\n  selfBACK\\nTime-Series \\nClassification, Clustering \\nReal \\n26136 \\n6 \\n2020 \\n  South German Credit\\nMultivariate \\nClassification, Regression, Clustering \\nInteger, Real \\n1000 \\n21 \\n2019 \\n  Exasens\\nMultivariate \\nClassification, Clustering \\nInteger \\n399 \\n4 \\n2020 \\n  Swarm Behaviour\\nMultivariate \\nClassification \\nReal \\n24017 \\n2400 \\n2020 \\n  Crop mapping using fused optical-radar data set\\nMultivariate, Time-Series \\nClassification \\nReal \\n325834 \\n175 \\n2020 \\n  BitcoinHeistRansomwareAddressDataset\\nMultivariate, Time-Series \\nClassification, Clustering \\nInteger, Real \\n2916697 \\n10 \\n2020 \\n  Facebook Large Page-Page Network\\nMultivariate \\nClassification \\n  22470 \\n4714 \\n2020 \\n  Amphibians\\nMultivariate \\nClassification \\nInteger, Real \\n189 \\n23 \\n2020 \\n  Early stage diabetes risk prediction dataset.\\nMultivariate \\nClassification \\n  520 \\n17 \\n2020 \\n  Turkish Spam V01\\nText \\nClassification \\n  826 \\n2 \\n2019 \\n  Stock keeping units\\nMultivariate \\nClustering \\nInteger, Real \\n2279 \\n9 \\n2019 \\n  Demand Forecasting for a store\\nMultivariate \\nRegression \\nInteger \\n28764 \\n8 \\n2019 \\n  Detect Malware Types\\nMultivariate, Time-Series, Text \\nClassification \\n  7107 \\n280 \\n2019 \\n  Wave Energy Converters\\nMultivariate \\nRegression \\nReal \\n288000 \\n49 \\n2019 \\n  Youtube cookery channels viewers comments in Hinglish\\nMultivariate, Text \\nClassification \\n  9800 \\n3 \\n2019 \\n  Pedestrian in Traffic Dataset\\nMultivariate, Sequential, Time-Series \\nClassification, Regression, Causal-Discovery \\nReal \\n4760 \\n14 \\n2019 \\n  Cervical Cancer Behavior Risk\\nMultivariate, Univariate \\nClassification, Clustering \\nInteger \\n72 \\n19 \\n2019 \\n  Sattriya_Dance_Single_Hand_Gestures Dataset\\nMultivariate \\nClassification \\n  1450 \\n  2019 \\n  Divorce Predictors data set\\nMultivariate, Univariate \\nClassification \\nInteger \\n170 \\n54 \\n2019 \\n  3W dataset\\nMultivariate, Time-Series \\nClassification, Clustering \\nInteger, Real \\n1984 \\n8 \\n2019 \\n  Malware static and dynamic features VxHeaven and Virus Total\\nMultivariate \\nClassification \\nInteger, Real \\n2955 \\n1087 \\n2019 \\n  Internet Firewall Data\\nMultivariate \\nClassification \\n  65532 \\n12 \\n2019 \\n  User Profiling and Abusive Language Detection Dataset\\n  Classification \\n  65919 \\n3 \\n2019 \\n  Estimation of obesity levels based on eating habits and physical condition\\nMultivariate \\nClassification, Regression, Clustering \\nInteger \\n2111 \\n17 \\n2019 \\n  Rice (Cammeo and Osmancik)\\nMultivariate \\nClassification \\nReal \\n3810 \\n8 \\n2019 \\n  Vehicle routing and scheduling problems\\nMultivariate \\nClustering \\nInteger, Real \\n18 \\n9 \\n2019 \\n  Algerian Forest Fires Dataset\\nMultivariate \\nClassification, Regression \\nReal \\n244 \\n12 \\n2019 \\n  Breath Metabolomics\\nMultivariate, Time-Series \\nClassification, Clustering \\nReal \\n104 \\n1656 \\n2019 \\n  Horton General Hospital\\nMultivariate, Time-Series \\nCausal-Discovery \\nInteger \\n139 \\n6 \\n2019 \\n  UrbanGB, urban road accidents coordinates labelled by the urban center\\nUnivariate \\nClustering \\nReal \\n360177 \\n2 \\n2019 \\n  Gas Turbine CO and NOx Emission Data Set\\nMultivariate \\nRegression, Clustering \\nReal \\n36733 \\n11 \\n2019 \\n  Activity recognition using wearable physiological measurements\\nMultivariate \\nClassification \\nReal \\n4480 \\n533 \\n2019 \\n  clickstream data for online shopping\\nMultivariate, Sequential \\nClassification, Regression, Clustering \\nInteger, Real \\n165474 \\n14 \\n2019 \\n  CNNpred: CNN-based stock market prediction using a diverse set of variables\\nSequential, Time-Series \\nClassification, Regression \\nReal \\n1985 \\n84 \\n2019 \\n  Apartment for rent classified\\nMultivariate \\nClassification, Regression, Clustering \\n  10000 \\n22 \\n2019 \\n  : Simulated Data set of Iraqi tourism places\\nMultivariate \\nClassification, Clustering \\n  232 \\n16 \\n2020 \\n  Nasarian CAD Dataset\\nMultivariate \\nClassification \\n  150 \\n52 \\n2020 \\n  Monolithic Columns in Troad and Mysia Region\\nMultivariate \\nClassification \\nReal \\n11 \\n19 \\n2020 \\n  Bar Crawl: Detecting Heavy Drinking\\nMultivariate, Time-Series \\nClassification, Regression \\nReal \\n14057567 \\n3 \\n2020 \\n  Seoul Bike Sharing Demand\\nMultivariate \\nRegression \\nInteger, Real \\n8760 \\n14 \\n2020 \\n  Person Classification Gait Data\\nMultivariate \\nClassification \\nReal \\n48 \\n321 \\n2020 \\n  Shill Bidding Dataset\\nMultivariate \\nClassification, Clustering \\n  6321 \\n13 \\n2020 \\n  Iranian Churn Dataset\\nMultivariate \\nClassification, Regression \\nInteger \\n3150 \\n13 \\n2020 \\n  Unmanned Aerial Vehicle (UAV) Intrusion Detection\\nMultivariate \\nClassification \\nReal \\n17256 \\n55 \\n2020 \\n  Bone marrow transplant: children\\nMultivariate \\nClassification, Regression \\nInteger, Real \\n187 \\n39 \\n2020 \\n  Exasens\\nMultivariate \\nClassification, Clustering \\nInteger \\n399 \\n4 \\n2020 \\n  COVID-19 Surveillance\\nMultivariate \\nClassification \\n  14 \\n7 \\n2020 \\n  Refractive errors\\nMultivariate \\nClassification \\nInteger \\n467 \\n79 \\n2020 \\n  Shoulder Implant X-Ray Manufacturer Classification\\nMultivariate \\nClassification \\nReal \\n597 \\n1 \\n2020 \\n  CLINC150\\nText \\nClassification \\n  23700 \\n  2020 \\n  HCV data\\nMultivariate \\nClassification, Clustering \\nInteger, Real \\n615 \\n14 \\n2020 \\n  Taiwanese Bankruptcy Prediction\\nMultivariate \\nClassification \\nInteger \\n6819 \\n96 \\n2020 \\n  South German Credit (UPDATE)\\nMultivariate \\nClassification, Regression, Clustering \\nInteger, Real \\n1000 \\n21 \\n2020 \\n  IIWA14-R820-Gazebo-Dataset-10Trajectories\\n  Regression \\nInteger \\n    2020 \\n  Guitar Chords finger positions\\nText \\nClassification \\n  2633 \\n5 \\n2020 \\n  Russian Corpus of Biographical Texts\\nText \\nClassification \\n  200 \\n2 \\n2020 \\n  Codon usage\\nMultivariate \\nClassification, Clustering \\n  13028 \\n69 \\n2020 \\n  Intelligent Media Accelerometer and Gyroscope (IM-AccGyro) Dataset\\nTime-Series \\nClassification \\nReal \\n800 \\n9 \\n2020 \\n  Myocardial infarction complications\\nMultivariate \\nClassification \\nReal \\n1700 \\n124 \\n2020 \\n  Hungarian Chickenpox Cases\\nTime-Series \\nRegression \\nReal \\n521 \\n20 \\n2021 \\n  Simulated data for survival modelling\\nMultivariate, Time-Series \\nRegression \\nInteger, Real \\n120000 \\n25 \\n2018 \\n  Student Performance on an entrance examination\\nMultivariate \\nClassification \\n  666 \\n11 \\n2018 \\n  Chemical Composition of Ceramic Samples\\nMultivariate \\nClassification, Clustering \\nReal \\n88 \\n19 \\n2019 \\n  Labeled Text Forum Threads Dataset\\nText \\nClassification \\nInteger \\n200 \\n9 \\n2019 \\n  Stock keeping units\\nMultivariate \\nClustering \\nInteger, Real \\n2279 \\n9 \\n2019 \\n  BLE RSSI dataset for Indoor localization\\nSequential, Time-Series \\nClassification \\nInteger \\n23570 \\n5 \\n2019 \\n  Basketball dataset\\nTime-Series \\nClassification \\nInteger \\n10000 \\n7 \\n2019 \\n  GitHub MUSAE\\nMultivariate \\nClassification \\n  37700 \\n4006 \\n2019 \\n  Anticancer peptides\\nSequential \\nClassification \\n  1850 \\n2 \\n2019 \\n  Monolithic Columns in Troad and Mysia Region\\nMultivariate \\nClassification \\nReal \\n11 \\n19 \\n2020 \\n  Gender by Name\\nText \\nClassification, Clustering \\n  147270 \\n4 \\n2020 \\n  Iranian Churn Dataset\\nMultivariate \\nClassification, Regression \\nInteger \\n3150 \\n13 \\n2020 \\n  Unmanned Aerial Vehicle (UAV) Intrusion Detection\\nMultivariate \\nClassification \\nReal \\n17256 \\n55 \\n2020 \\n  Shoulder Implant Manufacture Classification\\nMultivariate \\nClassification \\n  597 \\n1 \\n2020 \\n  LastFM Asia Social Network\\nMultivariate \\nClassification \\n  7624 \\n7842 \\n2020 \\n  Wheat kernels\\nMultivariate \\nClassification \\nReal \\n314 \\n15 \\n2020 \\n  Productivity Prediction of Garment Employees\\nMultivariate, Time-Series \\nClassification, Regression \\nInteger, Real \\n1197 \\n15 \\n2020 \\n  Multi-view Brain Networks\\nMultivariate \\nClassification, Clustering \\nInteger \\n70 \\n70 \\n2020 \\n  LastFM Asia Social Network\\nMultivariate \\nClassification \\n  7624 \\n7842 \\n2020 \\n  Wisesight Sentiment Corpus\\nMultivariate, Text \\nClassification \\n  26737 \\n4 \\n2020 \\n  AI4I 2020 Predictive Maintenance Dataset\\nMultivariate, Time-Series \\nClassification, Regression, Causal-Discovery \\nReal \\n10000 \\n14 \\n2020 \\n  Dry Bean Dataset\\nMultivariate \\nClassification \\nInteger, Real \\n13611 \\n17 \\n2020 \\n  in-vehicle coupon recommendation\\nMultivariate \\nClassification \\n  12684 \\n23 \\n2020 \\n  Gait Classification\\nMultivariate \\nClassification \\nReal \\n48 \\n321 \\n2020 \\n  Wikipedia Math Essentials\\nTime-Series \\nRegression \\nReal \\n731 \\n1068 \\n2021 \\n  Wikipedia Math Essentials\\nTime-Series \\nRegression \\nReal \\n731 \\n1068 \\n2021 \\n  Synchronous Machine Data Set\\nMultivariate \\nRegression \\nReal \\n557 \\n5 \\n2021 \\n  Average Localization Error (ALE) in sensor node localization process in WSNs\\nMultivariate \\nRegression \\nReal \\n107 \\n6 \\n2021 \\n  9mers from cullpdb\\nSequential \\nClassification, Regression \\nReal \\n158716 \\n4 \\n2021 \\n  TamilSentiMix\\n  Classification \\n  15744 \\n  2021 \\n  Accelerometer\\nMultivariate \\nClassification, Regression \\nInteger, Real \\n153000 \\n5 \\n2021 \\n  Synchronous Machine Data Set\\nMultivariate \\nRegression \\nReal \\n557 \\n5 \\n2021 \\n  Pedal Me Bicycle Deliveries\\nTime-Series \\nRegression \\nReal \\n36 \\n15 \\n2021 \\n  Turkish Headlines Dataset\\nText \\nClassification, Clustering \\n  4200 \\n7 \\n2021 \\n  Secondary Mushroom Dataset\\nUnivariate \\nClassification \\nReal \\n61069 \\n21 \\n2021 \\n  Power consumption of Tetouan city\\nMultivariate, Time-Series \\nRegression \\nInteger, Real \\n52417 \\n9 \\n2021 \\n  Raisin Dataset\\nMultivariate \\nClassification \\nInteger, Real \\n900 \\n8 \\n2021 \\n  Steel Industry Energy Consumption Dataset\\nMultivariate \\nRegression \\n  35040 \\n11 \\n2021 \\n  Gender Gap in Spanish WP\\nMultivariate \\nClassification \\nInteger, Real \\n4746 \\n21 \\n2021 \\n  Non verbal tourists data\\nMultivariate \\nClassification, Clustering \\nInteger, Real \\n73 \\n22 \\n2021 \\n  Roman Urdu Sentiment Analysis Dataset (RUSAD)\\nText \\nClassification \\n  11000 \\n2 \\n2021 \\n  TUANDROMD ( Tezpur University Android Malware Dataset)\\nMultivariate \\nClassification \\nInteger \\n4465 \\n241 \\n2021 \\n  Higher Education Students Performance Evaluation Dataset\\nMultivariate \\nClassification \\nInteger \\n145 \\n33 \\n2021 \\n  Risk Factor prediction of Chronic Kidney Disease\\nMultivariate \\nClassification, Regression \\nReal \\n202 \\n29 \\n2021 \\n  Lab Test\\nMultivariate \\nClassification, Regression, Clustering \\n  221 \\n7 \\n2021 \\n  Shoulder Implant Manufacture Classification\\nMultivariate \\nClassification \\n  597 \\n1 \\n2020 \\n  Rocket League Skillshots Data Set\\nMultivariate, Time-Series \\nClassification \\nReal \\n298 \\n  2020 \\n  Sepsis survival minimal clinical records\\nMultivariate \\nClassification \\nInteger \\n110341 \\n4 \\n2020 \\n  Water Quality Prediction\\nMultivariate \\nRegression \\nReal \\n705 \\n11 \\n2020 \\n  Traffic Flow Forecasting\\nMultivariate \\nRegression \\nReal \\n2101 \\n47 \\n2020 \\n  sentiment analysis in Saudi Arabia about distance education during Covid-19\\nText \\nClassification \\nInteger \\n1765 \\n10 \\n2020 \\n  Kain Tradisional Sambas\\nMultivariate \\nClassification, Clustering \\n  150 \\n3 \\n2020 \\n  Image Recognition Task Execution Times in Mobile Edge Computing\\nUnivariate, Sequential, Time-Series \\nRegression \\nReal \\n4000 \\n2 \\n2020 \\n  REWEMA\\nMultivariate \\nClassification \\nInteger \\n6272 \\n632 \\n2020 \\n  REJAFADA\\nMultivariate \\nClassification \\nInteger \\n1996 \\n6826 \\n2020 \\n  Steel Industry Energy Consumption Dataset\\nMultivariate \\nRegression \\nInteger \\n35040 \\n11 \\n2020 \\n  Influenza outbreak event prediction via Twitter data\\nMultivariate \\nClassification \\nInteger, Real \\n75840 \\n525 \\n2020 \\n  Turkish Music Emotion Dataset\\nMultivariate \\nClassification \\nInteger, Real \\n400 \\n50 \\n2020 \\n  Maternal Health Risk Data Set\\n  Classification \\n  1014 \\n7 \\n2020 \\n  Room Occupancy Estimation\\nMultivariate, Time-Series \\nClassification \\nReal \\n10129 \\n16 \\n2021 \\n  Image Recognition Task Execution Times in Mobile Edge Computing\\nUnivariate \\nRegression \\nReal \\n4000 \\n2 \\n2021 \"]"
      ]
     },
     "execution_count": 9,
     "metadata": {},
     "output_type": "execute_result"
    }
   ],
   "source": [
    "UCI_details"
   ]
  },
  {
   "cell_type": "code",
   "execution_count": null,
   "id": "4d85a0cc",
   "metadata": {},
   "outputs": [],
   "source": []
  }
 ],
 "metadata": {
  "kernelspec": {
   "display_name": "Python 3",
   "language": "python",
   "name": "python3"
  },
  "language_info": {
   "codemirror_mode": {
    "name": "ipython",
    "version": 3
   },
   "file_extension": ".py",
   "mimetype": "text/x-python",
   "name": "python",
   "nbconvert_exporter": "python",
   "pygments_lexer": "ipython3",
   "version": "3.8.8"
  }
 },
 "nbformat": 4,
 "nbformat_minor": 5
}
